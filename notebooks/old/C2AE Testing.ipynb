{
 "cells": [
  {
   "cell_type": "code",
   "execution_count": 55,
   "id": "9b2c9fa1",
   "metadata": {},
   "outputs": [],
   "source": [
    "import os\n",
    "import pickle\n",
    "import numpy as np\n",
    "import pandas as pd\n",
    "import random\n",
    "import matplotlib.pyplot as plt\n",
    "\n",
    "from PIL import Image\n",
    "import math\n",
    "from sklearn.metrics import accuracy_score,hamming_loss, accuracy_score, f1_score, precision_score, recall_score\n",
    "\n",
    "%matplotlib inline\n",
    "from matplotlib import pyplot as plt\n",
    "import seaborn as sns\n",
    "\n",
    "from sklearn.metrics import multilabel_confusion_matrix, ConfusionMatrixDisplay\n",
    "from sklearn.metrics import classification_report\n",
    "\n",
    "from textwrap import wrap\n",
    "\n",
    "\n",
    "from utils import KunischMetrics\n",
    "from utils import KunischPruner\n",
    "from utils import DataExplorer\n",
    "from utils import KunischPlotter"
   ]
  },
  {
   "cell_type": "code",
   "execution_count": 67,
   "id": "39eb1fe3",
   "metadata": {},
   "outputs": [],
   "source": [
    "K = 3\n",
    "data_flags = 'base'\n",
    "path_predicciones = os.path.join('..', 'outputs', 'C2AE_images', data_flags, '26L', str(K), 'predicciones.npy')\n",
    "path_test_labels = os.path.join('..', 'labels', data_flags, str(K), 'test_df.json')\n",
    "TEST_TH = 0.5\n"
   ]
  },
  {
   "cell_type": "code",
   "execution_count": 68,
   "id": "7bb002f5",
   "metadata": {},
   "outputs": [
    {
     "ename": "FileNotFoundError",
     "evalue": "[Errno 2] No such file or directory: '..\\\\outputs\\\\C2AE_images\\\\base\\\\26L\\\\3\\\\predicciones.npy'",
     "output_type": "error",
     "traceback": [
      "\u001b[1;31m---------------------------------------------------------------------------\u001b[0m",
      "\u001b[1;31mFileNotFoundError\u001b[0m                         Traceback (most recent call last)",
      "Input \u001b[1;32mIn [68]\u001b[0m, in \u001b[0;36m<cell line: 1>\u001b[1;34m()\u001b[0m\n\u001b[1;32m----> 1\u001b[0m predicciones \u001b[38;5;241m=\u001b[39m \u001b[43mnp\u001b[49m\u001b[38;5;241;43m.\u001b[39;49m\u001b[43mload\u001b[49m\u001b[43m(\u001b[49m\u001b[43mpath_predicciones\u001b[49m\u001b[43m)\u001b[49m\n\u001b[0;32m      2\u001b[0m predicciones \u001b[38;5;241m=\u001b[39m np\u001b[38;5;241m.\u001b[39mwhere(predicciones \u001b[38;5;241m>\u001b[39m TEST_TH, \u001b[38;5;241m1\u001b[39m, \u001b[38;5;241m0\u001b[39m)\n\u001b[0;32m      3\u001b[0m display(predicciones)\n",
      "File \u001b[1;32mD:\\Programas\\Anaconda3\\envs\\TesisMV\\lib\\site-packages\\numpy\\lib\\npyio.py:417\u001b[0m, in \u001b[0;36mload\u001b[1;34m(file, mmap_mode, allow_pickle, fix_imports, encoding)\u001b[0m\n\u001b[0;32m    415\u001b[0m     own_fid \u001b[38;5;241m=\u001b[39m \u001b[38;5;28;01mFalse\u001b[39;00m\n\u001b[0;32m    416\u001b[0m \u001b[38;5;28;01melse\u001b[39;00m:\n\u001b[1;32m--> 417\u001b[0m     fid \u001b[38;5;241m=\u001b[39m stack\u001b[38;5;241m.\u001b[39menter_context(\u001b[38;5;28;43mopen\u001b[39;49m\u001b[43m(\u001b[49m\u001b[43mos_fspath\u001b[49m\u001b[43m(\u001b[49m\u001b[43mfile\u001b[49m\u001b[43m)\u001b[49m\u001b[43m,\u001b[49m\u001b[43m \u001b[49m\u001b[38;5;124;43m\"\u001b[39;49m\u001b[38;5;124;43mrb\u001b[39;49m\u001b[38;5;124;43m\"\u001b[39;49m\u001b[43m)\u001b[49m)\n\u001b[0;32m    418\u001b[0m     own_fid \u001b[38;5;241m=\u001b[39m \u001b[38;5;28;01mTrue\u001b[39;00m\n\u001b[0;32m    420\u001b[0m \u001b[38;5;66;03m# Code to distinguish from NumPy binary files and pickles.\u001b[39;00m\n",
      "\u001b[1;31mFileNotFoundError\u001b[0m: [Errno 2] No such file or directory: '..\\\\outputs\\\\C2AE_images\\\\base\\\\26L\\\\3\\\\predicciones.npy'"
     ]
    }
   ],
   "source": [
    "predicciones = np.load(path_predicciones)\n",
    "predicciones = np.where(predicciones > TEST_TH, 1, 0)\n",
    "display(predicciones)\n",
    "print(predicciones.shape)"
   ]
  },
  {
   "cell_type": "code",
   "execution_count": 63,
   "id": "b13dd82e",
   "metadata": {},
   "outputs": [
    {
     "data": {
      "text/plain": [
       "array([[1, 1, 0, ..., 0, 0, 0],\n",
       "       [0, 0, 0, ..., 0, 0, 0],\n",
       "       [0, 0, 0, ..., 0, 0, 0],\n",
       "       ...,\n",
       "       [1, 1, 0, ..., 0, 0, 0],\n",
       "       [0, 0, 0, ..., 0, 0, 0],\n",
       "       [1, 1, 0, ..., 0, 0, 0]], dtype=int64)"
      ]
     },
     "metadata": {},
     "output_type": "display_data"
    },
    {
     "name": "stdout",
     "output_type": "stream",
     "text": [
      "(194, 26)\n"
     ]
    }
   ],
   "source": [
    "pruner = KunischPruner(26)\n",
    "with open(os.path.join('..', 'labels', f'top_26L.pickle'), 'rb') as f:\n",
    "    top_labels = pickle.load(f)\n",
    "pruner.set_top_labels(top_labels)\n",
    "\n",
    "test_lbls = pd.read_json(path_test_labels, orient='index')\n",
    "\n",
    "test_lbls = pruner.filter_df(test_lbls).values\n",
    "display(test_lbls)\n",
    "print(test_lbls.shape)"
   ]
  },
  {
   "cell_type": "code",
   "execution_count": 65,
   "id": "f9491518",
   "metadata": {},
   "outputs": [],
   "source": [
    "metrics = KunischMetrics(test_lbls, predicciones)\n",
    "scores = {\n",
    "    \"Micro F1\": metrics.f1(),\n",
    "    \"Micro Recall\": metrics.recall(),\n",
    "    \"Accuracy\": metrics.acc(),\n",
    "    \"Hamming Loss\": metrics.hl(),\n",
    "    \"Hamming Score\": metrics.hs(),\n",
    "    \"EMR\": metrics.emr(),\n",
    "    \"1MR\": metrics.mr1(),\n",
    "    \"2MR\": metrics.mr2(),\n",
    "    \"3MR\": metrics.mr3(),\n",
    "    \"4MR\": metrics.mr4(),\n",
    "    \"5MR\": metrics.mr5()\n",
    "}\n",
    "\n",
    "output_path = os.path.join('..', 'outputs', 'C2AE_images', data_flags, '26L', str(K), 'metadata.csv')\n",
    "df = pd.DataFrame.from_dict(scores, orient='index')\n",
    "df.to_csv(output_path)"
   ]
  },
  {
   "cell_type": "code",
   "execution_count": 66,
   "id": "02a93462",
   "metadata": {},
   "outputs": [
    {
     "name": "stdout",
     "output_type": "stream",
     "text": [
      "Micro F1: 0.3229\n",
      "Micro Recall: 0.4475\n",
      "Micro Precision: 0.2526\n",
      "Accuracy: 0.0\n",
      "Hamming Loss: 0.2444\n",
      "Hamming Score: 0.201\n",
      "EMR: 0.0\n",
      "1MR: 0.799\n",
      "2MR: 0.5928\n",
      "3MR: 0.0979\n",
      "4MR: 0.0258\n",
      "5MR: 0.0\n"
     ]
    }
   ],
   "source": [
    "print(f\"Micro F1: {metrics.f1()}\")\n",
    "print(f\"Micro Recall: {metrics.recall()}\")\n",
    "print(f\"Micro Precision: {metrics.precision()}\")\n",
    "print(f\"Accuracy: {metrics.acc()}\")\n",
    "print(f\"Hamming Loss: {metrics.hl()}\")\n",
    "print(f\"Hamming Score: {metrics.hs()}\")\n",
    "print(f\"EMR: {metrics.emr()}\")\n",
    "print(f\"1MR: {metrics.mr1()}\")\n",
    "print(f\"2MR: {metrics.mr2()}\")\n",
    "print(f\"3MR: {metrics.mr3()}\")\n",
    "print(f\"4MR: {metrics.mr4()}\")\n",
    "print(f\"5MR: {metrics.mr5()}\")"
   ]
  }
 ],
 "metadata": {
  "kernelspec": {
   "display_name": "Python 3 (ipykernel)",
   "language": "python",
   "name": "python3"
  },
  "language_info": {
   "codemirror_mode": {
    "name": "ipython",
    "version": 3
   },
   "file_extension": ".py",
   "mimetype": "text/x-python",
   "name": "python",
   "nbconvert_exporter": "python",
   "pygments_lexer": "ipython3",
   "version": "3.10.4"
  }
 },
 "nbformat": 4,
 "nbformat_minor": 5
}

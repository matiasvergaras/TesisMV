{
 "cells": [
  {
   "cell_type": "code",
   "execution_count": 43,
   "metadata": {
    "pycharm": {
     "name": "#%%\n"
    }
   },
   "outputs": [],
   "source": [
    "import cv2\n",
    "import pandas as pd\n",
    "from IPython.display import display\n",
    "import os\n",
    "import math\n",
    "import random\n",
    "import shutil\n",
    "import imgaug.augmenters as aug\n",
    "from IPython.display import display, Markdown, Latex"
   ]
  },
  {
   "cell_type": "code",
   "execution_count": 2,
   "metadata": {
    "pycharm": {
     "name": "#%%\n"
    }
   },
   "outputs": [],
   "source": [
    "# Mounting google Drive\n",
    "try:\n",
    "    from google.colab import drive\n",
    "    drive.mount('/content/drive')\n",
    "    folder_path = 'drive/MyDrive/TesisMV/'\n",
    "except:\n",
    "    folder_path = '../'"
   ]
  },
  {
   "cell_type": "code",
   "execution_count": 19,
   "metadata": {
    "collapsed": true,
    "pycharm": {
     "name": "#%%\n"
    }
   },
   "outputs": [
    {
     "data": {
      "text/html": [
       "<div>\n",
       "<style scoped>\n",
       "    .dataframe tbody tr th:only-of-type {\n",
       "        vertical-align: middle;\n",
       "    }\n",
       "\n",
       "    .dataframe tbody tr th {\n",
       "        vertical-align: top;\n",
       "    }\n",
       "\n",
       "    .dataframe thead th {\n",
       "        text-align: right;\n",
       "    }\n",
       "</style>\n",
       "<table border=\"1\" class=\"dataframe\">\n",
       "  <thead>\n",
       "    <tr style=\"text-align: right;\">\n",
       "      <th></th>\n",
       "      <th>pendent</th>\n",
       "      <th>teardrop</th>\n",
       "      <th>horizontal</th>\n",
       "      <th>panel</th>\n",
       "      <th>group</th>\n",
       "      <th>vertical</th>\n",
       "      <th>bar</th>\n",
       "      <th>floating</th>\n",
       "      <th>enclosing</th>\n",
       "      <th>shorter</th>\n",
       "      <th>...</th>\n",
       "      <th>light</th>\n",
       "      <th>body</th>\n",
       "      <th>bird</th>\n",
       "      <th>striped</th>\n",
       "      <th>worm</th>\n",
       "      <th>angular</th>\n",
       "      <th>raised</th>\n",
       "      <th>head</th>\n",
       "      <th>bird-seed</th>\n",
       "      <th>long</th>\n",
       "    </tr>\n",
       "  </thead>\n",
       "  <tbody>\n",
       "    <tr>\n",
       "      <th>1a</th>\n",
       "      <td>1</td>\n",
       "      <td>1</td>\n",
       "      <td>1</td>\n",
       "      <td>1</td>\n",
       "      <td>0</td>\n",
       "      <td>0</td>\n",
       "      <td>0</td>\n",
       "      <td>0</td>\n",
       "      <td>0</td>\n",
       "      <td>0</td>\n",
       "      <td>...</td>\n",
       "      <td>0</td>\n",
       "      <td>0</td>\n",
       "      <td>0</td>\n",
       "      <td>0</td>\n",
       "      <td>0</td>\n",
       "      <td>0</td>\n",
       "      <td>0</td>\n",
       "      <td>0</td>\n",
       "      <td>0</td>\n",
       "      <td>0</td>\n",
       "    </tr>\n",
       "    <tr>\n",
       "      <th>1b</th>\n",
       "      <td>1</td>\n",
       "      <td>1</td>\n",
       "      <td>1</td>\n",
       "      <td>1</td>\n",
       "      <td>1</td>\n",
       "      <td>0</td>\n",
       "      <td>0</td>\n",
       "      <td>0</td>\n",
       "      <td>0</td>\n",
       "      <td>0</td>\n",
       "      <td>...</td>\n",
       "      <td>0</td>\n",
       "      <td>0</td>\n",
       "      <td>0</td>\n",
       "      <td>0</td>\n",
       "      <td>0</td>\n",
       "      <td>0</td>\n",
       "      <td>0</td>\n",
       "      <td>0</td>\n",
       "      <td>0</td>\n",
       "      <td>0</td>\n",
       "    </tr>\n",
       "    <tr>\n",
       "      <th>1c</th>\n",
       "      <td>0</td>\n",
       "      <td>0</td>\n",
       "      <td>1</td>\n",
       "      <td>1</td>\n",
       "      <td>0</td>\n",
       "      <td>1</td>\n",
       "      <td>1</td>\n",
       "      <td>0</td>\n",
       "      <td>0</td>\n",
       "      <td>0</td>\n",
       "      <td>...</td>\n",
       "      <td>0</td>\n",
       "      <td>0</td>\n",
       "      <td>0</td>\n",
       "      <td>0</td>\n",
       "      <td>0</td>\n",
       "      <td>0</td>\n",
       "      <td>0</td>\n",
       "      <td>0</td>\n",
       "      <td>0</td>\n",
       "      <td>0</td>\n",
       "    </tr>\n",
       "    <tr>\n",
       "      <th>1d</th>\n",
       "      <td>0</td>\n",
       "      <td>0</td>\n",
       "      <td>0</td>\n",
       "      <td>1</td>\n",
       "      <td>0</td>\n",
       "      <td>1</td>\n",
       "      <td>1</td>\n",
       "      <td>0</td>\n",
       "      <td>0</td>\n",
       "      <td>0</td>\n",
       "      <td>...</td>\n",
       "      <td>0</td>\n",
       "      <td>0</td>\n",
       "      <td>0</td>\n",
       "      <td>0</td>\n",
       "      <td>0</td>\n",
       "      <td>0</td>\n",
       "      <td>0</td>\n",
       "      <td>0</td>\n",
       "      <td>0</td>\n",
       "      <td>0</td>\n",
       "    </tr>\n",
       "    <tr>\n",
       "      <th>1e</th>\n",
       "      <td>0</td>\n",
       "      <td>0</td>\n",
       "      <td>1</td>\n",
       "      <td>1</td>\n",
       "      <td>0</td>\n",
       "      <td>1</td>\n",
       "      <td>1</td>\n",
       "      <td>0</td>\n",
       "      <td>0</td>\n",
       "      <td>0</td>\n",
       "      <td>...</td>\n",
       "      <td>0</td>\n",
       "      <td>0</td>\n",
       "      <td>0</td>\n",
       "      <td>0</td>\n",
       "      <td>0</td>\n",
       "      <td>0</td>\n",
       "      <td>0</td>\n",
       "      <td>0</td>\n",
       "      <td>0</td>\n",
       "      <td>0</td>\n",
       "    </tr>\n",
       "    <tr>\n",
       "      <th>...</th>\n",
       "      <td>...</td>\n",
       "      <td>...</td>\n",
       "      <td>...</td>\n",
       "      <td>...</td>\n",
       "      <td>...</td>\n",
       "      <td>...</td>\n",
       "      <td>...</td>\n",
       "      <td>...</td>\n",
       "      <td>...</td>\n",
       "      <td>...</td>\n",
       "      <td>...</td>\n",
       "      <td>...</td>\n",
       "      <td>...</td>\n",
       "      <td>...</td>\n",
       "      <td>...</td>\n",
       "      <td>...</td>\n",
       "      <td>...</td>\n",
       "      <td>...</td>\n",
       "      <td>...</td>\n",
       "      <td>...</td>\n",
       "      <td>...</td>\n",
       "    </tr>\n",
       "    <tr>\n",
       "      <th>96e</th>\n",
       "      <td>0</td>\n",
       "      <td>0</td>\n",
       "      <td>1</td>\n",
       "      <td>1</td>\n",
       "      <td>0</td>\n",
       "      <td>0</td>\n",
       "      <td>0</td>\n",
       "      <td>0</td>\n",
       "      <td>0</td>\n",
       "      <td>0</td>\n",
       "      <td>...</td>\n",
       "      <td>0</td>\n",
       "      <td>0</td>\n",
       "      <td>1</td>\n",
       "      <td>0</td>\n",
       "      <td>0</td>\n",
       "      <td>0</td>\n",
       "      <td>0</td>\n",
       "      <td>0</td>\n",
       "      <td>1</td>\n",
       "      <td>0</td>\n",
       "    </tr>\n",
       "    <tr>\n",
       "      <th>96f</th>\n",
       "      <td>0</td>\n",
       "      <td>0</td>\n",
       "      <td>0</td>\n",
       "      <td>1</td>\n",
       "      <td>0</td>\n",
       "      <td>1</td>\n",
       "      <td>0</td>\n",
       "      <td>0</td>\n",
       "      <td>0</td>\n",
       "      <td>0</td>\n",
       "      <td>...</td>\n",
       "      <td>0</td>\n",
       "      <td>1</td>\n",
       "      <td>1</td>\n",
       "      <td>0</td>\n",
       "      <td>0</td>\n",
       "      <td>0</td>\n",
       "      <td>0</td>\n",
       "      <td>0</td>\n",
       "      <td>0</td>\n",
       "      <td>0</td>\n",
       "    </tr>\n",
       "    <tr>\n",
       "      <th>96g</th>\n",
       "      <td>0</td>\n",
       "      <td>0</td>\n",
       "      <td>0</td>\n",
       "      <td>0</td>\n",
       "      <td>0</td>\n",
       "      <td>0</td>\n",
       "      <td>0</td>\n",
       "      <td>0</td>\n",
       "      <td>0</td>\n",
       "      <td>0</td>\n",
       "      <td>...</td>\n",
       "      <td>0</td>\n",
       "      <td>1</td>\n",
       "      <td>1</td>\n",
       "      <td>0</td>\n",
       "      <td>0</td>\n",
       "      <td>0</td>\n",
       "      <td>0</td>\n",
       "      <td>0</td>\n",
       "      <td>0</td>\n",
       "      <td>0</td>\n",
       "    </tr>\n",
       "    <tr>\n",
       "      <th>96h</th>\n",
       "      <td>0</td>\n",
       "      <td>0</td>\n",
       "      <td>1</td>\n",
       "      <td>1</td>\n",
       "      <td>0</td>\n",
       "      <td>0</td>\n",
       "      <td>0</td>\n",
       "      <td>0</td>\n",
       "      <td>0</td>\n",
       "      <td>0</td>\n",
       "      <td>...</td>\n",
       "      <td>0</td>\n",
       "      <td>0</td>\n",
       "      <td>1</td>\n",
       "      <td>0</td>\n",
       "      <td>0</td>\n",
       "      <td>0</td>\n",
       "      <td>0</td>\n",
       "      <td>0</td>\n",
       "      <td>0</td>\n",
       "      <td>1</td>\n",
       "    </tr>\n",
       "    <tr>\n",
       "      <th>96i</th>\n",
       "      <td>0</td>\n",
       "      <td>0</td>\n",
       "      <td>1</td>\n",
       "      <td>1</td>\n",
       "      <td>0</td>\n",
       "      <td>0</td>\n",
       "      <td>0</td>\n",
       "      <td>0</td>\n",
       "      <td>0</td>\n",
       "      <td>0</td>\n",
       "      <td>...</td>\n",
       "      <td>0</td>\n",
       "      <td>0</td>\n",
       "      <td>1</td>\n",
       "      <td>0</td>\n",
       "      <td>0</td>\n",
       "      <td>0</td>\n",
       "      <td>0</td>\n",
       "      <td>0</td>\n",
       "      <td>0</td>\n",
       "      <td>1</td>\n",
       "    </tr>\n",
       "  </tbody>\n",
       "</table>\n",
       "<p>776 rows × 340 columns</p>\n",
       "</div>"
      ],
      "text/plain": [
       "     pendent  teardrop  horizontal  panel  group  vertical  bar  floating  \\\n",
       "1a         1         1           1      1      0         0    0         0   \n",
       "1b         1         1           1      1      1         0    0         0   \n",
       "1c         0         0           1      1      0         1    1         0   \n",
       "1d         0         0           0      1      0         1    1         0   \n",
       "1e         0         0           1      1      0         1    1         0   \n",
       "..       ...       ...         ...    ...    ...       ...  ...       ...   \n",
       "96e        0         0           1      1      0         0    0         0   \n",
       "96f        0         0           0      1      0         1    0         0   \n",
       "96g        0         0           0      0      0         0    0         0   \n",
       "96h        0         0           1      1      0         0    0         0   \n",
       "96i        0         0           1      1      0         0    0         0   \n",
       "\n",
       "     enclosing  shorter  ...  light  body  bird  striped  worm  angular  \\\n",
       "1a           0        0  ...      0     0     0        0     0        0   \n",
       "1b           0        0  ...      0     0     0        0     0        0   \n",
       "1c           0        0  ...      0     0     0        0     0        0   \n",
       "1d           0        0  ...      0     0     0        0     0        0   \n",
       "1e           0        0  ...      0     0     0        0     0        0   \n",
       "..         ...      ...  ...    ...   ...   ...      ...   ...      ...   \n",
       "96e          0        0  ...      0     0     1        0     0        0   \n",
       "96f          0        0  ...      0     1     1        0     0        0   \n",
       "96g          0        0  ...      0     1     1        0     0        0   \n",
       "96h          0        0  ...      0     0     1        0     0        0   \n",
       "96i          0        0  ...      0     0     1        0     0        0   \n",
       "\n",
       "     raised  head  bird-seed  long  \n",
       "1a        0     0          0     0  \n",
       "1b        0     0          0     0  \n",
       "1c        0     0          0     0  \n",
       "1d        0     0          0     0  \n",
       "1e        0     0          0     0  \n",
       "..      ...   ...        ...   ...  \n",
       "96e       0     0          1     0  \n",
       "96f       0     0          0     0  \n",
       "96g       0     0          0     0  \n",
       "96h       0     0          0     1  \n",
       "96i       0     0          0     1  \n",
       "\n",
       "[776 rows x 340 columns]"
      ]
     },
     "metadata": {},
     "output_type": "display_data"
    },
    {
     "data": {
      "text/html": [
       "<div>\n",
       "<style scoped>\n",
       "    .dataframe tbody tr th:only-of-type {\n",
       "        vertical-align: middle;\n",
       "    }\n",
       "\n",
       "    .dataframe tbody tr th {\n",
       "        vertical-align: top;\n",
       "    }\n",
       "\n",
       "    .dataframe thead th {\n",
       "        text-align: right;\n",
       "    }\n",
       "</style>\n",
       "<table border=\"1\" class=\"dataframe\">\n",
       "  <thead>\n",
       "    <tr style=\"text-align: right;\">\n",
       "      <th></th>\n",
       "      <th>chapter</th>\n",
       "      <th>subchapter</th>\n",
       "    </tr>\n",
       "  </thead>\n",
       "  <tbody>\n",
       "    <tr>\n",
       "      <th>1a</th>\n",
       "      <td>strokes and lines</td>\n",
       "      <td>strokes</td>\n",
       "    </tr>\n",
       "    <tr>\n",
       "      <th>1b</th>\n",
       "      <td>strokes and lines</td>\n",
       "      <td>strokes</td>\n",
       "    </tr>\n",
       "    <tr>\n",
       "      <th>1c</th>\n",
       "      <td>strokes and lines</td>\n",
       "      <td>strokes</td>\n",
       "    </tr>\n",
       "    <tr>\n",
       "      <th>1d</th>\n",
       "      <td>strokes and lines</td>\n",
       "      <td>strokes</td>\n",
       "    </tr>\n",
       "    <tr>\n",
       "      <th>1e</th>\n",
       "      <td>strokes and lines</td>\n",
       "      <td>strokes</td>\n",
       "    </tr>\n",
       "    <tr>\n",
       "      <th>...</th>\n",
       "      <td>...</td>\n",
       "      <td>...</td>\n",
       "    </tr>\n",
       "    <tr>\n",
       "      <th>96e</th>\n",
       "      <td>pictographics</td>\n",
       "      <td>trees and animals</td>\n",
       "    </tr>\n",
       "    <tr>\n",
       "      <th>96f</th>\n",
       "      <td>pictographics</td>\n",
       "      <td>trees and animals</td>\n",
       "    </tr>\n",
       "    <tr>\n",
       "      <th>96g</th>\n",
       "      <td>pictographics</td>\n",
       "      <td>trees and animals</td>\n",
       "    </tr>\n",
       "    <tr>\n",
       "      <th>96h</th>\n",
       "      <td>pictographics</td>\n",
       "      <td>trees and animals</td>\n",
       "    </tr>\n",
       "    <tr>\n",
       "      <th>96i</th>\n",
       "      <td>pictographics</td>\n",
       "      <td>trees and animals</td>\n",
       "    </tr>\n",
       "  </tbody>\n",
       "</table>\n",
       "<p>776 rows × 2 columns</p>\n",
       "</div>"
      ],
      "text/plain": [
       "               chapter         subchapter\n",
       "1a   strokes and lines            strokes\n",
       "1b   strokes and lines            strokes\n",
       "1c   strokes and lines            strokes\n",
       "1d   strokes and lines            strokes\n",
       "1e   strokes and lines            strokes\n",
       "..                 ...                ...\n",
       "96e      pictographics  trees and animals\n",
       "96f      pictographics  trees and animals\n",
       "96g      pictographics  trees and animals\n",
       "96h      pictographics  trees and animals\n",
       "96i      pictographics  trees and animals\n",
       "\n",
       "[776 rows x 2 columns]"
      ]
     },
     "metadata": {},
     "output_type": "display_data"
    },
    {
     "data": {
      "text/html": [
       "<div>\n",
       "<style scoped>\n",
       "    .dataframe tbody tr th:only-of-type {\n",
       "        vertical-align: middle;\n",
       "    }\n",
       "\n",
       "    .dataframe tbody tr th {\n",
       "        vertical-align: top;\n",
       "    }\n",
       "\n",
       "    .dataframe thead th {\n",
       "        text-align: right;\n",
       "    }\n",
       "</style>\n",
       "<table border=\"1\" class=\"dataframe\">\n",
       "  <thead>\n",
       "    <tr style=\"text-align: right;\">\n",
       "      <th></th>\n",
       "      <th>pendent</th>\n",
       "      <th>teardrop</th>\n",
       "      <th>horizontal</th>\n",
       "      <th>panel</th>\n",
       "      <th>group</th>\n",
       "      <th>vertical</th>\n",
       "      <th>bar</th>\n",
       "      <th>floating</th>\n",
       "      <th>enclosing</th>\n",
       "      <th>shorter</th>\n",
       "      <th>...</th>\n",
       "      <th>bird</th>\n",
       "      <th>striped</th>\n",
       "      <th>worm</th>\n",
       "      <th>angular</th>\n",
       "      <th>raised</th>\n",
       "      <th>head</th>\n",
       "      <th>bird-seed</th>\n",
       "      <th>long</th>\n",
       "      <th>chapter</th>\n",
       "      <th>subchapter</th>\n",
       "    </tr>\n",
       "  </thead>\n",
       "  <tbody>\n",
       "    <tr>\n",
       "      <th>1a</th>\n",
       "      <td>1</td>\n",
       "      <td>1</td>\n",
       "      <td>1</td>\n",
       "      <td>1</td>\n",
       "      <td>0</td>\n",
       "      <td>0</td>\n",
       "      <td>0</td>\n",
       "      <td>0</td>\n",
       "      <td>0</td>\n",
       "      <td>0</td>\n",
       "      <td>...</td>\n",
       "      <td>0</td>\n",
       "      <td>0</td>\n",
       "      <td>0</td>\n",
       "      <td>0</td>\n",
       "      <td>0</td>\n",
       "      <td>0</td>\n",
       "      <td>0</td>\n",
       "      <td>0</td>\n",
       "      <td>strokes and lines</td>\n",
       "      <td>strokes</td>\n",
       "    </tr>\n",
       "    <tr>\n",
       "      <th>1b</th>\n",
       "      <td>1</td>\n",
       "      <td>1</td>\n",
       "      <td>1</td>\n",
       "      <td>1</td>\n",
       "      <td>1</td>\n",
       "      <td>0</td>\n",
       "      <td>0</td>\n",
       "      <td>0</td>\n",
       "      <td>0</td>\n",
       "      <td>0</td>\n",
       "      <td>...</td>\n",
       "      <td>0</td>\n",
       "      <td>0</td>\n",
       "      <td>0</td>\n",
       "      <td>0</td>\n",
       "      <td>0</td>\n",
       "      <td>0</td>\n",
       "      <td>0</td>\n",
       "      <td>0</td>\n",
       "      <td>strokes and lines</td>\n",
       "      <td>strokes</td>\n",
       "    </tr>\n",
       "    <tr>\n",
       "      <th>1c</th>\n",
       "      <td>0</td>\n",
       "      <td>0</td>\n",
       "      <td>1</td>\n",
       "      <td>1</td>\n",
       "      <td>0</td>\n",
       "      <td>1</td>\n",
       "      <td>1</td>\n",
       "      <td>0</td>\n",
       "      <td>0</td>\n",
       "      <td>0</td>\n",
       "      <td>...</td>\n",
       "      <td>0</td>\n",
       "      <td>0</td>\n",
       "      <td>0</td>\n",
       "      <td>0</td>\n",
       "      <td>0</td>\n",
       "      <td>0</td>\n",
       "      <td>0</td>\n",
       "      <td>0</td>\n",
       "      <td>strokes and lines</td>\n",
       "      <td>strokes</td>\n",
       "    </tr>\n",
       "    <tr>\n",
       "      <th>1d</th>\n",
       "      <td>0</td>\n",
       "      <td>0</td>\n",
       "      <td>0</td>\n",
       "      <td>1</td>\n",
       "      <td>0</td>\n",
       "      <td>1</td>\n",
       "      <td>1</td>\n",
       "      <td>0</td>\n",
       "      <td>0</td>\n",
       "      <td>0</td>\n",
       "      <td>...</td>\n",
       "      <td>0</td>\n",
       "      <td>0</td>\n",
       "      <td>0</td>\n",
       "      <td>0</td>\n",
       "      <td>0</td>\n",
       "      <td>0</td>\n",
       "      <td>0</td>\n",
       "      <td>0</td>\n",
       "      <td>strokes and lines</td>\n",
       "      <td>strokes</td>\n",
       "    </tr>\n",
       "    <tr>\n",
       "      <th>1e</th>\n",
       "      <td>0</td>\n",
       "      <td>0</td>\n",
       "      <td>1</td>\n",
       "      <td>1</td>\n",
       "      <td>0</td>\n",
       "      <td>1</td>\n",
       "      <td>1</td>\n",
       "      <td>0</td>\n",
       "      <td>0</td>\n",
       "      <td>0</td>\n",
       "      <td>...</td>\n",
       "      <td>0</td>\n",
       "      <td>0</td>\n",
       "      <td>0</td>\n",
       "      <td>0</td>\n",
       "      <td>0</td>\n",
       "      <td>0</td>\n",
       "      <td>0</td>\n",
       "      <td>0</td>\n",
       "      <td>strokes and lines</td>\n",
       "      <td>strokes</td>\n",
       "    </tr>\n",
       "    <tr>\n",
       "      <th>...</th>\n",
       "      <td>...</td>\n",
       "      <td>...</td>\n",
       "      <td>...</td>\n",
       "      <td>...</td>\n",
       "      <td>...</td>\n",
       "      <td>...</td>\n",
       "      <td>...</td>\n",
       "      <td>...</td>\n",
       "      <td>...</td>\n",
       "      <td>...</td>\n",
       "      <td>...</td>\n",
       "      <td>...</td>\n",
       "      <td>...</td>\n",
       "      <td>...</td>\n",
       "      <td>...</td>\n",
       "      <td>...</td>\n",
       "      <td>...</td>\n",
       "      <td>...</td>\n",
       "      <td>...</td>\n",
       "      <td>...</td>\n",
       "      <td>...</td>\n",
       "    </tr>\n",
       "    <tr>\n",
       "      <th>96e</th>\n",
       "      <td>0</td>\n",
       "      <td>0</td>\n",
       "      <td>1</td>\n",
       "      <td>1</td>\n",
       "      <td>0</td>\n",
       "      <td>0</td>\n",
       "      <td>0</td>\n",
       "      <td>0</td>\n",
       "      <td>0</td>\n",
       "      <td>0</td>\n",
       "      <td>...</td>\n",
       "      <td>1</td>\n",
       "      <td>0</td>\n",
       "      <td>0</td>\n",
       "      <td>0</td>\n",
       "      <td>0</td>\n",
       "      <td>0</td>\n",
       "      <td>1</td>\n",
       "      <td>0</td>\n",
       "      <td>pictographics</td>\n",
       "      <td>trees and animals</td>\n",
       "    </tr>\n",
       "    <tr>\n",
       "      <th>96f</th>\n",
       "      <td>0</td>\n",
       "      <td>0</td>\n",
       "      <td>0</td>\n",
       "      <td>1</td>\n",
       "      <td>0</td>\n",
       "      <td>1</td>\n",
       "      <td>0</td>\n",
       "      <td>0</td>\n",
       "      <td>0</td>\n",
       "      <td>0</td>\n",
       "      <td>...</td>\n",
       "      <td>1</td>\n",
       "      <td>0</td>\n",
       "      <td>0</td>\n",
       "      <td>0</td>\n",
       "      <td>0</td>\n",
       "      <td>0</td>\n",
       "      <td>0</td>\n",
       "      <td>0</td>\n",
       "      <td>pictographics</td>\n",
       "      <td>trees and animals</td>\n",
       "    </tr>\n",
       "    <tr>\n",
       "      <th>96g</th>\n",
       "      <td>0</td>\n",
       "      <td>0</td>\n",
       "      <td>0</td>\n",
       "      <td>0</td>\n",
       "      <td>0</td>\n",
       "      <td>0</td>\n",
       "      <td>0</td>\n",
       "      <td>0</td>\n",
       "      <td>0</td>\n",
       "      <td>0</td>\n",
       "      <td>...</td>\n",
       "      <td>1</td>\n",
       "      <td>0</td>\n",
       "      <td>0</td>\n",
       "      <td>0</td>\n",
       "      <td>0</td>\n",
       "      <td>0</td>\n",
       "      <td>0</td>\n",
       "      <td>0</td>\n",
       "      <td>pictographics</td>\n",
       "      <td>trees and animals</td>\n",
       "    </tr>\n",
       "    <tr>\n",
       "      <th>96h</th>\n",
       "      <td>0</td>\n",
       "      <td>0</td>\n",
       "      <td>1</td>\n",
       "      <td>1</td>\n",
       "      <td>0</td>\n",
       "      <td>0</td>\n",
       "      <td>0</td>\n",
       "      <td>0</td>\n",
       "      <td>0</td>\n",
       "      <td>0</td>\n",
       "      <td>...</td>\n",
       "      <td>1</td>\n",
       "      <td>0</td>\n",
       "      <td>0</td>\n",
       "      <td>0</td>\n",
       "      <td>0</td>\n",
       "      <td>0</td>\n",
       "      <td>0</td>\n",
       "      <td>1</td>\n",
       "      <td>pictographics</td>\n",
       "      <td>trees and animals</td>\n",
       "    </tr>\n",
       "    <tr>\n",
       "      <th>96i</th>\n",
       "      <td>0</td>\n",
       "      <td>0</td>\n",
       "      <td>1</td>\n",
       "      <td>1</td>\n",
       "      <td>0</td>\n",
       "      <td>0</td>\n",
       "      <td>0</td>\n",
       "      <td>0</td>\n",
       "      <td>0</td>\n",
       "      <td>0</td>\n",
       "      <td>...</td>\n",
       "      <td>1</td>\n",
       "      <td>0</td>\n",
       "      <td>0</td>\n",
       "      <td>0</td>\n",
       "      <td>0</td>\n",
       "      <td>0</td>\n",
       "      <td>0</td>\n",
       "      <td>1</td>\n",
       "      <td>pictographics</td>\n",
       "      <td>trees and animals</td>\n",
       "    </tr>\n",
       "  </tbody>\n",
       "</table>\n",
       "<p>776 rows × 342 columns</p>\n",
       "</div>"
      ],
      "text/plain": [
       "     pendent  teardrop  horizontal  panel  group  vertical  bar  floating  \\\n",
       "1a         1         1           1      1      0         0    0         0   \n",
       "1b         1         1           1      1      1         0    0         0   \n",
       "1c         0         0           1      1      0         1    1         0   \n",
       "1d         0         0           0      1      0         1    1         0   \n",
       "1e         0         0           1      1      0         1    1         0   \n",
       "..       ...       ...         ...    ...    ...       ...  ...       ...   \n",
       "96e        0         0           1      1      0         0    0         0   \n",
       "96f        0         0           0      1      0         1    0         0   \n",
       "96g        0         0           0      0      0         0    0         0   \n",
       "96h        0         0           1      1      0         0    0         0   \n",
       "96i        0         0           1      1      0         0    0         0   \n",
       "\n",
       "     enclosing  shorter  ...  bird  striped  worm  angular  raised  head  \\\n",
       "1a           0        0  ...     0        0     0        0       0     0   \n",
       "1b           0        0  ...     0        0     0        0       0     0   \n",
       "1c           0        0  ...     0        0     0        0       0     0   \n",
       "1d           0        0  ...     0        0     0        0       0     0   \n",
       "1e           0        0  ...     0        0     0        0       0     0   \n",
       "..         ...      ...  ...   ...      ...   ...      ...     ...   ...   \n",
       "96e          0        0  ...     1        0     0        0       0     0   \n",
       "96f          0        0  ...     1        0     0        0       0     0   \n",
       "96g          0        0  ...     1        0     0        0       0     0   \n",
       "96h          0        0  ...     1        0     0        0       0     0   \n",
       "96i          0        0  ...     1        0     0        0       0     0   \n",
       "\n",
       "     bird-seed  long            chapter         subchapter  \n",
       "1a           0     0  strokes and lines            strokes  \n",
       "1b           0     0  strokes and lines            strokes  \n",
       "1c           0     0  strokes and lines            strokes  \n",
       "1d           0     0  strokes and lines            strokes  \n",
       "1e           0     0  strokes and lines            strokes  \n",
       "..         ...   ...                ...                ...  \n",
       "96e          1     0      pictographics  trees and animals  \n",
       "96f          0     0      pictographics  trees and animals  \n",
       "96g          0     0      pictographics  trees and animals  \n",
       "96h          0     1      pictographics  trees and animals  \n",
       "96i          0     1      pictographics  trees and animals  \n",
       "\n",
       "[776 rows x 342 columns]"
      ]
     },
     "metadata": {},
     "output_type": "display_data"
    }
   ],
   "source": [
    "df_labels = pd.read_json(folder_path + \"labels/normalized_df.json\", orient='index', encoding='latin-1')\n",
    "display(df_labels)\n",
    "df_classes = pd.read_csv(folder_path + \"labels/class_labels.csv\", index_col=0)\n",
    "display(df_classes)\n",
    "df_labels_class = df_labels.join(df_classes, how='inner')\n",
    "display(df_labels_class)"
   ]
  },
  {
   "cell_type": "code",
   "execution_count": 26,
   "metadata": {
    "pycharm": {
     "name": "#%%\n"
    },
    "scrolled": true
   },
   "outputs": [
    {
     "data": {
      "text/html": [
       "<div>\n",
       "<style scoped>\n",
       "    .dataframe tbody tr th:only-of-type {\n",
       "        vertical-align: middle;\n",
       "    }\n",
       "\n",
       "    .dataframe tbody tr th {\n",
       "        vertical-align: top;\n",
       "    }\n",
       "\n",
       "    .dataframe thead th {\n",
       "        text-align: right;\n",
       "    }\n",
       "</style>\n",
       "<table border=\"1\" class=\"dataframe\">\n",
       "  <thead>\n",
       "    <tr style=\"text-align: right;\">\n",
       "      <th></th>\n",
       "      <th>pendent</th>\n",
       "      <th>teardrop</th>\n",
       "      <th>horizontal</th>\n",
       "      <th>panel</th>\n",
       "      <th>group</th>\n",
       "      <th>vertical</th>\n",
       "      <th>bar</th>\n",
       "      <th>floating</th>\n",
       "      <th>enclosing</th>\n",
       "      <th>shorter</th>\n",
       "      <th>...</th>\n",
       "      <th>light</th>\n",
       "      <th>body</th>\n",
       "      <th>bird</th>\n",
       "      <th>striped</th>\n",
       "      <th>worm</th>\n",
       "      <th>angular</th>\n",
       "      <th>raised</th>\n",
       "      <th>head</th>\n",
       "      <th>bird-seed</th>\n",
       "      <th>long</th>\n",
       "    </tr>\n",
       "    <tr>\n",
       "      <th>chapter</th>\n",
       "      <th></th>\n",
       "      <th></th>\n",
       "      <th></th>\n",
       "      <th></th>\n",
       "      <th></th>\n",
       "      <th></th>\n",
       "      <th></th>\n",
       "      <th></th>\n",
       "      <th></th>\n",
       "      <th></th>\n",
       "      <th></th>\n",
       "      <th></th>\n",
       "      <th></th>\n",
       "      <th></th>\n",
       "      <th></th>\n",
       "      <th></th>\n",
       "      <th></th>\n",
       "      <th></th>\n",
       "      <th></th>\n",
       "      <th></th>\n",
       "      <th></th>\n",
       "    </tr>\n",
       "  </thead>\n",
       "  <tbody>\n",
       "    <tr>\n",
       "      <th>circular ornaments</th>\n",
       "      <td>6</td>\n",
       "      <td>0</td>\n",
       "      <td>64</td>\n",
       "      <td>71</td>\n",
       "      <td>0</td>\n",
       "      <td>11</td>\n",
       "      <td>3</td>\n",
       "      <td>1</td>\n",
       "      <td>76</td>\n",
       "      <td>0</td>\n",
       "      <td>...</td>\n",
       "      <td>0</td>\n",
       "      <td>0</td>\n",
       "      <td>0</td>\n",
       "      <td>0</td>\n",
       "      <td>0</td>\n",
       "      <td>0</td>\n",
       "      <td>0</td>\n",
       "      <td>0</td>\n",
       "      <td>0</td>\n",
       "      <td>0</td>\n",
       "    </tr>\n",
       "    <tr>\n",
       "      <th>lozenge</th>\n",
       "      <td>0</td>\n",
       "      <td>0</td>\n",
       "      <td>31</td>\n",
       "      <td>53</td>\n",
       "      <td>0</td>\n",
       "      <td>26</td>\n",
       "      <td>3</td>\n",
       "      <td>2</td>\n",
       "      <td>8</td>\n",
       "      <td>0</td>\n",
       "      <td>...</td>\n",
       "      <td>0</td>\n",
       "      <td>0</td>\n",
       "      <td>0</td>\n",
       "      <td>0</td>\n",
       "      <td>0</td>\n",
       "      <td>0</td>\n",
       "      <td>0</td>\n",
       "      <td>0</td>\n",
       "      <td>0</td>\n",
       "      <td>0</td>\n",
       "    </tr>\n",
       "    <tr>\n",
       "      <th>pictographics</th>\n",
       "      <td>0</td>\n",
       "      <td>0</td>\n",
       "      <td>17</td>\n",
       "      <td>25</td>\n",
       "      <td>0</td>\n",
       "      <td>10</td>\n",
       "      <td>1</td>\n",
       "      <td>0</td>\n",
       "      <td>0</td>\n",
       "      <td>0</td>\n",
       "      <td>...</td>\n",
       "      <td>1</td>\n",
       "      <td>18</td>\n",
       "      <td>22</td>\n",
       "      <td>1</td>\n",
       "      <td>1</td>\n",
       "      <td>1</td>\n",
       "      <td>2</td>\n",
       "      <td>1</td>\n",
       "      <td>1</td>\n",
       "      <td>2</td>\n",
       "    </tr>\n",
       "    <tr>\n",
       "      <th>rectangular ornaments</th>\n",
       "      <td>3</td>\n",
       "      <td>0</td>\n",
       "      <td>79</td>\n",
       "      <td>93</td>\n",
       "      <td>1</td>\n",
       "      <td>17</td>\n",
       "      <td>3</td>\n",
       "      <td>0</td>\n",
       "      <td>2</td>\n",
       "      <td>0</td>\n",
       "      <td>...</td>\n",
       "      <td>0</td>\n",
       "      <td>0</td>\n",
       "      <td>0</td>\n",
       "      <td>0</td>\n",
       "      <td>0</td>\n",
       "      <td>0</td>\n",
       "      <td>0</td>\n",
       "      <td>0</td>\n",
       "      <td>0</td>\n",
       "      <td>0</td>\n",
       "    </tr>\n",
       "    <tr>\n",
       "      <th>strokes and lines</th>\n",
       "      <td>3</td>\n",
       "      <td>2</td>\n",
       "      <td>56</td>\n",
       "      <td>63</td>\n",
       "      <td>4</td>\n",
       "      <td>38</td>\n",
       "      <td>35</td>\n",
       "      <td>1</td>\n",
       "      <td>1</td>\n",
       "      <td>1</td>\n",
       "      <td>...</td>\n",
       "      <td>0</td>\n",
       "      <td>0</td>\n",
       "      <td>0</td>\n",
       "      <td>0</td>\n",
       "      <td>0</td>\n",
       "      <td>0</td>\n",
       "      <td>0</td>\n",
       "      <td>0</td>\n",
       "      <td>0</td>\n",
       "      <td>0</td>\n",
       "    </tr>\n",
       "    <tr>\n",
       "      <th>triangular ornaments</th>\n",
       "      <td>9</td>\n",
       "      <td>0</td>\n",
       "      <td>84</td>\n",
       "      <td>103</td>\n",
       "      <td>5</td>\n",
       "      <td>38</td>\n",
       "      <td>7</td>\n",
       "      <td>7</td>\n",
       "      <td>8</td>\n",
       "      <td>0</td>\n",
       "      <td>...</td>\n",
       "      <td>0</td>\n",
       "      <td>0</td>\n",
       "      <td>0</td>\n",
       "      <td>0</td>\n",
       "      <td>0</td>\n",
       "      <td>0</td>\n",
       "      <td>0</td>\n",
       "      <td>0</td>\n",
       "      <td>0</td>\n",
       "      <td>0</td>\n",
       "    </tr>\n",
       "  </tbody>\n",
       "</table>\n",
       "<p>6 rows × 340 columns</p>\n",
       "</div>"
      ],
      "text/plain": [
       "                       pendent  teardrop  horizontal  panel  group  vertical  \\\n",
       "chapter                                                                        \n",
       "circular ornaments           6         0          64     71      0        11   \n",
       "lozenge                      0         0          31     53      0        26   \n",
       "pictographics                0         0          17     25      0        10   \n",
       "rectangular ornaments        3         0          79     93      1        17   \n",
       "strokes and lines            3         2          56     63      4        38   \n",
       "triangular ornaments         9         0          84    103      5        38   \n",
       "\n",
       "                       bar  floating  enclosing  shorter  ...  light  body  \\\n",
       "chapter                                                   ...                \n",
       "circular ornaments       3         1         76        0  ...      0     0   \n",
       "lozenge                  3         2          8        0  ...      0     0   \n",
       "pictographics            1         0          0        0  ...      1    18   \n",
       "rectangular ornaments    3         0          2        0  ...      0     0   \n",
       "strokes and lines       35         1          1        1  ...      0     0   \n",
       "triangular ornaments     7         7          8        0  ...      0     0   \n",
       "\n",
       "                       bird  striped  worm  angular  raised  head  bird-seed  \\\n",
       "chapter                                                                        \n",
       "circular ornaments        0        0     0        0       0     0          0   \n",
       "lozenge                   0        0     0        0       0     0          0   \n",
       "pictographics            22        1     1        1       2     1          1   \n",
       "rectangular ornaments     0        0     0        0       0     0          0   \n",
       "strokes and lines         0        0     0        0       0     0          0   \n",
       "triangular ornaments      0        0     0        0       0     0          0   \n",
       "\n",
       "                       long  \n",
       "chapter                      \n",
       "circular ornaments        0  \n",
       "lozenge                   0  \n",
       "pictographics             2  \n",
       "rectangular ornaments     0  \n",
       "strokes and lines         0  \n",
       "triangular ornaments      0  \n",
       "\n",
       "[6 rows x 340 columns]"
      ]
     },
     "metadata": {},
     "output_type": "display_data"
    }
   ],
   "source": [
    "df_grouped = df_labels_class.drop(columns='subchapter').groupby(['chapter']).sum()\n",
    "display(df_grouped)"
   ]
  },
  {
   "cell_type": "code",
   "execution_count": 62,
   "metadata": {
    "pycharm": {
     "name": "#%%\n"
    }
   },
   "outputs": [
    {
     "data": {
      "text/markdown": [
       "### circular ornaments unique labels: 57"
      ],
      "text/plain": [
       "<IPython.core.display.Markdown object>"
      ]
     },
     "metadata": {},
     "output_type": "display_data"
    },
    {
     "data": {
      "text/plain": [
       "['rectangular',\n",
       " 'rosette',\n",
       " 'flower',\n",
       " 'spiked',\n",
       " 'eight-armed',\n",
       " 'floor',\n",
       " 'stalked',\n",
       " 'sixteen-pointed',\n",
       " 'point',\n",
       " 'lightning-wheel',\n",
       " 'semicircle',\n",
       " 'three-quarter',\n",
       " 'disposition',\n",
       " 'quarter-circle',\n",
       " 'sound-waves',\n",
       " 'scale',\n",
       " 'losenges',\n",
       " 'eleven-pointed',\n",
       " 'forming',\n",
       " 'lined',\n",
       " 'branch',\n",
       " 'dif.',\n",
       " 'm',\n",
       " 'triple-line',\n",
       " 'maltese',\n",
       " 'three-winged',\n",
       " 'fan',\n",
       " 'midrib',\n",
       " 'connecting',\n",
       " 'arc',\n",
       " 'near',\n",
       " 'rim',\n",
       " 'v-shaped',\n",
       " 'four-leaved',\n",
       " 'twelve-leaved',\n",
       " 'seven-leaved',\n",
       " 'four-spoked',\n",
       " 'wheel',\n",
       " 'circular',\n",
       " 'sunburst',\n",
       " 'flanking',\n",
       " 'tangent',\n",
       " 'tagential',\n",
       " 'tangets',\n",
       " 'elongated',\n",
       " 'crossed',\n",
       " 'concentrique',\n",
       " 'cable',\n",
       " 'doted',\n",
       " \"s's\",\n",
       " 'spiral',\n",
       " 'inner',\n",
       " 'looped',\n",
       " 's',\n",
       " 'running',\n",
       " 'half-circles',\n",
       " 'pothook']"
      ]
     },
     "metadata": {},
     "output_type": "display_data"
    },
    {
     "data": {
      "text/markdown": [
       "### lozenge unique labels: 19"
      ],
      "text/plain": [
       "<IPython.core.display.Markdown object>"
      ]
     },
     "metadata": {},
     "output_type": "display_data"
    },
    {
     "data": {
      "text/plain": [
       "['two-tiered',\n",
       " 'outwards',\n",
       " 'b:',\n",
       " 'slack',\n",
       " 'outside',\n",
       " 'three-tiered',\n",
       " 'four-tiered',\n",
       " 'triple-outline',\n",
       " 'quatered',\n",
       " 'side',\n",
       " 'cross-hathed',\n",
       " 'linked',\n",
       " 'check',\n",
       " 'tapestry',\n",
       " 'net.',\n",
       " 'like',\n",
       " 'underlying',\n",
       " 'schematized',\n",
       " 'lozenge-cross']"
      ]
     },
     "metadata": {},
     "output_type": "display_data"
    },
    {
     "data": {
      "text/markdown": [
       "### pictographics unique labels: 17"
      ],
      "text/plain": [
       "<IPython.core.display.Markdown object>"
      ]
     },
     "metadata": {},
     "output_type": "display_data"
    },
    {
     "data": {
      "text/plain": [
       "['tongue',\n",
       " 'plant',\n",
       " 'figure',\n",
       " 'volute',\n",
       " 'palm-tree',\n",
       " 'fish',\n",
       " 'serpent',\n",
       " 'light',\n",
       " 'body',\n",
       " 'bird',\n",
       " 'striped',\n",
       " 'worm',\n",
       " 'angular',\n",
       " 'raised',\n",
       " 'head',\n",
       " 'bird-seed',\n",
       " 'long']"
      ]
     },
     "metadata": {},
     "output_type": "display_data"
    },
    {
     "data": {
      "text/markdown": [
       "### rectangular ornaments unique labels: 56"
      ],
      "text/plain": [
       "<IPython.core.display.Markdown object>"
      ]
     },
     "metadata": {},
     "output_type": "display_data"
    },
    {
     "data": {
      "text/plain": [
       "['rectangle',\n",
       " 'innermost',\n",
       " 'set',\n",
       " 'coffer',\n",
       " 'cross-bar',\n",
       " 'latticed/dotted/stacked',\n",
       " 'saltire',\n",
       " 'doubled',\n",
       " 't-shaped',\n",
       " 'stalk',\n",
       " 'strong',\n",
       " 'half-moon',\n",
       " 'double-halfmoon',\n",
       " 'octofail',\n",
       " 'battlement',\n",
       " 'zigzag-filled',\n",
       " 'interspaces',\n",
       " 'link',\n",
       " 'high',\n",
       " 'slim',\n",
       " 'attached',\n",
       " 'frgt.',\n",
       " 'gear-pattern',\n",
       " 'formed',\n",
       " 'turning',\n",
       " 'meander',\n",
       " 'reversed',\n",
       " 'b',\n",
       " 'intertwined',\n",
       " 'quadruple',\n",
       " 'step',\n",
       " 'additional',\n",
       " 'downward',\n",
       " 'turn',\n",
       " 'wind',\n",
       " 'connected',\n",
       " 't-meander',\n",
       " 'beam',\n",
       " 'remaining',\n",
       " 'meander-like',\n",
       " 'z-shaped',\n",
       " 'continuous',\n",
       " 'repetition',\n",
       " 'alternatively',\n",
       " 'meander-type',\n",
       " 'trident',\n",
       " 'sape',\n",
       " 'two-sided',\n",
       " \"'comb'\",\n",
       " 'type',\n",
       " 'mÃ£Â©andre',\n",
       " 'hachurÃ£Â©',\n",
       " 'panneau',\n",
       " 'acute-angled',\n",
       " 'hooked',\n",
       " 'arm']"
      ]
     },
     "metadata": {},
     "output_type": "display_data"
    },
    {
     "data": {
      "text/markdown": [
       "### strokes and lines unique labels: 20"
      ],
      "text/plain": [
       "<IPython.core.display.Markdown object>"
      ]
     },
     "metadata": {},
     "output_type": "display_data"
    },
    {
     "data": {
      "text/plain": [
       "['teardrop',\n",
       " 'shorter',\n",
       " 'Unnamed: 11',\n",
       " 'framed',\n",
       " 'pannel',\n",
       " 'inserted',\n",
       " 'crossing',\n",
       " 'comb-like',\n",
       " 'free',\n",
       " 'design',\n",
       " 'diagonally',\n",
       " 'half-lines',\n",
       " 'interlocked',\n",
       " 'latticing',\n",
       " 'separated',\n",
       " 'obliquely',\n",
       " 'steep',\n",
       " 'wave',\n",
       " 'moon',\n",
       " 'lightning']"
      ]
     },
     "metadata": {},
     "output_type": "display_data"
    },
    {
     "data": {
      "text/markdown": [
       "### triangular ornaments unique labels: 51"
      ],
      "text/plain": [
       "<IPython.core.display.Markdown object>"
      ]
     },
     "metadata": {},
     "output_type": "display_data"
    },
    {
     "data": {
      "text/plain": [
       "['upwards',\n",
       " 'arrow',\n",
       " 'shape',\n",
       " 'intersecting',\n",
       " 'version',\n",
       " 'previous',\n",
       " 'form',\n",
       " 'border',\n",
       " 'form-square',\n",
       " 'schoulder',\n",
       " 'intertwinded',\n",
       " 'linear',\n",
       " 'rhodian',\n",
       " 'root',\n",
       " 'stock',\n",
       " 'dogtooth',\n",
       " 'downwards',\n",
       " 'accompanied',\n",
       " 'antithetic',\n",
       " 'ray',\n",
       " 'direction',\n",
       " 'hour-glasses',\n",
       " 'ax',\n",
       " 'axe',\n",
       " 'superimposed',\n",
       " 'dissimilar',\n",
       " 'white',\n",
       " 'dark',\n",
       " 'massive',\n",
       " 'spacious',\n",
       " 'obtuse',\n",
       " 'metope-triglyph-frieze',\n",
       " 'e',\n",
       " 'cut',\n",
       " 'ear',\n",
       " 'corn',\n",
       " 'v-chevrons',\n",
       " \"v's\",\n",
       " 'facing',\n",
       " 'three-limbed',\n",
       " 'sigma',\n",
       " 'turned',\n",
       " 'four-limbed',\n",
       " 'm-chevrons',\n",
       " 'limbed',\n",
       " 'scribble',\n",
       " 'degeneration',\n",
       " 'variously',\n",
       " 'unframed',\n",
       " 'tadpole',\n",
       " 'dash']"
      ]
     },
     "metadata": {},
     "output_type": "display_data"
    }
   ],
   "source": [
    "labels_group = {}\n",
    "\n",
    "for group in df_grouped.index:\n",
    "    labels_group[group] = []\n",
    "    match = df_grouped.loc[group].loc[df_grouped.loc[group].gt(0)]\n",
    "    labels_group[group] = match.index.values.tolist()\n",
    "\n",
    "labels_group_unique = {}\n",
    "for group in labels_group.keys():\n",
    "    labels_cp = labels_group[group].copy()\n",
    "    for groupB, labelsB in labels_group.items():\n",
    "        if group!=groupB:\n",
    "            for labelB in labelsB:\n",
    "                if labelB in labels_cp:\n",
    "                    labels_cp.remove(labelB)\n",
    "    labels_group_unique[group] = labels_cp\n",
    "\n",
    "labels_qty = {}\n",
    "for group, labels in labels_group_unique.items():\n",
    "    labels_qty[group] = len(labels)\n",
    "    display(Markdown('### {} unique labels: {}'.format(group, len(labels))))\n",
    "    display(labels)\n",
    "\n",
    "labels_qty = pd.DataFrame.from_dict(labels_qty, orient='index')"
   ]
  },
  {
   "cell_type": "code",
   "execution_count": 87,
   "metadata": {
    "pycharm": {
     "name": "#%%\n"
    }
   },
   "outputs": [],
   "source": [
    "labels_qty['Clase'] = labels_qty.index\n",
    "labels_qty = labels_qty.rename(columns={0: 'Etiquetas'})"
   ]
  },
  {
   "cell_type": "code",
   "execution_count": 91,
   "metadata": {
    "pycharm": {
     "name": "#%%\n"
    },
    "scrolled": false
   },
   "outputs": [
    {
     "data": {
      "application/vnd.plotly.v1+json": {
       "config": {
        "plotlyServerURL": "https://plot.ly"
       },
       "data": [
        {
         "alignmentgroup": "True",
         "bingroup": "x",
         "histfunc": "sum",
         "hovertemplate": "Clase=%{x}<br>sum of Etiquetas=%{y}<extra></extra>",
         "legendgroup": "",
         "marker": {
          "color": "#636efa",
          "pattern": {
           "shape": ""
          }
         },
         "name": "",
         "offsetgroup": "",
         "orientation": "v",
         "showlegend": false,
         "type": "histogram",
         "x": [
          "circular ornaments",
          "lozenge",
          "pictographics",
          "rectangular ornaments",
          "strokes and lines",
          "triangular ornaments"
         ],
         "xaxis": "x",
         "y": [
          57,
          19,
          17,
          56,
          20,
          51
         ],
         "yaxis": "y"
        }
       ],
       "layout": {
        "barmode": "relative",
        "height": 400,
        "legend": {
         "tracegroupgap": 0
        },
        "margin": {
         "t": 60
        },
        "template": {
         "data": {
          "bar": [
           {
            "error_x": {
             "color": "#2a3f5f"
            },
            "error_y": {
             "color": "#2a3f5f"
            },
            "marker": {
             "line": {
              "color": "#E5ECF6",
              "width": 0.5
             },
             "pattern": {
              "fillmode": "overlay",
              "size": 10,
              "solidity": 0.2
             }
            },
            "type": "bar"
           }
          ],
          "barpolar": [
           {
            "marker": {
             "line": {
              "color": "#E5ECF6",
              "width": 0.5
             },
             "pattern": {
              "fillmode": "overlay",
              "size": 10,
              "solidity": 0.2
             }
            },
            "type": "barpolar"
           }
          ],
          "carpet": [
           {
            "aaxis": {
             "endlinecolor": "#2a3f5f",
             "gridcolor": "white",
             "linecolor": "white",
             "minorgridcolor": "white",
             "startlinecolor": "#2a3f5f"
            },
            "baxis": {
             "endlinecolor": "#2a3f5f",
             "gridcolor": "white",
             "linecolor": "white",
             "minorgridcolor": "white",
             "startlinecolor": "#2a3f5f"
            },
            "type": "carpet"
           }
          ],
          "choropleth": [
           {
            "colorbar": {
             "outlinewidth": 0,
             "ticks": ""
            },
            "type": "choropleth"
           }
          ],
          "contour": [
           {
            "colorbar": {
             "outlinewidth": 0,
             "ticks": ""
            },
            "colorscale": [
             [
              0,
              "#0d0887"
             ],
             [
              0.1111111111111111,
              "#46039f"
             ],
             [
              0.2222222222222222,
              "#7201a8"
             ],
             [
              0.3333333333333333,
              "#9c179e"
             ],
             [
              0.4444444444444444,
              "#bd3786"
             ],
             [
              0.5555555555555556,
              "#d8576b"
             ],
             [
              0.6666666666666666,
              "#ed7953"
             ],
             [
              0.7777777777777778,
              "#fb9f3a"
             ],
             [
              0.8888888888888888,
              "#fdca26"
             ],
             [
              1,
              "#f0f921"
             ]
            ],
            "type": "contour"
           }
          ],
          "contourcarpet": [
           {
            "colorbar": {
             "outlinewidth": 0,
             "ticks": ""
            },
            "type": "contourcarpet"
           }
          ],
          "heatmap": [
           {
            "colorbar": {
             "outlinewidth": 0,
             "ticks": ""
            },
            "colorscale": [
             [
              0,
              "#0d0887"
             ],
             [
              0.1111111111111111,
              "#46039f"
             ],
             [
              0.2222222222222222,
              "#7201a8"
             ],
             [
              0.3333333333333333,
              "#9c179e"
             ],
             [
              0.4444444444444444,
              "#bd3786"
             ],
             [
              0.5555555555555556,
              "#d8576b"
             ],
             [
              0.6666666666666666,
              "#ed7953"
             ],
             [
              0.7777777777777778,
              "#fb9f3a"
             ],
             [
              0.8888888888888888,
              "#fdca26"
             ],
             [
              1,
              "#f0f921"
             ]
            ],
            "type": "heatmap"
           }
          ],
          "heatmapgl": [
           {
            "colorbar": {
             "outlinewidth": 0,
             "ticks": ""
            },
            "colorscale": [
             [
              0,
              "#0d0887"
             ],
             [
              0.1111111111111111,
              "#46039f"
             ],
             [
              0.2222222222222222,
              "#7201a8"
             ],
             [
              0.3333333333333333,
              "#9c179e"
             ],
             [
              0.4444444444444444,
              "#bd3786"
             ],
             [
              0.5555555555555556,
              "#d8576b"
             ],
             [
              0.6666666666666666,
              "#ed7953"
             ],
             [
              0.7777777777777778,
              "#fb9f3a"
             ],
             [
              0.8888888888888888,
              "#fdca26"
             ],
             [
              1,
              "#f0f921"
             ]
            ],
            "type": "heatmapgl"
           }
          ],
          "histogram": [
           {
            "marker": {
             "pattern": {
              "fillmode": "overlay",
              "size": 10,
              "solidity": 0.2
             }
            },
            "type": "histogram"
           }
          ],
          "histogram2d": [
           {
            "colorbar": {
             "outlinewidth": 0,
             "ticks": ""
            },
            "colorscale": [
             [
              0,
              "#0d0887"
             ],
             [
              0.1111111111111111,
              "#46039f"
             ],
             [
              0.2222222222222222,
              "#7201a8"
             ],
             [
              0.3333333333333333,
              "#9c179e"
             ],
             [
              0.4444444444444444,
              "#bd3786"
             ],
             [
              0.5555555555555556,
              "#d8576b"
             ],
             [
              0.6666666666666666,
              "#ed7953"
             ],
             [
              0.7777777777777778,
              "#fb9f3a"
             ],
             [
              0.8888888888888888,
              "#fdca26"
             ],
             [
              1,
              "#f0f921"
             ]
            ],
            "type": "histogram2d"
           }
          ],
          "histogram2dcontour": [
           {
            "colorbar": {
             "outlinewidth": 0,
             "ticks": ""
            },
            "colorscale": [
             [
              0,
              "#0d0887"
             ],
             [
              0.1111111111111111,
              "#46039f"
             ],
             [
              0.2222222222222222,
              "#7201a8"
             ],
             [
              0.3333333333333333,
              "#9c179e"
             ],
             [
              0.4444444444444444,
              "#bd3786"
             ],
             [
              0.5555555555555556,
              "#d8576b"
             ],
             [
              0.6666666666666666,
              "#ed7953"
             ],
             [
              0.7777777777777778,
              "#fb9f3a"
             ],
             [
              0.8888888888888888,
              "#fdca26"
             ],
             [
              1,
              "#f0f921"
             ]
            ],
            "type": "histogram2dcontour"
           }
          ],
          "mesh3d": [
           {
            "colorbar": {
             "outlinewidth": 0,
             "ticks": ""
            },
            "type": "mesh3d"
           }
          ],
          "parcoords": [
           {
            "line": {
             "colorbar": {
              "outlinewidth": 0,
              "ticks": ""
             }
            },
            "type": "parcoords"
           }
          ],
          "pie": [
           {
            "automargin": true,
            "type": "pie"
           }
          ],
          "scatter": [
           {
            "fillpattern": {
             "fillmode": "overlay",
             "size": 10,
             "solidity": 0.2
            },
            "type": "scatter"
           }
          ],
          "scatter3d": [
           {
            "line": {
             "colorbar": {
              "outlinewidth": 0,
              "ticks": ""
             }
            },
            "marker": {
             "colorbar": {
              "outlinewidth": 0,
              "ticks": ""
             }
            },
            "type": "scatter3d"
           }
          ],
          "scattercarpet": [
           {
            "marker": {
             "colorbar": {
              "outlinewidth": 0,
              "ticks": ""
             }
            },
            "type": "scattercarpet"
           }
          ],
          "scattergeo": [
           {
            "marker": {
             "colorbar": {
              "outlinewidth": 0,
              "ticks": ""
             }
            },
            "type": "scattergeo"
           }
          ],
          "scattergl": [
           {
            "marker": {
             "colorbar": {
              "outlinewidth": 0,
              "ticks": ""
             }
            },
            "type": "scattergl"
           }
          ],
          "scattermapbox": [
           {
            "marker": {
             "colorbar": {
              "outlinewidth": 0,
              "ticks": ""
             }
            },
            "type": "scattermapbox"
           }
          ],
          "scatterpolar": [
           {
            "marker": {
             "colorbar": {
              "outlinewidth": 0,
              "ticks": ""
             }
            },
            "type": "scatterpolar"
           }
          ],
          "scatterpolargl": [
           {
            "marker": {
             "colorbar": {
              "outlinewidth": 0,
              "ticks": ""
             }
            },
            "type": "scatterpolargl"
           }
          ],
          "scatterternary": [
           {
            "marker": {
             "colorbar": {
              "outlinewidth": 0,
              "ticks": ""
             }
            },
            "type": "scatterternary"
           }
          ],
          "surface": [
           {
            "colorbar": {
             "outlinewidth": 0,
             "ticks": ""
            },
            "colorscale": [
             [
              0,
              "#0d0887"
             ],
             [
              0.1111111111111111,
              "#46039f"
             ],
             [
              0.2222222222222222,
              "#7201a8"
             ],
             [
              0.3333333333333333,
              "#9c179e"
             ],
             [
              0.4444444444444444,
              "#bd3786"
             ],
             [
              0.5555555555555556,
              "#d8576b"
             ],
             [
              0.6666666666666666,
              "#ed7953"
             ],
             [
              0.7777777777777778,
              "#fb9f3a"
             ],
             [
              0.8888888888888888,
              "#fdca26"
             ],
             [
              1,
              "#f0f921"
             ]
            ],
            "type": "surface"
           }
          ],
          "table": [
           {
            "cells": {
             "fill": {
              "color": "#EBF0F8"
             },
             "line": {
              "color": "white"
             }
            },
            "header": {
             "fill": {
              "color": "#C8D4E3"
             },
             "line": {
              "color": "white"
             }
            },
            "type": "table"
           }
          ]
         },
         "layout": {
          "annotationdefaults": {
           "arrowcolor": "#2a3f5f",
           "arrowhead": 0,
           "arrowwidth": 1
          },
          "autotypenumbers": "strict",
          "coloraxis": {
           "colorbar": {
            "outlinewidth": 0,
            "ticks": ""
           }
          },
          "colorscale": {
           "diverging": [
            [
             0,
             "#8e0152"
            ],
            [
             0.1,
             "#c51b7d"
            ],
            [
             0.2,
             "#de77ae"
            ],
            [
             0.3,
             "#f1b6da"
            ],
            [
             0.4,
             "#fde0ef"
            ],
            [
             0.5,
             "#f7f7f7"
            ],
            [
             0.6,
             "#e6f5d0"
            ],
            [
             0.7,
             "#b8e186"
            ],
            [
             0.8,
             "#7fbc41"
            ],
            [
             0.9,
             "#4d9221"
            ],
            [
             1,
             "#276419"
            ]
           ],
           "sequential": [
            [
             0,
             "#0d0887"
            ],
            [
             0.1111111111111111,
             "#46039f"
            ],
            [
             0.2222222222222222,
             "#7201a8"
            ],
            [
             0.3333333333333333,
             "#9c179e"
            ],
            [
             0.4444444444444444,
             "#bd3786"
            ],
            [
             0.5555555555555556,
             "#d8576b"
            ],
            [
             0.6666666666666666,
             "#ed7953"
            ],
            [
             0.7777777777777778,
             "#fb9f3a"
            ],
            [
             0.8888888888888888,
             "#fdca26"
            ],
            [
             1,
             "#f0f921"
            ]
           ],
           "sequentialminus": [
            [
             0,
             "#0d0887"
            ],
            [
             0.1111111111111111,
             "#46039f"
            ],
            [
             0.2222222222222222,
             "#7201a8"
            ],
            [
             0.3333333333333333,
             "#9c179e"
            ],
            [
             0.4444444444444444,
             "#bd3786"
            ],
            [
             0.5555555555555556,
             "#d8576b"
            ],
            [
             0.6666666666666666,
             "#ed7953"
            ],
            [
             0.7777777777777778,
             "#fb9f3a"
            ],
            [
             0.8888888888888888,
             "#fdca26"
            ],
            [
             1,
             "#f0f921"
            ]
           ]
          },
          "colorway": [
           "#636efa",
           "#EF553B",
           "#00cc96",
           "#ab63fa",
           "#FFA15A",
           "#19d3f3",
           "#FF6692",
           "#B6E880",
           "#FF97FF",
           "#FECB52"
          ],
          "font": {
           "color": "#2a3f5f"
          },
          "geo": {
           "bgcolor": "white",
           "lakecolor": "white",
           "landcolor": "#E5ECF6",
           "showlakes": true,
           "showland": true,
           "subunitcolor": "white"
          },
          "hoverlabel": {
           "align": "left"
          },
          "hovermode": "closest",
          "mapbox": {
           "style": "light"
          },
          "paper_bgcolor": "white",
          "plot_bgcolor": "#E5ECF6",
          "polar": {
           "angularaxis": {
            "gridcolor": "white",
            "linecolor": "white",
            "ticks": ""
           },
           "bgcolor": "#E5ECF6",
           "radialaxis": {
            "gridcolor": "white",
            "linecolor": "white",
            "ticks": ""
           }
          },
          "scene": {
           "xaxis": {
            "backgroundcolor": "#E5ECF6",
            "gridcolor": "white",
            "gridwidth": 2,
            "linecolor": "white",
            "showbackground": true,
            "ticks": "",
            "zerolinecolor": "white"
           },
           "yaxis": {
            "backgroundcolor": "#E5ECF6",
            "gridcolor": "white",
            "gridwidth": 2,
            "linecolor": "white",
            "showbackground": true,
            "ticks": "",
            "zerolinecolor": "white"
           },
           "zaxis": {
            "backgroundcolor": "#E5ECF6",
            "gridcolor": "white",
            "gridwidth": 2,
            "linecolor": "white",
            "showbackground": true,
            "ticks": "",
            "zerolinecolor": "white"
           }
          },
          "shapedefaults": {
           "line": {
            "color": "#2a3f5f"
           }
          },
          "ternary": {
           "aaxis": {
            "gridcolor": "white",
            "linecolor": "white",
            "ticks": ""
           },
           "baxis": {
            "gridcolor": "white",
            "linecolor": "white",
            "ticks": ""
           },
           "bgcolor": "#E5ECF6",
           "caxis": {
            "gridcolor": "white",
            "linecolor": "white",
            "ticks": ""
           }
          },
          "title": {
           "x": 0.05
          },
          "xaxis": {
           "automargin": true,
           "gridcolor": "white",
           "linecolor": "white",
           "ticks": "",
           "title": {
            "standoff": 15
           },
           "zerolinecolor": "white",
           "zerolinewidth": 2
          },
          "yaxis": {
           "automargin": true,
           "gridcolor": "white",
           "linecolor": "white",
           "ticks": "",
           "title": {
            "standoff": 15
           },
           "zerolinecolor": "white",
           "zerolinewidth": 2
          }
         }
        },
        "title": {
         "text": "Etiquetas únicas por clase"
        },
        "width": 600,
        "xaxis": {
         "anchor": "y",
         "domain": [
          0,
          1
         ],
         "title": {
          "text": "Clase"
         }
        },
        "yaxis": {
         "anchor": "x",
         "domain": [
          0,
          1
         ],
         "title": {
          "text": "sum of Etiquetas"
         }
        }
       }
      },
      "text/html": [
       "<div>                            <div id=\"43d22073-ef58-4c03-a976-13066776bfb9\" class=\"plotly-graph-div\" style=\"height:400px; width:600px;\"></div>            <script type=\"text/javascript\">                require([\"plotly\"], function(Plotly) {                    window.PLOTLYENV=window.PLOTLYENV || {};                                    if (document.getElementById(\"43d22073-ef58-4c03-a976-13066776bfb9\")) {                    Plotly.newPlot(                        \"43d22073-ef58-4c03-a976-13066776bfb9\",                        [{\"alignmentgroup\":\"True\",\"bingroup\":\"x\",\"histfunc\":\"sum\",\"hovertemplate\":\"Clase=%{x}<br>sum of Etiquetas=%{y}<extra></extra>\",\"legendgroup\":\"\",\"marker\":{\"color\":\"#636efa\",\"pattern\":{\"shape\":\"\"}},\"name\":\"\",\"offsetgroup\":\"\",\"orientation\":\"v\",\"showlegend\":false,\"x\":[\"circular ornaments\",\"lozenge\",\"pictographics\",\"rectangular ornaments\",\"strokes and lines\",\"triangular ornaments\"],\"xaxis\":\"x\",\"y\":[57,19,17,56,20,51],\"yaxis\":\"y\",\"type\":\"histogram\"}],                        {\"template\":{\"data\":{\"histogram2dcontour\":[{\"type\":\"histogram2dcontour\",\"colorbar\":{\"outlinewidth\":0,\"ticks\":\"\"},\"colorscale\":[[0.0,\"#0d0887\"],[0.1111111111111111,\"#46039f\"],[0.2222222222222222,\"#7201a8\"],[0.3333333333333333,\"#9c179e\"],[0.4444444444444444,\"#bd3786\"],[0.5555555555555556,\"#d8576b\"],[0.6666666666666666,\"#ed7953\"],[0.7777777777777778,\"#fb9f3a\"],[0.8888888888888888,\"#fdca26\"],[1.0,\"#f0f921\"]]}],\"choropleth\":[{\"type\":\"choropleth\",\"colorbar\":{\"outlinewidth\":0,\"ticks\":\"\"}}],\"histogram2d\":[{\"type\":\"histogram2d\",\"colorbar\":{\"outlinewidth\":0,\"ticks\":\"\"},\"colorscale\":[[0.0,\"#0d0887\"],[0.1111111111111111,\"#46039f\"],[0.2222222222222222,\"#7201a8\"],[0.3333333333333333,\"#9c179e\"],[0.4444444444444444,\"#bd3786\"],[0.5555555555555556,\"#d8576b\"],[0.6666666666666666,\"#ed7953\"],[0.7777777777777778,\"#fb9f3a\"],[0.8888888888888888,\"#fdca26\"],[1.0,\"#f0f921\"]]}],\"heatmap\":[{\"type\":\"heatmap\",\"colorbar\":{\"outlinewidth\":0,\"ticks\":\"\"},\"colorscale\":[[0.0,\"#0d0887\"],[0.1111111111111111,\"#46039f\"],[0.2222222222222222,\"#7201a8\"],[0.3333333333333333,\"#9c179e\"],[0.4444444444444444,\"#bd3786\"],[0.5555555555555556,\"#d8576b\"],[0.6666666666666666,\"#ed7953\"],[0.7777777777777778,\"#fb9f3a\"],[0.8888888888888888,\"#fdca26\"],[1.0,\"#f0f921\"]]}],\"heatmapgl\":[{\"type\":\"heatmapgl\",\"colorbar\":{\"outlinewidth\":0,\"ticks\":\"\"},\"colorscale\":[[0.0,\"#0d0887\"],[0.1111111111111111,\"#46039f\"],[0.2222222222222222,\"#7201a8\"],[0.3333333333333333,\"#9c179e\"],[0.4444444444444444,\"#bd3786\"],[0.5555555555555556,\"#d8576b\"],[0.6666666666666666,\"#ed7953\"],[0.7777777777777778,\"#fb9f3a\"],[0.8888888888888888,\"#fdca26\"],[1.0,\"#f0f921\"]]}],\"contourcarpet\":[{\"type\":\"contourcarpet\",\"colorbar\":{\"outlinewidth\":0,\"ticks\":\"\"}}],\"contour\":[{\"type\":\"contour\",\"colorbar\":{\"outlinewidth\":0,\"ticks\":\"\"},\"colorscale\":[[0.0,\"#0d0887\"],[0.1111111111111111,\"#46039f\"],[0.2222222222222222,\"#7201a8\"],[0.3333333333333333,\"#9c179e\"],[0.4444444444444444,\"#bd3786\"],[0.5555555555555556,\"#d8576b\"],[0.6666666666666666,\"#ed7953\"],[0.7777777777777778,\"#fb9f3a\"],[0.8888888888888888,\"#fdca26\"],[1.0,\"#f0f921\"]]}],\"surface\":[{\"type\":\"surface\",\"colorbar\":{\"outlinewidth\":0,\"ticks\":\"\"},\"colorscale\":[[0.0,\"#0d0887\"],[0.1111111111111111,\"#46039f\"],[0.2222222222222222,\"#7201a8\"],[0.3333333333333333,\"#9c179e\"],[0.4444444444444444,\"#bd3786\"],[0.5555555555555556,\"#d8576b\"],[0.6666666666666666,\"#ed7953\"],[0.7777777777777778,\"#fb9f3a\"],[0.8888888888888888,\"#fdca26\"],[1.0,\"#f0f921\"]]}],\"mesh3d\":[{\"type\":\"mesh3d\",\"colorbar\":{\"outlinewidth\":0,\"ticks\":\"\"}}],\"scatter\":[{\"fillpattern\":{\"fillmode\":\"overlay\",\"size\":10,\"solidity\":0.2},\"type\":\"scatter\"}],\"parcoords\":[{\"type\":\"parcoords\",\"line\":{\"colorbar\":{\"outlinewidth\":0,\"ticks\":\"\"}}}],\"scatterpolargl\":[{\"type\":\"scatterpolargl\",\"marker\":{\"colorbar\":{\"outlinewidth\":0,\"ticks\":\"\"}}}],\"bar\":[{\"error_x\":{\"color\":\"#2a3f5f\"},\"error_y\":{\"color\":\"#2a3f5f\"},\"marker\":{\"line\":{\"color\":\"#E5ECF6\",\"width\":0.5},\"pattern\":{\"fillmode\":\"overlay\",\"size\":10,\"solidity\":0.2}},\"type\":\"bar\"}],\"scattergeo\":[{\"type\":\"scattergeo\",\"marker\":{\"colorbar\":{\"outlinewidth\":0,\"ticks\":\"\"}}}],\"scatterpolar\":[{\"type\":\"scatterpolar\",\"marker\":{\"colorbar\":{\"outlinewidth\":0,\"ticks\":\"\"}}}],\"histogram\":[{\"marker\":{\"pattern\":{\"fillmode\":\"overlay\",\"size\":10,\"solidity\":0.2}},\"type\":\"histogram\"}],\"scattergl\":[{\"type\":\"scattergl\",\"marker\":{\"colorbar\":{\"outlinewidth\":0,\"ticks\":\"\"}}}],\"scatter3d\":[{\"type\":\"scatter3d\",\"line\":{\"colorbar\":{\"outlinewidth\":0,\"ticks\":\"\"}},\"marker\":{\"colorbar\":{\"outlinewidth\":0,\"ticks\":\"\"}}}],\"scattermapbox\":[{\"type\":\"scattermapbox\",\"marker\":{\"colorbar\":{\"outlinewidth\":0,\"ticks\":\"\"}}}],\"scatterternary\":[{\"type\":\"scatterternary\",\"marker\":{\"colorbar\":{\"outlinewidth\":0,\"ticks\":\"\"}}}],\"scattercarpet\":[{\"type\":\"scattercarpet\",\"marker\":{\"colorbar\":{\"outlinewidth\":0,\"ticks\":\"\"}}}],\"carpet\":[{\"aaxis\":{\"endlinecolor\":\"#2a3f5f\",\"gridcolor\":\"white\",\"linecolor\":\"white\",\"minorgridcolor\":\"white\",\"startlinecolor\":\"#2a3f5f\"},\"baxis\":{\"endlinecolor\":\"#2a3f5f\",\"gridcolor\":\"white\",\"linecolor\":\"white\",\"minorgridcolor\":\"white\",\"startlinecolor\":\"#2a3f5f\"},\"type\":\"carpet\"}],\"table\":[{\"cells\":{\"fill\":{\"color\":\"#EBF0F8\"},\"line\":{\"color\":\"white\"}},\"header\":{\"fill\":{\"color\":\"#C8D4E3\"},\"line\":{\"color\":\"white\"}},\"type\":\"table\"}],\"barpolar\":[{\"marker\":{\"line\":{\"color\":\"#E5ECF6\",\"width\":0.5},\"pattern\":{\"fillmode\":\"overlay\",\"size\":10,\"solidity\":0.2}},\"type\":\"barpolar\"}],\"pie\":[{\"automargin\":true,\"type\":\"pie\"}]},\"layout\":{\"autotypenumbers\":\"strict\",\"colorway\":[\"#636efa\",\"#EF553B\",\"#00cc96\",\"#ab63fa\",\"#FFA15A\",\"#19d3f3\",\"#FF6692\",\"#B6E880\",\"#FF97FF\",\"#FECB52\"],\"font\":{\"color\":\"#2a3f5f\"},\"hovermode\":\"closest\",\"hoverlabel\":{\"align\":\"left\"},\"paper_bgcolor\":\"white\",\"plot_bgcolor\":\"#E5ECF6\",\"polar\":{\"bgcolor\":\"#E5ECF6\",\"angularaxis\":{\"gridcolor\":\"white\",\"linecolor\":\"white\",\"ticks\":\"\"},\"radialaxis\":{\"gridcolor\":\"white\",\"linecolor\":\"white\",\"ticks\":\"\"}},\"ternary\":{\"bgcolor\":\"#E5ECF6\",\"aaxis\":{\"gridcolor\":\"white\",\"linecolor\":\"white\",\"ticks\":\"\"},\"baxis\":{\"gridcolor\":\"white\",\"linecolor\":\"white\",\"ticks\":\"\"},\"caxis\":{\"gridcolor\":\"white\",\"linecolor\":\"white\",\"ticks\":\"\"}},\"coloraxis\":{\"colorbar\":{\"outlinewidth\":0,\"ticks\":\"\"}},\"colorscale\":{\"sequential\":[[0.0,\"#0d0887\"],[0.1111111111111111,\"#46039f\"],[0.2222222222222222,\"#7201a8\"],[0.3333333333333333,\"#9c179e\"],[0.4444444444444444,\"#bd3786\"],[0.5555555555555556,\"#d8576b\"],[0.6666666666666666,\"#ed7953\"],[0.7777777777777778,\"#fb9f3a\"],[0.8888888888888888,\"#fdca26\"],[1.0,\"#f0f921\"]],\"sequentialminus\":[[0.0,\"#0d0887\"],[0.1111111111111111,\"#46039f\"],[0.2222222222222222,\"#7201a8\"],[0.3333333333333333,\"#9c179e\"],[0.4444444444444444,\"#bd3786\"],[0.5555555555555556,\"#d8576b\"],[0.6666666666666666,\"#ed7953\"],[0.7777777777777778,\"#fb9f3a\"],[0.8888888888888888,\"#fdca26\"],[1.0,\"#f0f921\"]],\"diverging\":[[0,\"#8e0152\"],[0.1,\"#c51b7d\"],[0.2,\"#de77ae\"],[0.3,\"#f1b6da\"],[0.4,\"#fde0ef\"],[0.5,\"#f7f7f7\"],[0.6,\"#e6f5d0\"],[0.7,\"#b8e186\"],[0.8,\"#7fbc41\"],[0.9,\"#4d9221\"],[1,\"#276419\"]]},\"xaxis\":{\"gridcolor\":\"white\",\"linecolor\":\"white\",\"ticks\":\"\",\"title\":{\"standoff\":15},\"zerolinecolor\":\"white\",\"automargin\":true,\"zerolinewidth\":2},\"yaxis\":{\"gridcolor\":\"white\",\"linecolor\":\"white\",\"ticks\":\"\",\"title\":{\"standoff\":15},\"zerolinecolor\":\"white\",\"automargin\":true,\"zerolinewidth\":2},\"scene\":{\"xaxis\":{\"backgroundcolor\":\"#E5ECF6\",\"gridcolor\":\"white\",\"linecolor\":\"white\",\"showbackground\":true,\"ticks\":\"\",\"zerolinecolor\":\"white\",\"gridwidth\":2},\"yaxis\":{\"backgroundcolor\":\"#E5ECF6\",\"gridcolor\":\"white\",\"linecolor\":\"white\",\"showbackground\":true,\"ticks\":\"\",\"zerolinecolor\":\"white\",\"gridwidth\":2},\"zaxis\":{\"backgroundcolor\":\"#E5ECF6\",\"gridcolor\":\"white\",\"linecolor\":\"white\",\"showbackground\":true,\"ticks\":\"\",\"zerolinecolor\":\"white\",\"gridwidth\":2}},\"shapedefaults\":{\"line\":{\"color\":\"#2a3f5f\"}},\"annotationdefaults\":{\"arrowcolor\":\"#2a3f5f\",\"arrowhead\":0,\"arrowwidth\":1},\"geo\":{\"bgcolor\":\"white\",\"landcolor\":\"#E5ECF6\",\"subunitcolor\":\"white\",\"showland\":true,\"showlakes\":true,\"lakecolor\":\"white\"},\"title\":{\"x\":0.05},\"mapbox\":{\"style\":\"light\"}}},\"xaxis\":{\"anchor\":\"y\",\"domain\":[0.0,1.0],\"title\":{\"text\":\"Clase\"}},\"yaxis\":{\"anchor\":\"x\",\"domain\":[0.0,1.0],\"title\":{\"text\":\"sum of Etiquetas\"}},\"legend\":{\"tracegroupgap\":0},\"margin\":{\"t\":60},\"barmode\":\"relative\",\"height\":400,\"width\":600,\"title\":{\"text\":\"Etiquetas \\u00fanicas por clase\"}},                        {\"responsive\": true}                    ).then(function(){\n",
       "                            \n",
       "var gd = document.getElementById('43d22073-ef58-4c03-a976-13066776bfb9');\n",
       "var x = new MutationObserver(function (mutations, observer) {{\n",
       "        var display = window.getComputedStyle(gd).display;\n",
       "        if (!display || display === 'none') {{\n",
       "            console.log([gd, 'removed!']);\n",
       "            Plotly.purge(gd);\n",
       "            observer.disconnect();\n",
       "        }}\n",
       "}});\n",
       "\n",
       "// Listen for the removal of the full notebook cells\n",
       "var notebookContainer = gd.closest('#notebook-container');\n",
       "if (notebookContainer) {{\n",
       "    x.observe(notebookContainer, {childList: true});\n",
       "}}\n",
       "\n",
       "// Listen for the clearing of the current output cell\n",
       "var outputEl = gd.closest('.output');\n",
       "if (outputEl) {{\n",
       "    x.observe(outputEl, {childList: true});\n",
       "}}\n",
       "\n",
       "                        })                };                });            </script>        </div>"
      ]
     },
     "metadata": {},
     "output_type": "display_data"
    }
   ],
   "source": [
    "import plotly.express as px\n",
    "fig = px.histogram(labels_qty, x='Clase', y = 'Etiquetas', width=600, height=400)\n",
    "fig.update_layout(title_text='Etiquetas únicas por clase')\n",
    "fig.show()"
   ]
  },
  {
   "cell_type": "code",
   "execution_count": null,
   "metadata": {
    "pycharm": {
     "name": "#%%\n"
    }
   },
   "outputs": [],
   "source": []
  },
  {
   "cell_type": "markdown",
   "metadata": {},
   "source": [
    "---"
   ]
  },
  {
   "cell_type": "code",
   "execution_count": 44,
   "metadata": {},
   "outputs": [],
   "source": [
    "import os\n",
    "import pickle\n",
    "import numpy as np\n",
    "import pandas as pd\n",
    "import random\n",
    "import matplotlib.pyplot as plt\n",
    "#import torch\n",
    "#import torch.nn as nn\n",
    "#import torchvision\n",
    "#import torchvision.transforms as transforms\n",
    "from PIL import Image\n",
    "#import torchvision.models as models\n",
    "import math\n",
    "#from torch.nn.utils.rnn import pack_padded_sequence\n",
    "from sklearn.metrics import accuracy_score,hamming_loss, accuracy_score, f1_score, precision_score, recall_score\n",
    "\n",
    "%matplotlib inline\n",
    "from matplotlib import pyplot as plt\n",
    "import seaborn as sns\n",
    "\n",
    "from sklearn.metrics import multilabel_confusion_matrix, ConfusionMatrixDisplay\n",
    "from sklearn.metrics import classification_report"
   ]
  },
  {
   "cell_type": "code",
   "execution_count": 37,
   "metadata": {},
   "outputs": [],
   "source": [
    "root_dir = \"..\"\n",
    "SUBCHAPTERS = False\n",
    "DS_FLAGS = ['blur']\n",
    "              # 'ref': [invertX, invertY],\n",
    "              # 'rot': [rotate90, rotate180, rotate270],\n",
    "              # 'crop': [crop] * CROP_TIMES,\n",
    "              # 'blur': [blur],\n",
    "              # 'gausblur': [gausblur]\n",
    "              # 'msblur': [msblur]\n",
    "              # 'mtnblur': [mtnblur]\n",
    "              # 'emboss': [emboss],\n",
    "              # 'randaug': [randaug],\n",
    "              # 'rain': [rain],\n",
    "              # 'elastic': [elastic]\n",
    "CROP_TIMES = 2\n",
    "RANDOM_TIMES = 1\n",
    "ELASTIC_TIMES = 1\n",
    "GAUSBLUR_TIMES = 1\n",
    "\n",
    "use_pos_weights = True\n",
    "pos_weights_factor = 1\n",
    "NUM_LABELS = 26\n",
    "use_testval = True\n",
    "\n",
    "# para relela: 0 es 3090, 1 y 2 son 2080\n",
    "# para local: 0 es 1060ti\n",
    "CUDA_ID = 0"
   ]
  },
  {
   "cell_type": "code",
   "execution_count": 38,
   "metadata": {},
   "outputs": [
    {
     "name": "stdout",
     "output_type": "stream",
     "text": [
      "Patterns set encontrado en ..\\patterns\\blur\n",
      "Labels set encontrado en ..\\labels\\blur\n",
      "Nombre del experimento: 26L_testval_weighted_1\n",
      "Las predicciones se cargarán desde: ..\\outputs\\alexnet\\blur\\26L_testval_weighted_1\\predictions.csv\n"
     ]
    }
   ],
   "source": [
    "# This cells builds the data_flags variable, that will be used\n",
    "# to map the requested data treatment to folders\n",
    "MAP_TIMES = {'crop': CROP_TIMES,\n",
    "         'randaug': RANDOM_TIMES,\n",
    "         'elastic': ELASTIC_TIMES,\n",
    "         'gausblur': GAUSBLUR_TIMES,\n",
    "}\n",
    "\n",
    "DS_FLAGS = sorted(DS_FLAGS)\n",
    "data_flags = '_'.join(DS_FLAGS) if len(DS_FLAGS) > 0 else 'base'\n",
    "MULTIPLE_TRANSF = ['crop', 'randaug', 'elastic', 'gausblur']\n",
    "COPY_FLAGS = DS_FLAGS.copy()\n",
    "\n",
    "for t in MULTIPLE_TRANSF:\n",
    "    if t in DS_FLAGS:\n",
    "        COPY_FLAGS.remove(t)\n",
    "        COPY_FLAGS.append(t + str(MAP_TIMES[t]))\n",
    "        data_flags = '_'.join(COPY_FLAGS)\n",
    "\n",
    "patterns_path = os.path.join(root_dir, 'patterns', data_flags) \n",
    "labels_path = os.path.join(root_dir, 'labels', data_flags)\n",
    "\n",
    "if not (os.path.isdir(patterns_path) and os.path.isdir(labels_path)):\n",
    "    raise FileNotFoundError(\"No existen directorios de datos para el conjunto de flags seleccionado. Verifique que el dataset exista en {}\".format(\n",
    "        (os.path.isdir(patterns_path), os.path.isdir(labels_path))))\n",
    "print(\"Patterns set encontrado en {}\".format(patterns_path))\n",
    "print(\"Labels set encontrado en {}\".format(labels_path))\n",
    "\n",
    "exp_name = f\"{NUM_LABELS}L\"\n",
    "exp_name += \"_testval\" if use_testval else \"\"\n",
    "weights_str = str(pos_weights_factor)\n",
    "weights_str = weights_str.replace('.','_')\n",
    "exp_name += f'_weighted_{weights_str}' if use_pos_weights else ''\n",
    "print(f\"Nombre del experimento: {exp_name}\")\n",
    "\n",
    "output_dir = os.path.join(root_dir, \"outputs\", \"alexnet\", data_flags, exp_name)\n",
    "pred_path = os.path.join(output_dir, \"predictions.csv\")\n",
    "print(f\"Las predicciones se cargarán desde: {pred_path}\")"
   ]
  },
  {
   "cell_type": "code",
   "execution_count": 39,
   "metadata": {},
   "outputs": [
    {
     "name": "stderr",
     "output_type": "stream",
     "text": [
      "C:\\Users\\m_jvs\\AppData\\Local\\Temp\\ipykernel_10912\\2348087222.py:4: FutureWarning: The frame.append method is deprecated and will be removed from pandas in a future version. Use pandas.concat instead.\n",
      "  labels_test_val = pd.DataFrame.append(labels_test, labels_val)\n"
     ]
    }
   ],
   "source": [
    "labels_train = pd.read_json(os.path.join(labels_path, 'augmented_train_df.json'), orient='index')\n",
    "labels_val = pd.read_json(os.path.join(labels_path, 'val_df.json'), orient='index')\n",
    "labels_test = pd.read_json(os.path.join(labels_path, 'test_df.json'), orient='index')\n",
    "labels_test_val = pd.DataFrame.append(labels_test, labels_val)"
   ]
  },
  {
   "cell_type": "code",
   "execution_count": 129,
   "metadata": {},
   "outputs": [],
   "source": [
    "def filter_dfs(df, top_labels_df):\n",
    "  df = df[df.columns.intersection(top_labels_df.index)]\n",
    "  return df\n",
    "\n",
    "def print_confusion_matrix(confusion_matrix, axes, class_label, class_names, fontsize=14, normalize=True):\n",
    "    \"\"\"\n",
    "    Prints confusion matrix for multilabel classification.\n",
    "    \"\"\"\n",
    "    df_cm = pd.DataFrame(\n",
    "        confusion_matrix, index=class_names, columns=class_names,\n",
    "    )\n",
    "    if normalize:\n",
    "        df_cm = df_cm / df_cm.sum(axis=0)\n",
    "    heatmap = sns.heatmap(df_cm, annot=True, fmt=\".2f\", cbar=False, ax=axes, cmap='Blues', annot_kws={\"size\": 12})\n",
    "    heatmap.yaxis.set_ticklabels(heatmap.yaxis.get_ticklabels(), rotation=0, ha='right', fontsize=fontsize)\n",
    "    heatmap.xaxis.set_ticklabels(heatmap.xaxis.get_ticklabels(), rotation=45, ha='right', fontsize=fontsize)\n",
    "    axes.set_ylabel('True label')\n",
    "    axes.set_xlabel('Predicted label')\n",
    "    axes.set_title(class_label)\n",
    "\n",
    "def plot_multiple_matrix(cfs_matrix, present_labels, nrows=5, ncols=5, figsize=(6,10), filename=\"results\", normalize=True):\n",
    "  \"\"\"\n",
    "  Plots multiple confusion matrix\n",
    "\n",
    "  Parameters:\n",
    "  cfs_matrix (2D array): an array containing the multiple confusion matrix as\n",
    "                         outcome of multilabel_confusion_matrix()\n",
    "  present_labels (1D array): array of strings with name of labels, in the same\n",
    "                             order as they are in cfs_matrix\n",
    "  nrows, ncols, figsize: number of rows, columns and size of the plot\n",
    "  \n",
    "  \"\"\"\n",
    "  fig, ax = plt.subplots(nrows, ncols, figsize=figsize)\n",
    "\n",
    "  for axes, cfs_vals, label in zip(ax.flatten(), cfs_matrix, present_labels):\n",
    "      print_confusion_matrix(cfs_vals, axes, label, [\"N\", \"Y\"], normalize=normalize)\n",
    "\n",
    "  fig.tight_layout()\n",
    "  plt.show()\n",
    "  #plt.savefig(filename + \".png\")\n",
    "\n",
    "def hamming_score(y_true, y_pred, normalize=True, sample_weight=None):\n",
    "    '''\n",
    "    Compute the Hamming score (a.k.a. label-based accuracy) for the multi-label case\n",
    "    http://stackoverflow.com/q/32239577/395857\n",
    "    '''\n",
    "    acc_list = []\n",
    "    for i in range(y_true.shape[0]):\n",
    "        set_true = set( np.where(y_true[i])[0] )\n",
    "        set_pred = set( np.where(y_pred[i])[0] )\n",
    "        #print('\\nset_true: {0}'.format(set_true))\n",
    "        #print('set_pred: {0}'.format(set_pred))\n",
    "        tmp_a = None\n",
    "        if len(set_true) == 0 and len(set_pred) == 0:\n",
    "            tmp_a = 1\n",
    "        else:\n",
    "            tmp_a = len(set_true.intersection(set_pred))/\\\n",
    "                    float( len(set_true.union(set_pred)) )\n",
    "        #print('tmp_a: {0}'.format(tmp_a))\n",
    "        acc_list.append(tmp_a)\n",
    "    return np.mean(acc_list)"
   ]
  },
  {
   "cell_type": "code",
   "execution_count": 130,
   "metadata": {},
   "outputs": [
    {
     "name": "stdout",
     "output_type": "stream",
     "text": [
      "ATENCIÓN: El archivo de predicciones tiene 26 etiquetas\n",
      "Usando top_labels previamente generados para 26 labels\n",
      "panel            289\n",
      "horizontal       234\n",
      "ornament         123\n",
      "hatched          108\n",
      "vertical         104\n",
      "circle            80\n",
      "metopal           77\n",
      "filling           74\n",
      "lozenge           64\n",
      "enclosing         62\n",
      "double            54\n",
      "cross-hatched     51\n",
      "triangle          49\n",
      "line              42\n",
      "chain             41\n",
      "concentric        40\n",
      "meander           40\n",
      "bar               39\n",
      "dotted            37\n",
      "solid             35\n",
      "dot               34\n",
      "cross             31\n",
      "outline           31\n",
      "single            28\n",
      "hook              27\n",
      "floor             27\n",
      "dtype: int64\n"
     ]
    }
   ],
   "source": [
    "predictions = pd.read_csv(pred_path, index_col=0)\n",
    "predictions = predictions.to_numpy()\n",
    "NUM_LABELS = predictions.shape[1]\n",
    "\n",
    "print(f\"ATENCIÓN: El archivo de predicciones tiene {predictions.shape[1]} etiquetas\")\n",
    "\n",
    "train_labels = pd.read_json(os.path.join(labels_path, 'augmented_train_df.json'), orient='index')\n",
    "if not os.path.isfile(os.path.join(root_dir, 'labels', f'top_{NUM_LABELS}L.pickle')):\n",
    "    raise Exception(\"No se logró cargar top_labels\")\n",
    "else:\n",
    "    print(f\"Usando top_labels previamente generados para {NUM_LABELS} labels\")\n",
    "    with open(os.path.join(root_dir, 'labels', f'top_{NUM_LABELS}L.pickle'), 'rb') as f:\n",
    "        top_labels = pickle.load(f)\n",
    "    print(top_labels)"
   ]
  },
  {
   "cell_type": "code",
   "execution_count": 131,
   "metadata": {},
   "outputs": [
    {
     "name": "stdout",
     "output_type": "stream",
     "text": [
      "               precision    recall  f1-score   support\n",
      "\n",
      "        panel       0.85      0.90      0.87        97\n",
      "   horizontal       0.85      0.85      0.85       119\n",
      "     ornament       0.65      0.78      0.71        36\n",
      "      hatched       0.43      0.69      0.53        13\n",
      "     vertical       0.58      0.85      0.69        33\n",
      "       circle       0.14      0.14      0.14         7\n",
      "      metopal       0.68      0.72      0.70        36\n",
      "      filling       0.67      0.78      0.72        50\n",
      "      lozenge       0.38      0.53      0.44        15\n",
      "    enclosing       0.64      0.95      0.76        39\n",
      "       double       0.43      0.87      0.58        46\n",
      "cross-hatched       0.46      0.62      0.52        26\n",
      "     triangle       0.17      0.12      0.14        17\n",
      "         line       0.33      0.39      0.36        28\n",
      "        chain       0.33      0.12      0.18         8\n",
      "   concentric       0.58      0.50      0.54        14\n",
      "      meander       0.68      0.84      0.75        25\n",
      "          bar       0.33      0.29      0.31        17\n",
      "       dotted       0.53      0.76      0.62        33\n",
      "        solid       0.26      0.50      0.34        10\n",
      "          dot       0.81      0.93      0.87        42\n",
      "        cross       0.50      0.53      0.51        19\n",
      "      outline       0.58      0.81      0.67        36\n",
      "       single       0.71      0.71      0.71        17\n",
      "         hook       0.42      0.56      0.48        18\n",
      "        floor       0.50      1.00      0.67         9\n",
      "\n",
      "    micro avg       0.61      0.75      0.67       810\n",
      "    macro avg       0.52      0.64      0.56       810\n",
      " weighted avg       0.63      0.75      0.67       810\n",
      "  samples avg       0.63      0.75      0.66       810\n",
      "\n",
      "0.5466727716727717\n"
     ]
    },
    {
     "name": "stderr",
     "output_type": "stream",
     "text": [
      "D:\\Programas\\Anaconda3\\envs\\TesisMV38\\lib\\site-packages\\sklearn\\metrics\\_classification.py:1245: UndefinedMetricWarning: Recall and F-score are ill-defined and being set to 0.0 in samples with no true labels. Use `zero_division` parameter to control this behavior.\n",
      "  _warn_prf(average, modifier, msg_start, len(result))\n"
     ]
    }
   ],
   "source": [
    "Y_test = filter_dfs(labels_test_val, top_labels)\n",
    "present_labels = top_labels.index\n",
    "\n",
    "exact_match = accuracy_score(Y_test, predictions)\n",
    "ham_loss = hamming_loss(Y_test, predictions)\n",
    "ham_score = hamming_score(Y_test.values, predictions)\n",
    "result = {\"exact_match\":exact_match,\"hamming_loss\": ham_loss, \"hamming_score\":ham_score}\n",
    "\n",
    "cfs_matrix = multilabel_confusion_matrix(Y_test, predictions)\n",
    "class_report = classification_report(Y_test,\n",
    "                                      predictions,\n",
    "                                      output_dict=False,\n",
    "                                      target_names=present_labels)\n",
    "print(class_report)\n",
    "print(ham_score)"
   ]
  },
  {
   "cell_type": "code",
   "execution_count": 132,
   "metadata": {
    "scrolled": false
   },
   "outputs": [
    {
     "data": {
      "image/png": "[encoded data removed]",
      "text/plain": [
       "<Figure size 720x864 with 30 Axes>"
      ]
     },
     "metadata": {
      "needs_background": "light"
     },
     "output_type": "display_data"
    }
   ],
   "source": [
    "plot_multiple_matrix(cfs_matrix, present_labels, nrows=6, ncols=5, figsize=(10,12), normalize=True)\n",
    "#plot_multiple_matrix(cfs_matrix, present_labels, figsize=(11, 11))"
   ]
  },
  {
   "cell_type": "code",
   "execution_count": 133,
   "metadata": {},
   "outputs": [
    {
     "name": "stdout",
     "output_type": "stream",
     "text": [
      "['--*', '-+', ':x', '-x', ':*', '-.*', '-*', '-.v', '-..', '-.v', ':x', '--+', '--+', '-.+', '--*', ':.', '-.*', '-x', '-*', '-.x']\n"
     ]
    }
   ],
   "source": [
    "# Plotting linemarks\n",
    "ALREADY_RUN = False \n",
    "\n",
    "# This code has to be executed only once in order to have the same linemarks in \n",
    "# each figure\n",
    "if not ALREADY_RUN:\n",
    "  import random\n",
    "  linemark = []\n",
    "  MARKERS = ['.','+','v','x','*']\n",
    "  LINE_STYLES = ['-','--','-.',':']\n",
    "\n",
    "  for i in range(0, 20): \n",
    "    linestyle = LINE_STYLES[random.randint(0, len(LINE_STYLES)-1)]\n",
    "    marker = MARKERS[random.randint(0, len(MARKERS)-1)]\n",
    "    linemark.append (linestyle + marker)  \n",
    "  ALREADY_RUN = True\n",
    "print(linemark)"
   ]
  },
  {
   "cell_type": "code",
   "execution_count": 134,
   "metadata": {},
   "outputs": [],
   "source": [
    "  def plot_results(x, acc = [], loss = [], hscore=[], label=[], title = \"\",\n",
    "                 xlabel = \"\", ylabel = \"\", plot_emr=False, plot_hl=False, plot_hs=True):\n",
    "    \"\"\"plots accuracy, hamming loss and hamming score of multiple classifiers.\n",
    "    \n",
    "    Returns:\n",
    "    DataFrame: filtered labels dataframe\n",
    "\n",
    "    \"\"\"\n",
    "    #assert len(acc) == len(loss) == len(label)\n",
    "    if plot_emr:\n",
    "        f_acc = plt.figure(1)\n",
    "        f_acc.set_figheight(9)\n",
    "        f_acc.set_figwidth(7)\n",
    "        ax1 = f_acc.add_subplot(111)\n",
    "        ax1.set_title(title + \"\\n Accuracy\")\n",
    "        ax1.set_xlabel(xlabel)\n",
    "        ax1.set_ylabel(ylabel)\n",
    "        ax1.set_ylim(0, 1)\n",
    "        for i in range(0, len(acc)):\n",
    "          ax1.plot(x, acc[i],  linemark[i], label=label[i])\n",
    "        ax1.legend()\n",
    "        f_acc.show()\n",
    "    if plot_hl:\n",
    "        f_loss = plt.figure(2)\n",
    "        f_loss.set_figheight(9)\n",
    "        f_loss.set_figwidth(7)\n",
    "        ax2 = f_loss.add_subplot(111)\n",
    "        ax2.set_title(title  + \"\\n Hamming Loss\")\n",
    "        ax2.set_xlabel(xlabel)\n",
    "        ax2.set_ylabel(ylabel)\n",
    "        for i in range(0, len(loss)):\n",
    "          ax2.plot(x, loss[i], linemark[i], label=label[i])\n",
    "        ax2.legend()\n",
    "        f_loss.show()\n",
    "\n",
    "    if plot_hs:\n",
    "        h_score = plt.figure(3)\n",
    "        h_score.set_figheight(9)\n",
    "        h_score.set_figwidth(7)\n",
    "        ax3 = h_score.add_subplot(111)\n",
    "        ax3.set_title(title)\n",
    "        ax3.set_xlabel(xlabel)\n",
    "        ax3.set_ylabel(ylabel)\n",
    "        ax3.set_ylim(0, 0.6)\n",
    "        ax3.grid(which='both')\n",
    "        #ax3.set_xlim(0, 100)\n",
    "        for i in range(0, len(hscore)):\n",
    "          ax3.plot(x, hscore[i], linemark[i], label=label[i])\n",
    "        ax3.legend()\n",
    "        h_score.show()"
   ]
  },
  {
   "cell_type": "code",
   "execution_count": 119,
   "metadata": {},
   "outputs": [
    {
     "name": "stderr",
     "output_type": "stream",
     "text": [
      "C:\\Users\\m_jvs\\AppData\\Local\\Temp\\ipykernel_10912\\2049846631.py:50: UserWarning: Matplotlib is currently using module://matplotlib_inline.backend_inline, which is a non-GUI backend, so cannot show the figure.\n",
      "  h_score.show()\n"
     ]
    },
    {
     "data": {
      "image/png": "[encoded data removed]",
      "text/plain": [
       "<Figure size 504x648 with 1 Axes>"
      ]
     },
     "metadata": {
      "needs_background": "light"
     },
     "output_type": "display_data"
    }
   ],
   "source": [
    "x = [26, 35, 45, 52, 64, 75, 81, 92, 110, 139, 184, 282]\n",
    "hs_base_nw = [0.4493, 0.4048, 0.2478, 0.3407, 0.3434, 0.3150, \n",
    "              0.2560, 0.1637, 0.1510, 0.1510, 0.1438, 0.1246]\n",
    "hs_base_pw = [0.4909, 0.4012, 0.3891, 0.4159, 0.4041, 0.3469,\n",
    "              0.3259, 0.2701, 0.2787, 0.2278, 0.1410, 0.1341]\n",
    "hs_blur_nw = [0.4079, 0.3128, 0.3453, 0.3117, 0.3104, 0.2066,\n",
    "              0.1499, 0.1781, 0.1622, 0.1504, 0.1318, 0.1461]\n",
    "hs_blur_pw = [0.5513, 0.4806, 0.4450, 0.3944, 0.4096, 0.3570,\n",
    "              0.3855, 0.3436, 0.3296, 0.2865, 0.2404, 0.1692]\n",
    "hs = [hs_base_nw, hs_base_pw, hs_blur_nw, hs_blur_pw]\n",
    "labels = [\"Base\", \"Base con P.W\", \"Blur\", \"Blur con P.W.\"]\n",
    "plot_results(x,\n",
    "             hscore = hs,\n",
    "             label = labels,\n",
    "             title = \"Labels v/s Haming Score \\n AlexNet base y blur, con y sin Positive Weighting\",\n",
    "            xlabel = \"Labels a predecir\", ylabel = \"Score\")"
   ]
  },
  {
   "cell_type": "code",
   "execution_count": null,
   "metadata": {},
   "outputs": [],
   "source": []
  }
 ],
 "metadata": {
  "kernelspec": {
   "display_name": "Python 3 (ipykernel)",
   "language": "python",
   "name": "python3"
  },
  "language_info": {
   "codemirror_mode": {
    "name": "ipython",
    "version": 3
   },
   "file_extension": ".py",
   "mimetype": "text/x-python",
   "name": "python",
   "nbconvert_exporter": "python",
   "pygments_lexer": "ipython3",
   "version": "3.8.13"
  }
 },
 "nbformat": 4,
 "nbformat_minor": 1
}

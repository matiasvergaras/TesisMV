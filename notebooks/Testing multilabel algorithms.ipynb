{
 "cells": [
  {
   "cell_type": "markdown",
   "metadata": {
    "id": "mfVsYGbUvljh",
    "pycharm": {
     "name": "#%% md\n"
    }
   },
   "source": [
    "# Aprendizaje Multietiqueta de Patrones Geométricos en Objetos de Herencia Cultural\n",
    "# Testing multilabel algorithms\n",
    "## Seminario de Tesis II, Primavera 2022\n",
    "### Master of Data Science. Universidad de Chile.\n",
    "#### Prof. guía: Benjamín Bustos - Prof. coguía: Iván Sipirán\n",
    "#### Autor: Matías Vergara\n",
    "\n",
    "### References:\n",
    "\n",
    "Zhang, M. L., Li, Y. K., Liu, X. Y., & Geng, X. (2018). Binary relevance for multi-label learning: an overview. Frontiers of Computer Science, 12(2), 191–202.\n",
    "https://doi.org/10.1007/s11704-017-7031-7\n",
    "\n",
    "Kariuki C. Multi-Label Classification with Scikit-MultiLearn. \n",
    "https://www.section.io/engineering-education/multi-label-classification-with-scikit-multilearn/"
   ]
  },
  {
   "cell_type": "markdown",
   "metadata": {
    "id": "WTfDx7KQNSge",
    "pycharm": {
     "name": "#%% md\n"
    }
   },
   "source": [
    "## Mounting Google Drive\n",
    "\n"
   ]
  },
  {
   "cell_type": "code",
   "execution_count": 6,
   "metadata": {
    "colab": {
     "base_uri": "https://localhost:8080/"
    },
    "id": "e_3pn5b9NWw4",
    "outputId": "13583212-a123-4411-8252-2e4a4c7cc38c",
    "pycharm": {
     "name": "#%%\n"
    }
   },
   "outputs": [],
   "source": [
    "# Mounting google Drive\n",
    "try:\n",
    "    from google.colab import drive\n",
    "    drive.mount('/content/drive')\n",
    "    folder_path = 'drive/MyDrive/TesisMV/'\n",
    "except:\n",
    "    folder_path = '../'"
   ]
  },
  {
   "cell_type": "code",
   "execution_count": 7,
   "metadata": {
    "colab": {
     "base_uri": "https://localhost:8080/"
    },
    "id": "ydF48dwNN750",
    "outputId": "2bf523f6-01f4-41b3-b73e-faa3a64245e4",
    "pycharm": {
     "name": "#%%\n"
    }
   },
   "outputs": [
    {
     "data": {
      "text/plain": "['.git',\n '.gitignore',\n '.idea',\n 'actas',\n 'entregables',\n 'features',\n 'graficos',\n 'labels',\n 'models',\n 'notebooks',\n 'patterns',\n 'presentaciones',\n 'README.md',\n 'requirements.txt',\n 'tablas']"
     },
     "execution_count": 7,
     "metadata": {},
     "output_type": "execute_result"
    }
   ],
   "source": [
    "import os\n",
    "os.listdir(folder_path)"
   ]
  },
  {
   "cell_type": "markdown",
   "metadata": {
    "id": "NfgyZ72EIe2T",
    "pycharm": {
     "name": "#%% md\n"
    }
   },
   "source": [
    "## Dataset and model selection"
   ]
  },
  {
   "cell_type": "code",
   "execution_count": 8,
   "metadata": {
    "pycharm": {
     "name": "#%%\n"
    }
   },
   "outputs": [],
   "source": [
    "#modify only this cell\n",
    "USE_RN50 = False\n",
    "SUBCHAPTERS = False\n",
    "DS_FLAGS = ['base']\n",
    "              # 'ref': [invertX, invertY],\n",
    "              # 'rot': [rotate90, rotate180, rotate270],\n",
    "              # 'crop': [crop] * CROP_TIMES,\n",
    "              # 'blur': [blur],\n",
    "              # 'emboss': [emboss],\n",
    "              # 'randaug': [randaug],\n",
    "              # 'rain': [rain],\n",
    "              # 'elastic': [elastic]\n",
    "CROP_TIMES = 2\n",
    "RANDOM_TIMES = 2\n",
    "ELASTIC_TIMES = 3"
   ]
  },
  {
   "cell_type": "code",
   "execution_count": 9,
   "metadata": {
    "pycharm": {
     "name": "#%%\n"
    }
   },
   "outputs": [
    {
     "name": "stdout",
     "output_type": "stream",
     "text": [
      "../features/resnet18_base/\n",
      "../labels/base/\n",
      "Features set encontrado en ../features/resnet18_base/\n",
      "Labels set encontrado en ../labels/base/\n"
     ]
    }
   ],
   "source": [
    "# This cells builds the data_flags variable, that will be used\n",
    "# to map the requested data treatment to folders\n",
    "MAP_TIMES = {'crop': CROP_TIMES,\n",
    "         'randaug': RANDOM_TIMES,\n",
    "         'elastic': ELASTIC_TIMES,\n",
    "}\n",
    "\n",
    "DS_FLAGS = sorted(DS_FLAGS)\n",
    "data_flags = '_'.join(DS_FLAGS) if len(DS_FLAGS) > 0 else 'base'\n",
    "MULTIPLE_TRANSF = ['crop', 'randaug', 'elastic']\n",
    "COPY_FLAGS = DS_FLAGS.copy()\n",
    "\n",
    "for t in MULTIPLE_TRANSF:\n",
    "    if t in DS_FLAGS:\n",
    "        COPY_FLAGS.remove(t)\n",
    "        COPY_FLAGS.append(t + str(MAP_TIMES[t]))\n",
    "        data_flags = '_'.join(COPY_FLAGS)\n",
    "\n",
    "subchapter_str = 'subchapters/' if SUBCHAPTERS else ''\n",
    "patterns_path = folder_path + 'patterns/' + subchapter_str + data_flags + \"/\"\n",
    "labels_path = folder_path + 'labels/' +  subchapter_str + data_flags + \"/\"\n",
    "data_flags = f'resnet50_{data_flags}' if USE_RN50 else f'resnet18_{data_flags}'\n",
    "features_path = folder_path + \"features/\" + subchapter_str + data_flags + '/'\n",
    "\n",
    "#rn = 18\n",
    "#ep = 65\n",
    "#labels_path = folder_path + 'labels/' +  subchapter_str + data_flags + \"/\"\n",
    "#data_flags = f'resnet50_{data_flags}_e{ep}' if USE_RN50 else f'resnet18_{data_flags}_e{ep}'\n",
    "#features_path = folder_path + f\"features/resnet{rn}_blur_each5/resnet{rn}_blur_e{ep}/\"\n",
    "\n",
    "print(features_path)\n",
    "print(labels_path)\n",
    "if not (os.path.isdir(features_path) and os.path.isdir(labels_path)):\n",
    "    raise FileNotFoundError(\"No existen directorios de datos para el conjunto de flags seleccionado. Verifique que el dataset exista y, de lo contrario, llame a Split and Augmentation {}\".format(\n",
    "        (os.path.isdir(features_path), os.path.isdir(labels_path))))\n",
    "print(\"Features set encontrado en {}\".format(features_path))\n",
    "print(\"Labels set encontrado en {}\".format(labels_path))"
   ]
  },
  {
   "cell_type": "code",
   "execution_count": 10,
   "metadata": {
    "id": "AIzpoX8OgaRp",
    "pycharm": {
     "name": "#%%\n"
    }
   },
   "outputs": [],
   "source": [
    "train_filename = \"augmented_train_df.json\"\n",
    "val_filename = \"val_df.json\"\n",
    "test_filename = \"test_df.json\""
   ]
  },
  {
   "cell_type": "markdown",
   "metadata": {
    "id": "uoIL884OLSsI",
    "pycharm": {
     "name": "#%% md\n"
    }
   },
   "source": [
    "# Imports"
   ]
  },
  {
   "cell_type": "code",
   "execution_count": 11,
   "metadata": {
    "colab": {
     "base_uri": "https://localhost:8080/"
    },
    "id": "J2k60JTdLT4u",
    "outputId": "f7223b23-11cb-435d-d99b-340a075d9f35",
    "pycharm": {
     "name": "#%%\n"
    }
   },
   "outputs": [],
   "source": [
    "def warn(*args, **kwargs):\n",
    "    pass\n",
    "import warnings\n",
    "warnings.warn = warn\n",
    "\n",
    "# Data treatment\n",
    "import pandas as pd\n",
    "import numpy as np\n",
    "from scipy import sparse\n",
    "from sklearn.model_selection import train_test_split\n",
    "\n",
    "# Base classifiers\n",
    "from sklearn.naive_bayes import GaussianNB, MultinomialNB\n",
    "from sklearn.metrics import accuracy_score,hamming_loss\n",
    "from sklearn.linear_model import LogisticRegression\n",
    "from sklearn import svm\n",
    "from sklearn import tree\n",
    "\n",
    "# Multilabel classifiers - Problem Transformation\n",
    "from skmultilearn.problem_transform import BinaryRelevance\n",
    "from skmultilearn.problem_transform import ClassifierChain\n",
    "from skmultilearn.problem_transform import LabelPowerset\n",
    "from skmultilearn.ensemble import RakelD\n",
    "\n",
    "# Multilabel classifiers - Algorithm Adaptation\n",
    "from skmultilearn.adapt import BRkNNaClassifier\n",
    "from skmultilearn.adapt import MLkNN\n",
    "from skmultilearn.adapt import MLTSVM\n",
    "\n",
    "# Metrics\n",
    "from sklearn.metrics import multilabel_confusion_matrix, ConfusionMatrixDisplay\n",
    "from sklearn.metrics import classification_report\n",
    "\n",
    "# Plotting\n",
    "import matplotlib.pyplot as plt\n",
    "import seaborn as sns"
   ]
  },
  {
   "cell_type": "markdown",
   "metadata": {
    "id": "1s1dkZHZyJ1E",
    "pycharm": {
     "name": "#%% md\n"
    }
   },
   "source": [
    "# Data processing"
   ]
  },
  {
   "cell_type": "code",
   "execution_count": 12,
   "metadata": {
    "pycharm": {
     "name": "#%%\n"
    }
   },
   "outputs": [
    {
     "data": {
      "text/plain": "'../features/resnet18_base/test_df.json'"
     },
     "execution_count": 12,
     "metadata": {},
     "output_type": "execute_result"
    }
   ],
   "source": [
    "features_path + test_filename"
   ]
  },
  {
   "cell_type": "code",
   "execution_count": 13,
   "metadata": {
    "id": "YtILxnb4qOIj",
    "pycharm": {
     "name": "#%%\n"
    }
   },
   "outputs": [],
   "source": [
    "features_train = pd.read_json(features_path + train_filename, orient='index').sort_index()\n",
    "features_val = pd.read_json(features_path + val_filename, orient='index').sort_index()\n",
    "features_test = pd.read_json(features_path + test_filename, orient='index').sort_index()"
   ]
  },
  {
   "cell_type": "code",
   "execution_count": 14,
   "metadata": {
    "colab": {
     "base_uri": "https://localhost:8080/",
     "height": 487
    },
    "id": "JqM_hRtvsjYx",
    "outputId": "adfa91b3-d2c7-43d9-8216-596294a08d02",
    "pycharm": {
     "name": "#%%\n"
    }
   },
   "outputs": [
    {
     "data": {
      "text/plain": "          0         1         2         3         4         5         6    \\\n10b  0.362146  0.464590  0.127147  0.513911  0.456054  0.456919  0.613942   \n10c  0.474254  1.758468  0.570486  0.409202  0.051586  0.105452  0.403314   \n10e  0.244714  0.577980  0.151823  0.289470  0.130480  0.313273  0.260450   \n11a  0.293450  0.619049  0.095415  0.067594  0.027575  0.008564  0.003278   \n11b  1.993804  1.640780  1.178390  0.140833  0.391556  0.061228  0.178909   \n..        ...       ...       ...       ...       ...       ...       ...   \n96i  1.219496  1.172501  1.439793  0.180357  0.460851  0.231148  1.772079   \n9a   0.152805  0.218222  0.045043  0.057803  0.096010  1.143477  1.549839   \n9b   0.115341  0.540795  0.048241  0.585017  0.315587  0.945200  1.351170   \n9d   0.020692  0.064446  0.004796  0.037519  0.347206  2.454232  2.441526   \n9e   0.367381  0.272314  0.113670  0.002662  0.050207  0.992062  2.168855   \n\n          7         8         9    ...       502       503       504  \\\n10b  0.897593  0.727839  0.993983  ...  0.685357  0.484074  0.518595   \n10c  0.476372  0.848582  0.205794  ...  0.086466  1.045404  0.341057   \n10e  0.380469  0.730706  0.422372  ...  0.469919  0.593789  0.186124   \n11a  0.006090  1.565796  0.042254  ...  0.016275  0.367695  0.000443   \n11b  0.000000  2.201008  0.000000  ...  0.028581  0.457537  0.022230   \n..        ...       ...       ...  ...       ...       ...       ...   \n96i  2.312201  0.359803  1.313780  ...  0.259646  1.262572  1.754678   \n9a   2.302843  0.423475  2.282072  ...  0.081713  0.409658  0.563725   \n9b   2.774725  0.373930  2.246647  ...  0.409086  0.705647  1.119104   \n9d   4.735280  0.180497  4.700363  ...  0.172130  0.211454  1.714322   \n9e   2.747839  0.250722  2.606253  ...  0.011840  0.552991  0.821634   \n\n          505       506       507       508       509       510       511  \n10b  1.072349  2.006864  1.752992  0.477887  1.221545  1.052200  0.479289  \n10c  0.478624  1.017079  0.487478  0.423797  1.231365  0.396027  0.057165  \n10e  0.576883  1.709014  0.757188  0.458053  1.712341  0.606818  0.144883  \n11a  0.026875  0.648703  0.051497  0.684499  1.231126  0.011604  0.000000  \n11b  0.000000  0.014756  0.000895  2.500922  0.248379  0.015935  0.034870  \n..        ...       ...       ...       ...       ...       ...       ...  \n96i  0.252364  1.004960  0.327329  0.155870  0.716203  0.145088  0.615618  \n9a   1.192688  2.347401  0.432017  0.048915  0.552882  2.373051  2.593569  \n9b   1.559311  2.738190  1.006094  0.023455  1.138020  2.416279  2.388109  \n9d   2.062657  3.856583  0.358296  0.005878  0.656203  4.139779  5.181756  \n9e   0.942096  2.431414  0.287625  0.123667  0.365151  1.486582  2.228210  \n\n[542 rows x 512 columns]",
      "text/html": "<div>\n<style scoped>\n    .dataframe tbody tr th:only-of-type {\n        vertical-align: middle;\n    }\n\n    .dataframe tbody tr th {\n        vertical-align: top;\n    }\n\n    .dataframe thead th {\n        text-align: right;\n    }\n</style>\n<table border=\"1\" class=\"dataframe\">\n  <thead>\n    <tr style=\"text-align: right;\">\n      <th></th>\n      <th>0</th>\n      <th>1</th>\n      <th>2</th>\n      <th>3</th>\n      <th>4</th>\n      <th>5</th>\n      <th>6</th>\n      <th>7</th>\n      <th>8</th>\n      <th>9</th>\n      <th>...</th>\n      <th>502</th>\n      <th>503</th>\n      <th>504</th>\n      <th>505</th>\n      <th>506</th>\n      <th>507</th>\n      <th>508</th>\n      <th>509</th>\n      <th>510</th>\n      <th>511</th>\n    </tr>\n  </thead>\n  <tbody>\n    <tr>\n      <th>10b</th>\n      <td>0.362146</td>\n      <td>0.464590</td>\n      <td>0.127147</td>\n      <td>0.513911</td>\n      <td>0.456054</td>\n      <td>0.456919</td>\n      <td>0.613942</td>\n      <td>0.897593</td>\n      <td>0.727839</td>\n      <td>0.993983</td>\n      <td>...</td>\n      <td>0.685357</td>\n      <td>0.484074</td>\n      <td>0.518595</td>\n      <td>1.072349</td>\n      <td>2.006864</td>\n      <td>1.752992</td>\n      <td>0.477887</td>\n      <td>1.221545</td>\n      <td>1.052200</td>\n      <td>0.479289</td>\n    </tr>\n    <tr>\n      <th>10c</th>\n      <td>0.474254</td>\n      <td>1.758468</td>\n      <td>0.570486</td>\n      <td>0.409202</td>\n      <td>0.051586</td>\n      <td>0.105452</td>\n      <td>0.403314</td>\n      <td>0.476372</td>\n      <td>0.848582</td>\n      <td>0.205794</td>\n      <td>...</td>\n      <td>0.086466</td>\n      <td>1.045404</td>\n      <td>0.341057</td>\n      <td>0.478624</td>\n      <td>1.017079</td>\n      <td>0.487478</td>\n      <td>0.423797</td>\n      <td>1.231365</td>\n      <td>0.396027</td>\n      <td>0.057165</td>\n    </tr>\n    <tr>\n      <th>10e</th>\n      <td>0.244714</td>\n      <td>0.577980</td>\n      <td>0.151823</td>\n      <td>0.289470</td>\n      <td>0.130480</td>\n      <td>0.313273</td>\n      <td>0.260450</td>\n      <td>0.380469</td>\n      <td>0.730706</td>\n      <td>0.422372</td>\n      <td>...</td>\n      <td>0.469919</td>\n      <td>0.593789</td>\n      <td>0.186124</td>\n      <td>0.576883</td>\n      <td>1.709014</td>\n      <td>0.757188</td>\n      <td>0.458053</td>\n      <td>1.712341</td>\n      <td>0.606818</td>\n      <td>0.144883</td>\n    </tr>\n    <tr>\n      <th>11a</th>\n      <td>0.293450</td>\n      <td>0.619049</td>\n      <td>0.095415</td>\n      <td>0.067594</td>\n      <td>0.027575</td>\n      <td>0.008564</td>\n      <td>0.003278</td>\n      <td>0.006090</td>\n      <td>1.565796</td>\n      <td>0.042254</td>\n      <td>...</td>\n      <td>0.016275</td>\n      <td>0.367695</td>\n      <td>0.000443</td>\n      <td>0.026875</td>\n      <td>0.648703</td>\n      <td>0.051497</td>\n      <td>0.684499</td>\n      <td>1.231126</td>\n      <td>0.011604</td>\n      <td>0.000000</td>\n    </tr>\n    <tr>\n      <th>11b</th>\n      <td>1.993804</td>\n      <td>1.640780</td>\n      <td>1.178390</td>\n      <td>0.140833</td>\n      <td>0.391556</td>\n      <td>0.061228</td>\n      <td>0.178909</td>\n      <td>0.000000</td>\n      <td>2.201008</td>\n      <td>0.000000</td>\n      <td>...</td>\n      <td>0.028581</td>\n      <td>0.457537</td>\n      <td>0.022230</td>\n      <td>0.000000</td>\n      <td>0.014756</td>\n      <td>0.000895</td>\n      <td>2.500922</td>\n      <td>0.248379</td>\n      <td>0.015935</td>\n      <td>0.034870</td>\n    </tr>\n    <tr>\n      <th>...</th>\n      <td>...</td>\n      <td>...</td>\n      <td>...</td>\n      <td>...</td>\n      <td>...</td>\n      <td>...</td>\n      <td>...</td>\n      <td>...</td>\n      <td>...</td>\n      <td>...</td>\n      <td>...</td>\n      <td>...</td>\n      <td>...</td>\n      <td>...</td>\n      <td>...</td>\n      <td>...</td>\n      <td>...</td>\n      <td>...</td>\n      <td>...</td>\n      <td>...</td>\n      <td>...</td>\n    </tr>\n    <tr>\n      <th>96i</th>\n      <td>1.219496</td>\n      <td>1.172501</td>\n      <td>1.439793</td>\n      <td>0.180357</td>\n      <td>0.460851</td>\n      <td>0.231148</td>\n      <td>1.772079</td>\n      <td>2.312201</td>\n      <td>0.359803</td>\n      <td>1.313780</td>\n      <td>...</td>\n      <td>0.259646</td>\n      <td>1.262572</td>\n      <td>1.754678</td>\n      <td>0.252364</td>\n      <td>1.004960</td>\n      <td>0.327329</td>\n      <td>0.155870</td>\n      <td>0.716203</td>\n      <td>0.145088</td>\n      <td>0.615618</td>\n    </tr>\n    <tr>\n      <th>9a</th>\n      <td>0.152805</td>\n      <td>0.218222</td>\n      <td>0.045043</td>\n      <td>0.057803</td>\n      <td>0.096010</td>\n      <td>1.143477</td>\n      <td>1.549839</td>\n      <td>2.302843</td>\n      <td>0.423475</td>\n      <td>2.282072</td>\n      <td>...</td>\n      <td>0.081713</td>\n      <td>0.409658</td>\n      <td>0.563725</td>\n      <td>1.192688</td>\n      <td>2.347401</td>\n      <td>0.432017</td>\n      <td>0.048915</td>\n      <td>0.552882</td>\n      <td>2.373051</td>\n      <td>2.593569</td>\n    </tr>\n    <tr>\n      <th>9b</th>\n      <td>0.115341</td>\n      <td>0.540795</td>\n      <td>0.048241</td>\n      <td>0.585017</td>\n      <td>0.315587</td>\n      <td>0.945200</td>\n      <td>1.351170</td>\n      <td>2.774725</td>\n      <td>0.373930</td>\n      <td>2.246647</td>\n      <td>...</td>\n      <td>0.409086</td>\n      <td>0.705647</td>\n      <td>1.119104</td>\n      <td>1.559311</td>\n      <td>2.738190</td>\n      <td>1.006094</td>\n      <td>0.023455</td>\n      <td>1.138020</td>\n      <td>2.416279</td>\n      <td>2.388109</td>\n    </tr>\n    <tr>\n      <th>9d</th>\n      <td>0.020692</td>\n      <td>0.064446</td>\n      <td>0.004796</td>\n      <td>0.037519</td>\n      <td>0.347206</td>\n      <td>2.454232</td>\n      <td>2.441526</td>\n      <td>4.735280</td>\n      <td>0.180497</td>\n      <td>4.700363</td>\n      <td>...</td>\n      <td>0.172130</td>\n      <td>0.211454</td>\n      <td>1.714322</td>\n      <td>2.062657</td>\n      <td>3.856583</td>\n      <td>0.358296</td>\n      <td>0.005878</td>\n      <td>0.656203</td>\n      <td>4.139779</td>\n      <td>5.181756</td>\n    </tr>\n    <tr>\n      <th>9e</th>\n      <td>0.367381</td>\n      <td>0.272314</td>\n      <td>0.113670</td>\n      <td>0.002662</td>\n      <td>0.050207</td>\n      <td>0.992062</td>\n      <td>2.168855</td>\n      <td>2.747839</td>\n      <td>0.250722</td>\n      <td>2.606253</td>\n      <td>...</td>\n      <td>0.011840</td>\n      <td>0.552991</td>\n      <td>0.821634</td>\n      <td>0.942096</td>\n      <td>2.431414</td>\n      <td>0.287625</td>\n      <td>0.123667</td>\n      <td>0.365151</td>\n      <td>1.486582</td>\n      <td>2.228210</td>\n    </tr>\n  </tbody>\n</table>\n<p>542 rows × 512 columns</p>\n</div>"
     },
     "execution_count": 14,
     "metadata": {},
     "output_type": "execute_result"
    }
   ],
   "source": [
    "features_train"
   ]
  },
  {
   "cell_type": "code",
   "execution_count": 15,
   "metadata": {
    "colab": {
     "base_uri": "https://localhost:8080/",
     "height": 487
    },
    "id": "UzIoAWx55Jt7",
    "outputId": "364a0aaf-2df4-44de-d362-7385d09ac46b",
    "pycharm": {
     "name": "#%%\n"
    }
   },
   "outputs": [
    {
     "data": {
      "text/plain": "          0         1         2         3         4         5         6    \\\n11c  2.275187  2.306436  1.497855  0.272794  0.173614  0.029822  0.786899   \n12d  1.504374  1.664972  0.724834  0.216324  0.191819  0.045470  0.258362   \n13h  1.902758  1.247735  0.951118  0.045546  0.405237  0.045735  0.230148   \n14a  0.217449  0.966793  0.385966  0.385033  0.012851  0.003168  0.008533   \n17g  0.279239  0.814089  0.281765  0.108073  0.055922  0.125924  0.630793   \n..        ...       ...       ...       ...       ...       ...       ...   \n95d  0.593016  0.555426  0.802065  0.086066  0.630167  0.502185  1.588610   \n95e  1.223325  0.867830  1.330138  0.019909  0.937184  0.675793  3.024865   \n95k  1.749108  1.211776  2.177898  0.106079  0.529525  0.295415  1.889722   \n96a  0.080941  0.376536  0.177453  0.050869  0.127184  0.151660  1.240737   \n9c   0.115330  0.706171  0.058463  1.110772  0.481322  0.922383  1.162173   \n\n          7         8         9    ...       502       503       504  \\\n11c  0.016024  1.781992  0.000000  ...  0.082154  0.483801  0.116884   \n12d  0.005485  1.445316  0.000000  ...  0.028517  0.700710  0.004696   \n13h  0.046895  1.569113  0.002871  ...  0.069816  0.538065  0.031151   \n14a  0.167349  1.020717  0.119414  ...  0.000000  0.810362  0.319307   \n17g  0.725520  0.532767  0.523044  ...  0.271441  0.948651  0.388443   \n..        ...       ...       ...  ...       ...       ...       ...   \n95d  2.020831  0.383938  1.362503  ...  0.601381  1.319863  1.444178   \n95e  3.361417  0.326847  2.265049  ...  0.824268  1.228300  2.281181   \n95k  2.695512  0.372247  1.376209  ...  0.377079  1.606109  2.209428   \n96a  1.800235  0.162123  1.296215  ...  0.318814  1.286526  0.754040   \n9c   2.579768  0.602944  1.953690  ...  0.501731  0.571615  1.208405   \n\n          505       506       507       508       509       510       511  \n11c  0.007031  0.046339  0.040790  2.441685  0.152227  0.100701  0.071847  \n12d  0.005331  0.094490  0.020422  1.538262  0.462807  0.023431  0.000572  \n13h  0.004312  0.114544  0.008827  1.917671  0.364544  0.009181  0.036641  \n14a  0.176306  1.049837  0.556223  0.208913  1.501853  0.138571  0.000000  \n17g  0.415188  1.384727  0.753298  0.056655  1.080516  0.693169  0.153720  \n..        ...       ...       ...       ...       ...       ...       ...  \n95d  0.325408  1.398862  0.346076  0.056853  0.767345  0.252263  0.841485  \n95e  0.501471  0.945814  0.022220  0.253525  0.344478  0.346123  1.462925  \n95k  0.121024  0.695410  0.166861  0.300892  0.513554  0.051362  0.606356  \n96a  0.439462  2.203444  0.865236  0.002921  1.046490  0.559765  0.721506  \n9c   1.780763  2.537515  1.254454  0.069168  1.301270  2.601785  2.357000  \n\n[78 rows x 512 columns]",
      "text/html": "<div>\n<style scoped>\n    .dataframe tbody tr th:only-of-type {\n        vertical-align: middle;\n    }\n\n    .dataframe tbody tr th {\n        vertical-align: top;\n    }\n\n    .dataframe thead th {\n        text-align: right;\n    }\n</style>\n<table border=\"1\" class=\"dataframe\">\n  <thead>\n    <tr style=\"text-align: right;\">\n      <th></th>\n      <th>0</th>\n      <th>1</th>\n      <th>2</th>\n      <th>3</th>\n      <th>4</th>\n      <th>5</th>\n      <th>6</th>\n      <th>7</th>\n      <th>8</th>\n      <th>9</th>\n      <th>...</th>\n      <th>502</th>\n      <th>503</th>\n      <th>504</th>\n      <th>505</th>\n      <th>506</th>\n      <th>507</th>\n      <th>508</th>\n      <th>509</th>\n      <th>510</th>\n      <th>511</th>\n    </tr>\n  </thead>\n  <tbody>\n    <tr>\n      <th>11c</th>\n      <td>2.275187</td>\n      <td>2.306436</td>\n      <td>1.497855</td>\n      <td>0.272794</td>\n      <td>0.173614</td>\n      <td>0.029822</td>\n      <td>0.786899</td>\n      <td>0.016024</td>\n      <td>1.781992</td>\n      <td>0.000000</td>\n      <td>...</td>\n      <td>0.082154</td>\n      <td>0.483801</td>\n      <td>0.116884</td>\n      <td>0.007031</td>\n      <td>0.046339</td>\n      <td>0.040790</td>\n      <td>2.441685</td>\n      <td>0.152227</td>\n      <td>0.100701</td>\n      <td>0.071847</td>\n    </tr>\n    <tr>\n      <th>12d</th>\n      <td>1.504374</td>\n      <td>1.664972</td>\n      <td>0.724834</td>\n      <td>0.216324</td>\n      <td>0.191819</td>\n      <td>0.045470</td>\n      <td>0.258362</td>\n      <td>0.005485</td>\n      <td>1.445316</td>\n      <td>0.000000</td>\n      <td>...</td>\n      <td>0.028517</td>\n      <td>0.700710</td>\n      <td>0.004696</td>\n      <td>0.005331</td>\n      <td>0.094490</td>\n      <td>0.020422</td>\n      <td>1.538262</td>\n      <td>0.462807</td>\n      <td>0.023431</td>\n      <td>0.000572</td>\n    </tr>\n    <tr>\n      <th>13h</th>\n      <td>1.902758</td>\n      <td>1.247735</td>\n      <td>0.951118</td>\n      <td>0.045546</td>\n      <td>0.405237</td>\n      <td>0.045735</td>\n      <td>0.230148</td>\n      <td>0.046895</td>\n      <td>1.569113</td>\n      <td>0.002871</td>\n      <td>...</td>\n      <td>0.069816</td>\n      <td>0.538065</td>\n      <td>0.031151</td>\n      <td>0.004312</td>\n      <td>0.114544</td>\n      <td>0.008827</td>\n      <td>1.917671</td>\n      <td>0.364544</td>\n      <td>0.009181</td>\n      <td>0.036641</td>\n    </tr>\n    <tr>\n      <th>14a</th>\n      <td>0.217449</td>\n      <td>0.966793</td>\n      <td>0.385966</td>\n      <td>0.385033</td>\n      <td>0.012851</td>\n      <td>0.003168</td>\n      <td>0.008533</td>\n      <td>0.167349</td>\n      <td>1.020717</td>\n      <td>0.119414</td>\n      <td>...</td>\n      <td>0.000000</td>\n      <td>0.810362</td>\n      <td>0.319307</td>\n      <td>0.176306</td>\n      <td>1.049837</td>\n      <td>0.556223</td>\n      <td>0.208913</td>\n      <td>1.501853</td>\n      <td>0.138571</td>\n      <td>0.000000</td>\n    </tr>\n    <tr>\n      <th>17g</th>\n      <td>0.279239</td>\n      <td>0.814089</td>\n      <td>0.281765</td>\n      <td>0.108073</td>\n      <td>0.055922</td>\n      <td>0.125924</td>\n      <td>0.630793</td>\n      <td>0.725520</td>\n      <td>0.532767</td>\n      <td>0.523044</td>\n      <td>...</td>\n      <td>0.271441</td>\n      <td>0.948651</td>\n      <td>0.388443</td>\n      <td>0.415188</td>\n      <td>1.384727</td>\n      <td>0.753298</td>\n      <td>0.056655</td>\n      <td>1.080516</td>\n      <td>0.693169</td>\n      <td>0.153720</td>\n    </tr>\n    <tr>\n      <th>...</th>\n      <td>...</td>\n      <td>...</td>\n      <td>...</td>\n      <td>...</td>\n      <td>...</td>\n      <td>...</td>\n      <td>...</td>\n      <td>...</td>\n      <td>...</td>\n      <td>...</td>\n      <td>...</td>\n      <td>...</td>\n      <td>...</td>\n      <td>...</td>\n      <td>...</td>\n      <td>...</td>\n      <td>...</td>\n      <td>...</td>\n      <td>...</td>\n      <td>...</td>\n      <td>...</td>\n    </tr>\n    <tr>\n      <th>95d</th>\n      <td>0.593016</td>\n      <td>0.555426</td>\n      <td>0.802065</td>\n      <td>0.086066</td>\n      <td>0.630167</td>\n      <td>0.502185</td>\n      <td>1.588610</td>\n      <td>2.020831</td>\n      <td>0.383938</td>\n      <td>1.362503</td>\n      <td>...</td>\n      <td>0.601381</td>\n      <td>1.319863</td>\n      <td>1.444178</td>\n      <td>0.325408</td>\n      <td>1.398862</td>\n      <td>0.346076</td>\n      <td>0.056853</td>\n      <td>0.767345</td>\n      <td>0.252263</td>\n      <td>0.841485</td>\n    </tr>\n    <tr>\n      <th>95e</th>\n      <td>1.223325</td>\n      <td>0.867830</td>\n      <td>1.330138</td>\n      <td>0.019909</td>\n      <td>0.937184</td>\n      <td>0.675793</td>\n      <td>3.024865</td>\n      <td>3.361417</td>\n      <td>0.326847</td>\n      <td>2.265049</td>\n      <td>...</td>\n      <td>0.824268</td>\n      <td>1.228300</td>\n      <td>2.281181</td>\n      <td>0.501471</td>\n      <td>0.945814</td>\n      <td>0.022220</td>\n      <td>0.253525</td>\n      <td>0.344478</td>\n      <td>0.346123</td>\n      <td>1.462925</td>\n    </tr>\n    <tr>\n      <th>95k</th>\n      <td>1.749108</td>\n      <td>1.211776</td>\n      <td>2.177898</td>\n      <td>0.106079</td>\n      <td>0.529525</td>\n      <td>0.295415</td>\n      <td>1.889722</td>\n      <td>2.695512</td>\n      <td>0.372247</td>\n      <td>1.376209</td>\n      <td>...</td>\n      <td>0.377079</td>\n      <td>1.606109</td>\n      <td>2.209428</td>\n      <td>0.121024</td>\n      <td>0.695410</td>\n      <td>0.166861</td>\n      <td>0.300892</td>\n      <td>0.513554</td>\n      <td>0.051362</td>\n      <td>0.606356</td>\n    </tr>\n    <tr>\n      <th>96a</th>\n      <td>0.080941</td>\n      <td>0.376536</td>\n      <td>0.177453</td>\n      <td>0.050869</td>\n      <td>0.127184</td>\n      <td>0.151660</td>\n      <td>1.240737</td>\n      <td>1.800235</td>\n      <td>0.162123</td>\n      <td>1.296215</td>\n      <td>...</td>\n      <td>0.318814</td>\n      <td>1.286526</td>\n      <td>0.754040</td>\n      <td>0.439462</td>\n      <td>2.203444</td>\n      <td>0.865236</td>\n      <td>0.002921</td>\n      <td>1.046490</td>\n      <td>0.559765</td>\n      <td>0.721506</td>\n    </tr>\n    <tr>\n      <th>9c</th>\n      <td>0.115330</td>\n      <td>0.706171</td>\n      <td>0.058463</td>\n      <td>1.110772</td>\n      <td>0.481322</td>\n      <td>0.922383</td>\n      <td>1.162173</td>\n      <td>2.579768</td>\n      <td>0.602944</td>\n      <td>1.953690</td>\n      <td>...</td>\n      <td>0.501731</td>\n      <td>0.571615</td>\n      <td>1.208405</td>\n      <td>1.780763</td>\n      <td>2.537515</td>\n      <td>1.254454</td>\n      <td>0.069168</td>\n      <td>1.301270</td>\n      <td>2.601785</td>\n      <td>2.357000</td>\n    </tr>\n  </tbody>\n</table>\n<p>78 rows × 512 columns</p>\n</div>"
     },
     "execution_count": 15,
     "metadata": {},
     "output_type": "execute_result"
    }
   ],
   "source": [
    "features_val"
   ]
  },
  {
   "cell_type": "code",
   "execution_count": 16,
   "metadata": {
    "colab": {
     "base_uri": "https://localhost:8080/",
     "height": 487
    },
    "id": "Ng5PkjQZso_l",
    "outputId": "4dc3f5e7-d67e-4826-e0bd-56f57da3d5c5",
    "pycharm": {
     "name": "#%%\n"
    }
   },
   "outputs": [
    {
     "data": {
      "text/plain": "          0         1         2         3         4         5         6    \\\n10a  0.043922  0.438790  0.019845  0.413530  1.033888  1.425813  2.464794   \n10d  1.589746  2.419186  1.238558  0.502969  0.177709  0.095080  0.895335   \n11k  0.102749  0.537323  0.005930  0.229182  0.029631  0.051531  0.215764   \n12c  1.555241  3.085774  1.036549  0.121381  0.006848  0.000000  0.667729   \n13b  0.054596  0.961921  0.005172  0.164097  0.000000  0.004722  0.159693   \n..        ...       ...       ...       ...       ...       ...       ...   \n94b  0.037165  0.320686  0.016477  0.341343  0.183347  0.460720  0.543568   \n95h  1.390886  0.709396  1.206319  0.012485  0.542104  0.357813  3.210945   \n95i  1.011852  0.831163  1.210996  0.044076  0.328944  0.154378  1.714137   \n95m  0.330874  1.042076  0.552560  0.194703  0.072272  0.098493  1.199120   \n96e  0.687277  0.597331  0.870127  0.000000  0.134662  0.150343  2.368210   \n\n          7         8         9    ...       502       503       504  \\\n10a  2.822518  0.327268  2.642690  ...  0.986162  0.511597  1.491543   \n10d  0.366388  1.248019  0.112939  ...  0.116706  0.871342  0.422499   \n11k  0.333154  0.571127  0.300135  ...  0.220662  0.589854  0.071657   \n12c  0.255454  1.389393  0.000000  ...  0.000000  1.271174  0.073674   \n13b  0.354636  0.752471  0.284906  ...  0.086444  0.702418  0.067545   \n..        ...       ...       ...  ...       ...       ...       ...   \n94b  1.344331  0.467561  1.105291  ...  0.505929  0.719686  0.514762   \n95h  3.415834  0.188296  2.201178  ...  0.688189  1.365511  1.973725   \n95i  2.140866  0.300445  1.232799  ...  0.198398  1.656799  1.454919   \n95m  1.807134  0.287773  0.946855  ...  0.223451  1.513646  0.949666   \n96e  2.663202  0.050539  1.657130  ...  0.507615  1.935985  1.297439   \n\n          505       506       507       508       509       510       511  \n10a  1.570246  1.970436  0.596666  0.013391  0.688872  1.930300  2.450351  \n10d  0.181066  0.322997  0.081184  1.647915  0.687288  0.200599  0.083305  \n11k  0.772262  2.141778  1.487517  0.082396  1.918550  1.108924  0.011656  \n12c  0.070102  0.040569  0.000000  1.040871  0.572813  0.067655  0.000000  \n13b  0.609984  2.001049  1.166788  0.070118  2.045304  0.894990  0.000000  \n..        ...       ...       ...       ...       ...       ...       ...  \n94b  0.890770  2.208013  1.220502  0.034576  1.544689  1.782199  1.038253  \n95h  0.436885  0.848364  0.105438  0.121058  0.255382  0.361521  1.424006  \n95i  0.205952  1.358049  0.170531  0.082664  0.721915  0.087386  0.602120  \n95m  0.598369  2.023210  0.933003  0.057617  1.188486  0.473440  0.348476  \n96e  0.346627  2.284039  0.394276  0.005985  0.550837  0.246102  0.701588  \n\n[156 rows x 512 columns]",
      "text/html": "<div>\n<style scoped>\n    .dataframe tbody tr th:only-of-type {\n        vertical-align: middle;\n    }\n\n    .dataframe tbody tr th {\n        vertical-align: top;\n    }\n\n    .dataframe thead th {\n        text-align: right;\n    }\n</style>\n<table border=\"1\" class=\"dataframe\">\n  <thead>\n    <tr style=\"text-align: right;\">\n      <th></th>\n      <th>0</th>\n      <th>1</th>\n      <th>2</th>\n      <th>3</th>\n      <th>4</th>\n      <th>5</th>\n      <th>6</th>\n      <th>7</th>\n      <th>8</th>\n      <th>9</th>\n      <th>...</th>\n      <th>502</th>\n      <th>503</th>\n      <th>504</th>\n      <th>505</th>\n      <th>506</th>\n      <th>507</th>\n      <th>508</th>\n      <th>509</th>\n      <th>510</th>\n      <th>511</th>\n    </tr>\n  </thead>\n  <tbody>\n    <tr>\n      <th>10a</th>\n      <td>0.043922</td>\n      <td>0.438790</td>\n      <td>0.019845</td>\n      <td>0.413530</td>\n      <td>1.033888</td>\n      <td>1.425813</td>\n      <td>2.464794</td>\n      <td>2.822518</td>\n      <td>0.327268</td>\n      <td>2.642690</td>\n      <td>...</td>\n      <td>0.986162</td>\n      <td>0.511597</td>\n      <td>1.491543</td>\n      <td>1.570246</td>\n      <td>1.970436</td>\n      <td>0.596666</td>\n      <td>0.013391</td>\n      <td>0.688872</td>\n      <td>1.930300</td>\n      <td>2.450351</td>\n    </tr>\n    <tr>\n      <th>10d</th>\n      <td>1.589746</td>\n      <td>2.419186</td>\n      <td>1.238558</td>\n      <td>0.502969</td>\n      <td>0.177709</td>\n      <td>0.095080</td>\n      <td>0.895335</td>\n      <td>0.366388</td>\n      <td>1.248019</td>\n      <td>0.112939</td>\n      <td>...</td>\n      <td>0.116706</td>\n      <td>0.871342</td>\n      <td>0.422499</td>\n      <td>0.181066</td>\n      <td>0.322997</td>\n      <td>0.081184</td>\n      <td>1.647915</td>\n      <td>0.687288</td>\n      <td>0.200599</td>\n      <td>0.083305</td>\n    </tr>\n    <tr>\n      <th>11k</th>\n      <td>0.102749</td>\n      <td>0.537323</td>\n      <td>0.005930</td>\n      <td>0.229182</td>\n      <td>0.029631</td>\n      <td>0.051531</td>\n      <td>0.215764</td>\n      <td>0.333154</td>\n      <td>0.571127</td>\n      <td>0.300135</td>\n      <td>...</td>\n      <td>0.220662</td>\n      <td>0.589854</td>\n      <td>0.071657</td>\n      <td>0.772262</td>\n      <td>2.141778</td>\n      <td>1.487517</td>\n      <td>0.082396</td>\n      <td>1.918550</td>\n      <td>1.108924</td>\n      <td>0.011656</td>\n    </tr>\n    <tr>\n      <th>12c</th>\n      <td>1.555241</td>\n      <td>3.085774</td>\n      <td>1.036549</td>\n      <td>0.121381</td>\n      <td>0.006848</td>\n      <td>0.000000</td>\n      <td>0.667729</td>\n      <td>0.255454</td>\n      <td>1.389393</td>\n      <td>0.000000</td>\n      <td>...</td>\n      <td>0.000000</td>\n      <td>1.271174</td>\n      <td>0.073674</td>\n      <td>0.070102</td>\n      <td>0.040569</td>\n      <td>0.000000</td>\n      <td>1.040871</td>\n      <td>0.572813</td>\n      <td>0.067655</td>\n      <td>0.000000</td>\n    </tr>\n    <tr>\n      <th>13b</th>\n      <td>0.054596</td>\n      <td>0.961921</td>\n      <td>0.005172</td>\n      <td>0.164097</td>\n      <td>0.000000</td>\n      <td>0.004722</td>\n      <td>0.159693</td>\n      <td>0.354636</td>\n      <td>0.752471</td>\n      <td>0.284906</td>\n      <td>...</td>\n      <td>0.086444</td>\n      <td>0.702418</td>\n      <td>0.067545</td>\n      <td>0.609984</td>\n      <td>2.001049</td>\n      <td>1.166788</td>\n      <td>0.070118</td>\n      <td>2.045304</td>\n      <td>0.894990</td>\n      <td>0.000000</td>\n    </tr>\n    <tr>\n      <th>...</th>\n      <td>...</td>\n      <td>...</td>\n      <td>...</td>\n      <td>...</td>\n      <td>...</td>\n      <td>...</td>\n      <td>...</td>\n      <td>...</td>\n      <td>...</td>\n      <td>...</td>\n      <td>...</td>\n      <td>...</td>\n      <td>...</td>\n      <td>...</td>\n      <td>...</td>\n      <td>...</td>\n      <td>...</td>\n      <td>...</td>\n      <td>...</td>\n      <td>...</td>\n      <td>...</td>\n    </tr>\n    <tr>\n      <th>94b</th>\n      <td>0.037165</td>\n      <td>0.320686</td>\n      <td>0.016477</td>\n      <td>0.341343</td>\n      <td>0.183347</td>\n      <td>0.460720</td>\n      <td>0.543568</td>\n      <td>1.344331</td>\n      <td>0.467561</td>\n      <td>1.105291</td>\n      <td>...</td>\n      <td>0.505929</td>\n      <td>0.719686</td>\n      <td>0.514762</td>\n      <td>0.890770</td>\n      <td>2.208013</td>\n      <td>1.220502</td>\n      <td>0.034576</td>\n      <td>1.544689</td>\n      <td>1.782199</td>\n      <td>1.038253</td>\n    </tr>\n    <tr>\n      <th>95h</th>\n      <td>1.390886</td>\n      <td>0.709396</td>\n      <td>1.206319</td>\n      <td>0.012485</td>\n      <td>0.542104</td>\n      <td>0.357813</td>\n      <td>3.210945</td>\n      <td>3.415834</td>\n      <td>0.188296</td>\n      <td>2.201178</td>\n      <td>...</td>\n      <td>0.688189</td>\n      <td>1.365511</td>\n      <td>1.973725</td>\n      <td>0.436885</td>\n      <td>0.848364</td>\n      <td>0.105438</td>\n      <td>0.121058</td>\n      <td>0.255382</td>\n      <td>0.361521</td>\n      <td>1.424006</td>\n    </tr>\n    <tr>\n      <th>95i</th>\n      <td>1.011852</td>\n      <td>0.831163</td>\n      <td>1.210996</td>\n      <td>0.044076</td>\n      <td>0.328944</td>\n      <td>0.154378</td>\n      <td>1.714137</td>\n      <td>2.140866</td>\n      <td>0.300445</td>\n      <td>1.232799</td>\n      <td>...</td>\n      <td>0.198398</td>\n      <td>1.656799</td>\n      <td>1.454919</td>\n      <td>0.205952</td>\n      <td>1.358049</td>\n      <td>0.170531</td>\n      <td>0.082664</td>\n      <td>0.721915</td>\n      <td>0.087386</td>\n      <td>0.602120</td>\n    </tr>\n    <tr>\n      <th>95m</th>\n      <td>0.330874</td>\n      <td>1.042076</td>\n      <td>0.552560</td>\n      <td>0.194703</td>\n      <td>0.072272</td>\n      <td>0.098493</td>\n      <td>1.199120</td>\n      <td>1.807134</td>\n      <td>0.287773</td>\n      <td>0.946855</td>\n      <td>...</td>\n      <td>0.223451</td>\n      <td>1.513646</td>\n      <td>0.949666</td>\n      <td>0.598369</td>\n      <td>2.023210</td>\n      <td>0.933003</td>\n      <td>0.057617</td>\n      <td>1.188486</td>\n      <td>0.473440</td>\n      <td>0.348476</td>\n    </tr>\n    <tr>\n      <th>96e</th>\n      <td>0.687277</td>\n      <td>0.597331</td>\n      <td>0.870127</td>\n      <td>0.000000</td>\n      <td>0.134662</td>\n      <td>0.150343</td>\n      <td>2.368210</td>\n      <td>2.663202</td>\n      <td>0.050539</td>\n      <td>1.657130</td>\n      <td>...</td>\n      <td>0.507615</td>\n      <td>1.935985</td>\n      <td>1.297439</td>\n      <td>0.346627</td>\n      <td>2.284039</td>\n      <td>0.394276</td>\n      <td>0.005985</td>\n      <td>0.550837</td>\n      <td>0.246102</td>\n      <td>0.701588</td>\n    </tr>\n  </tbody>\n</table>\n<p>156 rows × 512 columns</p>\n</div>"
     },
     "execution_count": 16,
     "metadata": {},
     "output_type": "execute_result"
    }
   ],
   "source": [
    "features_test"
   ]
  },
  {
   "cell_type": "code",
   "execution_count": 17,
   "metadata": {
    "pycharm": {
     "name": "#%%\n"
    }
   },
   "outputs": [],
   "source": [
    "features_test_val = pd.DataFrame.append(features_test, features_val )"
   ]
  },
  {
   "cell_type": "code",
   "execution_count": 18,
   "metadata": {
    "id": "PeLVGwjb6Bde",
    "pycharm": {
     "name": "#%%\n"
    }
   },
   "outputs": [],
   "source": [
    "labels_train = pd.read_json(labels_path + train_filename, orient='index').sort_index()\n",
    "labels_val = pd.read_json(labels_path + val_filename, orient='index').sort_index()\n",
    "labels_test = pd.read_json(labels_path + test_filename, orient='index').sort_index()"
   ]
  },
  {
   "cell_type": "code",
   "execution_count": 19,
   "metadata": {
    "colab": {
     "base_uri": "https://localhost:8080/",
     "height": 505
    },
    "id": "YGPGV6Hvtb-4",
    "outputId": "aa6085f5-14c5-4a84-8352-5dd81c731003",
    "pycharm": {
     "name": "#%%\n"
    }
   },
   "outputs": [
    {
     "data": {
      "text/plain": "     pendent  teardrop  horizontal  panel  group  vertical  bar  floating  \\\n10a        0         0           0      1      0         1    0         0   \n10c        0         0           0      0      0         0    0         0   \n10d        0         0           0      0      0         0    0         0   \n10e        0         0           1      1      0         1    1         0   \n11a        0         0           0      0      0         0    0         0   \n..       ...       ...         ...    ...    ...       ...  ...       ...   \n96h        0         0           1      1      0         0    0         0   \n9a         0         0           1      1      0         0    0         0   \n9b         0         0           0      0      0         0    0         0   \n9c         0         0           0      0      0         0    0         0   \n9d         0         0           1      1      0         1    1         0   \n\n     enclosing  shorter  ...  light  body  bird  striped  worm  angular  \\\n10a          0        0  ...      0     0     0        0     0        0   \n10c          0        0  ...      0     0     0        0     0        0   \n10d          1        0  ...      0     0     0        0     0        0   \n10e          0        0  ...      0     0     0        0     0        0   \n11a          0        0  ...      0     0     0        0     0        0   \n..         ...      ...  ...    ...   ...   ...      ...   ...      ...   \n96h          0        0  ...      0     0     0        0     0        0   \n9a           0        0  ...      0     0     0        0     0        0   \n9b           0        0  ...      0     0     0        0     0        0   \n9c           0        0  ...      0     0     0        0     0        0   \n9d           0        0  ...      0     0     0        0     0        0   \n\n     raised  head  bird-seed  long  \n10a       0     0          0     0  \n10c       0     0          0     0  \n10d       0     0          0     0  \n10e       0     0          0     0  \n11a       0     0          0     0  \n..      ...   ...        ...   ...  \n96h       0     0          0     0  \n9a        0     0          0     0  \n9b        0     0          0     0  \n9c        0     0          0     0  \n9d        0     0          0     0  \n\n[542 rows x 340 columns]",
      "text/html": "<div>\n<style scoped>\n    .dataframe tbody tr th:only-of-type {\n        vertical-align: middle;\n    }\n\n    .dataframe tbody tr th {\n        vertical-align: top;\n    }\n\n    .dataframe thead th {\n        text-align: right;\n    }\n</style>\n<table border=\"1\" class=\"dataframe\">\n  <thead>\n    <tr style=\"text-align: right;\">\n      <th></th>\n      <th>pendent</th>\n      <th>teardrop</th>\n      <th>horizontal</th>\n      <th>panel</th>\n      <th>group</th>\n      <th>vertical</th>\n      <th>bar</th>\n      <th>floating</th>\n      <th>enclosing</th>\n      <th>shorter</th>\n      <th>...</th>\n      <th>light</th>\n      <th>body</th>\n      <th>bird</th>\n      <th>striped</th>\n      <th>worm</th>\n      <th>angular</th>\n      <th>raised</th>\n      <th>head</th>\n      <th>bird-seed</th>\n      <th>long</th>\n    </tr>\n  </thead>\n  <tbody>\n    <tr>\n      <th>10a</th>\n      <td>0</td>\n      <td>0</td>\n      <td>0</td>\n      <td>1</td>\n      <td>0</td>\n      <td>1</td>\n      <td>0</td>\n      <td>0</td>\n      <td>0</td>\n      <td>0</td>\n      <td>...</td>\n      <td>0</td>\n      <td>0</td>\n      <td>0</td>\n      <td>0</td>\n      <td>0</td>\n      <td>0</td>\n      <td>0</td>\n      <td>0</td>\n      <td>0</td>\n      <td>0</td>\n    </tr>\n    <tr>\n      <th>10c</th>\n      <td>0</td>\n      <td>0</td>\n      <td>0</td>\n      <td>0</td>\n      <td>0</td>\n      <td>0</td>\n      <td>0</td>\n      <td>0</td>\n      <td>0</td>\n      <td>0</td>\n      <td>...</td>\n      <td>0</td>\n      <td>0</td>\n      <td>0</td>\n      <td>0</td>\n      <td>0</td>\n      <td>0</td>\n      <td>0</td>\n      <td>0</td>\n      <td>0</td>\n      <td>0</td>\n    </tr>\n    <tr>\n      <th>10d</th>\n      <td>0</td>\n      <td>0</td>\n      <td>0</td>\n      <td>0</td>\n      <td>0</td>\n      <td>0</td>\n      <td>0</td>\n      <td>0</td>\n      <td>1</td>\n      <td>0</td>\n      <td>...</td>\n      <td>0</td>\n      <td>0</td>\n      <td>0</td>\n      <td>0</td>\n      <td>0</td>\n      <td>0</td>\n      <td>0</td>\n      <td>0</td>\n      <td>0</td>\n      <td>0</td>\n    </tr>\n    <tr>\n      <th>10e</th>\n      <td>0</td>\n      <td>0</td>\n      <td>1</td>\n      <td>1</td>\n      <td>0</td>\n      <td>1</td>\n      <td>1</td>\n      <td>0</td>\n      <td>0</td>\n      <td>0</td>\n      <td>...</td>\n      <td>0</td>\n      <td>0</td>\n      <td>0</td>\n      <td>0</td>\n      <td>0</td>\n      <td>0</td>\n      <td>0</td>\n      <td>0</td>\n      <td>0</td>\n      <td>0</td>\n    </tr>\n    <tr>\n      <th>11a</th>\n      <td>0</td>\n      <td>0</td>\n      <td>0</td>\n      <td>0</td>\n      <td>0</td>\n      <td>0</td>\n      <td>0</td>\n      <td>0</td>\n      <td>0</td>\n      <td>0</td>\n      <td>...</td>\n      <td>0</td>\n      <td>0</td>\n      <td>0</td>\n      <td>0</td>\n      <td>0</td>\n      <td>0</td>\n      <td>0</td>\n      <td>0</td>\n      <td>0</td>\n      <td>0</td>\n    </tr>\n    <tr>\n      <th>...</th>\n      <td>...</td>\n      <td>...</td>\n      <td>...</td>\n      <td>...</td>\n      <td>...</td>\n      <td>...</td>\n      <td>...</td>\n      <td>...</td>\n      <td>...</td>\n      <td>...</td>\n      <td>...</td>\n      <td>...</td>\n      <td>...</td>\n      <td>...</td>\n      <td>...</td>\n      <td>...</td>\n      <td>...</td>\n      <td>...</td>\n      <td>...</td>\n      <td>...</td>\n      <td>...</td>\n    </tr>\n    <tr>\n      <th>96h</th>\n      <td>0</td>\n      <td>0</td>\n      <td>1</td>\n      <td>1</td>\n      <td>0</td>\n      <td>0</td>\n      <td>0</td>\n      <td>0</td>\n      <td>0</td>\n      <td>0</td>\n      <td>...</td>\n      <td>0</td>\n      <td>0</td>\n      <td>0</td>\n      <td>0</td>\n      <td>0</td>\n      <td>0</td>\n      <td>0</td>\n      <td>0</td>\n      <td>0</td>\n      <td>0</td>\n    </tr>\n    <tr>\n      <th>9a</th>\n      <td>0</td>\n      <td>0</td>\n      <td>1</td>\n      <td>1</td>\n      <td>0</td>\n      <td>0</td>\n      <td>0</td>\n      <td>0</td>\n      <td>0</td>\n      <td>0</td>\n      <td>...</td>\n      <td>0</td>\n      <td>0</td>\n      <td>0</td>\n      <td>0</td>\n      <td>0</td>\n      <td>0</td>\n      <td>0</td>\n      <td>0</td>\n      <td>0</td>\n      <td>0</td>\n    </tr>\n    <tr>\n      <th>9b</th>\n      <td>0</td>\n      <td>0</td>\n      <td>0</td>\n      <td>0</td>\n      <td>0</td>\n      <td>0</td>\n      <td>0</td>\n      <td>0</td>\n      <td>0</td>\n      <td>0</td>\n      <td>...</td>\n      <td>0</td>\n      <td>0</td>\n      <td>0</td>\n      <td>0</td>\n      <td>0</td>\n      <td>0</td>\n      <td>0</td>\n      <td>0</td>\n      <td>0</td>\n      <td>0</td>\n    </tr>\n    <tr>\n      <th>9c</th>\n      <td>0</td>\n      <td>0</td>\n      <td>0</td>\n      <td>0</td>\n      <td>0</td>\n      <td>0</td>\n      <td>0</td>\n      <td>0</td>\n      <td>0</td>\n      <td>0</td>\n      <td>...</td>\n      <td>0</td>\n      <td>0</td>\n      <td>0</td>\n      <td>0</td>\n      <td>0</td>\n      <td>0</td>\n      <td>0</td>\n      <td>0</td>\n      <td>0</td>\n      <td>0</td>\n    </tr>\n    <tr>\n      <th>9d</th>\n      <td>0</td>\n      <td>0</td>\n      <td>1</td>\n      <td>1</td>\n      <td>0</td>\n      <td>1</td>\n      <td>1</td>\n      <td>0</td>\n      <td>0</td>\n      <td>0</td>\n      <td>...</td>\n      <td>0</td>\n      <td>0</td>\n      <td>0</td>\n      <td>0</td>\n      <td>0</td>\n      <td>0</td>\n      <td>0</td>\n      <td>0</td>\n      <td>0</td>\n      <td>0</td>\n    </tr>\n  </tbody>\n</table>\n<p>542 rows × 340 columns</p>\n</div>"
     },
     "execution_count": 19,
     "metadata": {},
     "output_type": "execute_result"
    }
   ],
   "source": [
    "labels_train"
   ]
  },
  {
   "cell_type": "code",
   "execution_count": 20,
   "metadata": {
    "colab": {
     "base_uri": "https://localhost:8080/",
     "height": 505
    },
    "id": "5HMiKorAtkKv",
    "outputId": "b350ce7d-1e0c-478d-c0dd-508657ac017a",
    "pycharm": {
     "name": "#%%\n"
    }
   },
   "outputs": [
    {
     "data": {
      "text/plain": "     pendent  teardrop  horizontal  panel  group  vertical  bar  floating  \\\n12e        0         0           0      0      0         0    0         0   \n12f        0         0           0      0      0         0    0         0   \n13c        0         0           0      0      0         0    0         0   \n13d        0         0           0      0      0         0    0         0   \n16k        0         0           0      0      0         0    0         0   \n..       ...       ...         ...    ...    ...       ...  ...       ...   \n93g        0         0           1      1      0         0    0         0   \n94a        0         0           1      1      0         0    0         0   \n94c        0         0           1      1      0         0    1         0   \n96a        0         0           0      0      0         0    0         0   \n96e        0         0           1      1      0         0    0         0   \n\n     enclosing  shorter  ...  light  body  bird  striped  worm  angular  \\\n12e          0        0  ...      0     0     0        0     0        0   \n12f          0        0  ...      0     0     0        0     0        0   \n13c          0        0  ...      0     0     0        0     0        0   \n13d          1        0  ...      0     0     0        0     0        0   \n16k          1        0  ...      0     0     0        0     0        0   \n..         ...      ...  ...    ...   ...   ...      ...   ...      ...   \n93g          0        0  ...      0     0     0        0     0        0   \n94a          0        0  ...      0     0     0        0     0        0   \n94c          1        0  ...      0     0     0        0     0        0   \n96a          0        0  ...      0     0     0        0     0        0   \n96e          0        0  ...      0     0     0        0     0        0   \n\n     raised  head  bird-seed  long  \n12e       0     0          0     0  \n12f       0     0          0     0  \n13c       0     0          0     0  \n13d       0     0          0     0  \n16k       0     0          0     0  \n..      ...   ...        ...   ...  \n93g       0     0          0     0  \n94a       0     0          0     0  \n94c       0     0          0     0  \n96a       0     0          0     0  \n96e       0     0          0     0  \n\n[78 rows x 340 columns]",
      "text/html": "<div>\n<style scoped>\n    .dataframe tbody tr th:only-of-type {\n        vertical-align: middle;\n    }\n\n    .dataframe tbody tr th {\n        vertical-align: top;\n    }\n\n    .dataframe thead th {\n        text-align: right;\n    }\n</style>\n<table border=\"1\" class=\"dataframe\">\n  <thead>\n    <tr style=\"text-align: right;\">\n      <th></th>\n      <th>pendent</th>\n      <th>teardrop</th>\n      <th>horizontal</th>\n      <th>panel</th>\n      <th>group</th>\n      <th>vertical</th>\n      <th>bar</th>\n      <th>floating</th>\n      <th>enclosing</th>\n      <th>shorter</th>\n      <th>...</th>\n      <th>light</th>\n      <th>body</th>\n      <th>bird</th>\n      <th>striped</th>\n      <th>worm</th>\n      <th>angular</th>\n      <th>raised</th>\n      <th>head</th>\n      <th>bird-seed</th>\n      <th>long</th>\n    </tr>\n  </thead>\n  <tbody>\n    <tr>\n      <th>12e</th>\n      <td>0</td>\n      <td>0</td>\n      <td>0</td>\n      <td>0</td>\n      <td>0</td>\n      <td>0</td>\n      <td>0</td>\n      <td>0</td>\n      <td>0</td>\n      <td>0</td>\n      <td>...</td>\n      <td>0</td>\n      <td>0</td>\n      <td>0</td>\n      <td>0</td>\n      <td>0</td>\n      <td>0</td>\n      <td>0</td>\n      <td>0</td>\n      <td>0</td>\n      <td>0</td>\n    </tr>\n    <tr>\n      <th>12f</th>\n      <td>0</td>\n      <td>0</td>\n      <td>0</td>\n      <td>0</td>\n      <td>0</td>\n      <td>0</td>\n      <td>0</td>\n      <td>0</td>\n      <td>0</td>\n      <td>0</td>\n      <td>...</td>\n      <td>0</td>\n      <td>0</td>\n      <td>0</td>\n      <td>0</td>\n      <td>0</td>\n      <td>0</td>\n      <td>0</td>\n      <td>0</td>\n      <td>0</td>\n      <td>0</td>\n    </tr>\n    <tr>\n      <th>13c</th>\n      <td>0</td>\n      <td>0</td>\n      <td>0</td>\n      <td>0</td>\n      <td>0</td>\n      <td>0</td>\n      <td>0</td>\n      <td>0</td>\n      <td>0</td>\n      <td>0</td>\n      <td>...</td>\n      <td>0</td>\n      <td>0</td>\n      <td>0</td>\n      <td>0</td>\n      <td>0</td>\n      <td>0</td>\n      <td>0</td>\n      <td>0</td>\n      <td>0</td>\n      <td>0</td>\n    </tr>\n    <tr>\n      <th>13d</th>\n      <td>0</td>\n      <td>0</td>\n      <td>0</td>\n      <td>0</td>\n      <td>0</td>\n      <td>0</td>\n      <td>0</td>\n      <td>0</td>\n      <td>1</td>\n      <td>0</td>\n      <td>...</td>\n      <td>0</td>\n      <td>0</td>\n      <td>0</td>\n      <td>0</td>\n      <td>0</td>\n      <td>0</td>\n      <td>0</td>\n      <td>0</td>\n      <td>0</td>\n      <td>0</td>\n    </tr>\n    <tr>\n      <th>16k</th>\n      <td>0</td>\n      <td>0</td>\n      <td>0</td>\n      <td>0</td>\n      <td>0</td>\n      <td>0</td>\n      <td>0</td>\n      <td>0</td>\n      <td>1</td>\n      <td>0</td>\n      <td>...</td>\n      <td>0</td>\n      <td>0</td>\n      <td>0</td>\n      <td>0</td>\n      <td>0</td>\n      <td>0</td>\n      <td>0</td>\n      <td>0</td>\n      <td>0</td>\n      <td>0</td>\n    </tr>\n    <tr>\n      <th>...</th>\n      <td>...</td>\n      <td>...</td>\n      <td>...</td>\n      <td>...</td>\n      <td>...</td>\n      <td>...</td>\n      <td>...</td>\n      <td>...</td>\n      <td>...</td>\n      <td>...</td>\n      <td>...</td>\n      <td>...</td>\n      <td>...</td>\n      <td>...</td>\n      <td>...</td>\n      <td>...</td>\n      <td>...</td>\n      <td>...</td>\n      <td>...</td>\n      <td>...</td>\n      <td>...</td>\n    </tr>\n    <tr>\n      <th>93g</th>\n      <td>0</td>\n      <td>0</td>\n      <td>1</td>\n      <td>1</td>\n      <td>0</td>\n      <td>0</td>\n      <td>0</td>\n      <td>0</td>\n      <td>0</td>\n      <td>0</td>\n      <td>...</td>\n      <td>0</td>\n      <td>0</td>\n      <td>0</td>\n      <td>0</td>\n      <td>0</td>\n      <td>0</td>\n      <td>0</td>\n      <td>0</td>\n      <td>0</td>\n      <td>0</td>\n    </tr>\n    <tr>\n      <th>94a</th>\n      <td>0</td>\n      <td>0</td>\n      <td>1</td>\n      <td>1</td>\n      <td>0</td>\n      <td>0</td>\n      <td>0</td>\n      <td>0</td>\n      <td>0</td>\n      <td>0</td>\n      <td>...</td>\n      <td>0</td>\n      <td>0</td>\n      <td>0</td>\n      <td>0</td>\n      <td>0</td>\n      <td>0</td>\n      <td>0</td>\n      <td>0</td>\n      <td>0</td>\n      <td>0</td>\n    </tr>\n    <tr>\n      <th>94c</th>\n      <td>0</td>\n      <td>0</td>\n      <td>1</td>\n      <td>1</td>\n      <td>0</td>\n      <td>0</td>\n      <td>1</td>\n      <td>0</td>\n      <td>1</td>\n      <td>0</td>\n      <td>...</td>\n      <td>0</td>\n      <td>0</td>\n      <td>0</td>\n      <td>0</td>\n      <td>0</td>\n      <td>0</td>\n      <td>0</td>\n      <td>0</td>\n      <td>0</td>\n      <td>0</td>\n    </tr>\n    <tr>\n      <th>96a</th>\n      <td>0</td>\n      <td>0</td>\n      <td>0</td>\n      <td>0</td>\n      <td>0</td>\n      <td>0</td>\n      <td>0</td>\n      <td>0</td>\n      <td>0</td>\n      <td>0</td>\n      <td>...</td>\n      <td>0</td>\n      <td>0</td>\n      <td>0</td>\n      <td>0</td>\n      <td>0</td>\n      <td>0</td>\n      <td>0</td>\n      <td>0</td>\n      <td>0</td>\n      <td>0</td>\n    </tr>\n    <tr>\n      <th>96e</th>\n      <td>0</td>\n      <td>0</td>\n      <td>1</td>\n      <td>1</td>\n      <td>0</td>\n      <td>0</td>\n      <td>0</td>\n      <td>0</td>\n      <td>0</td>\n      <td>0</td>\n      <td>...</td>\n      <td>0</td>\n      <td>0</td>\n      <td>0</td>\n      <td>0</td>\n      <td>0</td>\n      <td>0</td>\n      <td>0</td>\n      <td>0</td>\n      <td>0</td>\n      <td>0</td>\n    </tr>\n  </tbody>\n</table>\n<p>78 rows × 340 columns</p>\n</div>"
     },
     "execution_count": 20,
     "metadata": {},
     "output_type": "execute_result"
    }
   ],
   "source": [
    "labels_val"
   ]
  },
  {
   "cell_type": "code",
   "execution_count": 21,
   "metadata": {
    "colab": {
     "base_uri": "https://localhost:8080/",
     "height": 505
    },
    "id": "WEUtX0-UtlRQ",
    "outputId": "9c037733-aae7-4ea1-bf95-614f34c1457f",
    "pycharm": {
     "name": "#%%\n"
    }
   },
   "outputs": [
    {
     "data": {
      "text/plain": "     pendent  teardrop  horizontal  panel  group  vertical  bar  floating  \\\n10b        0         0           0      0      0         0    0         0   \n12b        0         0           1      1      0         0    0         0   \n12d        0         0           0      0      0         0    0         0   \n13f        0         0           0      0      0         0    0         0   \n13h        0         0           1      1      0         0    0         0   \n..       ...       ...         ...    ...    ...       ...  ...       ...   \n95i        0         0           0      0      0         0    0         0   \n95k        0         0           1      1      0         0    0         0   \n96b        0         0           0      0      0         0    0         0   \n96i        0         0           0      0      0         0    0         0   \n9e         0         0           0      0      0         0    0         0   \n\n     enclosing  shorter  ...  light  body  bird  striped  worm  angular  \\\n10b          1        0  ...      0     0     0        0     0        0   \n12b          1        0  ...      0     0     0        0     0        0   \n12d          0        0  ...      0     0     0        0     0        0   \n13f          0        0  ...      0     0     0        0     0        0   \n13h          0        0  ...      0     0     0        0     0        0   \n..         ...      ...  ...    ...   ...   ...      ...   ...      ...   \n95i          0        0  ...      0     1     1        0     0        0   \n95k          0        0  ...      0     0     0        0     0        0   \n96b          1        0  ...      0     0     0        0     0        0   \n96i          0        0  ...      0     0     0        0     0        0   \n9e           0        0  ...      0     0     0        0     0        0   \n\n     raised  head  bird-seed  long  \n10b       0     0          0     0  \n12b       0     0          0     0  \n12d       0     0          0     0  \n13f       0     0          0     0  \n13h       0     0          0     0  \n..      ...   ...        ...   ...  \n95i       0     0          0     0  \n95k       0     0          0     0  \n96b       0     0          0     0  \n96i       0     0          0     0  \n9e        0     0          0     0  \n\n[156 rows x 340 columns]",
      "text/html": "<div>\n<style scoped>\n    .dataframe tbody tr th:only-of-type {\n        vertical-align: middle;\n    }\n\n    .dataframe tbody tr th {\n        vertical-align: top;\n    }\n\n    .dataframe thead th {\n        text-align: right;\n    }\n</style>\n<table border=\"1\" class=\"dataframe\">\n  <thead>\n    <tr style=\"text-align: right;\">\n      <th></th>\n      <th>pendent</th>\n      <th>teardrop</th>\n      <th>horizontal</th>\n      <th>panel</th>\n      <th>group</th>\n      <th>vertical</th>\n      <th>bar</th>\n      <th>floating</th>\n      <th>enclosing</th>\n      <th>shorter</th>\n      <th>...</th>\n      <th>light</th>\n      <th>body</th>\n      <th>bird</th>\n      <th>striped</th>\n      <th>worm</th>\n      <th>angular</th>\n      <th>raised</th>\n      <th>head</th>\n      <th>bird-seed</th>\n      <th>long</th>\n    </tr>\n  </thead>\n  <tbody>\n    <tr>\n      <th>10b</th>\n      <td>0</td>\n      <td>0</td>\n      <td>0</td>\n      <td>0</td>\n      <td>0</td>\n      <td>0</td>\n      <td>0</td>\n      <td>0</td>\n      <td>1</td>\n      <td>0</td>\n      <td>...</td>\n      <td>0</td>\n      <td>0</td>\n      <td>0</td>\n      <td>0</td>\n      <td>0</td>\n      <td>0</td>\n      <td>0</td>\n      <td>0</td>\n      <td>0</td>\n      <td>0</td>\n    </tr>\n    <tr>\n      <th>12b</th>\n      <td>0</td>\n      <td>0</td>\n      <td>1</td>\n      <td>1</td>\n      <td>0</td>\n      <td>0</td>\n      <td>0</td>\n      <td>0</td>\n      <td>1</td>\n      <td>0</td>\n      <td>...</td>\n      <td>0</td>\n      <td>0</td>\n      <td>0</td>\n      <td>0</td>\n      <td>0</td>\n      <td>0</td>\n      <td>0</td>\n      <td>0</td>\n      <td>0</td>\n      <td>0</td>\n    </tr>\n    <tr>\n      <th>12d</th>\n      <td>0</td>\n      <td>0</td>\n      <td>0</td>\n      <td>0</td>\n      <td>0</td>\n      <td>0</td>\n      <td>0</td>\n      <td>0</td>\n      <td>0</td>\n      <td>0</td>\n      <td>...</td>\n      <td>0</td>\n      <td>0</td>\n      <td>0</td>\n      <td>0</td>\n      <td>0</td>\n      <td>0</td>\n      <td>0</td>\n      <td>0</td>\n      <td>0</td>\n      <td>0</td>\n    </tr>\n    <tr>\n      <th>13f</th>\n      <td>0</td>\n      <td>0</td>\n      <td>0</td>\n      <td>0</td>\n      <td>0</td>\n      <td>0</td>\n      <td>0</td>\n      <td>0</td>\n      <td>0</td>\n      <td>0</td>\n      <td>...</td>\n      <td>0</td>\n      <td>0</td>\n      <td>0</td>\n      <td>0</td>\n      <td>0</td>\n      <td>0</td>\n      <td>0</td>\n      <td>0</td>\n      <td>0</td>\n      <td>0</td>\n    </tr>\n    <tr>\n      <th>13h</th>\n      <td>0</td>\n      <td>0</td>\n      <td>1</td>\n      <td>1</td>\n      <td>0</td>\n      <td>0</td>\n      <td>0</td>\n      <td>0</td>\n      <td>0</td>\n      <td>0</td>\n      <td>...</td>\n      <td>0</td>\n      <td>0</td>\n      <td>0</td>\n      <td>0</td>\n      <td>0</td>\n      <td>0</td>\n      <td>0</td>\n      <td>0</td>\n      <td>0</td>\n      <td>0</td>\n    </tr>\n    <tr>\n      <th>...</th>\n      <td>...</td>\n      <td>...</td>\n      <td>...</td>\n      <td>...</td>\n      <td>...</td>\n      <td>...</td>\n      <td>...</td>\n      <td>...</td>\n      <td>...</td>\n      <td>...</td>\n      <td>...</td>\n      <td>...</td>\n      <td>...</td>\n      <td>...</td>\n      <td>...</td>\n      <td>...</td>\n      <td>...</td>\n      <td>...</td>\n      <td>...</td>\n      <td>...</td>\n      <td>...</td>\n    </tr>\n    <tr>\n      <th>95i</th>\n      <td>0</td>\n      <td>0</td>\n      <td>0</td>\n      <td>0</td>\n      <td>0</td>\n      <td>0</td>\n      <td>0</td>\n      <td>0</td>\n      <td>0</td>\n      <td>0</td>\n      <td>...</td>\n      <td>0</td>\n      <td>1</td>\n      <td>1</td>\n      <td>0</td>\n      <td>0</td>\n      <td>0</td>\n      <td>0</td>\n      <td>0</td>\n      <td>0</td>\n      <td>0</td>\n    </tr>\n    <tr>\n      <th>95k</th>\n      <td>0</td>\n      <td>0</td>\n      <td>1</td>\n      <td>1</td>\n      <td>0</td>\n      <td>0</td>\n      <td>0</td>\n      <td>0</td>\n      <td>0</td>\n      <td>0</td>\n      <td>...</td>\n      <td>0</td>\n      <td>0</td>\n      <td>0</td>\n      <td>0</td>\n      <td>0</td>\n      <td>0</td>\n      <td>0</td>\n      <td>0</td>\n      <td>0</td>\n      <td>0</td>\n    </tr>\n    <tr>\n      <th>96b</th>\n      <td>0</td>\n      <td>0</td>\n      <td>0</td>\n      <td>0</td>\n      <td>0</td>\n      <td>0</td>\n      <td>0</td>\n      <td>0</td>\n      <td>1</td>\n      <td>0</td>\n      <td>...</td>\n      <td>0</td>\n      <td>0</td>\n      <td>0</td>\n      <td>0</td>\n      <td>0</td>\n      <td>0</td>\n      <td>0</td>\n      <td>0</td>\n      <td>0</td>\n      <td>0</td>\n    </tr>\n    <tr>\n      <th>96i</th>\n      <td>0</td>\n      <td>0</td>\n      <td>0</td>\n      <td>0</td>\n      <td>0</td>\n      <td>0</td>\n      <td>0</td>\n      <td>0</td>\n      <td>0</td>\n      <td>0</td>\n      <td>...</td>\n      <td>0</td>\n      <td>0</td>\n      <td>0</td>\n      <td>0</td>\n      <td>0</td>\n      <td>0</td>\n      <td>0</td>\n      <td>0</td>\n      <td>0</td>\n      <td>0</td>\n    </tr>\n    <tr>\n      <th>9e</th>\n      <td>0</td>\n      <td>0</td>\n      <td>0</td>\n      <td>0</td>\n      <td>0</td>\n      <td>0</td>\n      <td>0</td>\n      <td>0</td>\n      <td>0</td>\n      <td>0</td>\n      <td>...</td>\n      <td>0</td>\n      <td>0</td>\n      <td>0</td>\n      <td>0</td>\n      <td>0</td>\n      <td>0</td>\n      <td>0</td>\n      <td>0</td>\n      <td>0</td>\n      <td>0</td>\n    </tr>\n  </tbody>\n</table>\n<p>156 rows × 340 columns</p>\n</div>"
     },
     "execution_count": 21,
     "metadata": {},
     "output_type": "execute_result"
    }
   ],
   "source": [
    "labels_test"
   ]
  },
  {
   "cell_type": "code",
   "execution_count": 22,
   "metadata": {
    "pycharm": {
     "name": "#%%\n"
    }
   },
   "outputs": [
    {
     "data": {
      "text/plain": "     pendent  teardrop  horizontal  panel  group  vertical  bar  floating  \\\n10b        0         0           0      0      0         0    0         0   \n12b        0         0           1      1      0         0    0         0   \n12d        0         0           0      0      0         0    0         0   \n13f        0         0           0      0      0         0    0         0   \n13h        0         0           1      1      0         0    0         0   \n..       ...       ...         ...    ...    ...       ...  ...       ...   \n93g        0         0           1      1      0         0    0         0   \n94a        0         0           1      1      0         0    0         0   \n94c        0         0           1      1      0         0    1         0   \n96a        0         0           0      0      0         0    0         0   \n96e        0         0           1      1      0         0    0         0   \n\n     enclosing  shorter  ...  light  body  bird  striped  worm  angular  \\\n10b          1        0  ...      0     0     0        0     0        0   \n12b          1        0  ...      0     0     0        0     0        0   \n12d          0        0  ...      0     0     0        0     0        0   \n13f          0        0  ...      0     0     0        0     0        0   \n13h          0        0  ...      0     0     0        0     0        0   \n..         ...      ...  ...    ...   ...   ...      ...   ...      ...   \n93g          0        0  ...      0     0     0        0     0        0   \n94a          0        0  ...      0     0     0        0     0        0   \n94c          1        0  ...      0     0     0        0     0        0   \n96a          0        0  ...      0     0     0        0     0        0   \n96e          0        0  ...      0     0     0        0     0        0   \n\n     raised  head  bird-seed  long  \n10b       0     0          0     0  \n12b       0     0          0     0  \n12d       0     0          0     0  \n13f       0     0          0     0  \n13h       0     0          0     0  \n..      ...   ...        ...   ...  \n93g       0     0          0     0  \n94a       0     0          0     0  \n94c       0     0          0     0  \n96a       0     0          0     0  \n96e       0     0          0     0  \n\n[234 rows x 340 columns]",
      "text/html": "<div>\n<style scoped>\n    .dataframe tbody tr th:only-of-type {\n        vertical-align: middle;\n    }\n\n    .dataframe tbody tr th {\n        vertical-align: top;\n    }\n\n    .dataframe thead th {\n        text-align: right;\n    }\n</style>\n<table border=\"1\" class=\"dataframe\">\n  <thead>\n    <tr style=\"text-align: right;\">\n      <th></th>\n      <th>pendent</th>\n      <th>teardrop</th>\n      <th>horizontal</th>\n      <th>panel</th>\n      <th>group</th>\n      <th>vertical</th>\n      <th>bar</th>\n      <th>floating</th>\n      <th>enclosing</th>\n      <th>shorter</th>\n      <th>...</th>\n      <th>light</th>\n      <th>body</th>\n      <th>bird</th>\n      <th>striped</th>\n      <th>worm</th>\n      <th>angular</th>\n      <th>raised</th>\n      <th>head</th>\n      <th>bird-seed</th>\n      <th>long</th>\n    </tr>\n  </thead>\n  <tbody>\n    <tr>\n      <th>10b</th>\n      <td>0</td>\n      <td>0</td>\n      <td>0</td>\n      <td>0</td>\n      <td>0</td>\n      <td>0</td>\n      <td>0</td>\n      <td>0</td>\n      <td>1</td>\n      <td>0</td>\n      <td>...</td>\n      <td>0</td>\n      <td>0</td>\n      <td>0</td>\n      <td>0</td>\n      <td>0</td>\n      <td>0</td>\n      <td>0</td>\n      <td>0</td>\n      <td>0</td>\n      <td>0</td>\n    </tr>\n    <tr>\n      <th>12b</th>\n      <td>0</td>\n      <td>0</td>\n      <td>1</td>\n      <td>1</td>\n      <td>0</td>\n      <td>0</td>\n      <td>0</td>\n      <td>0</td>\n      <td>1</td>\n      <td>0</td>\n      <td>...</td>\n      <td>0</td>\n      <td>0</td>\n      <td>0</td>\n      <td>0</td>\n      <td>0</td>\n      <td>0</td>\n      <td>0</td>\n      <td>0</td>\n      <td>0</td>\n      <td>0</td>\n    </tr>\n    <tr>\n      <th>12d</th>\n      <td>0</td>\n      <td>0</td>\n      <td>0</td>\n      <td>0</td>\n      <td>0</td>\n      <td>0</td>\n      <td>0</td>\n      <td>0</td>\n      <td>0</td>\n      <td>0</td>\n      <td>...</td>\n      <td>0</td>\n      <td>0</td>\n      <td>0</td>\n      <td>0</td>\n      <td>0</td>\n      <td>0</td>\n      <td>0</td>\n      <td>0</td>\n      <td>0</td>\n      <td>0</td>\n    </tr>\n    <tr>\n      <th>13f</th>\n      <td>0</td>\n      <td>0</td>\n      <td>0</td>\n      <td>0</td>\n      <td>0</td>\n      <td>0</td>\n      <td>0</td>\n      <td>0</td>\n      <td>0</td>\n      <td>0</td>\n      <td>...</td>\n      <td>0</td>\n      <td>0</td>\n      <td>0</td>\n      <td>0</td>\n      <td>0</td>\n      <td>0</td>\n      <td>0</td>\n      <td>0</td>\n      <td>0</td>\n      <td>0</td>\n    </tr>\n    <tr>\n      <th>13h</th>\n      <td>0</td>\n      <td>0</td>\n      <td>1</td>\n      <td>1</td>\n      <td>0</td>\n      <td>0</td>\n      <td>0</td>\n      <td>0</td>\n      <td>0</td>\n      <td>0</td>\n      <td>...</td>\n      <td>0</td>\n      <td>0</td>\n      <td>0</td>\n      <td>0</td>\n      <td>0</td>\n      <td>0</td>\n      <td>0</td>\n      <td>0</td>\n      <td>0</td>\n      <td>0</td>\n    </tr>\n    <tr>\n      <th>...</th>\n      <td>...</td>\n      <td>...</td>\n      <td>...</td>\n      <td>...</td>\n      <td>...</td>\n      <td>...</td>\n      <td>...</td>\n      <td>...</td>\n      <td>...</td>\n      <td>...</td>\n      <td>...</td>\n      <td>...</td>\n      <td>...</td>\n      <td>...</td>\n      <td>...</td>\n      <td>...</td>\n      <td>...</td>\n      <td>...</td>\n      <td>...</td>\n      <td>...</td>\n      <td>...</td>\n    </tr>\n    <tr>\n      <th>93g</th>\n      <td>0</td>\n      <td>0</td>\n      <td>1</td>\n      <td>1</td>\n      <td>0</td>\n      <td>0</td>\n      <td>0</td>\n      <td>0</td>\n      <td>0</td>\n      <td>0</td>\n      <td>...</td>\n      <td>0</td>\n      <td>0</td>\n      <td>0</td>\n      <td>0</td>\n      <td>0</td>\n      <td>0</td>\n      <td>0</td>\n      <td>0</td>\n      <td>0</td>\n      <td>0</td>\n    </tr>\n    <tr>\n      <th>94a</th>\n      <td>0</td>\n      <td>0</td>\n      <td>1</td>\n      <td>1</td>\n      <td>0</td>\n      <td>0</td>\n      <td>0</td>\n      <td>0</td>\n      <td>0</td>\n      <td>0</td>\n      <td>...</td>\n      <td>0</td>\n      <td>0</td>\n      <td>0</td>\n      <td>0</td>\n      <td>0</td>\n      <td>0</td>\n      <td>0</td>\n      <td>0</td>\n      <td>0</td>\n      <td>0</td>\n    </tr>\n    <tr>\n      <th>94c</th>\n      <td>0</td>\n      <td>0</td>\n      <td>1</td>\n      <td>1</td>\n      <td>0</td>\n      <td>0</td>\n      <td>1</td>\n      <td>0</td>\n      <td>1</td>\n      <td>0</td>\n      <td>...</td>\n      <td>0</td>\n      <td>0</td>\n      <td>0</td>\n      <td>0</td>\n      <td>0</td>\n      <td>0</td>\n      <td>0</td>\n      <td>0</td>\n      <td>0</td>\n      <td>0</td>\n    </tr>\n    <tr>\n      <th>96a</th>\n      <td>0</td>\n      <td>0</td>\n      <td>0</td>\n      <td>0</td>\n      <td>0</td>\n      <td>0</td>\n      <td>0</td>\n      <td>0</td>\n      <td>0</td>\n      <td>0</td>\n      <td>...</td>\n      <td>0</td>\n      <td>0</td>\n      <td>0</td>\n      <td>0</td>\n      <td>0</td>\n      <td>0</td>\n      <td>0</td>\n      <td>0</td>\n      <td>0</td>\n      <td>0</td>\n    </tr>\n    <tr>\n      <th>96e</th>\n      <td>0</td>\n      <td>0</td>\n      <td>1</td>\n      <td>1</td>\n      <td>0</td>\n      <td>0</td>\n      <td>0</td>\n      <td>0</td>\n      <td>0</td>\n      <td>0</td>\n      <td>...</td>\n      <td>0</td>\n      <td>0</td>\n      <td>0</td>\n      <td>0</td>\n      <td>0</td>\n      <td>0</td>\n      <td>0</td>\n      <td>0</td>\n      <td>0</td>\n      <td>0</td>\n    </tr>\n  </tbody>\n</table>\n<p>234 rows × 340 columns</p>\n</div>"
     },
     "execution_count": 22,
     "metadata": {},
     "output_type": "execute_result"
    }
   ],
   "source": [
    "labels_test_val = pd.DataFrame.append(labels_test, labels_val)\n",
    "labels_test_val"
   ]
  },
  {
   "cell_type": "code",
   "execution_count": 23,
   "metadata": {
    "id": "YB3NZ7maE_Go",
    "pycharm": {
     "name": "#%%\n"
    }
   },
   "outputs": [],
   "source": [
    "def filter_labels(labels_df, freq, number_labels = None):\n",
    "  \"\"\"Filters a label dataframe based on labels frequency (number of events)\n",
    "\n",
    "    Parameters:\n",
    "    labels_df (DataFrame): dataframe of labels \n",
    "    freq (int): threshold frequency. Labels with a lower value will be filtered. \n",
    "\n",
    "    Returns:\n",
    "    DataFrame: filtered labels dataframe\n",
    "\n",
    "  \"\"\"\n",
    "  top_labels = None\n",
    "\n",
    "  if not number_labels:\n",
    "    filtered_df = labels_df.loc[:, labels_df.sum(axis=0) > freq]\n",
    "    top_labels = filtered_df.sum().sort_values(ascending=False)\n",
    "    return top_labels, 0\n",
    "\n",
    "  if number_labels:\n",
    "      filtered_labels = 0\n",
    "      pivot = freq\n",
    "      while filtered_labels != number_labels:\n",
    "              filtered_df = labels_df.loc[:, labels_df.sum(axis=0) > pivot]\n",
    "              top_labels = filtered_df.sum().sort_values(ascending=False)\n",
    "              if len(top_labels.values) > number_labels:\n",
    "                  pivot += 1\n",
    "              elif len(top_labels.values) < number_labels:\n",
    "                  pivot -= 1\n",
    "              else:\n",
    "                  print(\"Aplicando threshold {} para trabajar con {} labels\".format(pivot, len(top_labels.values)))\n",
    "                  return top_labels, pivot\n",
    "\n",
    "def filter_dfs(df, top_labels_df):\n",
    "  df = df[df.columns.intersection(top_labels_df.index)]\n",
    "  return df\n",
    "\n",
    "def combine_dfs(labels_df, top_labels_df, features_df):\n",
    "  \"\"\"Combine labels dataframe with features dataframe based on index (patterns names)\n",
    "     keeping only the most frequent labels.\n",
    "\n",
    "    Parameters:\n",
    "    labels_df (DataFrame): dataframe of labels, with patterns name as index\n",
    "    top_labels_df (DataFrame): a 1D dataframe with the name of the most freq. labels, as \n",
    "    the outcome of filter_labels() function \n",
    "    features_df (DataFrame): dataframe of features, with patterns name as index \n",
    "\n",
    "    Returns:\n",
    "    DataFrame: combined labels + features dataframe, merged on index\n",
    "\n",
    "  \"\"\"\n",
    "  assert len(labels_df) == len(features_df)\n",
    "  labels_df = labels_df[labels_df.columns.intersection(top_labels_df.index)]\n",
    "  final_df = pd.merge(labels_df,       \n",
    "                      features_df,  \n",
    "                      left_index=True, right_index=True)\n",
    "  return final_df\n",
    "\n",
    "def split_data(final_df, top_labels_df, test_size):\n",
    "  \"\"\"Splits the data in train and test. \n",
    "    \n",
    "    Parameters:\n",
    "    final_df (DataFrame): outcome of combine_dfs.\n",
    "    top_labels_df (DataFrame): dataframe of most freq. labels. Necessary to \n",
    "    know at which column the labels (Y) ends and the features (X) starts  \n",
    "    freq (int): threshold frequency. Labels with a lower value will be filtered. \n",
    "    test_size (float): proportion test/(test+train).\n",
    "\n",
    "    Returns:\n",
    "    (np.array, np.array, np.array, np.array): X train, X test, Y train, Y test\n",
    "\n",
    "  \"\"\"\n",
    "  X = np.array(final_df.iloc[:, len(final_df):], dtype=float)\n",
    "  Y = np.array(final_df.iloc[:, 0:len(final_df)], dtype=float)\n",
    "  X_train, X_test, Y_train, Y_test = train_test_split(X, Y, test_size=test_size,random_state=42)\n",
    "  return X_train, X_test, Y_train, Y_test"
   ]
  },
  {
   "cell_type": "code",
   "execution_count": 24,
   "metadata": {
    "colab": {
     "base_uri": "https://localhost:8080/"
    },
    "id": "KZaQiijIjeK1",
    "outputId": "4636cac7-9623-4ef8-bb90-20d7d94d473f",
    "pycharm": {
     "name": "#%%\n"
    }
   },
   "outputs": [
    {
     "name": "stdout",
     "output_type": "stream",
     "text": [
      "Aplicando threshold 25 para trabajar con 25 labels\n"
     ]
    },
    {
     "data": {
      "text/plain": "panel            317\nhorizontal       254\nvertical         121\nhatched          120\nornament         114\nlozenge           99\nmetopal           93\nfilling           84\ntriangle          69\ndouble            69\ncross-hatched     65\nmeander           57\nchain             53\nbar               48\noutline           38\nline              37\nsingle            36\nhook              36\ndotted            36\nzigzag            34\nsolid             31\nturning           30\nleft              28\ndot               27\nright             27\ndtype: int64"
     },
     "execution_count": 24,
     "metadata": {},
     "output_type": "execute_result"
    }
   ],
   "source": [
    "top_labels_df, pivot = filter_labels(labels_train, 25, 25) # for example\n",
    "top_labels_df"
   ]
  },
  {
   "cell_type": "markdown",
   "metadata": {
    "id": "ax5JDv_viS_i",
    "pycharm": {
     "name": "#%% md\n"
    }
   },
   "source": [
    "# Data exploration"
   ]
  },
  {
   "cell_type": "code",
   "execution_count": 25,
   "metadata": {
    "colab": {
     "base_uri": "https://localhost:8080/"
    },
    "id": "Qp5GR65oM1av",
    "outputId": "9f5a9207-bbdc-46a3-a537-28eeab9a4de3",
    "pycharm": {
     "name": "#%%\n"
    }
   },
   "outputs": [
    {
     "name": "stdout",
     "output_type": "stream",
     "text": [
      "Exploring train set\n",
      "Number of unique labels combinations: 422\n",
      "Label cardinality: 5.392988929889309\n",
      "Label density: 0.009950164077286548\n"
     ]
    }
   ],
   "source": [
    "def get_unique_combinations(labels_df):\n",
    "  \"\"\"Returns the number of different combinations of labels in labels_df.\n",
    "\n",
    "    Parameters:\n",
    "    labels_df (DataFrame): dataframe of labels \n",
    "\n",
    "    Returns:\n",
    "    int: number of unique labels combinations in labels_df\n",
    "  \"\"\"\n",
    "  unique_combinations = len(labels_df.drop_duplicates())\n",
    "  print(\"Number of unique labels combinations: \" + str(unique_combinations))\n",
    "  return unique_combinations\n",
    "\n",
    "def get_label_metrics(labels_df):\n",
    "  \"\"\"Returns label cardinality and label density of a multilabel dataset.\n",
    "     Label cardinality: average number of labels per entry \n",
    "     Label density: fraction of assigned labels over total num of labels,\n",
    "                    averaged per entry\n",
    "    Parameters:\n",
    "    labels_df (DataFrame): dataframe of labels \n",
    "    freq (int): threshold frequency. Labels with a lower value will be filtered. \n",
    "\n",
    "    Returns:\n",
    "    DataFrame: filtered labels dataframe\n",
    "\n",
    "  \"\"\"\n",
    "  sum_labels = labels_df.sum(axis=1)\n",
    "  total_labels = labels_df.shape[0]\n",
    "  label_cardinality = 0\n",
    "  for label in sum_labels:\n",
    "    label_cardinality += label/total_labels\n",
    "  label_density = label_cardinality/total_labels\n",
    "  print(\"Label cardinality: {}\".format(label_cardinality))\n",
    "  print(\"Label density: {}\".format(label_density))\n",
    "  return(label_cardinality, label_density)\n",
    "\n",
    "print(\"Exploring train set\")\n",
    "combinations = get_unique_combinations(labels_train)\n",
    "metrics = get_label_metrics(labels_train)"
   ]
  },
  {
   "cell_type": "markdown",
   "metadata": {
    "id": "CN_a5JIP8MTC",
    "pycharm": {
     "name": "#%% md\n"
    }
   },
   "source": [
    "# Functions to run experiments and visualizations"
   ]
  },
  {
   "cell_type": "code",
   "execution_count": 26,
   "metadata": {
    "id": "o4fAe7KCT7P9",
    "pycharm": {
     "name": "#%%\n"
    }
   },
   "outputs": [],
   "source": [
    "def hamming_score(y_true, y_pred, normalize=True, sample_weight=None):\n",
    "    '''\n",
    "    Compute the Hamming score (a.k.a. label-based accuracy) for the multi-label case\n",
    "    http://stackoverflow.com/q/32239577/395857\n",
    "    '''\n",
    "    acc_list = []\n",
    "    for i in range(y_true.shape[0]):\n",
    "        set_true = set( np.where(y_true[i])[0] )\n",
    "        set_pred = set( np.where(y_pred[i])[0] )\n",
    "        #print('\\nset_true: {0}'.format(set_true))\n",
    "        #print('set_pred: {0}'.format(set_pred))\n",
    "        tmp_a = None\n",
    "        if len(set_true) == 0 and len(set_pred) == 0:\n",
    "            tmp_a = 1\n",
    "        else:\n",
    "            tmp_a = len(set_true.intersection(set_pred))/\\\n",
    "                    float( len(set_true.union(set_pred)) )\n",
    "        #print('tmp_a: {0}'.format(tmp_a))\n",
    "        acc_list.append(tmp_a)\n",
    "    return np.mean(acc_list)"
   ]
  },
  {
   "cell_type": "code",
   "execution_count": 27,
   "metadata": {
    "id": "2_NdKx3B8Pbk",
    "pycharm": {
     "name": "#%%\n"
    }
   },
   "outputs": [],
   "source": [
    "def build_model(mlb_estimator, xtrain, ytrain, xtest, ytest, model=None):\n",
    "    \"\"\"Builds a multilabel estimator and runs it over a given train and test data,\n",
    "       with an optional base classifier model.\n",
    "\n",
    "    Parameters:\n",
    "    mlb_estimator (mlb classifier): a PROBLEM_TRANSFORMATION or ALGORITHM_ADAPTATION \n",
    "                                    method from sklearn-multilabel\n",
    "    xtrain, ytrain, xtest, ytest (np arrays): train and test data\n",
    "    model (Base Estimator): optional, ignored if mlb_estimator is part of \n",
    "                            ALGORITHM_ADAPTATION methods. Base classifier to be \n",
    "                            used with the PROBLEM_TRANSFORMATION methods.\n",
    "\n",
    "    Returns:\n",
    "    (dict, np.array): dict with metrics (exact match, hamming loss and score) \n",
    "                      and array of predictions.\n",
    "    \"\"\"\n",
    "    xtrain = sparse.csr_matrix(xtrain)\n",
    "    ytrain = sparse.csr_matrix(ytrain)\n",
    "    xtest = sparse.csr_matrix(xtest)\n",
    "    ytest = sparse.csr_matrix(ytest)\n",
    "    if model:\n",
    "      clf = mlb_estimator(model)\n",
    "    else:\n",
    "      clf = mlb_estimator\n",
    "    clf.fit(xtrain, ytrain)\n",
    "    clf_predictions = clf.predict(xtest)\n",
    "    clf_predictions = sparse.csr_matrix(clf_predictions)\n",
    "    exact_match = accuracy_score(ytest,clf_predictions)\n",
    "    ham_loss = hamming_loss(ytest,clf_predictions)\n",
    "    ham_score = hamming_score(ytest.toarray(), clf_predictions.toarray())\n",
    "    result = {\"exact_match\":exact_match,\"hamming_loss\": ham_loss, \"hamming_score\":ham_score}\n",
    "    return result, clf_predictions"
   ]
  },
  {
   "cell_type": "code",
   "execution_count": 28,
   "metadata": {
    "id": "ZblSPda0wIF-",
    "pycharm": {
     "name": "#%%\n"
    }
   },
   "outputs": [],
   "source": [
    "# Plotting linemarks\n",
    "ALREADY_RUN = False \n",
    "\n",
    "# This code has to be executed only once in order to have the same linemarks in \n",
    "# each figure\n",
    "if not ALREADY_RUN:\n",
    "  import random\n",
    "  linemark = []\n",
    "  MARKERS = ['.','+','v','x','*']\n",
    "  LINE_STYLES = ['-','--','-.',':']\n",
    "\n",
    "  for i in range(0, 20): \n",
    "    linestyle = LINE_STYLES[random.randint(0, len(LINE_STYLES)-1)]\n",
    "    marker = MARKERS[random.randint(0, len(MARKERS)-1)]\n",
    "    linemark.append (linestyle + marker)\n",
    "  \n",
    "  ALREADY_RUN = True"
   ]
  },
  {
   "cell_type": "code",
   "execution_count": 29,
   "outputs": [],
   "source": [
    "  def plot_results(x, acc = [], loss = [], score=[], label=[], title = \"\",\n",
    "                 xlabel = \"\", ylabel = \"\", plot_emr=False, plot_hl=False, plot_hs=True):\n",
    "    \"\"\"plots accuracy, hamming loss and hamming score of multiple classifiers.\n",
    "    \n",
    "    Returns:\n",
    "    DataFrame: filtered labels dataframe\n",
    "\n",
    "    \"\"\"\n",
    "    assert len(acc) == len(loss) == len(label)\n",
    "    if plot_emr:\n",
    "        f_acc = plt.figure(1)\n",
    "        f_acc.set_figheight(9)\n",
    "        f_acc.set_figwidth(7)\n",
    "        ax1 = f_acc.add_subplot(111)\n",
    "        ax1.set_title(title + \"\\n Exact Match Ratio\")\n",
    "        ax1.set_xlabel(xlabel)\n",
    "        ax1.set_ylabel(ylabel)\n",
    "        ax1.set_ylim(0, 1)\n",
    "        for i in range(0, len(acc)):\n",
    "          ax1.plot(x, acc[i],  linemark[i], label=label[i])\n",
    "        ax1.legend()\n",
    "        f_acc.show()\n",
    "    if plot_hl:\n",
    "        f_loss = plt.figure(2)\n",
    "        f_loss.set_figheight(9)\n",
    "        f_loss.set_figwidth(7)\n",
    "        ax2 = f_loss.add_subplot(111)\n",
    "        ax2.set_title(title  + \"\\n Hamming Loss\")\n",
    "        ax2.set_xlabel(xlabel)\n",
    "        ax2.set_ylabel(ylabel)\n",
    "        for i in range(0, len(loss)):\n",
    "          ax2.plot(x, loss[i], linemark[i], label=label[i])\n",
    "        ax2.legend()\n",
    "        f_loss.show()\n",
    "\n",
    "    if plot_hs:\n",
    "        f_score = plt.figure(3)\n",
    "        f_score.set_figheight(9)\n",
    "        f_score.set_figwidth(7)\n",
    "        ax3 = f_score.add_subplot(111)\n",
    "        ax3.set_title(title  + \"\\n Hamming Score\")\n",
    "        ax3.set_xlabel(xlabel)\n",
    "        ax3.set_ylabel(ylabel)\n",
    "        ax3.set_ylim(0, 1)\n",
    "        #ax3.set_xlim(0, 100)\n",
    "        for i in range(0, len(score)):\n",
    "          ax3.plot(x, score[i], linemark[i], label=label[i])\n",
    "        ax3.legend()\n",
    "        f_score.show()"
   ],
   "metadata": {
    "collapsed": false,
    "pycharm": {
     "name": "#%%\n"
    }
   }
  },
  {
   "cell_type": "code",
   "execution_count": 30,
   "outputs": [],
   "source": [
    "def print_confusion_matrix(confusion_matrix, axes, class_label, class_names, fontsize=14):\n",
    "    \"\"\"\n",
    "    Prints confusion matrix for multilabel classification.\n",
    "    \"\"\"\n",
    "    df_cm = pd.DataFrame(\n",
    "        confusion_matrix, index=class_names, columns=class_names,\n",
    "    )\n",
    "    try:\n",
    "        heatmap = sns.heatmap(df_cm, annot=True, fmt=\"d\", cbar=False, ax=axes)\n",
    "    except ValueError:\n",
    "        raise ValueError(\"Confusion matrix values must be integers.\")\n",
    "    heatmap.yaxis.set_ticklabels(heatmap.yaxis.get_ticklabels(), rotation=0, ha='right', fontsize=fontsize)\n",
    "    heatmap.xaxis.set_ticklabels(heatmap.xaxis.get_ticklabels(), rotation=45, ha='right', fontsize=fontsize)\n",
    "    axes.set_ylabel('True label')\n",
    "    axes.set_xlabel('Predicted label')\n",
    "    axes.set_title(class_label)\n",
    "\n",
    "def plot_multiple_matrix(cfs_matrix, present_labels, nrows=5, ncols=5, figsize=(6,10), filename=\"results\"):\n",
    "  \"\"\"\n",
    "  Plots multiple confusion matrix\n",
    "\n",
    "  Parameters:\n",
    "  cfs_matrix (2D array): an array containing the multiple confusion matrix as\n",
    "                         outcome of multilabel_confusion_matrix()\n",
    "  present_labels (1D array): array of strings with name of labels, in the same\n",
    "                             order as they are in cfs_matrix\n",
    "  nrows, ncols, figsize: number of rows, columns and size of the plot\n",
    "  \n",
    "  \"\"\"\n",
    "  fig, ax = plt.subplots(nrows, ncols, figsize=figsize)\n",
    "\n",
    "  for axes, cfs_vals, label in zip(ax.flatten(), cfs_matrix, present_labels):\n",
    "      print_confusion_matrix(cfs_vals, axes, label, [\"N\", \"Y\"])\n",
    "\n",
    "  fig.tight_layout()\n",
    "  plt.show()\n",
    "  plt.savefig(filename + \".png\")"
   ],
   "metadata": {
    "collapsed": false,
    "pycharm": {
     "name": "#%%\n"
    }
   }
  },
  {
   "cell_type": "markdown",
   "source": [
    "# Benchmark\n"
   ],
   "metadata": {
    "collapsed": false,
    "pycharm": {
     "name": "#%% md\n"
    }
   }
  },
  {
   "cell_type": "code",
   "execution_count": 31,
   "outputs": [
    {
     "data": {
      "text/plain": "'resnet18_base'"
     },
     "execution_count": 31,
     "metadata": {},
     "output_type": "execute_result"
    }
   ],
   "source": [
    "data_flags"
   ],
   "metadata": {
    "collapsed": false,
    "pycharm": {
     "name": "#%%\n"
    }
   }
  },
  {
   "cell_type": "code",
   "execution_count": 32,
   "outputs": [
    {
     "name": "stdout",
     "output_type": "stream",
     "text": [
      "Starting with i=5\n"
     ]
    },
    {
     "ename": "KeyboardInterrupt",
     "evalue": "",
     "output_type": "error",
     "traceback": [
      "\u001B[1;31m---------------------------------------------------------------------------\u001B[0m",
      "\u001B[1;31mKeyboardInterrupt\u001B[0m                         Traceback (most recent call last)",
      "Input \u001B[1;32mIn [32]\u001B[0m, in \u001B[0;36m<cell line: 32>\u001B[1;34m()\u001B[0m\n\u001B[0;32m     39\u001B[0m Y_test \u001B[38;5;241m=\u001B[39m filter_dfs(labels_test_val, top_labels_i) \u001B[38;5;66;03m# in both train and test\u001B[39;00m\n\u001B[0;32m     41\u001B[0m \u001B[38;5;28;01mfor\u001B[39;00m meth_name, method \u001B[38;5;129;01min\u001B[39;00m ADAPT_METHODS\u001B[38;5;241m.\u001B[39mitems():\n\u001B[1;32m---> 42\u001B[0m   output_i, predictions_i \u001B[38;5;241m=\u001B[39m \u001B[43mbuild_model\u001B[49m\u001B[43m(\u001B[49m\u001B[43mmethod\u001B[49m\u001B[43m,\u001B[49m\u001B[43m \u001B[49m\u001B[43mX_train\u001B[49m\u001B[43m,\u001B[49m\u001B[43m \u001B[49m\u001B[43mY_train\u001B[49m\u001B[43m,\u001B[49m\u001B[43m \u001B[49m\u001B[43mX_test\u001B[49m\u001B[43m,\u001B[49m\u001B[43m \u001B[49m\u001B[43mY_test\u001B[49m\u001B[43m)\u001B[49m\n\u001B[0;32m     43\u001B[0m   exp_exact_match[meth_name]\u001B[38;5;241m.\u001B[39mappend(output_i[\u001B[38;5;124m'\u001B[39m\u001B[38;5;124mexact_match\u001B[39m\u001B[38;5;124m'\u001B[39m])\n\u001B[0;32m     44\u001B[0m   exp_hscore[meth_name]\u001B[38;5;241m.\u001B[39mappend(output_i[\u001B[38;5;124m'\u001B[39m\u001B[38;5;124mhamming_score\u001B[39m\u001B[38;5;124m'\u001B[39m])\n",
      "Input \u001B[1;32mIn [27]\u001B[0m, in \u001B[0;36mbuild_model\u001B[1;34m(mlb_estimator, xtrain, ytrain, xtest, ytest, model)\u001B[0m\n\u001B[0;32m     23\u001B[0m \u001B[38;5;28;01melse\u001B[39;00m:\n\u001B[0;32m     24\u001B[0m   clf \u001B[38;5;241m=\u001B[39m mlb_estimator\n\u001B[1;32m---> 25\u001B[0m \u001B[43mclf\u001B[49m\u001B[38;5;241;43m.\u001B[39;49m\u001B[43mfit\u001B[49m\u001B[43m(\u001B[49m\u001B[43mxtrain\u001B[49m\u001B[43m,\u001B[49m\u001B[43m \u001B[49m\u001B[43mytrain\u001B[49m\u001B[43m)\u001B[49m\n\u001B[0;32m     26\u001B[0m clf_predictions \u001B[38;5;241m=\u001B[39m clf\u001B[38;5;241m.\u001B[39mpredict(xtest)\n\u001B[0;32m     27\u001B[0m clf_predictions \u001B[38;5;241m=\u001B[39m sparse\u001B[38;5;241m.\u001B[39mcsr_matrix(clf_predictions)\n",
      "File \u001B[1;32mD:\\Programas\\Anaconda3\\envs\\TesisMV38\\lib\\site-packages\\skmultilearn\\adapt\\mltsvm.py:118\u001B[0m, in \u001B[0;36mMLTSVM.fit\u001B[1;34m(self, X, Y)\u001B[0m\n\u001B[0;32m    115\u001B[0m Q_k \u001B[38;5;241m=\u001B[39m (Q_k \u001B[38;5;241m+\u001B[39m Q_k\u001B[38;5;241m.\u001B[39mT) \u001B[38;5;241m/\u001B[39m \u001B[38;5;241m2.0\u001B[39m\n\u001B[0;32m    117\u001B[0m \u001B[38;5;66;03m# Calculate other\u001B[39;00m\n\u001B[1;32m--> 118\u001B[0m alpha_k \u001B[38;5;241m=\u001B[39m \u001B[38;5;28;43mself\u001B[39;49m\u001B[38;5;241;43m.\u001B[39;49m\u001B[43m_successive_overrelaxation\u001B[49m\u001B[43m(\u001B[49m\u001B[38;5;28;43mself\u001B[39;49m\u001B[38;5;241;43m.\u001B[39;49m\u001B[43msor_omega\u001B[49m\u001B[43m,\u001B[49m\u001B[43m \u001B[49m\u001B[43mQ_k\u001B[49m\u001B[43m)\u001B[49m\n\u001B[0;32m    119\u001B[0m \u001B[38;5;28;01mif\u001B[39;00m sp\u001B[38;5;241m.\u001B[39missparse(X):\n\u001B[0;32m    120\u001B[0m     \u001B[38;5;28mself\u001B[39m\u001B[38;5;241m.\u001B[39mwk_bk[label] \u001B[38;5;241m=\u001B[39m \u001B[38;5;241m-\u001B[39mQ_knoPrefixGk\u001B[38;5;241m.\u001B[39mdot(alpha_k)\u001B[38;5;241m.\u001B[39mT\n",
      "File \u001B[1;32mD:\\Programas\\Anaconda3\\envs\\TesisMV38\\lib\\site-packages\\skmultilearn\\adapt\\mltsvm.py:150\u001B[0m, in \u001B[0;36mMLTSVM._successive_overrelaxation\u001B[1;34m(self, omegaW, Q)\u001B[0m\n\u001B[0;32m    148\u001B[0m oldAlpha \u001B[38;5;241m=\u001B[39m oldnew_alpha\n\u001B[0;32m    149\u001B[0m \u001B[38;5;28;01mfor\u001B[39;00m j \u001B[38;5;129;01min\u001B[39;00m \u001B[38;5;28mrange\u001B[39m(\u001B[38;5;241m0\u001B[39m, small_l):  \u001B[38;5;66;03m# It's from last alpha to first\u001B[39;00m\n\u001B[1;32m--> 150\u001B[0m     oldnew_alpha[j] \u001B[38;5;241m=\u001B[39m oldAlpha[j] \u001B[38;5;241m-\u001B[39m omegaW \u001B[38;5;241m*\u001B[39m D_inv[j] \u001B[38;5;241m*\u001B[39m (\u001B[43mQ\u001B[49m\u001B[43m[\u001B[49m\u001B[43mj\u001B[49m\u001B[43m,\u001B[49m\u001B[43m \u001B[49m\u001B[43m:\u001B[49m\u001B[43m]\u001B[49m\u001B[38;5;241;43m.\u001B[39;49m\u001B[43mT\u001B[49m\u001B[38;5;241;43m.\u001B[39;49m\u001B[43mdot\u001B[49m\u001B[43m(\u001B[49m\u001B[43moldnew_alpha\u001B[49m\u001B[43m)\u001B[49m \u001B[38;5;241m-\u001B[39m \u001B[38;5;241m1\u001B[39m)\n\u001B[0;32m    151\u001B[0m oldnew_alpha \u001B[38;5;241m=\u001B[39m oldnew_alpha\u001B[38;5;241m.\u001B[39mclip(\u001B[38;5;241m0.0\u001B[39m, \u001B[38;5;28mself\u001B[39m\u001B[38;5;241m.\u001B[39mc_k)\n\u001B[0;32m    152\u001B[0m alfa_norm_change \u001B[38;5;241m=\u001B[39m norm(oldnew_alpha \u001B[38;5;241m-\u001B[39m oldAlpha)\n",
      "\u001B[1;31mKeyboardInterrupt\u001B[0m: "
     ]
    }
   ],
   "source": [
    "#MIN_FREQS = [2, 4, 6, 8, 10, 12, 14, 16, 18, 20, 22, 24,\n",
    "#            26, 30, 34, 38, 40, 50, 60, 80, 100]\n",
    "MIN_FREQS = [5, 10, 20, 30, 40, 50, 60, 70, 80, 100, 150, 200]\n",
    "#labels_25, pivot = filter_labels(labels_train, 25, 25)\n",
    "#freq_25 = labels_25.shape[0]\n",
    "#MIN_FREQS = [int(pivot * 0.7), pivot, int(pivot * 1.3)]\n",
    "#MIN_FREQS = [pivot]\n",
    "\n",
    "TRANSF_METHODS = {\"BR\": BinaryRelevance, \"LP\": LabelPowerset,\n",
    "                  \"CC\": ClassifierChain, \"RakelD\": RakelD}\n",
    "mlknn = MLkNN(k=1, s=1)\n",
    "mltsvm = MLTSVM(c_k=4)\n",
    "brknna = BRkNNaClassifier(k=1)\n",
    "ADAPT_METHODS = {\"MLkNN\": mlknn, \"MLTSVM\": mltsvm, \"BRkNN\": brknna}\n",
    "BASE_CLASSIFIERS = {\"LR\": LogisticRegression(solver='lbfgs'),\n",
    "                    \"SVC\": svm.SVC(), \"DT\": tree.DecisionTreeClassifier(), \"GNB\": GaussianNB()}\n",
    "exp_exact_match = {}\n",
    "exp_hscore = {}\n",
    "exp_hloss = {}\n",
    "\n",
    "for meth_name in TRANSF_METHODS.keys():\n",
    "  for base_name in BASE_CLASSIFIERS.keys():\n",
    "    exp_exact_match[meth_name + \"_\" + base_name] = []\n",
    "    exp_hscore[meth_name + \"_\" + base_name] = []\n",
    "    exp_hloss [meth_name + \"_\" + base_name] = []\n",
    "\n",
    "for meth_name in ADAPT_METHODS.keys():\n",
    "  exp_exact_match[meth_name] = []\n",
    "  exp_hscore[meth_name] = []\n",
    "  exp_hloss [meth_name] = []\n",
    "\n",
    "for i in MIN_FREQS:\n",
    "  print(\"Starting with i={}\".format(i))\n",
    "  # Dataset creation\n",
    "  top_labels_i, _ = filter_labels(labels_train, i)\n",
    "  X_train = features_train\n",
    "  X_test = features_test_val   # labels_test_val since val examples are unrecognized to multilabel algorithms\n",
    "  Y_train = filter_dfs(labels_train, top_labels_i) # reduce labels to most freq\n",
    "  Y_test = filter_dfs(labels_test_val, top_labels_i) # in both train and test\n",
    "\n",
    "  for meth_name, method in ADAPT_METHODS.items():\n",
    "    output_i, predictions_i = build_model(method, X_train, Y_train, X_test, Y_test)\n",
    "    exp_exact_match[meth_name].append(output_i['exact_match'])\n",
    "    exp_hscore[meth_name].append(output_i['hamming_score'])\n",
    "    exp_hloss[meth_name].append(output_i['hamming_loss'])\n",
    "\n",
    "  # Linear regression and SVC will raise error if Y_train is composed by only one class\n",
    "  for meth_name, method in TRANSF_METHODS.items():\n",
    "    for base_name, classifier in BASE_CLASSIFIERS.items():\n",
    "      output_i, _ = build_model(method, X_train, Y_train, X_test, Y_test, model=classifier)\n",
    "      exp_exact_match[meth_name + \"_\" + base_name].append(output_i['exact_match'])\n",
    "      exp_hscore[meth_name + \"_\" + base_name].append(output_i['hamming_score'])\n",
    "      exp_hloss[meth_name + \"_\" + base_name].append(output_i['hamming_loss'])\n"
   ],
   "metadata": {
    "collapsed": false,
    "pycharm": {
     "name": "#%%\n"
    }
   }
  },
  {
   "cell_type": "code",
   "execution_count": null,
   "metadata": {
    "pycharm": {
     "name": "#%%\n"
    }
   },
   "outputs": [],
   "source": [
    "plot_results(MIN_FREQS,\n",
    "             acc = list(exp_exact_match.values()),\n",
    "             loss = list(exp_hloss.values()),\n",
    "             score = list(exp_hscore.values()),\n",
    "             label= list(exp_exact_match.keys()),\n",
    "             title = data_flags,\n",
    "            xlabel = \"Min label frequency\", ylabel = \"Score\")"
   ]
  },
  {
   "cell_type": "markdown",
   "metadata": {
    "id": "GUQ8fPEW3iBq",
    "pycharm": {
     "name": "#%% md\n"
    }
   },
   "source": [
    "# Best model at a given threshold"
   ]
  },
  {
   "cell_type": "code",
   "execution_count": 56,
   "metadata": {
    "pycharm": {
     "name": "#%%\n"
    }
   },
   "outputs": [
    {
     "name": "stdout",
     "output_type": "stream",
     "text": [
      "BR_LR [0.12107244607244608, 0.15894383394383393, 0.1653846153846154, 0.1794871794871795, 0.200997150997151, 0.20405982905982906, 0.2108262108262108, 0.22542735042735043, 0.22542735042735043, 0.25356125356125353, 0.41239316239316237, 0.41239316239316237]\n",
      "BR_SVC [0.11037851037851037, 0.14522792022792022, 0.1586182336182336, 0.16851851851851854, 0.17998575498575498, 0.18198005698005695, 0.1883903133903134, 0.20263532763532763, 0.20263532763532763, 0.21296296296296297, 0.2564102564102564, 0.2564102564102564]\n",
      "BR_DT [0.09772176620711985, 0.10791721615628101, 0.11890927385836887, 0.13757985841319173, 0.1526217609550943, 0.14826176909510244, 0.16974460724460722, 0.175976800976801, 0.20684778184778185, 0.22799145299145296, 0.3717948717948718, 0.3803418803418803]\n",
      "BR_GNB [0.05217533918633826, 0.06286724289372814, 0.07421778923943863, 0.09814048724305134, 0.1257688299354966, 0.13981990231990232, 0.15756342423009087, 0.17863756613756612, 0.17863756613756612, 0.2277065527065527, 0.38247863247863245, 0.38247863247863245]\n",
      "LP_LR [0.11052655796245539, 0.1305540138873472, 0.1562271062271062, 0.17036867453534119, 0.1995115995115995, 0.18984533984533986, 0.21403133903133903, 0.2494301994301994, 0.2494301994301994, 0.2730769230769231, 0.4893162393162393, 0.4893162393162393]\n",
      "LP_SVC [0.13545610372533448, 0.15422432505765837, 0.19410527743861075, 0.2695156695156695, 0.2842592592592592, 0.2882478632478632, 0.30662393162393164, 0.32371794871794873, 0.32371794871794873, 0.3262108262108262, 0.38247863247863245, 0.38247863247863245]\n",
      "LP_DT [0.08818049234715901, 0.10131766381766383, 0.13357414190747524, 0.14607753357753359, 0.1773402523402523, 0.1975885225885226, 0.1524928774928775, 0.17642450142450142, 0.19017094017094016, 0.2881054131054131, 0.46794871794871795, 0.44871794871794873]\n",
      "LP_GNB [0.11271043771043772, 0.15527574277574274, 0.15091744675078006, 0.15918803418803418, 0.17301587301587298, 0.17749287749287748, 0.18237688237688235, 0.14024216524216526, 0.14024216524216526, 0.1675925925925926, 0.33974358974358976, 0.33974358974358976]\n",
      "CC_LR [0.1110415818749152, 0.14640822140822143, 0.15496540496540495, 0.15455840455840456, 0.17606837606837608, 0.18297720797720796, 0.1893162393162393, 0.1962250712250712, 0.1962250712250712, 0.28739316239316237, 0.5192307692307693, 0.5192307692307693]\n",
      "CC_SVC [0.11037851037851037, 0.14522792022792022, 0.1586182336182336, 0.16851851851851854, 0.17998575498575498, 0.18198005698005695, 0.1883903133903134, 0.20263532763532763, 0.20263532763532763, 0.21296296296296297, 0.2564102564102564, 0.2564102564102564]\n",
      "CC_DT [0.0948577319547921, 0.11626327732096961, 0.13962674664032126, 0.14399504816171482, 0.18006206756206755, 0.18535816035816033, 0.20844525844525844, 0.21759259259259262, 0.21407203907203906, 0.2679487179487179, 0.4337606837606838, 0.4358974358974359]\n",
      "CC_GNB [0.10125619869209612, 0.11867087091446066, 0.1368716160382827, 0.14265364265364264, 0.14763600596933932, 0.1504493962827296, 0.15850122100122097, 0.1789224664224664, 0.1789224664224664, 0.22663817663817662, 0.38675213675213677, 0.38675213675213677]\n",
      "RakelD_LR [0.118664360331027, 0.15478903812237146, 0.14395604395604394, 0.16009361009361006, 0.19310134310134308, 0.1931318681318681, 0.2024216524216524, 0.212037037037037, 0.2306980056980057, 0.27663817663817664, 0.4893162393162393, 0.4893162393162393]\n",
      "RakelD_SVC [0.17900895400895397, 0.18019943019943022, 0.23254985754985752, 0.15975783475783475, 0.21367521367521367, 0.27136752136752135, 0.19515669515669515, 0.31054131054131057, 0.31980056980056987, 0.32193732193732194, 0.38247863247863245, 0.38247863247863245]\n",
      "RakelD_DT [0.10004543115204384, 0.09444156271079349, 0.11944984028317361, 0.12481515398182064, 0.15694953194953193, 0.14017263600596933, 0.14283679283679285, 0.1724358974358974, 0.1997150997150997, 0.2552706552706553, 0.4444444444444444, 0.4252136752136752]\n",
      "RakelD_GNB [0.04566344360950409, 0.053847053954222325, 0.07238346509452726, 0.09964925862361759, 0.13474426807760143, 0.14240265906932573, 0.1244420702754036, 0.17868844118844118, 0.16616809116809117, 0.19188034188034186, 0.33974358974358976, 0.33974358974358976]\n",
      "MLkNN [0.09436504853171519, 0.12130307963641297, 0.14366605616605616, 0.16095170261836927, 0.18200040700040698, 0.18614163614163615, 0.19676434676434676, 0.21944444444444441, 0.21944444444444441, 0.26894586894586897, 0.46794871794871795, 0.46794871794871795]\n",
      "MLTSVM [0.02515735031654396, 0.02138128328044578, 0.02451344951344951, 0.06949192782526116, 0.10683760683760682, 0.11111111111111109, 0.12037037037037038, 0.13603988603988604, 0.13603988603988604, 0.18803418803418803, 0.49145299145299143, 0.49145299145299143]\n",
      "BRkNN [0.09436504853171519, 0.12130307963641297, 0.14366605616605616, 0.16095170261836927, 0.18200040700040698, 0.18614163614163615, 0.19676434676434676, 0.21944444444444441, 0.21944444444444441, 0.26894586894586897, 0.46794871794871795, 0.46794871794871795]\n"
     ]
    }
   ],
   "source": [
    "for m, hl in zip(exp_exact_match.keys(), exp_hscore.values()):\n",
    "    print(m, hl)"
   ]
  },
  {
   "cell_type": "code",
   "execution_count": 33,
   "metadata": {
    "colab": {
     "base_uri": "https://localhost:8080/"
    },
    "id": "SKXmeGV2Dec7",
    "outputId": "c847d369-ff66-4b3e-dfea-4752e02acf24",
    "pycharm": {
     "name": "#%%\n"
    }
   },
   "outputs": [
    {
     "name": "stdout",
     "output_type": "stream",
     "text": [
      "25\n",
      "ATTENTION: TESTING WITH 25 LABELS\n"
     ]
    },
    {
     "name": "stderr",
     "output_type": "stream",
     "text": [
      "D:\\Programas\\Anaconda3\\envs\\TesisMV38\\lib\\site-packages\\skmultilearn\\cluster\\random.py:129: VisibleDeprecationWarning: Creating an ndarray from ragged nested sequences (which is a list-or-tuple of lists-or-tuples-or ndarrays with different lengths or shapes) is deprecated. If you meant to do this, you must specify 'dtype=object' when creating the ndarray.\n",
      "  return np.array(label_sets)\n"
     ]
    },
    {
     "name": "stdout",
     "output_type": "stream",
     "text": [
      "HAMMING SCORE: 0.18518518518518517\n",
      "               precision    recall  f1-score   support\n",
      "\n",
      "        panel       0.31      0.40      0.35        77\n",
      "   horizontal       0.38      0.91      0.54        91\n",
      "     vertical       0.00      0.00      0.00        19\n",
      "      hatched       0.00      0.00      0.00         4\n",
      "     ornament       0.00      0.00      0.00        12\n",
      "      lozenge       0.00      0.00      0.00        26\n",
      "      metopal       0.00      0.00      0.00        59\n",
      "      filling       0.00      0.00      0.00        23\n",
      "     triangle       0.00      0.00      0.00         0\n",
      "       double       0.00      0.00      0.00         0\n",
      "cross-hatched       0.00      0.00      0.00        34\n",
      "      meander       0.00      0.00      0.00         6\n",
      "        chain       0.00      0.00      0.00        21\n",
      "          bar       0.00      0.00      0.00        13\n",
      "      outline       0.00      0.00      0.00         0\n",
      "         line       0.00      0.00      0.00         5\n",
      "       single       0.00      0.00      0.00        14\n",
      "         hook       0.00      0.00      0.00        19\n",
      "       dotted       0.00      0.00      0.00        17\n",
      "       zigzag       0.00      0.00      0.00        12\n",
      "        solid       0.00      0.00      0.00         1\n",
      "      turning       0.00      0.00      0.00         0\n",
      "         left       0.00      0.00      0.00         0\n",
      "          dot       0.00      0.00      0.00         6\n",
      "        right       0.00      0.00      0.00         1\n",
      "\n",
      "    micro avg       0.36      0.25      0.29       460\n",
      "    macro avg       0.03      0.05      0.04       460\n",
      " weighted avg       0.13      0.25      0.16       460\n",
      "  samples avg       0.34      0.19      0.23       460\n",
      "\n"
     ]
    }
   ],
   "source": [
    "THRESHOLD = 25\n",
    "print(THRESHOLD)\n",
    "METHOD = \"RakelD\" # | \"MLTSVM\" | \"BRkNN\" | \"CC\" | \"RakelD\" | \"LP\" | \"MLkNN\" | \"BR\"\n",
    "BASE_CLF = \"SVC\" # | \"SVC\" | \"DT\" | \"GNB\" | \"LR\"\n",
    "\n",
    "top_labels, _= filter_labels(labels_train, THRESHOLD)\n",
    "print(\"ATTENTION: TESTING WITH {} LABELS\".format(len(top_labels)))\n",
    "X_train = features_train\n",
    "Y_train = filter_dfs(labels_train, top_labels)\n",
    "X_test = features_test_val\n",
    "Y_test = filter_dfs(labels_test_val, top_labels)\n",
    "\n",
    "\n",
    "clf = BASE_CLASSIFIERS[BASE_CLF]\n",
    "if METHOD in ADAPT_METHODS.keys():\n",
    "  met = ADAPT_METHODS[METHOD]\n",
    "  clf_model, predictions = build_model(met, X_train, Y_train, X_test, Y_test)\n",
    "else:\n",
    "  met = TRANSF_METHODS[METHOD]\n",
    "  clf_model, predictions = build_model(met, X_train, Y_train, X_test, Y_test, clf)\n",
    "\n",
    "print(\"HAMMING SCORE: {}\".format(clf_model['hamming_score']))\n",
    "predictions = predictions.toarray()\n",
    "present_labels = top_labels.index\n",
    "\n",
    "cfs_matrix = multilabel_confusion_matrix(Y_test, predictions)\n",
    "class_report = classification_report(Y_test,\n",
    "                                      predictions,\n",
    "                                      output_dict=False,\n",
    "                                      target_names=present_labels)\n",
    "print(class_report)"
   ]
  },
  {
   "cell_type": "code",
   "execution_count": 100,
   "metadata": {
    "colab": {
     "base_uri": "https://localhost:8080/",
     "height": 1000
    },
    "id": "wXtFDf_cFIsh",
    "outputId": "f88624c6-213f-4276-b395-be3990f46dfd",
    "pycharm": {
     "name": "#%%\n"
    }
   },
   "outputs": [
    {
     "data": {
      "text/plain": "<Figure size 720x720 with 25 Axes>",
      "image/png": "[encoded data removed]"
     },
     "metadata": {},
     "output_type": "display_data"
    },
    {
     "data": {
      "text/plain": "<Figure size 432x288 with 0 Axes>"
     },
     "metadata": {},
     "output_type": "display_data"
    }
   ],
   "source": [
    "# def plot_multiple_matrix(cfs_matrix, present_labels, nrows=5, ncols=5, figsize=(6,10), filename=\"results\"):\n",
    "plot_multiple_matrix(cfs_matrix, present_labels, figsize=(10, 10))"
   ]
  },
  {
   "cell_type": "markdown",
   "metadata": {
    "id": "CH6HrUi2RPSG",
    "pycharm": {
     "name": "#%% md\n"
    }
   },
   "source": [
    "# Binary Relevance with handcrafted class balance"
   ]
  },
  {
   "cell_type": "code",
   "execution_count": 101,
   "metadata": {
    "id": "8qmsZjR5ZKfC",
    "pycharm": {
     "name": "#%%\n"
    }
   },
   "outputs": [],
   "source": [
    "def split_balanced(label, columns, X_train, Y_train):\n",
    "  \"\"\"Generates a balanced train and test dataset for a given label\n",
    "    ATTENTION: MODIFIED TO ADD ONLY ORIGINAL PATTERNS TO THE NEGATIVE DATASET\n",
    "\n",
    "    Parameters:\n",
    "    label (String): label with which the balanced dataset will be created\n",
    "    colnames (1D array):\n",
    "    X_train, Y_train (dataFrames): original (potentially unbalanced) train datasets.\n",
    "\n",
    "    Returns:\n",
    "    X_train, Y_train (dataFrames): train datasets with equal number of positive and\n",
    "                                  negative events for the given label. \n",
    "\n",
    "  \"\"\"\n",
    "  index_label = columns.tolist().index(label)\n",
    "  indexes_positives = []\n",
    "  indexes_negatives = []\n",
    "\n",
    "  i=0\n",
    "  for index, row in Y_train.iterrows():\n",
    "    if row.values[index_label] == 1:\n",
    "      indexes_positives.append(i)\n",
    "    elif \"_\" not in index:\n",
    "      indexes_negatives.append(i)\n",
    "    i+=1\n",
    "  indexes_negatives = indexes_negatives[0:len(indexes_positives)]\n",
    "  final_indexes = indexes_positives + indexes_negatives\n",
    "  final_indexes.sort()\n",
    "  X_train = X_train.values[final_indexes, :]\n",
    "  Y_train = Y_train.values[final_indexes, index_label]\n",
    "  return X_train, Y_train"
   ]
  },
  {
   "cell_type": "code",
   "execution_count": 108,
   "metadata": {
    "colab": {
     "base_uri": "https://localhost:8080/"
    },
    "id": "67zRuxqQRYuV",
    "outputId": "2d8486f3-0e79-4eb7-af18-9a66294956a9",
    "pycharm": {
     "name": "#%%\n"
    }
   },
   "outputs": [
    {
     "name": "stdout",
     "output_type": "stream",
     "text": [
      "ATTENTION: TESTING WITH 25 LABELS\n",
      "Hamming score: 0.09173183436511533\n"
     ]
    }
   ],
   "source": [
    "base_classifiers = {}\n",
    "THRESHOLD = 105\n",
    "top_labels, _ = filter_labels(labels_train, THRESHOLD)\n",
    "print(\"ATTENTION: TESTING WITH {} LABELS\".format(len(top_labels)))\n",
    "X_train = features_train\n",
    "Y_train = filter_dfs(labels_train, top_labels)\n",
    "X_test = features_test\n",
    "Y_test = filter_dfs(labels_test, top_labels)\n",
    "columns = Y_test.columns\n",
    "predictions = []\n",
    "\n",
    "for i in range(0, len(top_labels)):\n",
    "  label = columns[i]\n",
    "  bc = LogisticRegression(solver='lbfgs')\n",
    "  X_train_label, Y_train_label = split_balanced(label, columns, X_train, Y_train) # tantos positivos como posible e igual a negativos\n",
    "  bc.fit(X_train_label, Y_train_label)\n",
    "  base_classifiers[label] = bc\n",
    "  clf_prediction = bc.predict(X_test.values)\n",
    "  predictions.append(clf_prediction) # una columna de prediccion\n",
    "\n",
    "predictions = np.array(predictions).T\n",
    "\n",
    "exact_match = accuracy_score(Y_test.values, predictions)\n",
    "ham_loss = hamming_loss(Y_test.values, predictions)\n",
    "ham_score = hamming_score(Y_test.values, predictions)\n",
    "\n",
    "#print(\"Exact match ratio: {}\".format(exact_match))\n",
    "#print(\"Hamming loss: {}\".format(ham_loss))\n",
    "print(\"Hamming score: {}\".format(ham_score))"
   ]
  },
  {
   "cell_type": "code",
   "execution_count": 109,
   "metadata": {
    "colab": {
     "base_uri": "https://localhost:8080/"
    },
    "id": "eOFud2NL9Glc",
    "outputId": "38e9a516-4db6-4cce-fa42-1d43240ef6e7",
    "pycharm": {
     "name": "#%%\n"
    }
   },
   "outputs": [
    {
     "name": "stdout",
     "output_type": "stream",
     "text": [
      "               precision    recall  f1-score   support\n",
      "\n",
      "        panel       0.31      0.92      0.46        48\n",
      "   horizontal       0.38      0.97      0.54        59\n",
      "     vertical       0.08      0.36      0.13        14\n",
      "      hatched       0.01      1.00      0.02         1\n",
      "     ornament       0.04      0.67      0.08         6\n",
      "      lozenge       0.12      0.60      0.20        15\n",
      "      metopal       0.18      0.31      0.22        36\n",
      "      filling       0.08      0.38      0.14        16\n",
      "     triangle       0.00      0.00      0.00         0\n",
      "       double       0.00      0.00      0.00         0\n",
      "cross-hatched       0.17      0.38      0.23        32\n",
      "      meander       0.01      0.25      0.02         4\n",
      "        chain       0.10      0.59      0.16        17\n",
      "          bar       0.09      0.70      0.16        10\n",
      "      outline       0.00      0.00      0.00         0\n",
      "         line       0.04      0.80      0.07         5\n",
      "       single       0.03      0.38      0.05         8\n",
      "         hook       0.09      0.44      0.16        18\n",
      "       dotted       0.07      0.62      0.13        13\n",
      "       zigzag       0.06      0.60      0.11        10\n",
      "        solid       0.00      0.00      0.00         0\n",
      "      turning       0.00      0.00      0.00         0\n",
      "         left       0.00      0.00      0.00         0\n",
      "          dot       0.02      0.40      0.04         5\n",
      "        right       0.00      0.00      0.00         0\n",
      "\n",
      "    micro avg       0.08      0.62      0.15       317\n",
      "    macro avg       0.08      0.41      0.12       317\n",
      " weighted avg       0.19      0.62      0.28       317\n",
      "  samples avg       0.10      0.51      0.15       317\n",
      "\n"
     ]
    }
   ],
   "source": [
    "present_labels = top_labels.index\n",
    "cfs_matrix = multilabel_confusion_matrix(Y_test, predictions)\n",
    "class_report = classification_report(Y_test,\n",
    "                                      predictions,\n",
    "                                      output_dict=False,\n",
    "                                      target_names=present_labels)\n",
    "print(class_report)"
   ]
  },
  {
   "cell_type": "code",
   "execution_count": 110,
   "outputs": [
    {
     "data": {
      "text/plain": "<Figure size 720x720 with 25 Axes>",
      "image/png": "[encoded data removed]"
     },
     "metadata": {},
     "output_type": "display_data"
    },
    {
     "data": {
      "text/plain": "<Figure size 432x288 with 0 Axes>"
     },
     "metadata": {},
     "output_type": "display_data"
    }
   ],
   "source": [
    "plot_multiple_matrix(cfs_matrix, present_labels,  figsize=(10, 10))"
   ],
   "metadata": {
    "collapsed": false,
    "pycharm": {
     "name": "#%%\n"
    }
   }
  },
  {
   "cell_type": "code",
   "execution_count": null,
   "outputs": [],
   "source": [],
   "metadata": {
    "collapsed": false,
    "pycharm": {
     "name": "#%%\n"
    }
   }
  }
 ],
 "metadata": {
  "accelerator": "GPU",
  "colab": {
   "collapsed_sections": [],
   "name": "Testing multilabel algorithms.ipynb",
   "provenance": []
  },
  "kernelspec": {
   "display_name": "Python 3 (ipykernel)",
   "language": "python",
   "name": "python3"
  },
  "language_info": {
   "codemirror_mode": {
    "name": "ipython",
    "version": 3
   },
   "file_extension": ".py",
   "mimetype": "text/x-python",
   "name": "python",
   "nbconvert_exporter": "python",
   "pygments_lexer": "ipython3",
   "version": "3.8.13"
  }
 },
 "nbformat": 4,
 "nbformat_minor": 1
}
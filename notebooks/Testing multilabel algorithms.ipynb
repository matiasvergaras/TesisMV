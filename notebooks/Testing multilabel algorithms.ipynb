{
 "cells": [
  {
   "cell_type": "markdown",
   "metadata": {
    "id": "mfVsYGbUvljh",
    "pycharm": {
     "name": "#%% md\n"
    }
   },
   "source": [
    "# Multilabel algorithms over Kunisch P.  \n",
    "## Seminario de Tesis I, Primavera 2022 \n",
    "### MDS Program. University of Chile.\n",
    "#### Supervisor: Prof. Benjamín Bustos, Prof. Iván Sipirán\n",
    "#### Author: Matías Vergara\n",
    "\n",
    "### References:\n",
    "\n",
    "Zhang, M. L., Li, Y. K., Liu, X. Y., & Geng, X. (2018). Binary relevance for multi-label learning: an overview. Frontiers of Computer Science, 12(2), 191–202.\n",
    "https://doi.org/10.1007/s11704-017-7031-7\n",
    "\n",
    "Kariuki C. Multi-Label Classification with Scikit-MultiLearn. \n",
    "https://www.section.io/engineering-education/multi-label-classification-with-scikit-multilearn/"
   ]
  },
  {
   "cell_type": "markdown",
   "metadata": {
    "id": "WTfDx7KQNSge",
    "pycharm": {
     "name": "#%% md\n"
    }
   },
   "source": [
    "## Mounting Google Drive\n",
    "\n"
   ]
  },
  {
   "cell_type": "code",
   "execution_count": 1,
   "metadata": {
    "colab": {
     "base_uri": "https://localhost:8080/"
    },
    "id": "e_3pn5b9NWw4",
    "outputId": "13583212-a123-4411-8252-2e4a4c7cc38c",
    "pycharm": {
     "name": "#%%\n"
    }
   },
   "outputs": [],
   "source": [
    "# Mounting google Drive\n",
    "try:\n",
    "    from google.colab import drive\n",
    "    drive.mount('/content/drive')\n",
    "    folder_path = 'drive/MyDrive/TesisMV/'\n",
    "except:\n",
    "    folder_path = '../'"
   ]
  },
  {
   "cell_type": "code",
   "execution_count": 2,
   "metadata": {
    "colab": {
     "base_uri": "https://localhost:8080/"
    },
    "id": "ydF48dwNN750",
    "outputId": "2bf523f6-01f4-41b3-b73e-faa3a64245e4",
    "pycharm": {
     "name": "#%%\n"
    }
   },
   "outputs": [
    {
     "data": {
      "text/plain": "['.git',\n '.gitignore',\n '.idea',\n 'actas',\n 'features',\n 'graficos',\n 'labels',\n 'models',\n 'notebooks',\n 'patterns',\n 'presentaciones',\n 'README.md',\n 'requirements.txt',\n 'tablas']"
     },
     "execution_count": 2,
     "metadata": {},
     "output_type": "execute_result"
    }
   ],
   "source": [
    "import os\n",
    "os.listdir(folder_path)"
   ]
  },
  {
   "cell_type": "markdown",
   "metadata": {
    "id": "NfgyZ72EIe2T",
    "pycharm": {
     "name": "#%% md\n"
    }
   },
   "source": [
    "## Define flags"
   ]
  },
  {
   "cell_type": "code",
   "execution_count": 3,
   "outputs": [],
   "source": [
    "#modify only this cell\n",
    "USE_RN50 = True\n",
    "SUBCHAPTERS = False\n",
    "DS_FLAGS = ['blur']\n",
    "              # 'ref': [invertX, invertY],\n",
    "              # 'rot': [rotate90, rotate180, rotate270],\n",
    "              # 'crop': [crop] * CROP_TIMES,\n",
    "              # 'blur': [blur],\n",
    "              # 'emboss': [emboss],\n",
    "              # 'randaug': [randaug],\n",
    "              # 'rain': [rain],\n",
    "              # 'elastic': [elastic]\n",
    "CROP_TIMES = 1\n",
    "RANDOM_TIMES = 2\n",
    "ELASTIC_TIMES = 2"
   ],
   "metadata": {
    "collapsed": false,
    "pycharm": {
     "name": "#%%\n"
    }
   }
  },
  {
   "cell_type": "code",
   "execution_count": 4,
   "outputs": [
    {
     "name": "stdout",
     "output_type": "stream",
     "text": [
      "../features/resnet50_blur_each5/resnet50_blur_e5/\n",
      "../labels/blur/\n",
      "Features set encontrado en ../features/resnet50_blur_each5/resnet50_blur_e5/\n",
      "Labels set encontrado en ../labels/blur/\n"
     ]
    }
   ],
   "source": [
    "# This cells builds the data_flags variable, that will be used\n",
    "# to map the reques data treatment to folders\n",
    "MAP_TIMES = {'crop': CROP_TIMES,\n",
    "         'randaug': RANDOM_TIMES,\n",
    "         'elastic': ELASTIC_TIMES,\n",
    "}\n",
    "\n",
    "DS_FLAGS = sorted(DS_FLAGS)\n",
    "data_flags = '_'.join(DS_FLAGS) if len(DS_FLAGS) > 0 else 'base'\n",
    "MULTIPLE_TRANSF = ['crop', 'randaug', 'elastic']\n",
    "COPY_FLAGS = DS_FLAGS.copy()\n",
    "\n",
    "for t in MULTIPLE_TRANSF:\n",
    "    if t in DS_FLAGS:\n",
    "        COPY_FLAGS.remove(t)\n",
    "        COPY_FLAGS.append(t + str(MAP_TIMES[t]))\n",
    "        data_flags = '_'.join(COPY_FLAGS)\n",
    "\n",
    "subchapter_str = 'subchapters/' if SUBCHAPTERS else ''\n",
    "patterns_path = folder_path + 'patterns/' + subchapter_str + data_flags + \"/\"\n",
    "#labels_path = folder_path + 'labels/' +  subchapter_str + data_flags + \"/\"\n",
    "#data_flags = f'resnet50_{data_flags}' if USE_RN50 else f'resnet18_{data_flags}'\n",
    "#features_path = folder_path + \"features/\" + subchapter_str + data_flags + '/'\n",
    "\n",
    "rn = 50\n",
    "ep = 5\n",
    "labels_path = folder_path + 'labels/' +  subchapter_str + data_flags + \"/\"\n",
    "data_flags = f'resnet50_{data_flags}_e{ep}' if USE_RN50 else f'resnet18_{data_flags}_e{ep}'\n",
    "features_path = folder_path + f\"features/resnet{rn}_blur_each5/resnet{rn}_blur_e{ep}/\"\n",
    "\n",
    "print(features_path)\n",
    "print(labels_path)\n",
    "if not (os.path.isdir(features_path) and os.path.isdir(labels_path)):\n",
    "    raise FileNotFoundError(\"No existen directorios de datos para el conjunto de flags seleccionado. Verifique que el dataset exista y, de lo contrario, llame a Split and Augmentation {}\".format(\n",
    "        (os.path.isdir(features_path), os.path.isdir(labels_path))))\n",
    "print(\"Features set encontrado en {}\".format(features_path))\n",
    "print(\"Labels set encontrado en {}\".format(labels_path))"
   ],
   "metadata": {
    "collapsed": false,
    "pycharm": {
     "name": "#%%\n"
    }
   }
  },
  {
   "cell_type": "code",
   "execution_count": 5,
   "metadata": {
    "id": "AIzpoX8OgaRp",
    "pycharm": {
     "name": "#%%\n"
    }
   },
   "outputs": [],
   "source": [
    "train_filename = \"augmented_train_df.json\"\n",
    "val_filename = \"val_df.json\"\n",
    "test_filename = \"test_df.json\""
   ]
  },
  {
   "cell_type": "markdown",
   "metadata": {
    "id": "uoIL884OLSsI",
    "pycharm": {
     "name": "#%% md\n"
    }
   },
   "source": [
    "# Imports"
   ]
  },
  {
   "cell_type": "code",
   "execution_count": 6,
   "metadata": {
    "colab": {
     "base_uri": "https://localhost:8080/"
    },
    "id": "J2k60JTdLT4u",
    "outputId": "f7223b23-11cb-435d-d99b-340a075d9f35",
    "pycharm": {
     "name": "#%%\n"
    }
   },
   "outputs": [],
   "source": [
    "def warn(*args, **kwargs):\n",
    "    pass\n",
    "import warnings\n",
    "warnings.warn = warn\n",
    "\n",
    "import pandas as pd\n",
    "import numpy as np\n",
    "from scipy import sparse\n",
    "\n",
    "# Base classifiers\n",
    "from sklearn.naive_bayes import GaussianNB, MultinomialNB\n",
    "from sklearn.metrics import accuracy_score,hamming_loss\n",
    "from sklearn.model_selection import train_test_split\n",
    "from sklearn.linear_model import LogisticRegression\n",
    "from sklearn import svm\n",
    "from sklearn import tree\n",
    "\n",
    "# Multilabel classifiers - Problem Transformation\n",
    "from skmultilearn.problem_transform import BinaryRelevance\n",
    "from skmultilearn.problem_transform import ClassifierChain\n",
    "from skmultilearn.problem_transform import LabelPowerset\n",
    "from skmultilearn.ensemble import RakelD\n",
    "\n",
    "# Multilabel classifiers - Algorithm Adaptation\n",
    "from skmultilearn.adapt import BRkNNaClassifier\n",
    "from skmultilearn.adapt import MLkNN\n",
    "from skmultilearn.adapt import MLTSVM\n",
    "\n",
    "# Metrics\n",
    "from sklearn.metrics import multilabel_confusion_matrix, ConfusionMatrixDisplay\n",
    "from sklearn.metrics import classification_report\n",
    "\n",
    "# Plotting\n",
    "import matplotlib.pyplot as plt\n",
    "import seaborn as sns"
   ]
  },
  {
   "cell_type": "markdown",
   "metadata": {
    "id": "1s1dkZHZyJ1E",
    "pycharm": {
     "name": "#%% md\n"
    }
   },
   "source": [
    "# Data processing"
   ]
  },
  {
   "cell_type": "code",
   "execution_count": 7,
   "outputs": [
    {
     "data": {
      "text/plain": "'../features/resnet50_blur_each5/resnet50_blur_e5/test_df.json'"
     },
     "execution_count": 7,
     "metadata": {},
     "output_type": "execute_result"
    }
   ],
   "source": [
    "features_path + test_filename"
   ],
   "metadata": {
    "collapsed": false,
    "pycharm": {
     "name": "#%%\n"
    }
   }
  },
  {
   "cell_type": "code",
   "execution_count": 8,
   "metadata": {
    "id": "YtILxnb4qOIj",
    "pycharm": {
     "name": "#%%\n"
    }
   },
   "outputs": [],
   "source": [
    "features_train = pd.read_json(features_path + train_filename, orient='index').sort_index()\n",
    "features_val = pd.read_json(features_path + val_filename, orient='index').sort_index()\n",
    "features_test = pd.read_json(features_path + test_filename, orient='index').sort_index()"
   ]
  },
  {
   "cell_type": "code",
   "execution_count": 9,
   "metadata": {
    "colab": {
     "base_uri": "https://localhost:8080/",
     "height": 487
    },
    "id": "JqM_hRtvsjYx",
    "outputId": "adfa91b3-d2c7-43d9-8216-596294a08d02",
    "pycharm": {
     "name": "#%%\n"
    }
   },
   "outputs": [
    {
     "data": {
      "text/plain": "              0         1         2         3         4         5     \\\n10d       0.069449  0.359617  0.026743  0.237745  0.275043  0.020247   \n10d_blur  0.065271  0.352867  0.022676  0.237819  0.283189  0.016334   \n10e       0.455044  0.382679  0.495363  0.258798  0.253447  0.428301   \n10e_blur  0.438552  0.402867  0.466784  0.285118  0.272990  0.403858   \n11c       0.048943  0.333708  0.018475  0.286237  0.316948  0.007525   \n...            ...       ...       ...       ...       ...       ...   \n9b_blur   0.037726  0.206869  0.724596  0.510966  0.625484  0.767165   \n9c        0.032757  0.144294  1.987628  1.029788  1.290863  2.219210   \n9c_blur   0.032765  0.137333  1.668757  0.869618  1.109097  1.861230   \n9e        0.086166  0.213786  0.285148  0.182943  0.298274  0.239788   \n9e_blur   0.119349  0.171426  0.569856  0.310347  0.398298  0.505449   \n\n              6         7         8         9     ...      2038      2039  \\\n10d       0.071700  0.061356  0.040967  0.107568  ...  0.000638  0.100602   \n10d_blur  0.071970  0.059422  0.043443  0.110953  ...  0.000420  0.107898   \n10e       0.067196  0.120470  0.000958  0.084723  ...  0.002278  0.071245   \n10e_blur  0.069634  0.109971  0.001743  0.091192  ...  0.002206  0.074043   \n11c       0.071068  0.039978  0.023625  0.144924  ...  0.003013  0.090756   \n...            ...       ...       ...       ...  ...       ...       ...   \n9b_blur   0.188982  0.942428  0.406419  0.119917  ...  0.686195  0.065616   \n9c        0.515950  2.468875  1.139350  0.081938  ...  1.877757  0.042629   \n9c_blur   0.456173  2.119003  0.957277  0.085531  ...  1.609398  0.044610   \n9e        0.104097  0.411364  0.119632  0.149614  ...  0.328130  0.049295   \n9e_blur   0.138904  0.683335  0.243472  0.139089  ...  0.593097  0.048426   \n\n              2040      2041      2042      2043      2044      2045  \\\n10d       0.096528  0.119866  0.115956  0.019872  0.630965  0.011174   \n10d_blur  0.101871  0.124382  0.111083  0.019983  0.673862  0.010898   \n10e       0.075422  0.167131  0.109052  0.017935  0.321284  0.018633   \n10e_blur  0.080444  0.168911  0.138310  0.018435  0.373052  0.016974   \n11c       0.137657  0.213251  0.114920  0.018754  1.318247  0.004931   \n...            ...       ...       ...       ...       ...       ...   \n9b_blur   0.081945  0.490774  0.155616  0.102578  0.328167  0.407988   \n9c        0.060517  0.973303  0.421144  0.319840  0.245509  0.922078   \n9c_blur   0.066809  0.835635  0.382441  0.283032  0.316885  0.788178   \n9e        0.058113  0.278394  0.125885  0.051057  0.427334  0.174556   \n9e_blur   0.048415  0.422004  0.152458  0.080018  0.426552  0.323253   \n\n              2046      2047  \n10d       0.286845  0.011350  \n10d_blur  0.279868  0.012854  \n10e       0.277254  0.037310  \n10e_blur  0.310690  0.035395  \n11c       0.374509  0.005922  \n...            ...       ...  \n9b_blur   0.590116  0.582946  \n9c        1.233427  1.562918  \n9c_blur   1.054213  1.334852  \n9e        0.325681  0.284182  \n9e_blur   0.466613  0.477521  \n\n[1084 rows x 2048 columns]",
      "text/html": "<div>\n<style scoped>\n    .dataframe tbody tr th:only-of-type {\n        vertical-align: middle;\n    }\n\n    .dataframe tbody tr th {\n        vertical-align: top;\n    }\n\n    .dataframe thead th {\n        text-align: right;\n    }\n</style>\n<table border=\"1\" class=\"dataframe\">\n  <thead>\n    <tr style=\"text-align: right;\">\n      <th></th>\n      <th>0</th>\n      <th>1</th>\n      <th>2</th>\n      <th>3</th>\n      <th>4</th>\n      <th>5</th>\n      <th>6</th>\n      <th>7</th>\n      <th>8</th>\n      <th>9</th>\n      <th>...</th>\n      <th>2038</th>\n      <th>2039</th>\n      <th>2040</th>\n      <th>2041</th>\n      <th>2042</th>\n      <th>2043</th>\n      <th>2044</th>\n      <th>2045</th>\n      <th>2046</th>\n      <th>2047</th>\n    </tr>\n  </thead>\n  <tbody>\n    <tr>\n      <th>10d</th>\n      <td>0.069449</td>\n      <td>0.359617</td>\n      <td>0.026743</td>\n      <td>0.237745</td>\n      <td>0.275043</td>\n      <td>0.020247</td>\n      <td>0.071700</td>\n      <td>0.061356</td>\n      <td>0.040967</td>\n      <td>0.107568</td>\n      <td>...</td>\n      <td>0.000638</td>\n      <td>0.100602</td>\n      <td>0.096528</td>\n      <td>0.119866</td>\n      <td>0.115956</td>\n      <td>0.019872</td>\n      <td>0.630965</td>\n      <td>0.011174</td>\n      <td>0.286845</td>\n      <td>0.011350</td>\n    </tr>\n    <tr>\n      <th>10d_blur</th>\n      <td>0.065271</td>\n      <td>0.352867</td>\n      <td>0.022676</td>\n      <td>0.237819</td>\n      <td>0.283189</td>\n      <td>0.016334</td>\n      <td>0.071970</td>\n      <td>0.059422</td>\n      <td>0.043443</td>\n      <td>0.110953</td>\n      <td>...</td>\n      <td>0.000420</td>\n      <td>0.107898</td>\n      <td>0.101871</td>\n      <td>0.124382</td>\n      <td>0.111083</td>\n      <td>0.019983</td>\n      <td>0.673862</td>\n      <td>0.010898</td>\n      <td>0.279868</td>\n      <td>0.012854</td>\n    </tr>\n    <tr>\n      <th>10e</th>\n      <td>0.455044</td>\n      <td>0.382679</td>\n      <td>0.495363</td>\n      <td>0.258798</td>\n      <td>0.253447</td>\n      <td>0.428301</td>\n      <td>0.067196</td>\n      <td>0.120470</td>\n      <td>0.000958</td>\n      <td>0.084723</td>\n      <td>...</td>\n      <td>0.002278</td>\n      <td>0.071245</td>\n      <td>0.075422</td>\n      <td>0.167131</td>\n      <td>0.109052</td>\n      <td>0.017935</td>\n      <td>0.321284</td>\n      <td>0.018633</td>\n      <td>0.277254</td>\n      <td>0.037310</td>\n    </tr>\n    <tr>\n      <th>10e_blur</th>\n      <td>0.438552</td>\n      <td>0.402867</td>\n      <td>0.466784</td>\n      <td>0.285118</td>\n      <td>0.272990</td>\n      <td>0.403858</td>\n      <td>0.069634</td>\n      <td>0.109971</td>\n      <td>0.001743</td>\n      <td>0.091192</td>\n      <td>...</td>\n      <td>0.002206</td>\n      <td>0.074043</td>\n      <td>0.080444</td>\n      <td>0.168911</td>\n      <td>0.138310</td>\n      <td>0.018435</td>\n      <td>0.373052</td>\n      <td>0.016974</td>\n      <td>0.310690</td>\n      <td>0.035395</td>\n    </tr>\n    <tr>\n      <th>11c</th>\n      <td>0.048943</td>\n      <td>0.333708</td>\n      <td>0.018475</td>\n      <td>0.286237</td>\n      <td>0.316948</td>\n      <td>0.007525</td>\n      <td>0.071068</td>\n      <td>0.039978</td>\n      <td>0.023625</td>\n      <td>0.144924</td>\n      <td>...</td>\n      <td>0.003013</td>\n      <td>0.090756</td>\n      <td>0.137657</td>\n      <td>0.213251</td>\n      <td>0.114920</td>\n      <td>0.018754</td>\n      <td>1.318247</td>\n      <td>0.004931</td>\n      <td>0.374509</td>\n      <td>0.005922</td>\n    </tr>\n    <tr>\n      <th>...</th>\n      <td>...</td>\n      <td>...</td>\n      <td>...</td>\n      <td>...</td>\n      <td>...</td>\n      <td>...</td>\n      <td>...</td>\n      <td>...</td>\n      <td>...</td>\n      <td>...</td>\n      <td>...</td>\n      <td>...</td>\n      <td>...</td>\n      <td>...</td>\n      <td>...</td>\n      <td>...</td>\n      <td>...</td>\n      <td>...</td>\n      <td>...</td>\n      <td>...</td>\n      <td>...</td>\n    </tr>\n    <tr>\n      <th>9b_blur</th>\n      <td>0.037726</td>\n      <td>0.206869</td>\n      <td>0.724596</td>\n      <td>0.510966</td>\n      <td>0.625484</td>\n      <td>0.767165</td>\n      <td>0.188982</td>\n      <td>0.942428</td>\n      <td>0.406419</td>\n      <td>0.119917</td>\n      <td>...</td>\n      <td>0.686195</td>\n      <td>0.065616</td>\n      <td>0.081945</td>\n      <td>0.490774</td>\n      <td>0.155616</td>\n      <td>0.102578</td>\n      <td>0.328167</td>\n      <td>0.407988</td>\n      <td>0.590116</td>\n      <td>0.582946</td>\n    </tr>\n    <tr>\n      <th>9c</th>\n      <td>0.032757</td>\n      <td>0.144294</td>\n      <td>1.987628</td>\n      <td>1.029788</td>\n      <td>1.290863</td>\n      <td>2.219210</td>\n      <td>0.515950</td>\n      <td>2.468875</td>\n      <td>1.139350</td>\n      <td>0.081938</td>\n      <td>...</td>\n      <td>1.877757</td>\n      <td>0.042629</td>\n      <td>0.060517</td>\n      <td>0.973303</td>\n      <td>0.421144</td>\n      <td>0.319840</td>\n      <td>0.245509</td>\n      <td>0.922078</td>\n      <td>1.233427</td>\n      <td>1.562918</td>\n    </tr>\n    <tr>\n      <th>9c_blur</th>\n      <td>0.032765</td>\n      <td>0.137333</td>\n      <td>1.668757</td>\n      <td>0.869618</td>\n      <td>1.109097</td>\n      <td>1.861230</td>\n      <td>0.456173</td>\n      <td>2.119003</td>\n      <td>0.957277</td>\n      <td>0.085531</td>\n      <td>...</td>\n      <td>1.609398</td>\n      <td>0.044610</td>\n      <td>0.066809</td>\n      <td>0.835635</td>\n      <td>0.382441</td>\n      <td>0.283032</td>\n      <td>0.316885</td>\n      <td>0.788178</td>\n      <td>1.054213</td>\n      <td>1.334852</td>\n    </tr>\n    <tr>\n      <th>9e</th>\n      <td>0.086166</td>\n      <td>0.213786</td>\n      <td>0.285148</td>\n      <td>0.182943</td>\n      <td>0.298274</td>\n      <td>0.239788</td>\n      <td>0.104097</td>\n      <td>0.411364</td>\n      <td>0.119632</td>\n      <td>0.149614</td>\n      <td>...</td>\n      <td>0.328130</td>\n      <td>0.049295</td>\n      <td>0.058113</td>\n      <td>0.278394</td>\n      <td>0.125885</td>\n      <td>0.051057</td>\n      <td>0.427334</td>\n      <td>0.174556</td>\n      <td>0.325681</td>\n      <td>0.284182</td>\n    </tr>\n    <tr>\n      <th>9e_blur</th>\n      <td>0.119349</td>\n      <td>0.171426</td>\n      <td>0.569856</td>\n      <td>0.310347</td>\n      <td>0.398298</td>\n      <td>0.505449</td>\n      <td>0.138904</td>\n      <td>0.683335</td>\n      <td>0.243472</td>\n      <td>0.139089</td>\n      <td>...</td>\n      <td>0.593097</td>\n      <td>0.048426</td>\n      <td>0.048415</td>\n      <td>0.422004</td>\n      <td>0.152458</td>\n      <td>0.080018</td>\n      <td>0.426552</td>\n      <td>0.323253</td>\n      <td>0.466613</td>\n      <td>0.477521</td>\n    </tr>\n  </tbody>\n</table>\n<p>1084 rows × 2048 columns</p>\n</div>"
     },
     "execution_count": 9,
     "metadata": {},
     "output_type": "execute_result"
    }
   ],
   "source": [
    "features_train"
   ]
  },
  {
   "cell_type": "code",
   "execution_count": 10,
   "metadata": {
    "colab": {
     "base_uri": "https://localhost:8080/",
     "height": 487
    },
    "id": "UzIoAWx55Jt7",
    "outputId": "364a0aaf-2df4-44de-d362-7385d09ac46b",
    "pycharm": {
     "name": "#%%\n"
    }
   },
   "outputs": [
    {
     "data": {
      "text/plain": "         0         1         2         3         4         5         6     \\\n10b  0.039996  0.197639  0.122938  0.102398  0.099996  0.098653  0.093349   \n11a  0.459536  0.207799  0.727955  0.187779  0.184863  0.625791  0.109677   \n11b  0.272190  0.260245  0.546654  0.359010  0.350779  0.473007  0.119967   \n14d  0.028037  0.118889  0.493045  0.227981  0.297518  0.544140  0.271810   \n14g  0.040866  0.347080  0.000000  0.208096  0.114369  0.000026  0.059586   \n..        ...       ...       ...       ...       ...       ...       ...   \n92c  0.085262  0.371237  0.043517  0.277291  0.333436  0.036540  0.081337   \n93a  0.275770  0.177194  0.431269  0.125864  0.214922  0.339856  0.104255   \n94c  0.036260  0.197404  0.201762  0.246366  0.217180  0.183310  0.080991   \n96c  0.034476  0.160077  0.719470  0.408252  0.490610  0.761867  0.251041   \n9d   0.075459  0.127765  1.275391  0.698617  0.856688  1.295031  0.290273   \n\n         7         8         9     ...      2038      2039      2040  \\\n10b  0.383582  0.035066  0.081420  ...  0.198168  0.054089  0.059464   \n11a  0.383273  0.081325  0.077021  ...  0.129684  0.070231  0.085592   \n11b  0.509281  0.104401  0.078959  ...  0.181866  0.063511  0.100783   \n14d  0.704800  0.279847  0.078445  ...  0.566464  0.082266  0.088467   \n14g  0.048265  0.032891  0.137614  ...  0.000000  0.081465  0.123992   \n..        ...       ...       ...  ...       ...       ...       ...   \n92c  0.000000  0.028472  0.239803  ...  0.005963  0.090345  0.082916   \n93a  0.238596  0.083399  0.107954  ...  0.208701  0.077212  0.087812   \n94c  0.399042  0.083722  0.115142  ...  0.242967  0.049079  0.062489   \n96c  1.051638  0.388687  0.122131  ...  0.821603  0.060543  0.058712   \n9d   1.599456  0.637133  0.129215  ...  1.286234  0.036014  0.055408   \n\n         2041      2042      2043      2044      2045      2046      2047  \n10b  0.068581  0.112033  0.041617  0.045723  0.075560  0.234245  0.215388  \n11a  0.319699  0.104865  0.036609  0.732181  0.081590  0.211829  0.128603  \n11b  0.361334  0.156599  0.032384  0.864198  0.142253  0.381033  0.173477  \n14d  0.256346  0.178618  0.150225  0.217076  0.225337  0.279981  0.496213  \n14g  0.133983  0.074523  0.017206  0.760978  0.002875  0.201474  0.010404  \n..        ...       ...       ...       ...       ...       ...       ...  \n92c  0.100770  0.079773  0.023677  0.401480  0.021151  0.220844  0.001975  \n93a  0.332246  0.121041  0.047444  0.878923  0.111080  0.130798  0.175661  \n94c  0.158849  0.082244  0.027981  0.124770  0.150193  0.353681  0.231059  \n96c  0.392275  0.207094  0.148321  0.046339  0.388548  0.482403  0.681762  \n9d   0.839614  0.230704  0.168236  0.598975  0.705139  0.908999  1.058701  \n\n[78 rows x 2048 columns]",
      "text/html": "<div>\n<style scoped>\n    .dataframe tbody tr th:only-of-type {\n        vertical-align: middle;\n    }\n\n    .dataframe tbody tr th {\n        vertical-align: top;\n    }\n\n    .dataframe thead th {\n        text-align: right;\n    }\n</style>\n<table border=\"1\" class=\"dataframe\">\n  <thead>\n    <tr style=\"text-align: right;\">\n      <th></th>\n      <th>0</th>\n      <th>1</th>\n      <th>2</th>\n      <th>3</th>\n      <th>4</th>\n      <th>5</th>\n      <th>6</th>\n      <th>7</th>\n      <th>8</th>\n      <th>9</th>\n      <th>...</th>\n      <th>2038</th>\n      <th>2039</th>\n      <th>2040</th>\n      <th>2041</th>\n      <th>2042</th>\n      <th>2043</th>\n      <th>2044</th>\n      <th>2045</th>\n      <th>2046</th>\n      <th>2047</th>\n    </tr>\n  </thead>\n  <tbody>\n    <tr>\n      <th>10b</th>\n      <td>0.039996</td>\n      <td>0.197639</td>\n      <td>0.122938</td>\n      <td>0.102398</td>\n      <td>0.099996</td>\n      <td>0.098653</td>\n      <td>0.093349</td>\n      <td>0.383582</td>\n      <td>0.035066</td>\n      <td>0.081420</td>\n      <td>...</td>\n      <td>0.198168</td>\n      <td>0.054089</td>\n      <td>0.059464</td>\n      <td>0.068581</td>\n      <td>0.112033</td>\n      <td>0.041617</td>\n      <td>0.045723</td>\n      <td>0.075560</td>\n      <td>0.234245</td>\n      <td>0.215388</td>\n    </tr>\n    <tr>\n      <th>11a</th>\n      <td>0.459536</td>\n      <td>0.207799</td>\n      <td>0.727955</td>\n      <td>0.187779</td>\n      <td>0.184863</td>\n      <td>0.625791</td>\n      <td>0.109677</td>\n      <td>0.383273</td>\n      <td>0.081325</td>\n      <td>0.077021</td>\n      <td>...</td>\n      <td>0.129684</td>\n      <td>0.070231</td>\n      <td>0.085592</td>\n      <td>0.319699</td>\n      <td>0.104865</td>\n      <td>0.036609</td>\n      <td>0.732181</td>\n      <td>0.081590</td>\n      <td>0.211829</td>\n      <td>0.128603</td>\n    </tr>\n    <tr>\n      <th>11b</th>\n      <td>0.272190</td>\n      <td>0.260245</td>\n      <td>0.546654</td>\n      <td>0.359010</td>\n      <td>0.350779</td>\n      <td>0.473007</td>\n      <td>0.119967</td>\n      <td>0.509281</td>\n      <td>0.104401</td>\n      <td>0.078959</td>\n      <td>...</td>\n      <td>0.181866</td>\n      <td>0.063511</td>\n      <td>0.100783</td>\n      <td>0.361334</td>\n      <td>0.156599</td>\n      <td>0.032384</td>\n      <td>0.864198</td>\n      <td>0.142253</td>\n      <td>0.381033</td>\n      <td>0.173477</td>\n    </tr>\n    <tr>\n      <th>14d</th>\n      <td>0.028037</td>\n      <td>0.118889</td>\n      <td>0.493045</td>\n      <td>0.227981</td>\n      <td>0.297518</td>\n      <td>0.544140</td>\n      <td>0.271810</td>\n      <td>0.704800</td>\n      <td>0.279847</td>\n      <td>0.078445</td>\n      <td>...</td>\n      <td>0.566464</td>\n      <td>0.082266</td>\n      <td>0.088467</td>\n      <td>0.256346</td>\n      <td>0.178618</td>\n      <td>0.150225</td>\n      <td>0.217076</td>\n      <td>0.225337</td>\n      <td>0.279981</td>\n      <td>0.496213</td>\n    </tr>\n    <tr>\n      <th>14g</th>\n      <td>0.040866</td>\n      <td>0.347080</td>\n      <td>0.000000</td>\n      <td>0.208096</td>\n      <td>0.114369</td>\n      <td>0.000026</td>\n      <td>0.059586</td>\n      <td>0.048265</td>\n      <td>0.032891</td>\n      <td>0.137614</td>\n      <td>...</td>\n      <td>0.000000</td>\n      <td>0.081465</td>\n      <td>0.123992</td>\n      <td>0.133983</td>\n      <td>0.074523</td>\n      <td>0.017206</td>\n      <td>0.760978</td>\n      <td>0.002875</td>\n      <td>0.201474</td>\n      <td>0.010404</td>\n    </tr>\n    <tr>\n      <th>...</th>\n      <td>...</td>\n      <td>...</td>\n      <td>...</td>\n      <td>...</td>\n      <td>...</td>\n      <td>...</td>\n      <td>...</td>\n      <td>...</td>\n      <td>...</td>\n      <td>...</td>\n      <td>...</td>\n      <td>...</td>\n      <td>...</td>\n      <td>...</td>\n      <td>...</td>\n      <td>...</td>\n      <td>...</td>\n      <td>...</td>\n      <td>...</td>\n      <td>...</td>\n      <td>...</td>\n    </tr>\n    <tr>\n      <th>92c</th>\n      <td>0.085262</td>\n      <td>0.371237</td>\n      <td>0.043517</td>\n      <td>0.277291</td>\n      <td>0.333436</td>\n      <td>0.036540</td>\n      <td>0.081337</td>\n      <td>0.000000</td>\n      <td>0.028472</td>\n      <td>0.239803</td>\n      <td>...</td>\n      <td>0.005963</td>\n      <td>0.090345</td>\n      <td>0.082916</td>\n      <td>0.100770</td>\n      <td>0.079773</td>\n      <td>0.023677</td>\n      <td>0.401480</td>\n      <td>0.021151</td>\n      <td>0.220844</td>\n      <td>0.001975</td>\n    </tr>\n    <tr>\n      <th>93a</th>\n      <td>0.275770</td>\n      <td>0.177194</td>\n      <td>0.431269</td>\n      <td>0.125864</td>\n      <td>0.214922</td>\n      <td>0.339856</td>\n      <td>0.104255</td>\n      <td>0.238596</td>\n      <td>0.083399</td>\n      <td>0.107954</td>\n      <td>...</td>\n      <td>0.208701</td>\n      <td>0.077212</td>\n      <td>0.087812</td>\n      <td>0.332246</td>\n      <td>0.121041</td>\n      <td>0.047444</td>\n      <td>0.878923</td>\n      <td>0.111080</td>\n      <td>0.130798</td>\n      <td>0.175661</td>\n    </tr>\n    <tr>\n      <th>94c</th>\n      <td>0.036260</td>\n      <td>0.197404</td>\n      <td>0.201762</td>\n      <td>0.246366</td>\n      <td>0.217180</td>\n      <td>0.183310</td>\n      <td>0.080991</td>\n      <td>0.399042</td>\n      <td>0.083722</td>\n      <td>0.115142</td>\n      <td>...</td>\n      <td>0.242967</td>\n      <td>0.049079</td>\n      <td>0.062489</td>\n      <td>0.158849</td>\n      <td>0.082244</td>\n      <td>0.027981</td>\n      <td>0.124770</td>\n      <td>0.150193</td>\n      <td>0.353681</td>\n      <td>0.231059</td>\n    </tr>\n    <tr>\n      <th>96c</th>\n      <td>0.034476</td>\n      <td>0.160077</td>\n      <td>0.719470</td>\n      <td>0.408252</td>\n      <td>0.490610</td>\n      <td>0.761867</td>\n      <td>0.251041</td>\n      <td>1.051638</td>\n      <td>0.388687</td>\n      <td>0.122131</td>\n      <td>...</td>\n      <td>0.821603</td>\n      <td>0.060543</td>\n      <td>0.058712</td>\n      <td>0.392275</td>\n      <td>0.207094</td>\n      <td>0.148321</td>\n      <td>0.046339</td>\n      <td>0.388548</td>\n      <td>0.482403</td>\n      <td>0.681762</td>\n    </tr>\n    <tr>\n      <th>9d</th>\n      <td>0.075459</td>\n      <td>0.127765</td>\n      <td>1.275391</td>\n      <td>0.698617</td>\n      <td>0.856688</td>\n      <td>1.295031</td>\n      <td>0.290273</td>\n      <td>1.599456</td>\n      <td>0.637133</td>\n      <td>0.129215</td>\n      <td>...</td>\n      <td>1.286234</td>\n      <td>0.036014</td>\n      <td>0.055408</td>\n      <td>0.839614</td>\n      <td>0.230704</td>\n      <td>0.168236</td>\n      <td>0.598975</td>\n      <td>0.705139</td>\n      <td>0.908999</td>\n      <td>1.058701</td>\n    </tr>\n  </tbody>\n</table>\n<p>78 rows × 2048 columns</p>\n</div>"
     },
     "execution_count": 10,
     "metadata": {},
     "output_type": "execute_result"
    }
   ],
   "source": [
    "features_val"
   ]
  },
  {
   "cell_type": "code",
   "execution_count": 11,
   "metadata": {
    "colab": {
     "base_uri": "https://localhost:8080/",
     "height": 487
    },
    "id": "Ng5PkjQZso_l",
    "outputId": "4dc3f5e7-d67e-4826-e0bd-56f57da3d5c5",
    "pycharm": {
     "name": "#%%\n"
    }
   },
   "outputs": [
    {
     "data": {
      "text/plain": "         0         1         2         3         4         5         6     \\\n10a  0.040889  0.201724  0.080330  0.069668  0.156680  0.079481  0.094772   \n10c  0.040658  0.312048  0.079591  0.281828  0.354272  0.071290  0.087042   \n11f  0.261427  0.266178  0.292118  0.183179  0.127932  0.227765  0.064839   \n11h  0.041097  0.374785  0.023283  0.348107  0.497326  0.007453  0.080997   \n11k  0.039391  0.484974  0.009688  0.446632  0.246235  0.010531  0.067311   \n..        ...       ...       ...       ...       ...       ...       ...   \n93g  0.035206  0.230278  0.015685  0.174623  0.265001  0.025654  0.071686   \n95c  0.067853  0.212112  0.185102  0.164510  0.241303  0.156354  0.087781   \n95k  0.050970  0.209053  0.172279  0.143762  0.295141  0.165530  0.122787   \n95l  0.057025  0.344794  0.497191  0.512397  0.542538  0.526106  0.188759   \n96i  0.110400  0.211696  0.089957  0.077155  0.194962  0.111755  0.076835   \n\n         7         8         9     ...      2038      2039      2040  \\\n10a  0.164408  0.062217  0.103670  ...  0.113196  0.103602  0.101902   \n10c  0.277763  0.045544  0.130916  ...  0.101267  0.094965  0.096055   \n11f  0.145687  0.029883  0.089796  ...  0.015466  0.079736  0.140931   \n11h  0.039113  0.002503  0.144130  ...  0.002042  0.080133  0.157781   \n11k  0.022016  0.023567  0.126739  ...  0.005554  0.071688  0.127807   \n..        ...       ...       ...  ...       ...       ...       ...   \n93g  0.037501  0.078142  0.126156  ...  0.033701  0.099201  0.218608   \n95c  0.239212  0.101755  0.108575  ...  0.194141  0.077445  0.076570   \n95k  0.268051  0.078327  0.084101  ...  0.258894  0.076581  0.123284   \n95l  0.675127  0.278392  0.114206  ...  0.521378  0.070297  0.099080   \n96i  0.083948  0.006557  0.109407  ...  0.062791  0.078236  0.124281   \n\n         2041      2042      2043      2044      2045      2046      2047  \n10a  0.097953  0.086378  0.041329  0.195488  0.056547  0.075111  0.110058  \n10c  0.150783  0.090169  0.034754  0.531189  0.065486  0.313004  0.117867  \n11f  0.294417  0.117102  0.016860  1.427206  0.014416  0.226863  0.017112  \n11h  0.220938  0.095559  0.018930  1.370562  0.028946  0.373106  0.010852  \n11k  0.124846  0.150137  0.017097  0.887786  0.002489  0.581924  0.001525  \n..        ...       ...       ...       ...       ...       ...       ...  \n93g  0.324543  0.089947  0.018260  2.015962  0.017089  0.163799  0.016642  \n95c  0.274769  0.081251  0.029652  0.624272  0.122907  0.198919  0.168837  \n95k  0.341558  0.125748  0.068493  1.330816  0.104943  0.164012  0.218823  \n95l  0.407593  0.165891  0.085060  0.855930  0.254399  0.589427  0.444901  \n96i  0.276048  0.090369  0.018626  1.318364  0.019903  0.039592  0.059234  \n\n[156 rows x 2048 columns]",
      "text/html": "<div>\n<style scoped>\n    .dataframe tbody tr th:only-of-type {\n        vertical-align: middle;\n    }\n\n    .dataframe tbody tr th {\n        vertical-align: top;\n    }\n\n    .dataframe thead th {\n        text-align: right;\n    }\n</style>\n<table border=\"1\" class=\"dataframe\">\n  <thead>\n    <tr style=\"text-align: right;\">\n      <th></th>\n      <th>0</th>\n      <th>1</th>\n      <th>2</th>\n      <th>3</th>\n      <th>4</th>\n      <th>5</th>\n      <th>6</th>\n      <th>7</th>\n      <th>8</th>\n      <th>9</th>\n      <th>...</th>\n      <th>2038</th>\n      <th>2039</th>\n      <th>2040</th>\n      <th>2041</th>\n      <th>2042</th>\n      <th>2043</th>\n      <th>2044</th>\n      <th>2045</th>\n      <th>2046</th>\n      <th>2047</th>\n    </tr>\n  </thead>\n  <tbody>\n    <tr>\n      <th>10a</th>\n      <td>0.040889</td>\n      <td>0.201724</td>\n      <td>0.080330</td>\n      <td>0.069668</td>\n      <td>0.156680</td>\n      <td>0.079481</td>\n      <td>0.094772</td>\n      <td>0.164408</td>\n      <td>0.062217</td>\n      <td>0.103670</td>\n      <td>...</td>\n      <td>0.113196</td>\n      <td>0.103602</td>\n      <td>0.101902</td>\n      <td>0.097953</td>\n      <td>0.086378</td>\n      <td>0.041329</td>\n      <td>0.195488</td>\n      <td>0.056547</td>\n      <td>0.075111</td>\n      <td>0.110058</td>\n    </tr>\n    <tr>\n      <th>10c</th>\n      <td>0.040658</td>\n      <td>0.312048</td>\n      <td>0.079591</td>\n      <td>0.281828</td>\n      <td>0.354272</td>\n      <td>0.071290</td>\n      <td>0.087042</td>\n      <td>0.277763</td>\n      <td>0.045544</td>\n      <td>0.130916</td>\n      <td>...</td>\n      <td>0.101267</td>\n      <td>0.094965</td>\n      <td>0.096055</td>\n      <td>0.150783</td>\n      <td>0.090169</td>\n      <td>0.034754</td>\n      <td>0.531189</td>\n      <td>0.065486</td>\n      <td>0.313004</td>\n      <td>0.117867</td>\n    </tr>\n    <tr>\n      <th>11f</th>\n      <td>0.261427</td>\n      <td>0.266178</td>\n      <td>0.292118</td>\n      <td>0.183179</td>\n      <td>0.127932</td>\n      <td>0.227765</td>\n      <td>0.064839</td>\n      <td>0.145687</td>\n      <td>0.029883</td>\n      <td>0.089796</td>\n      <td>...</td>\n      <td>0.015466</td>\n      <td>0.079736</td>\n      <td>0.140931</td>\n      <td>0.294417</td>\n      <td>0.117102</td>\n      <td>0.016860</td>\n      <td>1.427206</td>\n      <td>0.014416</td>\n      <td>0.226863</td>\n      <td>0.017112</td>\n    </tr>\n    <tr>\n      <th>11h</th>\n      <td>0.041097</td>\n      <td>0.374785</td>\n      <td>0.023283</td>\n      <td>0.348107</td>\n      <td>0.497326</td>\n      <td>0.007453</td>\n      <td>0.080997</td>\n      <td>0.039113</td>\n      <td>0.002503</td>\n      <td>0.144130</td>\n      <td>...</td>\n      <td>0.002042</td>\n      <td>0.080133</td>\n      <td>0.157781</td>\n      <td>0.220938</td>\n      <td>0.095559</td>\n      <td>0.018930</td>\n      <td>1.370562</td>\n      <td>0.028946</td>\n      <td>0.373106</td>\n      <td>0.010852</td>\n    </tr>\n    <tr>\n      <th>11k</th>\n      <td>0.039391</td>\n      <td>0.484974</td>\n      <td>0.009688</td>\n      <td>0.446632</td>\n      <td>0.246235</td>\n      <td>0.010531</td>\n      <td>0.067311</td>\n      <td>0.022016</td>\n      <td>0.023567</td>\n      <td>0.126739</td>\n      <td>...</td>\n      <td>0.005554</td>\n      <td>0.071688</td>\n      <td>0.127807</td>\n      <td>0.124846</td>\n      <td>0.150137</td>\n      <td>0.017097</td>\n      <td>0.887786</td>\n      <td>0.002489</td>\n      <td>0.581924</td>\n      <td>0.001525</td>\n    </tr>\n    <tr>\n      <th>...</th>\n      <td>...</td>\n      <td>...</td>\n      <td>...</td>\n      <td>...</td>\n      <td>...</td>\n      <td>...</td>\n      <td>...</td>\n      <td>...</td>\n      <td>...</td>\n      <td>...</td>\n      <td>...</td>\n      <td>...</td>\n      <td>...</td>\n      <td>...</td>\n      <td>...</td>\n      <td>...</td>\n      <td>...</td>\n      <td>...</td>\n      <td>...</td>\n      <td>...</td>\n      <td>...</td>\n    </tr>\n    <tr>\n      <th>93g</th>\n      <td>0.035206</td>\n      <td>0.230278</td>\n      <td>0.015685</td>\n      <td>0.174623</td>\n      <td>0.265001</td>\n      <td>0.025654</td>\n      <td>0.071686</td>\n      <td>0.037501</td>\n      <td>0.078142</td>\n      <td>0.126156</td>\n      <td>...</td>\n      <td>0.033701</td>\n      <td>0.099201</td>\n      <td>0.218608</td>\n      <td>0.324543</td>\n      <td>0.089947</td>\n      <td>0.018260</td>\n      <td>2.015962</td>\n      <td>0.017089</td>\n      <td>0.163799</td>\n      <td>0.016642</td>\n    </tr>\n    <tr>\n      <th>95c</th>\n      <td>0.067853</td>\n      <td>0.212112</td>\n      <td>0.185102</td>\n      <td>0.164510</td>\n      <td>0.241303</td>\n      <td>0.156354</td>\n      <td>0.087781</td>\n      <td>0.239212</td>\n      <td>0.101755</td>\n      <td>0.108575</td>\n      <td>...</td>\n      <td>0.194141</td>\n      <td>0.077445</td>\n      <td>0.076570</td>\n      <td>0.274769</td>\n      <td>0.081251</td>\n      <td>0.029652</td>\n      <td>0.624272</td>\n      <td>0.122907</td>\n      <td>0.198919</td>\n      <td>0.168837</td>\n    </tr>\n    <tr>\n      <th>95k</th>\n      <td>0.050970</td>\n      <td>0.209053</td>\n      <td>0.172279</td>\n      <td>0.143762</td>\n      <td>0.295141</td>\n      <td>0.165530</td>\n      <td>0.122787</td>\n      <td>0.268051</td>\n      <td>0.078327</td>\n      <td>0.084101</td>\n      <td>...</td>\n      <td>0.258894</td>\n      <td>0.076581</td>\n      <td>0.123284</td>\n      <td>0.341558</td>\n      <td>0.125748</td>\n      <td>0.068493</td>\n      <td>1.330816</td>\n      <td>0.104943</td>\n      <td>0.164012</td>\n      <td>0.218823</td>\n    </tr>\n    <tr>\n      <th>95l</th>\n      <td>0.057025</td>\n      <td>0.344794</td>\n      <td>0.497191</td>\n      <td>0.512397</td>\n      <td>0.542538</td>\n      <td>0.526106</td>\n      <td>0.188759</td>\n      <td>0.675127</td>\n      <td>0.278392</td>\n      <td>0.114206</td>\n      <td>...</td>\n      <td>0.521378</td>\n      <td>0.070297</td>\n      <td>0.099080</td>\n      <td>0.407593</td>\n      <td>0.165891</td>\n      <td>0.085060</td>\n      <td>0.855930</td>\n      <td>0.254399</td>\n      <td>0.589427</td>\n      <td>0.444901</td>\n    </tr>\n    <tr>\n      <th>96i</th>\n      <td>0.110400</td>\n      <td>0.211696</td>\n      <td>0.089957</td>\n      <td>0.077155</td>\n      <td>0.194962</td>\n      <td>0.111755</td>\n      <td>0.076835</td>\n      <td>0.083948</td>\n      <td>0.006557</td>\n      <td>0.109407</td>\n      <td>...</td>\n      <td>0.062791</td>\n      <td>0.078236</td>\n      <td>0.124281</td>\n      <td>0.276048</td>\n      <td>0.090369</td>\n      <td>0.018626</td>\n      <td>1.318364</td>\n      <td>0.019903</td>\n      <td>0.039592</td>\n      <td>0.059234</td>\n    </tr>\n  </tbody>\n</table>\n<p>156 rows × 2048 columns</p>\n</div>"
     },
     "execution_count": 11,
     "metadata": {},
     "output_type": "execute_result"
    }
   ],
   "source": [
    "features_test"
   ]
  },
  {
   "cell_type": "code",
   "execution_count": 12,
   "outputs": [],
   "source": [
    "features_test_val = pd.DataFrame.append(features_test, features_val )"
   ],
   "metadata": {
    "collapsed": false,
    "pycharm": {
     "name": "#%%\n"
    }
   }
  },
  {
   "cell_type": "code",
   "execution_count": 13,
   "metadata": {
    "id": "PeLVGwjb6Bde",
    "pycharm": {
     "name": "#%%\n"
    }
   },
   "outputs": [],
   "source": [
    "labels_train = pd.read_json(labels_path + train_filename, orient='index').sort_index()\n",
    "labels_val = pd.read_json(labels_path + val_filename, orient='index').sort_index()\n",
    "labels_test = pd.read_json(labels_path + test_filename, orient='index').sort_index()"
   ]
  },
  {
   "cell_type": "code",
   "execution_count": 14,
   "metadata": {
    "colab": {
     "base_uri": "https://localhost:8080/",
     "height": 505
    },
    "id": "YGPGV6Hvtb-4",
    "outputId": "aa6085f5-14c5-4a84-8352-5dd81c731003",
    "pycharm": {
     "name": "#%%\n"
    }
   },
   "outputs": [
    {
     "data": {
      "text/plain": "          pendent  teardrop  horizontal  panel  group  vertical  bar  \\\n10d             0         0           0      0      0         0    0   \n10d_blur        0         0           0      0      0         0    0   \n10e             0         0           0      0      0         0    0   \n10e_blur        0         0           0      0      0         0    0   \n11c             0         0           0      0      0         0    0   \n...           ...       ...         ...    ...    ...       ...  ...   \n9b_blur         0         0           0      0      0         0    0   \n9c              0         0           0      0      0         0    0   \n9c_blur         0         0           0      0      0         0    0   \n9e              0         0           1      1      0         0    0   \n9e_blur         0         0           1      1      0         0    0   \n\n          floating  enclosing  shorter  ...  light  body  bird  striped  worm  \\\n10d              0          1        0  ...      0     0     0        0     0   \n10d_blur         0          1        0  ...      0     0     0        0     0   \n10e              0          0        0  ...      0     0     0        0     0   \n10e_blur         0          0        0  ...      0     0     0        0     0   \n11c              0          0        0  ...      0     0     0        0     0   \n...            ...        ...      ...  ...    ...   ...   ...      ...   ...   \n9b_blur          0          1        0  ...      0     0     0        0     0   \n9c               0          0        0  ...      0     0     0        0     0   \n9c_blur          0          0        0  ...      0     0     0        0     0   \n9e               1          0        0  ...      0     0     0        0     0   \n9e_blur          1          0        0  ...      0     0     0        0     0   \n\n          angular  raised  head  bird-seed  long  \n10d             0       0     0          0     0  \n10d_blur        0       0     0          0     0  \n10e             0       0     0          0     0  \n10e_blur        0       0     0          0     0  \n11c             0       0     0          0     0  \n...           ...     ...   ...        ...   ...  \n9b_blur         0       0     0          0     0  \n9c              0       0     0          0     0  \n9c_blur         0       0     0          0     0  \n9e              0       0     0          0     0  \n9e_blur         0       0     0          0     0  \n\n[1084 rows x 340 columns]",
      "text/html": "<div>\n<style scoped>\n    .dataframe tbody tr th:only-of-type {\n        vertical-align: middle;\n    }\n\n    .dataframe tbody tr th {\n        vertical-align: top;\n    }\n\n    .dataframe thead th {\n        text-align: right;\n    }\n</style>\n<table border=\"1\" class=\"dataframe\">\n  <thead>\n    <tr style=\"text-align: right;\">\n      <th></th>\n      <th>pendent</th>\n      <th>teardrop</th>\n      <th>horizontal</th>\n      <th>panel</th>\n      <th>group</th>\n      <th>vertical</th>\n      <th>bar</th>\n      <th>floating</th>\n      <th>enclosing</th>\n      <th>shorter</th>\n      <th>...</th>\n      <th>light</th>\n      <th>body</th>\n      <th>bird</th>\n      <th>striped</th>\n      <th>worm</th>\n      <th>angular</th>\n      <th>raised</th>\n      <th>head</th>\n      <th>bird-seed</th>\n      <th>long</th>\n    </tr>\n  </thead>\n  <tbody>\n    <tr>\n      <th>10d</th>\n      <td>0</td>\n      <td>0</td>\n      <td>0</td>\n      <td>0</td>\n      <td>0</td>\n      <td>0</td>\n      <td>0</td>\n      <td>0</td>\n      <td>1</td>\n      <td>0</td>\n      <td>...</td>\n      <td>0</td>\n      <td>0</td>\n      <td>0</td>\n      <td>0</td>\n      <td>0</td>\n      <td>0</td>\n      <td>0</td>\n      <td>0</td>\n      <td>0</td>\n      <td>0</td>\n    </tr>\n    <tr>\n      <th>10d_blur</th>\n      <td>0</td>\n      <td>0</td>\n      <td>0</td>\n      <td>0</td>\n      <td>0</td>\n      <td>0</td>\n      <td>0</td>\n      <td>0</td>\n      <td>1</td>\n      <td>0</td>\n      <td>...</td>\n      <td>0</td>\n      <td>0</td>\n      <td>0</td>\n      <td>0</td>\n      <td>0</td>\n      <td>0</td>\n      <td>0</td>\n      <td>0</td>\n      <td>0</td>\n      <td>0</td>\n    </tr>\n    <tr>\n      <th>10e</th>\n      <td>0</td>\n      <td>0</td>\n      <td>0</td>\n      <td>0</td>\n      <td>0</td>\n      <td>0</td>\n      <td>0</td>\n      <td>0</td>\n      <td>0</td>\n      <td>0</td>\n      <td>...</td>\n      <td>0</td>\n      <td>0</td>\n      <td>0</td>\n      <td>0</td>\n      <td>0</td>\n      <td>0</td>\n      <td>0</td>\n      <td>0</td>\n      <td>0</td>\n      <td>0</td>\n    </tr>\n    <tr>\n      <th>10e_blur</th>\n      <td>0</td>\n      <td>0</td>\n      <td>0</td>\n      <td>0</td>\n      <td>0</td>\n      <td>0</td>\n      <td>0</td>\n      <td>0</td>\n      <td>0</td>\n      <td>0</td>\n      <td>...</td>\n      <td>0</td>\n      <td>0</td>\n      <td>0</td>\n      <td>0</td>\n      <td>0</td>\n      <td>0</td>\n      <td>0</td>\n      <td>0</td>\n      <td>0</td>\n      <td>0</td>\n    </tr>\n    <tr>\n      <th>11c</th>\n      <td>0</td>\n      <td>0</td>\n      <td>0</td>\n      <td>0</td>\n      <td>0</td>\n      <td>0</td>\n      <td>0</td>\n      <td>0</td>\n      <td>0</td>\n      <td>0</td>\n      <td>...</td>\n      <td>0</td>\n      <td>0</td>\n      <td>0</td>\n      <td>0</td>\n      <td>0</td>\n      <td>0</td>\n      <td>0</td>\n      <td>0</td>\n      <td>0</td>\n      <td>0</td>\n    </tr>\n    <tr>\n      <th>...</th>\n      <td>...</td>\n      <td>...</td>\n      <td>...</td>\n      <td>...</td>\n      <td>...</td>\n      <td>...</td>\n      <td>...</td>\n      <td>...</td>\n      <td>...</td>\n      <td>...</td>\n      <td>...</td>\n      <td>...</td>\n      <td>...</td>\n      <td>...</td>\n      <td>...</td>\n      <td>...</td>\n      <td>...</td>\n      <td>...</td>\n      <td>...</td>\n      <td>...</td>\n      <td>...</td>\n    </tr>\n    <tr>\n      <th>9b_blur</th>\n      <td>0</td>\n      <td>0</td>\n      <td>0</td>\n      <td>0</td>\n      <td>0</td>\n      <td>0</td>\n      <td>0</td>\n      <td>0</td>\n      <td>1</td>\n      <td>0</td>\n      <td>...</td>\n      <td>0</td>\n      <td>0</td>\n      <td>0</td>\n      <td>0</td>\n      <td>0</td>\n      <td>0</td>\n      <td>0</td>\n      <td>0</td>\n      <td>0</td>\n      <td>0</td>\n    </tr>\n    <tr>\n      <th>9c</th>\n      <td>0</td>\n      <td>0</td>\n      <td>0</td>\n      <td>0</td>\n      <td>0</td>\n      <td>0</td>\n      <td>0</td>\n      <td>0</td>\n      <td>0</td>\n      <td>0</td>\n      <td>...</td>\n      <td>0</td>\n      <td>0</td>\n      <td>0</td>\n      <td>0</td>\n      <td>0</td>\n      <td>0</td>\n      <td>0</td>\n      <td>0</td>\n      <td>0</td>\n      <td>0</td>\n    </tr>\n    <tr>\n      <th>9c_blur</th>\n      <td>0</td>\n      <td>0</td>\n      <td>0</td>\n      <td>0</td>\n      <td>0</td>\n      <td>0</td>\n      <td>0</td>\n      <td>0</td>\n      <td>0</td>\n      <td>0</td>\n      <td>...</td>\n      <td>0</td>\n      <td>0</td>\n      <td>0</td>\n      <td>0</td>\n      <td>0</td>\n      <td>0</td>\n      <td>0</td>\n      <td>0</td>\n      <td>0</td>\n      <td>0</td>\n    </tr>\n    <tr>\n      <th>9e</th>\n      <td>0</td>\n      <td>0</td>\n      <td>1</td>\n      <td>1</td>\n      <td>0</td>\n      <td>0</td>\n      <td>0</td>\n      <td>1</td>\n      <td>0</td>\n      <td>0</td>\n      <td>...</td>\n      <td>0</td>\n      <td>0</td>\n      <td>0</td>\n      <td>0</td>\n      <td>0</td>\n      <td>0</td>\n      <td>0</td>\n      <td>0</td>\n      <td>0</td>\n      <td>0</td>\n    </tr>\n    <tr>\n      <th>9e_blur</th>\n      <td>0</td>\n      <td>0</td>\n      <td>1</td>\n      <td>1</td>\n      <td>0</td>\n      <td>0</td>\n      <td>0</td>\n      <td>1</td>\n      <td>0</td>\n      <td>0</td>\n      <td>...</td>\n      <td>0</td>\n      <td>0</td>\n      <td>0</td>\n      <td>0</td>\n      <td>0</td>\n      <td>0</td>\n      <td>0</td>\n      <td>0</td>\n      <td>0</td>\n      <td>0</td>\n    </tr>\n  </tbody>\n</table>\n<p>1084 rows × 340 columns</p>\n</div>"
     },
     "execution_count": 14,
     "metadata": {},
     "output_type": "execute_result"
    }
   ],
   "source": [
    "labels_train"
   ]
  },
  {
   "cell_type": "code",
   "execution_count": 15,
   "metadata": {
    "colab": {
     "base_uri": "https://localhost:8080/",
     "height": 505
    },
    "id": "5HMiKorAtkKv",
    "outputId": "b350ce7d-1e0c-478d-c0dd-508657ac017a",
    "pycharm": {
     "name": "#%%\n"
    }
   },
   "outputs": [
    {
     "data": {
      "text/plain": "     pendent  teardrop  horizontal  panel  group  vertical  bar  floating  \\\n10b        0         0           0      0      0         0    0         0   \n11a        0         0           0      1      0         1    0         0   \n11b        0         0           1      1      0         0    0         0   \n14d        0         0           0      0      0         0    0         0   \n14g        0         0           1      1      0         0    0         0   \n..       ...       ...         ...    ...    ...       ...  ...       ...   \n92c        0         0           0      0      0         0    0         0   \n93a        0         0           0      0      0         0    0         0   \n94c        0         0           1      1      0         0    0         0   \n96c        0         0           1      1      0         0    0         0   \n9d         0         0           1      1      0         0    0         0   \n\n     enclosing  shorter  ...  light  body  bird  striped  worm  angular  \\\n10b          0        0  ...      0     0     0        0     0        0   \n11a          0        0  ...      0     0     0        0     0        0   \n11b          0        0  ...      0     0     0        0     0        0   \n14d          1        0  ...      0     0     0        0     0        0   \n14g          0        0  ...      0     0     0        0     0        0   \n..         ...      ...  ...    ...   ...   ...      ...   ...      ...   \n92c          0        0  ...      0     0     0        0     0        0   \n93a          1        0  ...      0     0     0        0     0        0   \n94c          0        0  ...      0     0     0        0     0        0   \n96c          0        0  ...      0     0     0        0     0        0   \n9d           0        0  ...      0     0     0        0     0        0   \n\n     raised  head  bird-seed  long  \n10b       0     0          0     0  \n11a       0     0          0     0  \n11b       0     0          0     0  \n14d       0     0          0     0  \n14g       0     0          0     0  \n..      ...   ...        ...   ...  \n92c       0     0          0     0  \n93a       0     0          0     0  \n94c       0     0          0     0  \n96c       0     0          0     0  \n9d        0     0          0     0  \n\n[78 rows x 340 columns]",
      "text/html": "<div>\n<style scoped>\n    .dataframe tbody tr th:only-of-type {\n        vertical-align: middle;\n    }\n\n    .dataframe tbody tr th {\n        vertical-align: top;\n    }\n\n    .dataframe thead th {\n        text-align: right;\n    }\n</style>\n<table border=\"1\" class=\"dataframe\">\n  <thead>\n    <tr style=\"text-align: right;\">\n      <th></th>\n      <th>pendent</th>\n      <th>teardrop</th>\n      <th>horizontal</th>\n      <th>panel</th>\n      <th>group</th>\n      <th>vertical</th>\n      <th>bar</th>\n      <th>floating</th>\n      <th>enclosing</th>\n      <th>shorter</th>\n      <th>...</th>\n      <th>light</th>\n      <th>body</th>\n      <th>bird</th>\n      <th>striped</th>\n      <th>worm</th>\n      <th>angular</th>\n      <th>raised</th>\n      <th>head</th>\n      <th>bird-seed</th>\n      <th>long</th>\n    </tr>\n  </thead>\n  <tbody>\n    <tr>\n      <th>10b</th>\n      <td>0</td>\n      <td>0</td>\n      <td>0</td>\n      <td>0</td>\n      <td>0</td>\n      <td>0</td>\n      <td>0</td>\n      <td>0</td>\n      <td>0</td>\n      <td>0</td>\n      <td>...</td>\n      <td>0</td>\n      <td>0</td>\n      <td>0</td>\n      <td>0</td>\n      <td>0</td>\n      <td>0</td>\n      <td>0</td>\n      <td>0</td>\n      <td>0</td>\n      <td>0</td>\n    </tr>\n    <tr>\n      <th>11a</th>\n      <td>0</td>\n      <td>0</td>\n      <td>0</td>\n      <td>1</td>\n      <td>0</td>\n      <td>1</td>\n      <td>0</td>\n      <td>0</td>\n      <td>0</td>\n      <td>0</td>\n      <td>...</td>\n      <td>0</td>\n      <td>0</td>\n      <td>0</td>\n      <td>0</td>\n      <td>0</td>\n      <td>0</td>\n      <td>0</td>\n      <td>0</td>\n      <td>0</td>\n      <td>0</td>\n    </tr>\n    <tr>\n      <th>11b</th>\n      <td>0</td>\n      <td>0</td>\n      <td>1</td>\n      <td>1</td>\n      <td>0</td>\n      <td>0</td>\n      <td>0</td>\n      <td>0</td>\n      <td>0</td>\n      <td>0</td>\n      <td>...</td>\n      <td>0</td>\n      <td>0</td>\n      <td>0</td>\n      <td>0</td>\n      <td>0</td>\n      <td>0</td>\n      <td>0</td>\n      <td>0</td>\n      <td>0</td>\n      <td>0</td>\n    </tr>\n    <tr>\n      <th>14d</th>\n      <td>0</td>\n      <td>0</td>\n      <td>0</td>\n      <td>0</td>\n      <td>0</td>\n      <td>0</td>\n      <td>0</td>\n      <td>0</td>\n      <td>1</td>\n      <td>0</td>\n      <td>...</td>\n      <td>0</td>\n      <td>0</td>\n      <td>0</td>\n      <td>0</td>\n      <td>0</td>\n      <td>0</td>\n      <td>0</td>\n      <td>0</td>\n      <td>0</td>\n      <td>0</td>\n    </tr>\n    <tr>\n      <th>14g</th>\n      <td>0</td>\n      <td>0</td>\n      <td>1</td>\n      <td>1</td>\n      <td>0</td>\n      <td>0</td>\n      <td>0</td>\n      <td>0</td>\n      <td>0</td>\n      <td>0</td>\n      <td>...</td>\n      <td>0</td>\n      <td>0</td>\n      <td>0</td>\n      <td>0</td>\n      <td>0</td>\n      <td>0</td>\n      <td>0</td>\n      <td>0</td>\n      <td>0</td>\n      <td>0</td>\n    </tr>\n    <tr>\n      <th>...</th>\n      <td>...</td>\n      <td>...</td>\n      <td>...</td>\n      <td>...</td>\n      <td>...</td>\n      <td>...</td>\n      <td>...</td>\n      <td>...</td>\n      <td>...</td>\n      <td>...</td>\n      <td>...</td>\n      <td>...</td>\n      <td>...</td>\n      <td>...</td>\n      <td>...</td>\n      <td>...</td>\n      <td>...</td>\n      <td>...</td>\n      <td>...</td>\n      <td>...</td>\n      <td>...</td>\n    </tr>\n    <tr>\n      <th>92c</th>\n      <td>0</td>\n      <td>0</td>\n      <td>0</td>\n      <td>0</td>\n      <td>0</td>\n      <td>0</td>\n      <td>0</td>\n      <td>0</td>\n      <td>0</td>\n      <td>0</td>\n      <td>...</td>\n      <td>0</td>\n      <td>0</td>\n      <td>0</td>\n      <td>0</td>\n      <td>0</td>\n      <td>0</td>\n      <td>0</td>\n      <td>0</td>\n      <td>0</td>\n      <td>0</td>\n    </tr>\n    <tr>\n      <th>93a</th>\n      <td>0</td>\n      <td>0</td>\n      <td>0</td>\n      <td>0</td>\n      <td>0</td>\n      <td>0</td>\n      <td>0</td>\n      <td>0</td>\n      <td>1</td>\n      <td>0</td>\n      <td>...</td>\n      <td>0</td>\n      <td>0</td>\n      <td>0</td>\n      <td>0</td>\n      <td>0</td>\n      <td>0</td>\n      <td>0</td>\n      <td>0</td>\n      <td>0</td>\n      <td>0</td>\n    </tr>\n    <tr>\n      <th>94c</th>\n      <td>0</td>\n      <td>0</td>\n      <td>1</td>\n      <td>1</td>\n      <td>0</td>\n      <td>0</td>\n      <td>0</td>\n      <td>0</td>\n      <td>0</td>\n      <td>0</td>\n      <td>...</td>\n      <td>0</td>\n      <td>0</td>\n      <td>0</td>\n      <td>0</td>\n      <td>0</td>\n      <td>0</td>\n      <td>0</td>\n      <td>0</td>\n      <td>0</td>\n      <td>0</td>\n    </tr>\n    <tr>\n      <th>96c</th>\n      <td>0</td>\n      <td>0</td>\n      <td>1</td>\n      <td>1</td>\n      <td>0</td>\n      <td>0</td>\n      <td>0</td>\n      <td>0</td>\n      <td>0</td>\n      <td>0</td>\n      <td>...</td>\n      <td>0</td>\n      <td>0</td>\n      <td>0</td>\n      <td>0</td>\n      <td>0</td>\n      <td>0</td>\n      <td>0</td>\n      <td>0</td>\n      <td>0</td>\n      <td>0</td>\n    </tr>\n    <tr>\n      <th>9d</th>\n      <td>0</td>\n      <td>0</td>\n      <td>1</td>\n      <td>1</td>\n      <td>0</td>\n      <td>0</td>\n      <td>0</td>\n      <td>0</td>\n      <td>0</td>\n      <td>0</td>\n      <td>...</td>\n      <td>0</td>\n      <td>0</td>\n      <td>0</td>\n      <td>0</td>\n      <td>0</td>\n      <td>0</td>\n      <td>0</td>\n      <td>0</td>\n      <td>0</td>\n      <td>0</td>\n    </tr>\n  </tbody>\n</table>\n<p>78 rows × 340 columns</p>\n</div>"
     },
     "execution_count": 15,
     "metadata": {},
     "output_type": "execute_result"
    }
   ],
   "source": [
    "labels_val"
   ]
  },
  {
   "cell_type": "code",
   "execution_count": 16,
   "metadata": {
    "colab": {
     "base_uri": "https://localhost:8080/",
     "height": 505
    },
    "id": "WEUtX0-UtlRQ",
    "outputId": "9c037733-aae7-4ea1-bf95-614f34c1457f",
    "pycharm": {
     "name": "#%%\n"
    }
   },
   "outputs": [
    {
     "data": {
      "text/plain": "     pendent  teardrop  horizontal  panel  group  vertical  bar  floating  \\\n10a        0         0           0      0      0         0    0         0   \n10c        0         0           1      1      0         0    0         0   \n11f        0         0           0      0      0         0    0         0   \n11h        0         0           0      0      0         0    0         0   \n11k        0         0           0      0      0         0    0         0   \n..       ...       ...         ...    ...    ...       ...  ...       ...   \n93g        0         0           1      1      0         0    0         0   \n95c        0         0           0      0      0         0    0         0   \n95k        0         0           1      1      0         0    0         0   \n95l        0         0           0      0      0         0    0         0   \n96i        0         0           1      1      0         0    0         0   \n\n     enclosing  shorter  ...  light  body  bird  striped  worm  angular  \\\n10a          0        0  ...      0     0     0        0     0        0   \n10c          0        0  ...      0     0     0        0     0        0   \n11f          0        0  ...      0     0     0        0     0        0   \n11h          0        0  ...      0     0     0        0     0        0   \n11k          1        0  ...      0     0     0        0     0        0   \n..         ...      ...  ...    ...   ...   ...      ...   ...      ...   \n93g          0        0  ...      0     0     0        0     0        0   \n95c          0        0  ...      0     0     0        0     0        0   \n95k          0        0  ...      0     0     0        0     0        0   \n95l          1        0  ...      0     0     0        0     0        0   \n96i          0        0  ...      0     1     1        0     0        0   \n\n     raised  head  bird-seed  long  \n10a       0     0          0     0  \n10c       0     0          0     0  \n11f       0     0          0     0  \n11h       0     0          0     0  \n11k       0     0          0     0  \n..      ...   ...        ...   ...  \n93g       0     0          0     0  \n95c       0     0          0     0  \n95k       0     0          0     0  \n95l       0     0          0     0  \n96i       0     0          0     0  \n\n[156 rows x 340 columns]",
      "text/html": "<div>\n<style scoped>\n    .dataframe tbody tr th:only-of-type {\n        vertical-align: middle;\n    }\n\n    .dataframe tbody tr th {\n        vertical-align: top;\n    }\n\n    .dataframe thead th {\n        text-align: right;\n    }\n</style>\n<table border=\"1\" class=\"dataframe\">\n  <thead>\n    <tr style=\"text-align: right;\">\n      <th></th>\n      <th>pendent</th>\n      <th>teardrop</th>\n      <th>horizontal</th>\n      <th>panel</th>\n      <th>group</th>\n      <th>vertical</th>\n      <th>bar</th>\n      <th>floating</th>\n      <th>enclosing</th>\n      <th>shorter</th>\n      <th>...</th>\n      <th>light</th>\n      <th>body</th>\n      <th>bird</th>\n      <th>striped</th>\n      <th>worm</th>\n      <th>angular</th>\n      <th>raised</th>\n      <th>head</th>\n      <th>bird-seed</th>\n      <th>long</th>\n    </tr>\n  </thead>\n  <tbody>\n    <tr>\n      <th>10a</th>\n      <td>0</td>\n      <td>0</td>\n      <td>0</td>\n      <td>0</td>\n      <td>0</td>\n      <td>0</td>\n      <td>0</td>\n      <td>0</td>\n      <td>0</td>\n      <td>0</td>\n      <td>...</td>\n      <td>0</td>\n      <td>0</td>\n      <td>0</td>\n      <td>0</td>\n      <td>0</td>\n      <td>0</td>\n      <td>0</td>\n      <td>0</td>\n      <td>0</td>\n      <td>0</td>\n    </tr>\n    <tr>\n      <th>10c</th>\n      <td>0</td>\n      <td>0</td>\n      <td>1</td>\n      <td>1</td>\n      <td>0</td>\n      <td>0</td>\n      <td>0</td>\n      <td>0</td>\n      <td>0</td>\n      <td>0</td>\n      <td>...</td>\n      <td>0</td>\n      <td>0</td>\n      <td>0</td>\n      <td>0</td>\n      <td>0</td>\n      <td>0</td>\n      <td>0</td>\n      <td>0</td>\n      <td>0</td>\n      <td>0</td>\n    </tr>\n    <tr>\n      <th>11f</th>\n      <td>0</td>\n      <td>0</td>\n      <td>0</td>\n      <td>0</td>\n      <td>0</td>\n      <td>0</td>\n      <td>0</td>\n      <td>0</td>\n      <td>0</td>\n      <td>0</td>\n      <td>...</td>\n      <td>0</td>\n      <td>0</td>\n      <td>0</td>\n      <td>0</td>\n      <td>0</td>\n      <td>0</td>\n      <td>0</td>\n      <td>0</td>\n      <td>0</td>\n      <td>0</td>\n    </tr>\n    <tr>\n      <th>11h</th>\n      <td>0</td>\n      <td>0</td>\n      <td>0</td>\n      <td>0</td>\n      <td>0</td>\n      <td>0</td>\n      <td>0</td>\n      <td>0</td>\n      <td>0</td>\n      <td>0</td>\n      <td>...</td>\n      <td>0</td>\n      <td>0</td>\n      <td>0</td>\n      <td>0</td>\n      <td>0</td>\n      <td>0</td>\n      <td>0</td>\n      <td>0</td>\n      <td>0</td>\n      <td>0</td>\n    </tr>\n    <tr>\n      <th>11k</th>\n      <td>0</td>\n      <td>0</td>\n      <td>0</td>\n      <td>0</td>\n      <td>0</td>\n      <td>0</td>\n      <td>0</td>\n      <td>0</td>\n      <td>1</td>\n      <td>0</td>\n      <td>...</td>\n      <td>0</td>\n      <td>0</td>\n      <td>0</td>\n      <td>0</td>\n      <td>0</td>\n      <td>0</td>\n      <td>0</td>\n      <td>0</td>\n      <td>0</td>\n      <td>0</td>\n    </tr>\n    <tr>\n      <th>...</th>\n      <td>...</td>\n      <td>...</td>\n      <td>...</td>\n      <td>...</td>\n      <td>...</td>\n      <td>...</td>\n      <td>...</td>\n      <td>...</td>\n      <td>...</td>\n      <td>...</td>\n      <td>...</td>\n      <td>...</td>\n      <td>...</td>\n      <td>...</td>\n      <td>...</td>\n      <td>...</td>\n      <td>...</td>\n      <td>...</td>\n      <td>...</td>\n      <td>...</td>\n      <td>...</td>\n    </tr>\n    <tr>\n      <th>93g</th>\n      <td>0</td>\n      <td>0</td>\n      <td>1</td>\n      <td>1</td>\n      <td>0</td>\n      <td>0</td>\n      <td>0</td>\n      <td>0</td>\n      <td>0</td>\n      <td>0</td>\n      <td>...</td>\n      <td>0</td>\n      <td>0</td>\n      <td>0</td>\n      <td>0</td>\n      <td>0</td>\n      <td>0</td>\n      <td>0</td>\n      <td>0</td>\n      <td>0</td>\n      <td>0</td>\n    </tr>\n    <tr>\n      <th>95c</th>\n      <td>0</td>\n      <td>0</td>\n      <td>0</td>\n      <td>0</td>\n      <td>0</td>\n      <td>0</td>\n      <td>0</td>\n      <td>0</td>\n      <td>0</td>\n      <td>0</td>\n      <td>...</td>\n      <td>0</td>\n      <td>0</td>\n      <td>0</td>\n      <td>0</td>\n      <td>0</td>\n      <td>0</td>\n      <td>0</td>\n      <td>0</td>\n      <td>0</td>\n      <td>0</td>\n    </tr>\n    <tr>\n      <th>95k</th>\n      <td>0</td>\n      <td>0</td>\n      <td>1</td>\n      <td>1</td>\n      <td>0</td>\n      <td>0</td>\n      <td>0</td>\n      <td>0</td>\n      <td>0</td>\n      <td>0</td>\n      <td>...</td>\n      <td>0</td>\n      <td>0</td>\n      <td>0</td>\n      <td>0</td>\n      <td>0</td>\n      <td>0</td>\n      <td>0</td>\n      <td>0</td>\n      <td>0</td>\n      <td>0</td>\n    </tr>\n    <tr>\n      <th>95l</th>\n      <td>0</td>\n      <td>0</td>\n      <td>0</td>\n      <td>0</td>\n      <td>0</td>\n      <td>0</td>\n      <td>0</td>\n      <td>0</td>\n      <td>1</td>\n      <td>0</td>\n      <td>...</td>\n      <td>0</td>\n      <td>0</td>\n      <td>0</td>\n      <td>0</td>\n      <td>0</td>\n      <td>0</td>\n      <td>0</td>\n      <td>0</td>\n      <td>0</td>\n      <td>0</td>\n    </tr>\n    <tr>\n      <th>96i</th>\n      <td>0</td>\n      <td>0</td>\n      <td>1</td>\n      <td>1</td>\n      <td>0</td>\n      <td>0</td>\n      <td>0</td>\n      <td>0</td>\n      <td>0</td>\n      <td>0</td>\n      <td>...</td>\n      <td>0</td>\n      <td>1</td>\n      <td>1</td>\n      <td>0</td>\n      <td>0</td>\n      <td>0</td>\n      <td>0</td>\n      <td>0</td>\n      <td>0</td>\n      <td>0</td>\n    </tr>\n  </tbody>\n</table>\n<p>156 rows × 340 columns</p>\n</div>"
     },
     "execution_count": 16,
     "metadata": {},
     "output_type": "execute_result"
    }
   ],
   "source": [
    "labels_test"
   ]
  },
  {
   "cell_type": "code",
   "execution_count": 17,
   "outputs": [
    {
     "data": {
      "text/plain": "     pendent  teardrop  horizontal  panel  group  vertical  bar  floating  \\\n10a        0         0           0      0      0         0    0         0   \n10c        0         0           1      1      0         0    0         0   \n11f        0         0           0      0      0         0    0         0   \n11h        0         0           0      0      0         0    0         0   \n11k        0         0           0      0      0         0    0         0   \n..       ...       ...         ...    ...    ...       ...  ...       ...   \n92c        0         0           0      0      0         0    0         0   \n93a        0         0           0      0      0         0    0         0   \n94c        0         0           1      1      0         0    0         0   \n96c        0         0           1      1      0         0    0         0   \n9d         0         0           1      1      0         0    0         0   \n\n     enclosing  shorter  ...  light  body  bird  striped  worm  angular  \\\n10a          0        0  ...      0     0     0        0     0        0   \n10c          0        0  ...      0     0     0        0     0        0   \n11f          0        0  ...      0     0     0        0     0        0   \n11h          0        0  ...      0     0     0        0     0        0   \n11k          1        0  ...      0     0     0        0     0        0   \n..         ...      ...  ...    ...   ...   ...      ...   ...      ...   \n92c          0        0  ...      0     0     0        0     0        0   \n93a          1        0  ...      0     0     0        0     0        0   \n94c          0        0  ...      0     0     0        0     0        0   \n96c          0        0  ...      0     0     0        0     0        0   \n9d           0        0  ...      0     0     0        0     0        0   \n\n     raised  head  bird-seed  long  \n10a       0     0          0     0  \n10c       0     0          0     0  \n11f       0     0          0     0  \n11h       0     0          0     0  \n11k       0     0          0     0  \n..      ...   ...        ...   ...  \n92c       0     0          0     0  \n93a       0     0          0     0  \n94c       0     0          0     0  \n96c       0     0          0     0  \n9d        0     0          0     0  \n\n[234 rows x 340 columns]",
      "text/html": "<div>\n<style scoped>\n    .dataframe tbody tr th:only-of-type {\n        vertical-align: middle;\n    }\n\n    .dataframe tbody tr th {\n        vertical-align: top;\n    }\n\n    .dataframe thead th {\n        text-align: right;\n    }\n</style>\n<table border=\"1\" class=\"dataframe\">\n  <thead>\n    <tr style=\"text-align: right;\">\n      <th></th>\n      <th>pendent</th>\n      <th>teardrop</th>\n      <th>horizontal</th>\n      <th>panel</th>\n      <th>group</th>\n      <th>vertical</th>\n      <th>bar</th>\n      <th>floating</th>\n      <th>enclosing</th>\n      <th>shorter</th>\n      <th>...</th>\n      <th>light</th>\n      <th>body</th>\n      <th>bird</th>\n      <th>striped</th>\n      <th>worm</th>\n      <th>angular</th>\n      <th>raised</th>\n      <th>head</th>\n      <th>bird-seed</th>\n      <th>long</th>\n    </tr>\n  </thead>\n  <tbody>\n    <tr>\n      <th>10a</th>\n      <td>0</td>\n      <td>0</td>\n      <td>0</td>\n      <td>0</td>\n      <td>0</td>\n      <td>0</td>\n      <td>0</td>\n      <td>0</td>\n      <td>0</td>\n      <td>0</td>\n      <td>...</td>\n      <td>0</td>\n      <td>0</td>\n      <td>0</td>\n      <td>0</td>\n      <td>0</td>\n      <td>0</td>\n      <td>0</td>\n      <td>0</td>\n      <td>0</td>\n      <td>0</td>\n    </tr>\n    <tr>\n      <th>10c</th>\n      <td>0</td>\n      <td>0</td>\n      <td>1</td>\n      <td>1</td>\n      <td>0</td>\n      <td>0</td>\n      <td>0</td>\n      <td>0</td>\n      <td>0</td>\n      <td>0</td>\n      <td>...</td>\n      <td>0</td>\n      <td>0</td>\n      <td>0</td>\n      <td>0</td>\n      <td>0</td>\n      <td>0</td>\n      <td>0</td>\n      <td>0</td>\n      <td>0</td>\n      <td>0</td>\n    </tr>\n    <tr>\n      <th>11f</th>\n      <td>0</td>\n      <td>0</td>\n      <td>0</td>\n      <td>0</td>\n      <td>0</td>\n      <td>0</td>\n      <td>0</td>\n      <td>0</td>\n      <td>0</td>\n      <td>0</td>\n      <td>...</td>\n      <td>0</td>\n      <td>0</td>\n      <td>0</td>\n      <td>0</td>\n      <td>0</td>\n      <td>0</td>\n      <td>0</td>\n      <td>0</td>\n      <td>0</td>\n      <td>0</td>\n    </tr>\n    <tr>\n      <th>11h</th>\n      <td>0</td>\n      <td>0</td>\n      <td>0</td>\n      <td>0</td>\n      <td>0</td>\n      <td>0</td>\n      <td>0</td>\n      <td>0</td>\n      <td>0</td>\n      <td>0</td>\n      <td>...</td>\n      <td>0</td>\n      <td>0</td>\n      <td>0</td>\n      <td>0</td>\n      <td>0</td>\n      <td>0</td>\n      <td>0</td>\n      <td>0</td>\n      <td>0</td>\n      <td>0</td>\n    </tr>\n    <tr>\n      <th>11k</th>\n      <td>0</td>\n      <td>0</td>\n      <td>0</td>\n      <td>0</td>\n      <td>0</td>\n      <td>0</td>\n      <td>0</td>\n      <td>0</td>\n      <td>1</td>\n      <td>0</td>\n      <td>...</td>\n      <td>0</td>\n      <td>0</td>\n      <td>0</td>\n      <td>0</td>\n      <td>0</td>\n      <td>0</td>\n      <td>0</td>\n      <td>0</td>\n      <td>0</td>\n      <td>0</td>\n    </tr>\n    <tr>\n      <th>...</th>\n      <td>...</td>\n      <td>...</td>\n      <td>...</td>\n      <td>...</td>\n      <td>...</td>\n      <td>...</td>\n      <td>...</td>\n      <td>...</td>\n      <td>...</td>\n      <td>...</td>\n      <td>...</td>\n      <td>...</td>\n      <td>...</td>\n      <td>...</td>\n      <td>...</td>\n      <td>...</td>\n      <td>...</td>\n      <td>...</td>\n      <td>...</td>\n      <td>...</td>\n      <td>...</td>\n    </tr>\n    <tr>\n      <th>92c</th>\n      <td>0</td>\n      <td>0</td>\n      <td>0</td>\n      <td>0</td>\n      <td>0</td>\n      <td>0</td>\n      <td>0</td>\n      <td>0</td>\n      <td>0</td>\n      <td>0</td>\n      <td>...</td>\n      <td>0</td>\n      <td>0</td>\n      <td>0</td>\n      <td>0</td>\n      <td>0</td>\n      <td>0</td>\n      <td>0</td>\n      <td>0</td>\n      <td>0</td>\n      <td>0</td>\n    </tr>\n    <tr>\n      <th>93a</th>\n      <td>0</td>\n      <td>0</td>\n      <td>0</td>\n      <td>0</td>\n      <td>0</td>\n      <td>0</td>\n      <td>0</td>\n      <td>0</td>\n      <td>1</td>\n      <td>0</td>\n      <td>...</td>\n      <td>0</td>\n      <td>0</td>\n      <td>0</td>\n      <td>0</td>\n      <td>0</td>\n      <td>0</td>\n      <td>0</td>\n      <td>0</td>\n      <td>0</td>\n      <td>0</td>\n    </tr>\n    <tr>\n      <th>94c</th>\n      <td>0</td>\n      <td>0</td>\n      <td>1</td>\n      <td>1</td>\n      <td>0</td>\n      <td>0</td>\n      <td>0</td>\n      <td>0</td>\n      <td>0</td>\n      <td>0</td>\n      <td>...</td>\n      <td>0</td>\n      <td>0</td>\n      <td>0</td>\n      <td>0</td>\n      <td>0</td>\n      <td>0</td>\n      <td>0</td>\n      <td>0</td>\n      <td>0</td>\n      <td>0</td>\n    </tr>\n    <tr>\n      <th>96c</th>\n      <td>0</td>\n      <td>0</td>\n      <td>1</td>\n      <td>1</td>\n      <td>0</td>\n      <td>0</td>\n      <td>0</td>\n      <td>0</td>\n      <td>0</td>\n      <td>0</td>\n      <td>...</td>\n      <td>0</td>\n      <td>0</td>\n      <td>0</td>\n      <td>0</td>\n      <td>0</td>\n      <td>0</td>\n      <td>0</td>\n      <td>0</td>\n      <td>0</td>\n      <td>0</td>\n    </tr>\n    <tr>\n      <th>9d</th>\n      <td>0</td>\n      <td>0</td>\n      <td>1</td>\n      <td>1</td>\n      <td>0</td>\n      <td>0</td>\n      <td>0</td>\n      <td>0</td>\n      <td>0</td>\n      <td>0</td>\n      <td>...</td>\n      <td>0</td>\n      <td>0</td>\n      <td>0</td>\n      <td>0</td>\n      <td>0</td>\n      <td>0</td>\n      <td>0</td>\n      <td>0</td>\n      <td>0</td>\n      <td>0</td>\n    </tr>\n  </tbody>\n</table>\n<p>234 rows × 340 columns</p>\n</div>"
     },
     "execution_count": 17,
     "metadata": {},
     "output_type": "execute_result"
    }
   ],
   "source": [
    "labels_test_val = pd.DataFrame.append(labels_test, labels_val)\n",
    "labels_test_val"
   ],
   "metadata": {
    "collapsed": false,
    "pycharm": {
     "name": "#%%\n"
    }
   }
  },
  {
   "cell_type": "code",
   "execution_count": 18,
   "metadata": {
    "id": "YB3NZ7maE_Go",
    "pycharm": {
     "name": "#%%\n"
    }
   },
   "outputs": [],
   "source": [
    "def filter_labels(labels_df, freq, number_labels = None):\n",
    "  \"\"\"Filters a label dataframe based on labels frequency (number of events)\n",
    "\n",
    "    Parameters:\n",
    "    labels_df (DataFrame): dataframe of labels \n",
    "    freq (int): threshold frequency. Labels with a lower value will be filtered. \n",
    "\n",
    "    Returns:\n",
    "    DataFrame: filtered labels dataframe\n",
    "\n",
    "  \"\"\"\n",
    "  top_labels = None\n",
    "\n",
    "  if not number_labels:\n",
    "    filtered_df = labels_df.loc[:, labels_df.sum(axis=0) > freq]\n",
    "    top_labels = filtered_df.sum().sort_values(ascending=False)\n",
    "    return top_labels, 0\n",
    "\n",
    "  if number_labels:\n",
    "      filtered_labels = 0\n",
    "      pivot = freq\n",
    "      while filtered_labels != number_labels:\n",
    "              filtered_df = labels_df.loc[:, labels_df.sum(axis=0) > pivot]\n",
    "              top_labels = filtered_df.sum().sort_values(ascending=False)\n",
    "              if len(top_labels.values) > number_labels:\n",
    "                  pivot += 1\n",
    "              elif len(top_labels.values) < number_labels:\n",
    "                  pivot -= 1\n",
    "              else:\n",
    "                  print(\"Aplicando threshold {} para trabajar con {} labels\".format(pivot, len(top_labels.values)))\n",
    "                  return top_labels, pivot\n",
    "\n",
    "def filter_dfs(df, top_labels_df):\n",
    "  df = df[df.columns.intersection(top_labels_df.index)]\n",
    "  return df\n",
    "\n",
    "def combine_dfs(labels_df, top_labels_df, features_df):\n",
    "  \"\"\"Combine labels dataframe with features dataframe based on index (patterns names)\n",
    "     keeping only the most frequent labels.\n",
    "\n",
    "    Parameters:\n",
    "    labels_df (DataFrame): dataframe of labels, with patterns name as index\n",
    "    top_labels_df (DataFrame): a 1D dataframe with the name of the most freq. labels, as \n",
    "    the outcome of filter_labels() function \n",
    "    features_df (DataFrame): dataframe of features, with patterns name as index \n",
    "\n",
    "    Returns:\n",
    "    DataFrame: combined labels + features dataframe, merged on index\n",
    "\n",
    "  \"\"\"\n",
    "  assert len(labels_df) == len(features_df)\n",
    "  labels_df = labels_df[labels_df.columns.intersection(top_labels_df.index)]\n",
    "  final_df = pd.merge(labels_df,       \n",
    "                      features_df,  \n",
    "                      left_index=True, right_index=True)\n",
    "  return final_df\n",
    "\n",
    "def split_data(final_df, top_labels_df, test_size):\n",
    "  \"\"\"Splits the data in train and test. \n",
    "    \n",
    "    Parameters:\n",
    "    final_df (DataFrame): outcome of combine_dfs.\n",
    "    top_labels_df (DataFrame): dataframe of most freq. labels. Necessary to \n",
    "    know at which column the labels (Y) ends and the features (X) starts  \n",
    "    freq (int): threshold frequency. Labels with a lower value will be filtered. \n",
    "    test_size (float): proportion test/(test+train).\n",
    "\n",
    "    Returns:\n",
    "    (np.array, np.array, np.array, np.array): X train, X test, Y train, Y test\n",
    "\n",
    "  \"\"\"\n",
    "  X = np.array(final_df.iloc[:, len(final_df):], dtype=float)\n",
    "  Y = np.array(final_df.iloc[:, 0:len(final_df)], dtype=float)\n",
    "  X_train, X_test, Y_train, Y_test = train_test_split(X, Y, test_size=test_size,random_state=42)\n",
    "  return X_train, X_test, Y_train, Y_test"
   ]
  },
  {
   "cell_type": "code",
   "execution_count": 19,
   "metadata": {
    "colab": {
     "base_uri": "https://localhost:8080/"
    },
    "id": "KZaQiijIjeK1",
    "outputId": "4636cac7-9623-4ef8-bb90-20d7d94d473f",
    "pycharm": {
     "name": "#%%\n"
    }
   },
   "outputs": [
    {
     "name": "stdout",
     "output_type": "stream",
     "text": [
      "Aplicando threshold 50 para trabajar con 25 labels\n"
     ]
    },
    {
     "data": {
      "text/plain": "panel            634\nhorizontal       508\nvertical         242\nhatched          240\nornament         228\nlozenge          198\nmetopal          186\nfilling          168\ntriangle         138\ndouble           138\ncross-hatched    130\nmeander          114\nchain            106\nbar               96\noutline           76\nline              74\nsingle            72\nhook              72\ndotted            72\nzigzag            68\nsolid             62\nturning           60\nleft              56\ndot               54\nright             54\ndtype: int64"
     },
     "execution_count": 19,
     "metadata": {},
     "output_type": "execute_result"
    }
   ],
   "source": [
    "top_labels_df, pivot = filter_labels(labels_train, 25, 25) # for example\n",
    "top_labels_df"
   ]
  },
  {
   "cell_type": "markdown",
   "metadata": {
    "id": "ax5JDv_viS_i",
    "pycharm": {
     "name": "#%% md\n"
    }
   },
   "source": [
    "# Data exploration"
   ]
  },
  {
   "cell_type": "code",
   "execution_count": 20,
   "metadata": {
    "colab": {
     "base_uri": "https://localhost:8080/"
    },
    "id": "Qp5GR65oM1av",
    "outputId": "9f5a9207-bbdc-46a3-a537-28eeab9a4de3",
    "pycharm": {
     "name": "#%%\n"
    }
   },
   "outputs": [
    {
     "name": "stdout",
     "output_type": "stream",
     "text": [
      "Exploring train set\n",
      "Number of unique labels combinations: 422\n",
      "Label cardinality: 5.392988929889296\n",
      "Label density: 0.004975082038643262\n"
     ]
    }
   ],
   "source": [
    "def get_unique_combinations(labels_df):\n",
    "  \"\"\"Returns the number of different combinations of labels in labels_df.\n",
    "\n",
    "    Parameters:\n",
    "    labels_df (DataFrame): dataframe of labels \n",
    "\n",
    "    Returns:\n",
    "    int: number of unique labels combinations in labels_df\n",
    "  \"\"\"\n",
    "  unique_combinations = len(labels_df.drop_duplicates())\n",
    "  print(\"Number of unique labels combinations: \" + str(unique_combinations))\n",
    "  return unique_combinations\n",
    "\n",
    "def get_label_metrics(labels_df):\n",
    "  \"\"\"Returns label cardinality and label density of a multilabel dataset.\n",
    "     Label cardinality: average number of labels per entry \n",
    "     Label density: fraction of assigned labels over total num of labels,\n",
    "                    averaged per entry\n",
    "    Parameters:\n",
    "    labels_df (DataFrame): dataframe of labels \n",
    "    freq (int): threshold frequency. Labels with a lower value will be filtered. \n",
    "\n",
    "    Returns:\n",
    "    DataFrame: filtered labels dataframe\n",
    "\n",
    "  \"\"\"\n",
    "  sum_labels = labels_df.sum(axis=1)\n",
    "  total_labels = labels_df.shape[0]\n",
    "  label_cardinality = 0\n",
    "  for label in sum_labels:\n",
    "    label_cardinality += label/total_labels\n",
    "  label_density = label_cardinality/total_labels\n",
    "  print(\"Label cardinality: {}\".format(label_cardinality))\n",
    "  print(\"Label density: {}\".format(label_density))\n",
    "  return(label_cardinality, label_density)\n",
    "\n",
    "print(\"Exploring train set\")\n",
    "combinations = get_unique_combinations(labels_train)\n",
    "metrics = get_label_metrics(labels_train)"
   ]
  },
  {
   "cell_type": "markdown",
   "metadata": {
    "id": "CN_a5JIP8MTC",
    "pycharm": {
     "name": "#%% md\n"
    }
   },
   "source": [
    "# Functions to run experiments and visualizations"
   ]
  },
  {
   "cell_type": "code",
   "execution_count": 21,
   "metadata": {
    "id": "o4fAe7KCT7P9",
    "pycharm": {
     "name": "#%%\n"
    }
   },
   "outputs": [],
   "source": [
    "def hamming_score(y_true, y_pred, normalize=True, sample_weight=None):\n",
    "    '''\n",
    "    Compute the Hamming score (a.k.a. label-based accuracy) for the multi-label case\n",
    "    http://stackoverflow.com/q/32239577/395857\n",
    "    '''\n",
    "    acc_list = []\n",
    "    for i in range(y_true.shape[0]):\n",
    "        set_true = set( np.where(y_true[i])[0] )\n",
    "        set_pred = set( np.where(y_pred[i])[0] )\n",
    "        #print('\\nset_true: {0}'.format(set_true))\n",
    "        #print('set_pred: {0}'.format(set_pred))\n",
    "        tmp_a = None\n",
    "        if len(set_true) == 0 and len(set_pred) == 0:\n",
    "            tmp_a = 1\n",
    "        else:\n",
    "            tmp_a = len(set_true.intersection(set_pred))/\\\n",
    "                    float( len(set_true.union(set_pred)) )\n",
    "        #print('tmp_a: {0}'.format(tmp_a))\n",
    "        acc_list.append(tmp_a)\n",
    "    return np.mean(acc_list)"
   ]
  },
  {
   "cell_type": "code",
   "execution_count": 22,
   "metadata": {
    "id": "2_NdKx3B8Pbk",
    "pycharm": {
     "name": "#%%\n"
    }
   },
   "outputs": [],
   "source": [
    "def build_model(mlb_estimator, xtrain, ytrain, xtest, ytest, model=None):\n",
    "    \"\"\"Builds a multilabel estimator and runs it over a given train and test data,\n",
    "       with an optional base classifier model.\n",
    "\n",
    "    Parameters:\n",
    "    mlb_estimator (mlb classifier): a PROBLEM_TRANSFORMATION or ALGORITHM_ADAPTATION \n",
    "                                    method from sklearn-multilabel\n",
    "    xtrain, ytrain, xtest, ytest (np arrays): train and test data\n",
    "    model (Base Estimator): optional, ignored if mlb_estimator is part of \n",
    "                            ALGORITHM_ADAPTATION methods. Base classifier to be \n",
    "                            used with the PROBLEM_TRANSFORMATION methods.\n",
    "\n",
    "    Returns:\n",
    "    (dict, np.array): dict with metrics (exact match, hamming loss and score) \n",
    "                      and array of predictions.\n",
    "    \"\"\"\n",
    "    xtrain = sparse.csr_matrix(xtrain)\n",
    "    ytrain = sparse.csr_matrix(ytrain)\n",
    "    xtest = sparse.csr_matrix(xtest)\n",
    "    ytest = sparse.csr_matrix(ytest)\n",
    "    if model:\n",
    "      clf = mlb_estimator(model)\n",
    "    else:\n",
    "      clf = mlb_estimator\n",
    "    clf.fit(xtrain, ytrain)\n",
    "    clf_predictions = clf.predict(xtest)\n",
    "    clf_predictions = sparse.csr_matrix(clf_predictions)\n",
    "    exact_match = accuracy_score(ytest,clf_predictions)\n",
    "    ham_loss = hamming_loss(ytest,clf_predictions)\n",
    "    ham_score = hamming_score(ytest.toarray(), clf_predictions.toarray())\n",
    "    result = {\"exact_match\":exact_match,\"hamming_loss\": ham_loss, \"hamming_score\":ham_score}\n",
    "    return result, clf_predictions"
   ]
  },
  {
   "cell_type": "code",
   "execution_count": 23,
   "metadata": {
    "id": "ZblSPda0wIF-",
    "pycharm": {
     "name": "#%%\n"
    }
   },
   "outputs": [],
   "source": [
    "# Plotting linemarks\n",
    "ALREADY_RUN = False \n",
    "\n",
    "# This code has to be executed only once in order to have the same linemarks in \n",
    "# each figure\n",
    "if not ALREADY_RUN:\n",
    "  import random\n",
    "  linemark = []\n",
    "  MARKERS = ['.','+','v','x','*']\n",
    "  LINE_STYLES = ['-','--','-.',':']\n",
    "\n",
    "  for i in range(0, 20): \n",
    "    linestyle = LINE_STYLES[random.randint(0, len(LINE_STYLES)-1)]\n",
    "    marker = MARKERS[random.randint(0, len(MARKERS)-1)]\n",
    "    linemark.append (linestyle + marker)\n",
    "  \n",
    "  ALREADY_RUN = True"
   ]
  },
  {
   "cell_type": "code",
   "execution_count": 24,
   "metadata": {
    "id": "2S_zO-6kEPR4",
    "pycharm": {
     "name": "#%%\n"
    }
   },
   "outputs": [],
   "source": [
    "  def plot_results(x, acc = [], loss = [], score=[], label=[], title = \"\",\n",
    "                 xlabel = \"\", ylabel = \"\", plot_emr=False, plot_hl=False, plot_hs=True):\n",
    "    \"\"\"plots accuracy, hamming loss and hamming score of multiple classifiers.\n",
    "    \n",
    "    Returns:\n",
    "    DataFrame: filtered labels dataframe\n",
    "\n",
    "    \"\"\"\n",
    "    assert len(acc) == len(loss) == len(label)\n",
    "    if plot_emr:\n",
    "        f_acc = plt.figure(1)\n",
    "        f_acc.set_figheight(9)\n",
    "        f_acc.set_figwidth(7)\n",
    "        ax1 = f_acc.add_subplot(111)\n",
    "        ax1.set_title(title + \"\\n Exact Match Ratio\")\n",
    "        ax1.set_xlabel(xlabel)\n",
    "        ax1.set_ylabel(ylabel)\n",
    "        ax1.set_ylim(0, 1)\n",
    "        for i in range(0, len(acc)):\n",
    "          ax1.plot(x, acc[i],  linemark[i], label=label[i])\n",
    "        ax1.legend()\n",
    "        f_acc.show()\n",
    "    if plot_hl:\n",
    "        f_loss = plt.figure(2)\n",
    "        f_loss.set_figheight(9)\n",
    "        f_loss.set_figwidth(7)\n",
    "        ax2 = f_loss.add_subplot(111)\n",
    "        ax2.set_title(title  + \"\\n Hamming Loss\")\n",
    "        ax2.set_xlabel(xlabel)\n",
    "        ax2.set_ylabel(ylabel)\n",
    "        for i in range(0, len(loss)):\n",
    "          ax2.plot(x, loss[i], linemark[i], label=label[i])\n",
    "        ax2.legend()\n",
    "        f_loss.show()\n",
    "\n",
    "    if plot_hs:\n",
    "        f_score = plt.figure(3)\n",
    "        f_score.set_figheight(9)\n",
    "        f_score.set_figwidth(7)\n",
    "        ax3 = f_score.add_subplot(111)\n",
    "        ax3.set_title(title  + \"\\n Hamming Score\")\n",
    "        ax3.set_xlabel(xlabel)\n",
    "        ax3.set_ylabel(ylabel)\n",
    "        ax3.set_ylim(0, 1)\n",
    "        for i in range(0, len(score)):\n",
    "          ax3.plot(x, score[i], linemark[i], label=label[i])\n",
    "        ax3.legend()\n",
    "        f_score.show()"
   ]
  },
  {
   "cell_type": "code",
   "execution_count": 25,
   "metadata": {
    "id": "cy5QauuMpWhh",
    "pycharm": {
     "name": "#%%\n"
    }
   },
   "outputs": [],
   "source": [
    "def print_confusion_matrix(confusion_matrix, axes, class_label, class_names, fontsize=14):\n",
    "    \"\"\"\n",
    "    Prints confusion matrix for multilabel classification.\n",
    "    \"\"\"\n",
    "    df_cm = pd.DataFrame(\n",
    "        confusion_matrix, index=class_names, columns=class_names,\n",
    "    )\n",
    "    try:\n",
    "        heatmap = sns.heatmap(df_cm, annot=True, fmt=\"d\", cbar=False, ax=axes)\n",
    "    except ValueError:\n",
    "        raise ValueError(\"Confusion matrix values must be integers.\")\n",
    "    heatmap.yaxis.set_ticklabels(heatmap.yaxis.get_ticklabels(), rotation=0, ha='right', fontsize=fontsize)\n",
    "    heatmap.xaxis.set_ticklabels(heatmap.xaxis.get_ticklabels(), rotation=45, ha='right', fontsize=fontsize)\n",
    "    axes.set_ylabel('True label')\n",
    "    axes.set_xlabel('Predicted label')\n",
    "    axes.set_title(class_label)\n",
    "\n",
    "def plot_multiple_matrix(cfs_matrix, present_labels, nrows=5, ncols=5, figsize=(12,20), filename=\"results\"):\n",
    "  \"\"\"\n",
    "  Plots multiple confusion matrix\n",
    "\n",
    "  Parameters:\n",
    "  cfs_matrix (2D array): an array containing the multiple confusion matrix as\n",
    "                         outcome of multilabel_confusion_matrix()\n",
    "  present_labels (1D array): array of strings with name of labels, in the same\n",
    "                             order as they are in cfs_matrix\n",
    "  nrows, ncols, figsize: number of rows, columns and size of the plot\n",
    "  \n",
    "  \"\"\"\n",
    "  fig, ax = plt.subplots(nrows, ncols, figsize=figsize)\n",
    "\n",
    "  for axes, cfs_vals, label in zip(ax.flatten(), cfs_matrix, present_labels):\n",
    "      print_confusion_matrix(cfs_vals, axes, label, [\"N\", \"Y\"])\n",
    "\n",
    "  fig.tight_layout()\n",
    "  plt.show()\n",
    "  plt.savefig(filename + \".png\")"
   ]
  },
  {
   "cell_type": "markdown",
   "metadata": {
    "id": "s3QCO7fhG27U",
    "pycharm": {
     "name": "#%% md\n"
    }
   },
   "source": [
    "# Benchmark\n"
   ]
  },
  {
   "cell_type": "code",
   "execution_count": 26,
   "outputs": [
    {
     "data": {
      "text/plain": "'resnet50_blur_e5'"
     },
     "execution_count": 26,
     "metadata": {},
     "output_type": "execute_result"
    }
   ],
   "source": [
    "data_flags"
   ],
   "metadata": {
    "collapsed": false,
    "pycharm": {
     "name": "#%%\n"
    }
   }
  },
  {
   "cell_type": "code",
   "execution_count": 27,
   "outputs": [
    {
     "name": "stdout",
     "output_type": "stream",
     "text": [
      "Aplicando threshold 50 para trabajar con 25 labels\n",
      "Starting with i=50\n"
     ]
    },
    {
     "name": "stderr",
     "output_type": "stream",
     "text": [
      "D:\\Programas\\Anaconda3\\envs\\TesisMV38\\lib\\site-packages\\skmultilearn\\cluster\\random.py:129: VisibleDeprecationWarning: Creating an ndarray from ragged nested sequences (which is a list-or-tuple of lists-or-tuples-or ndarrays with different lengths or shapes) is deprecated. If you meant to do this, you must specify 'dtype=object' when creating the ndarray.\n",
      "  return np.array(label_sets)\n",
      "D:\\Programas\\Anaconda3\\envs\\TesisMV38\\lib\\site-packages\\skmultilearn\\cluster\\random.py:129: VisibleDeprecationWarning: Creating an ndarray from ragged nested sequences (which is a list-or-tuple of lists-or-tuples-or ndarrays with different lengths or shapes) is deprecated. If you meant to do this, you must specify 'dtype=object' when creating the ndarray.\n",
      "  return np.array(label_sets)\n"
     ]
    }
   ],
   "source": [
    "#MIN_FREQS = [2, 4, 6, 8, 10, 12, 14, 16, 18, 20, 22, 24,\n",
    "#            26, 30, 34, 38, 40, 50, 60, 80, 100]\n",
    "#MIN_FREQS = [5, 10, 15, 20, 25, 30, 35, 40, 45, 50, 55, 60, 65, 70, 75, 80, 85, 90, 95, 100]\n",
    "labels_25, pivot = filter_labels(labels_train, 25, 25)\n",
    "freq_25 = labels_25.shape[0]\n",
    "MIN_FREQS = [int(pivot * 0.7), pivot, int(pivot * 1.3)]\n",
    "MIN_FREQS = [pivot]\n",
    "\n",
    "TRANSF_METHODS = {\"BR\": BinaryRelevance, \"LP\": LabelPowerset,\n",
    "                  \"CC\": ClassifierChain, \"RakelD\": RakelD}\n",
    "mlknn = MLkNN(k=1, s=1)\n",
    "mltsvm = MLTSVM(c_k=4)\n",
    "brknna = BRkNNaClassifier(k=1)\n",
    "ADAPT_METHODS = {\"MLkNN\": mlknn} #, \"MLTSVM\": mltsvm, \"BRkNN\": brknna}\n",
    "BASE_CLASSIFIERS = {\"LR\": LogisticRegression(solver='lbfgs'),\n",
    "                    \"SVC\": svm.SVC()}#, \"DT\": tree.DecisionTreeClassifier()} # \"GNB\": GaussianNB()\n",
    "exp_exact_match = {}\n",
    "exp_hscore = {}\n",
    "exp_hloss = {}\n",
    "\n",
    "for meth_name in TRANSF_METHODS.keys():\n",
    "  for base_name in BASE_CLASSIFIERS.keys():\n",
    "    exp_exact_match[meth_name + \"_\" + base_name] = []\n",
    "    exp_hscore[meth_name + \"_\" + base_name] = []\n",
    "    exp_hloss [meth_name + \"_\" + base_name] = []\n",
    "\n",
    "for meth_name in ADAPT_METHODS.keys():\n",
    "  exp_exact_match[meth_name] = []\n",
    "  exp_hscore[meth_name] = []\n",
    "  exp_hloss [meth_name] = []\n",
    "\n",
    "for i in MIN_FREQS:\n",
    "  print(\"Starting with i={}\".format(i))\n",
    "  # Dataset creation\n",
    "  top_labels_i, _ = filter_labels(labels_train, i)\n",
    "  X_train = features_train\n",
    "  X_test = features_test_val   # labels_test_val since val examples are unrecognized to multilabel algorithms\n",
    "  Y_train = filter_dfs(labels_train, top_labels_i) # reduce labels to most freq\n",
    "  Y_test = filter_dfs(labels_test_val, top_labels_i) # in both train and test\n",
    "\n",
    "  for meth_name, method in ADAPT_METHODS.items():\n",
    "    output_i, predictions_i = build_model(method, X_train, Y_train, X_test, Y_test)\n",
    "    exp_exact_match[meth_name].append(output_i['exact_match'])\n",
    "    exp_hscore[meth_name].append(output_i['hamming_score'])\n",
    "    exp_hloss[meth_name].append(output_i['hamming_loss'])\n",
    "\n",
    "  # Linear regression and SVC will raise error if Y_train is composed by only one class\n",
    "  for meth_name, method in TRANSF_METHODS.items():\n",
    "    for base_name, classifier in BASE_CLASSIFIERS.items():\n",
    "      output_i, _ = build_model(method, X_train, Y_train, X_test, Y_test, model=classifier)\n",
    "      exp_exact_match[meth_name + \"_\" + base_name].append(output_i['exact_match'])\n",
    "      exp_hscore[meth_name + \"_\" + base_name].append(output_i['hamming_score'])\n",
    "      exp_hloss[meth_name + \"_\" + base_name].append(output_i['hamming_loss'])\n"
   ],
   "metadata": {
    "collapsed": false,
    "pycharm": {
     "name": "#%%\n"
    }
   }
  },
  {
   "cell_type": "code",
   "execution_count": 28,
   "outputs": [
    {
     "data": {
      "text/plain": "<Figure size 504x648 with 1 Axes>",
      "image/png": "[encoded data removed]"
     },
     "metadata": {},
     "output_type": "display_data"
    }
   ],
   "source": [
    "plot_results(MIN_FREQS,\n",
    "             acc = list(exp_exact_match.values()),\n",
    "             loss = list(exp_hloss.values()),\n",
    "             score = list(exp_hscore.values()),\n",
    "             label= list(exp_exact_match.keys()),\n",
    "             title = data_flags,\n",
    "            xlabel = \"Min label frequency\", ylabel = \"Score\")"
   ],
   "metadata": {
    "collapsed": false,
    "pycharm": {
     "name": "#%%\n"
    }
   }
  },
  {
   "cell_type": "markdown",
   "metadata": {
    "id": "GUQ8fPEW3iBq",
    "pycharm": {
     "name": "#%% md\n"
    }
   },
   "source": [
    "# Best model at a given threshold"
   ]
  },
  {
   "cell_type": "code",
   "execution_count": 29,
   "outputs": [
    {
     "name": "stdout",
     "output_type": "stream",
     "text": [
      "BR_LR [0.17813390313390312]\n",
      "BR_SVC [0.16431623931623932]\n",
      "LP_LR [0.13465269298602633]\n",
      "LP_SVC [0.15595238095238095]\n",
      "CC_LR [0.1275997150997151]\n",
      "CC_SVC [0.16324786324786325]\n",
      "RakelD_LR [0.17089268755935422]\n",
      "RakelD_SVC [0.146011396011396]\n",
      "MLkNN [0.14172432505765836]\n"
     ]
    }
   ],
   "source": [
    "for m, hl in zip(exp_exact_match.keys(), exp_hscore.values()):\n",
    "    print(m, hl)"
   ],
   "metadata": {
    "collapsed": false,
    "pycharm": {
     "name": "#%%\n"
    }
   }
  },
  {
   "cell_type": "code",
   "execution_count": 30,
   "metadata": {
    "colab": {
     "base_uri": "https://localhost:8080/"
    },
    "id": "SKXmeGV2Dec7",
    "outputId": "c847d369-ff66-4b3e-dfea-4752e02acf24",
    "pycharm": {
     "name": "#%%\n"
    }
   },
   "outputs": [
    {
     "name": "stdout",
     "output_type": "stream",
     "text": [
      "50\n",
      "ATTENTION: TESTING WITH 25 LABELS\n",
      "HAMMING SCORE: 0.15595238095238095\n",
      "               precision    recall  f1-score   support\n",
      "\n",
      "        panel       0.30      0.47      0.37        77\n",
      "   horizontal       0.34      0.44      0.38        91\n",
      "     vertical       0.00      0.00      0.00        19\n",
      "      hatched       0.00      0.00      0.00         4\n",
      "     ornament       0.00      0.00      0.00        12\n",
      "      lozenge       0.00      0.00      0.00        26\n",
      "      metopal       0.00      0.00      0.00        59\n",
      "      filling       0.08      0.39      0.14        23\n",
      "     triangle       0.00      0.00      0.00         0\n",
      "       double       0.00      0.00      0.00         0\n",
      "cross-hatched       0.14      0.47      0.22        34\n",
      "      meander       0.00      0.00      0.00         6\n",
      "        chain       0.00      0.00      0.00        21\n",
      "          bar       0.00      0.00      0.00        13\n",
      "      outline       0.00      0.00      0.00         0\n",
      "         line       0.00      0.00      0.00         5\n",
      "       single       0.00      0.00      0.00        14\n",
      "         hook       0.00      0.00      0.00        19\n",
      "       dotted       0.00      0.00      0.00        17\n",
      "       zigzag       0.00      0.00      0.00        12\n",
      "        solid       0.00      0.00      0.00         1\n",
      "      turning       0.00      0.00      0.00         0\n",
      "         left       0.00      0.00      0.00         0\n",
      "          dot       0.00      0.00      0.00         6\n",
      "        right       0.00      0.00      0.00         1\n",
      "\n",
      "    micro avg       0.20      0.22      0.21       460\n",
      "    macro avg       0.03      0.07      0.04       460\n",
      " weighted avg       0.13      0.22      0.16       460\n",
      "  samples avg       0.21      0.18      0.19       460\n",
      "\n"
     ]
    }
   ],
   "source": [
    "THRESHOLD = pivot\n",
    "print(THRESHOLD)\n",
    "METHOD = \"LP\" # | \"MLTSVM\" | \"BRkNN\" | \"CC\" | \"RakelD\" | \"LP\" | \"MLkNN\" | \"BR\"\n",
    "BASE_CLF = \"SVC\" # | \"SVC\" | \"DT\" | \"GNB\" | \"LR\"\n",
    "\n",
    "top_labels, _= filter_labels(labels_train, THRESHOLD)\n",
    "print(\"ATTENTION: TESTING WITH {} LABELS\".format(len(top_labels)))\n",
    "X_train = features_train\n",
    "Y_train = filter_dfs(labels_train, top_labels)\n",
    "X_test = features_test_val\n",
    "Y_test = filter_dfs(labels_test_val, top_labels)\n",
    "\n",
    "\n",
    "clf = BASE_CLASSIFIERS[BASE_CLF]\n",
    "if METHOD in ADAPT_METHODS.keys():\n",
    "  met = ADAPT_METHODS[METHOD]\n",
    "  clf_model, predictions = build_model(met, X_train, Y_train, X_test, Y_test)\n",
    "else:\n",
    "  met = TRANSF_METHODS[METHOD]\n",
    "  clf_model, predictions = build_model(met, X_train, Y_train, X_test, Y_test, clf)\n",
    "\n",
    "print(\"HAMMING SCORE: {}\".format(clf_model['hamming_score']))\n",
    "predictions = predictions.toarray()\n",
    "present_labels = top_labels.index\n",
    "\n",
    "cfs_matrix = multilabel_confusion_matrix(Y_test, predictions)\n",
    "class_report = classification_report(Y_test,\n",
    "                                      predictions,\n",
    "                                      output_dict=False,\n",
    "                                      target_names=present_labels)\n",
    "print(class_report)"
   ]
  },
  {
   "cell_type": "code",
   "execution_count": 31,
   "metadata": {
    "colab": {
     "base_uri": "https://localhost:8080/",
     "height": 1000
    },
    "id": "wXtFDf_cFIsh",
    "outputId": "f88624c6-213f-4276-b395-be3990f46dfd",
    "pycharm": {
     "name": "#%%\n"
    }
   },
   "outputs": [
    {
     "data": {
      "text/plain": "<Figure size 864x1440 with 25 Axes>",
      "image/png": "[encoded data removed]"
     },
     "metadata": {},
     "output_type": "display_data"
    },
    {
     "data": {
      "text/plain": "<Figure size 432x288 with 0 Axes>"
     },
     "metadata": {},
     "output_type": "display_data"
    }
   ],
   "source": [
    "plot_multiple_matrix(cfs_matrix, present_labels)"
   ]
  },
  {
   "cell_type": "markdown",
   "metadata": {
    "id": "CH6HrUi2RPSG",
    "pycharm": {
     "name": "#%% md\n"
    }
   },
   "source": [
    "# Binary Relevance with handcrafted class balance"
   ]
  },
  {
   "cell_type": "code",
   "execution_count": 32,
   "metadata": {
    "id": "8qmsZjR5ZKfC",
    "pycharm": {
     "name": "#%%\n"
    }
   },
   "outputs": [],
   "source": [
    "def split_balanced(label, columns, X_train, Y_train):\n",
    "  \"\"\"Generates a balanced train and test dataset for a given label\n",
    "    ATTENTION: MODIFIED TO ADD ONLY ORIGINAL PATTERNS TO THE NEGATIVE DATASET\n",
    "\n",
    "    Parameters:\n",
    "    label (String): label with which the balanced dataset will be created\n",
    "    colnames (1D array):\n",
    "    X_train, Y_train (dataFrames): original (potentially unbalanced) train datasets.\n",
    "\n",
    "    Returns:\n",
    "    X_train, Y_train (dataFrames): train datasets with equal number of positive and\n",
    "                                  negative events for the given label. \n",
    "\n",
    "  \"\"\"\n",
    "  index_label = columns.tolist().index(label)\n",
    "  indexes_positives = []\n",
    "  indexes_negatives = []\n",
    "\n",
    "  i=0\n",
    "  for index, row in Y_train.iterrows():\n",
    "    if row.values[index_label] == 1:\n",
    "      indexes_positives.append(i)\n",
    "    elif \"_\" not in index:\n",
    "      indexes_negatives.append(i)\n",
    "    i+=1\n",
    "  indexes_negatives = indexes_negatives[0:len(indexes_positives)]\n",
    "  final_indexes = indexes_positives + indexes_negatives\n",
    "  final_indexes.sort()\n",
    "  X_train = X_train.values[final_indexes, :]\n",
    "  Y_train = Y_train.values[final_indexes, index_label]\n",
    "  return X_train, Y_train"
   ]
  },
  {
   "cell_type": "code",
   "execution_count": 33,
   "metadata": {
    "colab": {
     "base_uri": "https://localhost:8080/"
    },
    "id": "67zRuxqQRYuV",
    "outputId": "2d8486f3-0e79-4eb7-af18-9a66294956a9",
    "pycharm": {
     "name": "#%%\n"
    }
   },
   "outputs": [],
   "source": [
    "if False:\n",
    "    base_classifiers = {}\n",
    "    THRESHOLD = 180\n",
    "\n",
    "    top_labels, _ = filter_labels(labels_train, THRESHOLD)\n",
    "    print(\"ATTENTION: TESTING WITH {} LABELS\".format(len(top_labels)))\n",
    "    X_train = features_train\n",
    "    Y_train = filter_dfs(labels_train, top_labels)\n",
    "    X_test = features_test\n",
    "    Y_test = filter_dfs(labels_test, top_labels)\n",
    "    columns = Y_test.columns\n",
    "    predictions = []\n",
    "\n",
    "    for i in range(0, len(top_labels)):\n",
    "      label = columns[i]\n",
    "      bc = LogisticRegression(solver='lbfgs')\n",
    "      X_train_label, Y_train_label = split_balanced(label, columns, X_train, Y_train) # tantos positivos como posible e igual a negativos\n",
    "      bc.fit(X_train_label, Y_train_label)\n",
    "      base_classifiers[label] = bc\n",
    "      clf_prediction = bc.predict(X_test.values)\n",
    "      predictions.append(clf_prediction) # una columna de prediccion\n",
    "\n",
    "    predictions = np.array(predictions).T\n",
    "\n",
    "    exact_match = accuracy_score(Y_test.values, predictions)\n",
    "    ham_loss = hamming_loss(Y_test.values, predictions)\n",
    "    ham_score = hamming_score(Y_test.values, predictions)\n",
    "\n",
    "    #print(\"Exact match ratio: {}\".format(exact_match))\n",
    "    #print(\"Hamming loss: {}\".format(ham_loss))\n",
    "    print(\"Hamming score: {}\".format(ham_score))"
   ]
  },
  {
   "cell_type": "code",
   "execution_count": 34,
   "metadata": {
    "colab": {
     "base_uri": "https://localhost:8080/"
    },
    "id": "eOFud2NL9Glc",
    "outputId": "38e9a516-4db6-4cce-fa42-1d43240ef6e7",
    "pycharm": {
     "name": "#%%\n"
    }
   },
   "outputs": [],
   "source": [
    "if False:\n",
    "    present_labels = top_labels.index\n",
    "    cfs_matrix = multilabel_confusion_matrix(Y_test, predictions)\n",
    "    class_report = classification_report(Y_test,\n",
    "                                          predictions,\n",
    "                                          output_dict=False,\n",
    "                                          target_names=present_labels)\n",
    "    print(class_report)"
   ]
  },
  {
   "cell_type": "code",
   "execution_count": 35,
   "metadata": {
    "colab": {
     "base_uri": "https://localhost:8080/",
     "height": 1000
    },
    "id": "RHzW7zAVxIjf",
    "outputId": "2bdd47e7-c1fd-4be4-d8f4-34f56601b8b6",
    "pycharm": {
     "name": "#%%\n"
    }
   },
   "outputs": [],
   "source": [
    "#plot_multiple_matrix(cfs_matrix, present_labels)"
   ]
  }
 ],
 "metadata": {
  "accelerator": "GPU",
  "colab": {
   "collapsed_sections": [],
   "name": "Testing multilabel algorithms.ipynb",
   "provenance": []
  },
  "kernelspec": {
   "display_name": "Python 3 (ipykernel)",
   "language": "python",
   "name": "python3"
  },
  "language_info": {
   "codemirror_mode": {
    "name": "ipython",
    "version": 3
   },
   "file_extension": ".py",
   "mimetype": "text/x-python",
   "name": "python",
   "nbconvert_exporter": "python",
   "pygments_lexer": "ipython3",
   "version": "3.10.0"
  }
 },
 "nbformat": 4,
 "nbformat_minor": 1
}
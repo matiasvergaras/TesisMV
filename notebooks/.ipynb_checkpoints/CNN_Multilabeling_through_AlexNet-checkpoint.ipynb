{
 "cells": [
  {
   "cell_type": "markdown",
   "metadata": {
    "id": "JDmhP_idRXT4",
    "pycharm": {
     "name": "#%% md\n"
    }
   },
   "source": [
    "# Aprendizaje Multietiqueta de Patrones Geométricos en Objetos de Herencia Cultural\n",
    "# CNN Multilabeling through AlexNet\n",
    "## Seminario de Tesis II, Primavera 2022\n",
    "### Master of Data Science. Universidad de Chile.\n",
    "#### Prof. guía: Benjamín Bustos - Prof. coguía: Iván Sipirán\n",
    "#### Autor: Matías Vergara\n",
    "\n",
    "El objetivo de este notebook es realizar predicciones multilabel sobre patrones geométricos mediante AlexNet."
   ]
  },
  {
   "cell_type": "markdown",
   "metadata": {
    "pycharm": {
     "name": "#%% md\n"
    }
   },
   "source": [
    "## Montando Google Drive"
   ]
  },
  {
   "cell_type": "code",
   "execution_count": 1,
   "metadata": {
    "pycharm": {
     "name": "#%%\n"
    }
   },
   "outputs": [],
   "source": [
    "# Mounting google Drive\n",
    "try:\n",
    "    from google.colab import drive\n",
    "    drive.mount('/content/drive')\n",
    "    root_dir = '../content/gdrive/MyDrive'\n",
    "except:\n",
    "    root_dir = '..\\'"
   ]
  },
  {
   "cell_type": "code",
   "execution_count": 2,
   "metadata": {
    "pycharm": {
     "name": "#%%\n"
    }
   },
   "outputs": [],
   "source": [
    "import os\n",
    "import numpy as np\n",
    "import pandas as pd\n",
    "import random\n",
    "import matplotlib.pyplot as plt\n",
    "import torch\n",
    "import torch.nn as nn\n",
    "import torchvision\n",
    "import torchvision.transforms as transforms\n",
    "from PIL import Image\n",
    "import torchvision.models as models\n",
    "import math\n",
    "from torch.nn.utils.rnn import pack_padded_sequence\n",
    "\n",
    "%matplotlib inline\n",
    "from matplotlib import pyplot as plt"
   ]
  },
  {
   "cell_type": "markdown",
   "metadata": {
    "pycharm": {
     "name": "#%% md\n"
    }
   },
   "source": [
    "## Selección de dataset y experimento"
   ]
  },
  {
   "cell_type": "code",
   "execution_count": 56,
   "metadata": {
    "pycharm": {
     "name": "#%%\n"
    }
   },
   "outputs": [],
   "source": [
    "DS_FLAGS = ['base']\n",
    "              # 'ref': [invertX, invertY],\n",
    "              # 'rot': [rotate90, rotate180, rotate270],\n",
    "              # 'crop': [crop] * CROP_TIMES,\n",
    "              # 'blur': [blur],\n",
    "              # 'emboss': [emboss],\n",
    "              # 'randaug': [randaug],\n",
    "              # 'rain': [rain],\n",
    "              # 'elastic': [elastic]\n",
    "CROP_TIMES = 2\n",
    "RANDOM_TIMES = 2\n",
    "ELASTIC_TIMES = 3\n",
    "\n",
    "use_pos_weights = False\n",
    "pos_weights_factor = 2.5\n",
    "NUM_LABELS = 100\n",
    "use_testval = True\n",
    "BATCH_SIZE = 100\n",
    "\n",
    "TH_TRAIN = 0.5\n",
    "TH_VAL = 0.5\n",
    "TH_TEST = 0.5"
   ]
  },
  {
   "cell_type": "code",
   "execution_count": 57,
   "metadata": {
    "pycharm": {
     "name": "#%%\n"
    }
   },
   "outputs": [
    {
     "name": "stdout",
     "output_type": "stream",
     "text": [
      "Patterns set encontrado en ../patterns\\base\n",
      "Labels set encontrado en ../labels\\base\n",
      "Nombre del experimento: 100L_testval\n",
      "Los resultados se guardarán en: ../outputs\\alexnet\\base\\100L_testval\n",
      "Los resultados se guardarán en: ../outputs\\alexnet\\base\\100L_testval\n"
     ]
    }
   ],
   "source": [
    "# This cells builds the data_flags variable, that will be used\n",
    "# to map the requested data treatment to folders\n",
    "MAP_TIMES = {'crop': CROP_TIMES,\n",
    "         'randaug': RANDOM_TIMES,\n",
    "         'elastic': ELASTIC_TIMES,\n",
    "}\n",
    "\n",
    "DS_FLAGS = sorted(DS_FLAGS)\n",
    "data_flags = '_'.join(DS_FLAGS) if len(DS_FLAGS) > 0 else 'base'\n",
    "MULTIPLE_TRANSF = ['crop', 'randaug', 'elastic']\n",
    "COPY_FLAGS = DS_FLAGS.copy()\n",
    "\n",
    "for t in MULTIPLE_TRANSF:\n",
    "    if t in DS_FLAGS:\n",
    "        COPY_FLAGS.remove(t)\n",
    "        COPY_FLAGS.append(t + str(MAP_TIMES[t]))\n",
    "        data_flags = '_'.join(COPY_FLAGS)\n",
    "\n",
    "patterns_path = os.path.join(root_dir, 'patterns', data_flags) \n",
    "labels_path = os.path.join(root_dir, 'labels', data_flags)\n",
    "\n",
    "if not (os.path.isdir(patterns_path) and os.path.isdir(labels_path)):\n",
    "    raise FileNotFoundError(\"No existen directorios de datos para el conjunto de flags seleccionado. Verifique que el dataset exista en {}\".format(\n",
    "        (os.path.isdir(patterns_path), os.path.isdir(labels_path))))\n",
    "print(\"Patterns set encontrado en {}\".format(patterns_path))\n",
    "print(\"Labels set encontrado en {}\".format(labels_path))\n",
    "\n",
    "exp_name = f\"{NUM_LABELS}L\"\n",
    "exp_name += \"_testval\" if use_testval else \"\"\n",
    "weights_str = str(pos_weights_factor)\n",
    "weights_str = weights_str.replace('.','_')\n",
    "exp_name += f'_weighted_{weights_str}' if use_pos_weights else ''\n",
    "print(f\"Nombre del experimento: {exp_name}\")\n",
    "\n",
    "output_dir = os.path.join(root_dir, \"outputs\", \"alexnet\", data_flags, exp_name)\n",
    "os.makedirs(output_dir, exist_ok = True)\n",
    "\n",
    "model_dir = os.path.join(root_dir, \"models\", \"alexnet\", data_flags)\n",
    "model_path = os.path.join(model_dir, exp_name + '.pth')\n",
    "\n",
    "print(f\"Los resultados se guardarán en: {output_dir}\")\n",
    "print(f\"Los resultados se guardarán en: {output_dir}\")"
   ]
  },
  {
   "cell_type": "code",
   "execution_count": 58,
   "metadata": {
    "pycharm": {
     "name": "#%%\n"
    }
   },
   "outputs": [],
   "source": [
    "labels_train = pd.read_json(os.path.join(labels_path, 'augmented_train_df.json'), orient='index')\n",
    "labels_val = pd.read_json(os.path.join(labels_path, 'val_df.json'), orient='index')\n",
    "labels_test = pd.read_json(os.path.join(labels_path, 'test_df.json'), orient='index')"
   ]
  },
  {
   "cell_type": "code",
   "execution_count": 59,
   "metadata": {
    "pycharm": {
     "name": "#%%\n"
    }
   },
   "outputs": [
    {
     "data": {
      "text/html": [
       "<div>\n",
       "<style scoped>\n",
       "    .dataframe tbody tr th:only-of-type {\n",
       "        vertical-align: middle;\n",
       "    }\n",
       "\n",
       "    .dataframe tbody tr th {\n",
       "        vertical-align: top;\n",
       "    }\n",
       "\n",
       "    .dataframe thead th {\n",
       "        text-align: right;\n",
       "    }\n",
       "</style>\n",
       "<table border=\"1\" class=\"dataframe\">\n",
       "  <thead>\n",
       "    <tr style=\"text-align: right;\">\n",
       "      <th></th>\n",
       "      <th>pendent</th>\n",
       "      <th>teardrop</th>\n",
       "      <th>horizontal</th>\n",
       "      <th>panel</th>\n",
       "      <th>group</th>\n",
       "      <th>vertical</th>\n",
       "      <th>bar</th>\n",
       "      <th>floating</th>\n",
       "      <th>enclosing</th>\n",
       "      <th>shorter</th>\n",
       "      <th>...</th>\n",
       "      <th>light</th>\n",
       "      <th>body</th>\n",
       "      <th>bird</th>\n",
       "      <th>striped</th>\n",
       "      <th>worm</th>\n",
       "      <th>angular</th>\n",
       "      <th>raised</th>\n",
       "      <th>head</th>\n",
       "      <th>bird-seed</th>\n",
       "      <th>long</th>\n",
       "    </tr>\n",
       "  </thead>\n",
       "  <tbody>\n",
       "    <tr>\n",
       "      <th>53b</th>\n",
       "      <td>0</td>\n",
       "      <td>0</td>\n",
       "      <td>1</td>\n",
       "      <td>1</td>\n",
       "      <td>0</td>\n",
       "      <td>0</td>\n",
       "      <td>0</td>\n",
       "      <td>0</td>\n",
       "      <td>0</td>\n",
       "      <td>0</td>\n",
       "      <td>...</td>\n",
       "      <td>0</td>\n",
       "      <td>0</td>\n",
       "      <td>0</td>\n",
       "      <td>0</td>\n",
       "      <td>0</td>\n",
       "      <td>0</td>\n",
       "      <td>0</td>\n",
       "      <td>0</td>\n",
       "      <td>0</td>\n",
       "      <td>0</td>\n",
       "    </tr>\n",
       "    <tr>\n",
       "      <th>2b</th>\n",
       "      <td>0</td>\n",
       "      <td>0</td>\n",
       "      <td>1</td>\n",
       "      <td>1</td>\n",
       "      <td>0</td>\n",
       "      <td>1</td>\n",
       "      <td>1</td>\n",
       "      <td>0</td>\n",
       "      <td>0</td>\n",
       "      <td>0</td>\n",
       "      <td>...</td>\n",
       "      <td>0</td>\n",
       "      <td>0</td>\n",
       "      <td>0</td>\n",
       "      <td>0</td>\n",
       "      <td>0</td>\n",
       "      <td>0</td>\n",
       "      <td>0</td>\n",
       "      <td>0</td>\n",
       "      <td>0</td>\n",
       "      <td>0</td>\n",
       "    </tr>\n",
       "    <tr>\n",
       "      <th>40g</th>\n",
       "      <td>0</td>\n",
       "      <td>0</td>\n",
       "      <td>0</td>\n",
       "      <td>1</td>\n",
       "      <td>0</td>\n",
       "      <td>1</td>\n",
       "      <td>0</td>\n",
       "      <td>0</td>\n",
       "      <td>0</td>\n",
       "      <td>0</td>\n",
       "      <td>...</td>\n",
       "      <td>0</td>\n",
       "      <td>0</td>\n",
       "      <td>0</td>\n",
       "      <td>0</td>\n",
       "      <td>0</td>\n",
       "      <td>0</td>\n",
       "      <td>0</td>\n",
       "      <td>0</td>\n",
       "      <td>0</td>\n",
       "      <td>0</td>\n",
       "    </tr>\n",
       "    <tr>\n",
       "      <th>70h</th>\n",
       "      <td>0</td>\n",
       "      <td>0</td>\n",
       "      <td>0</td>\n",
       "      <td>0</td>\n",
       "      <td>0</td>\n",
       "      <td>0</td>\n",
       "      <td>0</td>\n",
       "      <td>0</td>\n",
       "      <td>0</td>\n",
       "      <td>0</td>\n",
       "      <td>...</td>\n",
       "      <td>0</td>\n",
       "      <td>0</td>\n",
       "      <td>0</td>\n",
       "      <td>0</td>\n",
       "      <td>0</td>\n",
       "      <td>0</td>\n",
       "      <td>0</td>\n",
       "      <td>0</td>\n",
       "      <td>0</td>\n",
       "      <td>0</td>\n",
       "    </tr>\n",
       "    <tr>\n",
       "      <th>94a</th>\n",
       "      <td>0</td>\n",
       "      <td>0</td>\n",
       "      <td>0</td>\n",
       "      <td>0</td>\n",
       "      <td>0</td>\n",
       "      <td>0</td>\n",
       "      <td>0</td>\n",
       "      <td>0</td>\n",
       "      <td>0</td>\n",
       "      <td>0</td>\n",
       "      <td>...</td>\n",
       "      <td>0</td>\n",
       "      <td>0</td>\n",
       "      <td>0</td>\n",
       "      <td>0</td>\n",
       "      <td>0</td>\n",
       "      <td>0</td>\n",
       "      <td>0</td>\n",
       "      <td>0</td>\n",
       "      <td>0</td>\n",
       "      <td>0</td>\n",
       "    </tr>\n",
       "    <tr>\n",
       "      <th>...</th>\n",
       "      <td>...</td>\n",
       "      <td>...</td>\n",
       "      <td>...</td>\n",
       "      <td>...</td>\n",
       "      <td>...</td>\n",
       "      <td>...</td>\n",
       "      <td>...</td>\n",
       "      <td>...</td>\n",
       "      <td>...</td>\n",
       "      <td>...</td>\n",
       "      <td>...</td>\n",
       "      <td>...</td>\n",
       "      <td>...</td>\n",
       "      <td>...</td>\n",
       "      <td>...</td>\n",
       "      <td>...</td>\n",
       "      <td>...</td>\n",
       "      <td>...</td>\n",
       "      <td>...</td>\n",
       "      <td>...</td>\n",
       "      <td>...</td>\n",
       "    </tr>\n",
       "    <tr>\n",
       "      <th>85c</th>\n",
       "      <td>0</td>\n",
       "      <td>0</td>\n",
       "      <td>1</td>\n",
       "      <td>1</td>\n",
       "      <td>0</td>\n",
       "      <td>0</td>\n",
       "      <td>0</td>\n",
       "      <td>0</td>\n",
       "      <td>0</td>\n",
       "      <td>0</td>\n",
       "      <td>...</td>\n",
       "      <td>0</td>\n",
       "      <td>0</td>\n",
       "      <td>0</td>\n",
       "      <td>0</td>\n",
       "      <td>0</td>\n",
       "      <td>0</td>\n",
       "      <td>0</td>\n",
       "      <td>0</td>\n",
       "      <td>0</td>\n",
       "      <td>0</td>\n",
       "    </tr>\n",
       "    <tr>\n",
       "      <th>92b</th>\n",
       "      <td>0</td>\n",
       "      <td>0</td>\n",
       "      <td>0</td>\n",
       "      <td>0</td>\n",
       "      <td>0</td>\n",
       "      <td>0</td>\n",
       "      <td>0</td>\n",
       "      <td>0</td>\n",
       "      <td>0</td>\n",
       "      <td>0</td>\n",
       "      <td>...</td>\n",
       "      <td>0</td>\n",
       "      <td>0</td>\n",
       "      <td>0</td>\n",
       "      <td>0</td>\n",
       "      <td>0</td>\n",
       "      <td>0</td>\n",
       "      <td>0</td>\n",
       "      <td>0</td>\n",
       "      <td>0</td>\n",
       "      <td>0</td>\n",
       "    </tr>\n",
       "    <tr>\n",
       "      <th>71a</th>\n",
       "      <td>0</td>\n",
       "      <td>0</td>\n",
       "      <td>1</td>\n",
       "      <td>1</td>\n",
       "      <td>0</td>\n",
       "      <td>0</td>\n",
       "      <td>0</td>\n",
       "      <td>0</td>\n",
       "      <td>0</td>\n",
       "      <td>0</td>\n",
       "      <td>...</td>\n",
       "      <td>0</td>\n",
       "      <td>0</td>\n",
       "      <td>0</td>\n",
       "      <td>0</td>\n",
       "      <td>0</td>\n",
       "      <td>0</td>\n",
       "      <td>0</td>\n",
       "      <td>0</td>\n",
       "      <td>0</td>\n",
       "      <td>0</td>\n",
       "    </tr>\n",
       "    <tr>\n",
       "      <th>81j</th>\n",
       "      <td>0</td>\n",
       "      <td>0</td>\n",
       "      <td>0</td>\n",
       "      <td>0</td>\n",
       "      <td>0</td>\n",
       "      <td>0</td>\n",
       "      <td>0</td>\n",
       "      <td>0</td>\n",
       "      <td>1</td>\n",
       "      <td>0</td>\n",
       "      <td>...</td>\n",
       "      <td>0</td>\n",
       "      <td>0</td>\n",
       "      <td>0</td>\n",
       "      <td>0</td>\n",
       "      <td>0</td>\n",
       "      <td>0</td>\n",
       "      <td>0</td>\n",
       "      <td>0</td>\n",
       "      <td>0</td>\n",
       "      <td>0</td>\n",
       "    </tr>\n",
       "    <tr>\n",
       "      <th>75h</th>\n",
       "      <td>0</td>\n",
       "      <td>0</td>\n",
       "      <td>1</td>\n",
       "      <td>1</td>\n",
       "      <td>0</td>\n",
       "      <td>0</td>\n",
       "      <td>0</td>\n",
       "      <td>0</td>\n",
       "      <td>0</td>\n",
       "      <td>0</td>\n",
       "      <td>...</td>\n",
       "      <td>0</td>\n",
       "      <td>0</td>\n",
       "      <td>0</td>\n",
       "      <td>0</td>\n",
       "      <td>0</td>\n",
       "      <td>0</td>\n",
       "      <td>0</td>\n",
       "      <td>0</td>\n",
       "      <td>0</td>\n",
       "      <td>0</td>\n",
       "    </tr>\n",
       "  </tbody>\n",
       "</table>\n",
       "<p>156 rows × 330 columns</p>\n",
       "</div>"
      ],
      "text/plain": [
       "     pendent  teardrop  horizontal  panel  group  vertical  bar  floating  \\\n",
       "53b        0         0           1      1      0         0    0         0   \n",
       "2b         0         0           1      1      0         1    1         0   \n",
       "40g        0         0           0      1      0         1    0         0   \n",
       "70h        0         0           0      0      0         0    0         0   \n",
       "94a        0         0           0      0      0         0    0         0   \n",
       "..       ...       ...         ...    ...    ...       ...  ...       ...   \n",
       "85c        0         0           1      1      0         0    0         0   \n",
       "92b        0         0           0      0      0         0    0         0   \n",
       "71a        0         0           1      1      0         0    0         0   \n",
       "81j        0         0           0      0      0         0    0         0   \n",
       "75h        0         0           1      1      0         0    0         0   \n",
       "\n",
       "     enclosing  shorter  ...  light  body  bird  striped  worm  angular  \\\n",
       "53b          0        0  ...      0     0     0        0     0        0   \n",
       "2b           0        0  ...      0     0     0        0     0        0   \n",
       "40g          0        0  ...      0     0     0        0     0        0   \n",
       "70h          0        0  ...      0     0     0        0     0        0   \n",
       "94a          0        0  ...      0     0     0        0     0        0   \n",
       "..         ...      ...  ...    ...   ...   ...      ...   ...      ...   \n",
       "85c          0        0  ...      0     0     0        0     0        0   \n",
       "92b          0        0  ...      0     0     0        0     0        0   \n",
       "71a          0        0  ...      0     0     0        0     0        0   \n",
       "81j          1        0  ...      0     0     0        0     0        0   \n",
       "75h          0        0  ...      0     0     0        0     0        0   \n",
       "\n",
       "     raised  head  bird-seed  long  \n",
       "53b       0     0          0     0  \n",
       "2b        0     0          0     0  \n",
       "40g       0     0          0     0  \n",
       "70h       0     0          0     0  \n",
       "94a       0     0          0     0  \n",
       "..      ...   ...        ...   ...  \n",
       "85c       0     0          0     0  \n",
       "92b       0     0          0     0  \n",
       "71a       0     0          0     0  \n",
       "81j       0     0          0     0  \n",
       "75h       0     0          0     0  \n",
       "\n",
       "[156 rows x 330 columns]"
      ]
     },
     "execution_count": 59,
     "metadata": {},
     "output_type": "execute_result"
    }
   ],
   "source": [
    "labels_test"
   ]
  },
  {
   "cell_type": "code",
   "execution_count": 60,
   "metadata": {
    "pycharm": {
     "name": "#%%\n"
    }
   },
   "outputs": [],
   "source": [
    "def filter_labels(labels_df, freq=25, number_labels = None):\n",
    "  \"\"\"Filters a label dataframe based on labels frequency (number of events)\n",
    "\n",
    "    Parameters:\n",
    "    labels_df (DataFrame): dataframe of labels \n",
    "    freq (int): threshold frequency. Labels with a lower value will be filtered. \n",
    "\n",
    "    Returns:\n",
    "    DataFrame: filtered labels dataframe\n",
    "\n",
    "  \"\"\"\n",
    "  top_labels = None\n",
    "\n",
    "  if not number_labels:\n",
    "    filtered_df = labels_df.loc[:, labels_df.sum(axis=0) > freq]\n",
    "    top_labels = filtered_df.sum().sort_values(ascending=False)\n",
    "    return top_labels, 0\n",
    "\n",
    "  if number_labels:\n",
    "      filtered_labels = labels_df.shape[1]\n",
    "      pivot = 0\n",
    "      while filtered_labels > number_labels:\n",
    "        #print(filtered_labels, number_labels, pivot)\n",
    "        filtered_df = labels_df.loc[:, labels_df.sum(axis=0) > pivot]\n",
    "        top_labels = filtered_df.sum().sort_values(ascending=False)\n",
    "        filtered_labels = filtered_df.shape[1]\n",
    "        pivot += 1\n",
    "      print(\"Aplicando threshold {} para trabajar con {} labels\".format(pivot, len(top_labels.values)))\n",
    "      return top_labels, pivot\n",
    "\n",
    "def filter_dfs(df, top_labels_df):\n",
    "  df = df[df.columns.intersection(top_labels_df.index)]\n",
    "  return df\n",
    "\n",
    "def make_positive_weights(labels, factor=1):                        \n",
    "    total = labels.values.sum()\n",
    "    weights = [0.] * len(labels)\n",
    "    for i, label in enumerate(labels):\n",
    "      weights[i] = total/(factor * labels[i])\n",
    "    return weights\n",
    "\n",
    "def hamming_score(y_true, y_pred, normalize=True, sample_weight=None):\n",
    "    '''\n",
    "    Compute the Hamming score (a.k.a. label-based accuracy) for the multi-label case\n",
    "    http://stackoverflow.com/q/32239577/395857\n",
    "    '''\n",
    "    acc_list = []\n",
    "    for i in range(y_true.shape[0]):\n",
    "        set_true = set( np.where(y_true[i])[0] )\n",
    "        set_pred = set( np.where(y_pred[i])[0] )\n",
    "        #print('\\nset_true: {0}'.format(set_true))\n",
    "        #print('set_pred: {0}'.format(set_pred))\n",
    "        tmp_a = None\n",
    "        if len(set_true) == 0 and len(set_pred) == 0:\n",
    "            tmp_a = 1\n",
    "        else:\n",
    "            tmp_a = len(set_true.intersection(set_pred))/\\\n",
    "                    float( len(set_true.union(set_pred)) )\n",
    "        #print('tmp_a: {0}'.format(tmp_a))\n",
    "        acc_list.append(tmp_a)\n",
    "    return np.mean(acc_list)"
   ]
  },
  {
   "cell_type": "code",
   "execution_count": 61,
   "metadata": {
    "pycharm": {
     "name": "#%%\n"
    }
   },
   "outputs": [
    {
     "name": "stdout",
     "output_type": "stream",
     "text": [
      "Aplicando threshold 5 para trabajar con 92 labels\n"
     ]
    }
   ],
   "source": [
    "labels = pd.read_json(os.path.join(labels_path, 'augmented_train_df.json'), orient='index')\n",
    "top_labels = filter_labels(labels, number_labels = NUM_LABELS)"
   ]
  },
  {
   "cell_type": "code",
   "execution_count": 62,
   "metadata": {
    "pycharm": {
     "name": "#%%\n"
    }
   },
   "outputs": [
    {
     "data": {
      "text/plain": [
       "2520"
      ]
     },
     "execution_count": 62,
     "metadata": {},
     "output_type": "execute_result"
    }
   ],
   "source": [
    "top_labels[0].values.sum()"
   ]
  },
  {
   "cell_type": "code",
   "execution_count": 63,
   "metadata": {
    "pycharm": {
     "name": "#%%\n"
    }
   },
   "outputs": [
    {
     "name": "stdout",
     "output_type": "stream",
     "text": [
      "Aplicando threshold 5 para trabajar con 92 labels\n"
     ]
    },
    {
     "name": "stderr",
     "output_type": "stream",
     "text": [
      "C:\\Users\\m_jvs\\AppData\\Local\\Temp\\ipykernel_11132\\394450367.py:36: FutureWarning: The frame.append method is deprecated and will be removed from pandas in a future version. Use pandas.concat instead.\n",
      "  self.labels_frame = pd.DataFrame.append(self.labels_frame, extra_labels_frame)\n"
     ]
    }
   ],
   "source": [
    "# Device configuration\n",
    "device = torch.device('cuda:0' if torch.cuda.is_available() else 'cpu')\n",
    "\n",
    "train_labels = pd.read_json(os.path.join(labels_path, 'augmented_train_df.json'), orient='index')\n",
    "top_labels, _ = filter_labels(train_labels, number_labels=NUM_LABELS)\n",
    "NUM_LABELS = len(top_labels) # la cantidad final de etiquetas a trabajar\n",
    "\n",
    "if use_pos_weights:\n",
    "    pos_weights = make_positive_weights(top_labels, pos_weights_factor)\n",
    "    pos_weights = torch.Tensor(pos_weights).float().to(device)\n",
    "else:\n",
    "    pos_weights = None\n",
    "\n",
    "# images_dir=os.path.join(root_dir, 'patterns', data_flags, 'train'),\n",
    "# labels_file=os.path.join(root_dir, 'labels', data_flags, 'augmented_train_df.json'),\n",
    "class KunischDataset(torch.utils.data.Dataset):\n",
    "\n",
    "  def __init__(self, images_dir, labels_file, transform, top_labels, extra_labels = None, extra_images_dir = None):\n",
    "    \"\"\"\n",
    "    Args:\n",
    "        text_file(string): path to text file\n",
    "        root_dir(string): directory with all train images\n",
    "    \"\"\"\n",
    "    self.labels_frame = filter_dfs(pd.read_json(labels_file, orient='index'), top_labels)\n",
    "    self.num_labels = len(top_labels)\n",
    "    self.images_dir = images_dir\n",
    "    self.labels_file = labels_file\n",
    "    self.transform = transform\n",
    "    self.flags = data_flags\n",
    "    self.top_labels = top_labels\n",
    "    self.extra_images_dir = None \n",
    "\n",
    "    # para crear conjunto test-val \n",
    "    if extra_labels:\n",
    "      extra_labels_frame = filter_dfs(pd.read_json(extra_labels, orient='index'), top_labels)\n",
    "      self.labels_frame = pd.DataFrame.append(self.labels_frame, extra_labels_frame)\n",
    "      self.extra_images_dir = extra_images_dir\n",
    "\n",
    "  def __len__(self):\n",
    "    return len(self.labels_frame)\n",
    "\n",
    "  def __getitem__(self, idx):\n",
    "    img_id = self.labels_frame.iloc[idx].name + '.png'\n",
    "    img_name = None\n",
    "    for chapter in os.listdir(self.images_dir):\n",
    "      if img_id in os.listdir(os.path.join(self.images_dir, chapter)):\n",
    "        img_name = os.path.join(self.images_dir, chapter, img_id)\n",
    "        break\n",
    "    # caso test-val\n",
    "    if (self.extra_images_dir is not None) and (img_name is None):\n",
    "      for chapter in os.listdir(self.extra_images_dir):\n",
    "        if img_id in os.listdir(os.path.join(self.extra_images_dir, chapter)):\n",
    "          img_name = os.path.join(self.extra_images_dir, chapter, img_id)\n",
    "          break\n",
    "    if img_name is None:\n",
    "      raise Exception(f'No se encontró la imagen para {img_id}')\n",
    "    image = Image.open(img_name)\n",
    "    image = image.convert('RGB')\n",
    "    image = self.transform(image)\n",
    "    labels = self.labels_frame.iloc[idx].values\n",
    "    labels = np.array(labels)\n",
    "    labels = torch.from_numpy(labels.astype('int'))\n",
    "    #print(img_id, img_name, self.labels_frame.iloc[idx], self.labels_frame.iloc[idx].values, labels)\n",
    "    sample = {'image': image, 'labels': labels, 'paths': img_name}\n",
    "    return sample\n",
    "\n",
    "\n",
    "# Alexnet requires 227 x 227\n",
    "# Training\n",
    "kunischTrainSet = KunischDataset(images_dir=os.path.join(patterns_path, 'train'),\n",
    "                                 labels_file=os.path.join(labels_path, 'augmented_train_df.json'),\n",
    "                                 transform=transforms.Compose([transforms.Resize((227, 227)),\n",
    "                                                               transforms.ToTensor(),\n",
    "                                                               transforms.Normalize(\n",
    "                                                                   mean=[0.485, 0.456, 0.406],\n",
    "                                                                   std=[0.229, 0.224, 0.225])]),\n",
    "                                 top_labels=top_labels)\n",
    "\n",
    "kunischTrainLoader = torch.utils.data.DataLoader(kunischTrainSet, batch_size=BATCH_SIZE, shuffle=True, num_workers=0)\n",
    "\n",
    "# Validation\n",
    "kunischValidationSet = KunischDataset(images_dir=os.path.join(patterns_path, 'val'),\n",
    "                                      labels_file=os.path.join(labels_path, 'val_df.json'),\n",
    "                                      transform=transforms.Compose([transforms.Resize((227, 227)),\n",
    "                                                                    transforms.ToTensor(),\n",
    "                                                                    transforms.Normalize(\n",
    "                                                                        mean=[0.485, 0.456, 0.406],\n",
    "                                                                        std=[0.229, 0.224, 0.225])]),\n",
    "                                      top_labels=top_labels)\n",
    "\n",
    "kunischValidationLoader = torch.utils.data.DataLoader(kunischValidationSet, batch_size=BATCH_SIZE, shuffle=True,\n",
    "                                                      num_workers=0)\n",
    "\n",
    "# Test\n",
    "kunischTestSet = KunischDataset(images_dir=os.path.join(patterns_path, 'test'),\n",
    "                                labels_file=os.path.join(labels_path, 'test_df.json'),\n",
    "                                transform=transforms.Compose([transforms.Resize((227, 227)),\n",
    "                                                              transforms.ToTensor(),\n",
    "                                                              transforms.Normalize(\n",
    "                                                                  mean=[0.485, 0.456, 0.406],\n",
    "                                                                  std=[0.229, 0.224, 0.225])]),\n",
    "                                top_labels=top_labels,\n",
    "                                extra_labels=os.path.join(labels_path, 'val_df.json' if use_testval else None),\n",
    "                                extra_images_dir=os.path.join(patterns_path, 'val' if use_testval else None))\n",
    "\n",
    "kunischTestLoader = torch.utils.data.DataLoader(kunischTestSet, batch_size=BATCH_SIZE, shuffle=False, num_workers=0)\n",
    "\n",
    "\n",
    "# Define the function for training, validation, and test\n",
    "def alex_train(epoch, num_epochs, train_losses, learning_rate, w):\n",
    "  alex_net.train()\n",
    "  train_loss = 0\n",
    "  TN = 0\n",
    "  TP = 0\n",
    "  FP = 0\n",
    "  FN = 0\n",
    "  preds_total = np.empty((1, NUM_LABELS), dtype=int)\n",
    "  labels_total = np.empty((1, NUM_LABELS), dtype=int)\n",
    "    \n",
    "  for i, sample_batched in enumerate(kunischTrainLoader, 1):\n",
    "      inputs = sample_batched['image'].to(device)\n",
    "      labels = sample_batched['labels'].to(device)\n",
    "\n",
    "      # zero the parameter gradients\n",
    "      optimizer.zero_grad()\n",
    "\n",
    "      # forward + backward + optimize\n",
    "      outputs = alex_net(inputs)\n",
    "      loss = criterion(outputs.float(), labels.float())\n",
    "      loss.backward()\n",
    "      optimizer.step()\n",
    "      \n",
    "      train_loss += loss.item()\n",
    "      pred = (torch.sigmoid(outputs).data > TH_TRAIN).int()\n",
    "      # print(pred)\n",
    "      labels = labels.int()\n",
    "      # print(labels)\n",
    "      preds_total = np.concatenate((preds_total, pred.cpu()), axis=0)\n",
    "      labels_total = np.concatenate((labels_total, labels.cpu()), axis=0)\n",
    "    \n",
    "      TP += ((pred == 1) & (labels == 1)).float().sum()  # True Positive Count\n",
    "      TN += ((pred == 0) & (labels == 0)).float().sum()  # True Negative Count\n",
    "      FP += ((pred == 1) & (labels == 0)).float().sum()  # False Positive Count\n",
    "      FN += ((pred == 0) & (labels == 1)).float().sum()  # False Negative Count\n",
    "      #print('TP: {}\\t TN: {}\\t FP: {}\\t FN: {}\\n'.format(TP, TN, FP, FN))\n",
    "  \n",
    "\n",
    "  TP = TP.cpu().numpy()\n",
    "  TN = TN.cpu().numpy()\n",
    "  FP = FP.cpu().numpy()\n",
    "  FN = FN.cpu().numpy()\n",
    "\n",
    "  accuracy = (TP + TN) / (TP + TN + FP + FN)\n",
    "  precision = TP / (TP + FP)\n",
    "  recall = TP / (TP + FN)\n",
    "  f1_score = 2 * (precision * recall) / (precision + recall)\n",
    "  train_loss = train_loss / len(kunischTrainLoader.dataset) * BATCH_SIZE\n",
    "  hs = hamming_score(preds_total, labels_total)\n",
    "  train_losses.append([epoch, learning_rate, w, train_loss, TP, TN, FP, FN, accuracy, precision, recall, f1_score])\n",
    "\n",
    "  # print statistics\n",
    "  print('Train Trial [{}/{}], LR: {:.4g}, W: {}, Avg Loss: {:.4f}, Accuracy: {:.4f}, F1 score: {:.4f}, HS: {:.4f}'\n",
    "        .format(epoch, num_epochs, optimizer.param_groups[0]['lr'], w, train_loss, accuracy, f1_score, hs))\n",
    "  return hs\n",
    "\n",
    "def alex_valid(epoch, num_epochs, valid_losses, learning_rate, w):\n",
    "  # Have our model in evaluation mode\n",
    "  alex_net.eval()\n",
    "  # Set losses and Correct labels to zero\n",
    "  valid_loss = 0\n",
    "  TN = 0\n",
    "  TP = 0\n",
    "  FP = 0\n",
    "  FN = 0\n",
    "  preds_total = np.empty((1, NUM_LABELS), dtype=int)\n",
    "  labels_total = np.empty((1, NUM_LABELS), dtype=int)\n",
    "  with torch.no_grad():\n",
    "      for i, sample_batched in enumerate(kunischValidationLoader, 1):\n",
    "          inputs = sample_batched['image'].to(device)\n",
    "          labels = sample_batched['labels'].to(device)\n",
    "          outputs = alex_net(inputs)\n",
    "          loss = criterion(outputs.float(), labels.float())\n",
    "          valid_loss += loss.item()\n",
    "          pred = (torch.sigmoid(outputs).data > TH_VAL).int()\n",
    "          labels = labels.int()\n",
    "          preds_total = np.concatenate((preds_total, pred.cpu()), axis=0)\n",
    "          labels_total = np.concatenate((labels_total, labels.cpu()), axis=0)\n",
    "        \n",
    "          TP += ((pred == 1) & (labels == 1)).float().sum()  # True Positive Count\n",
    "          TN += ((pred == 0) & (labels == 0)).float().sum()  # True Negative Count\n",
    "          FP += ((pred == 1) & (labels == 0)).float().sum()  # False Positive Count\n",
    "          FN += ((pred == 0) & (labels == 1)).float().sum()  # False Negative Count\n",
    "          # print('TP: {}\\t TN: {}\\t FP: {}\\t FN: {}\\n'.format(TP,TN,FP,FN) )\n",
    "\n",
    "      TP = TP.cpu().numpy()\n",
    "      TN = TN.cpu().numpy()\n",
    "      FP = FP.cpu().numpy()\n",
    "      FN = FN.cpu().numpy()\n",
    "      accuracy = (TP + TN) / (TP + TN + FP + FN)\n",
    "      precision = TP / (TP + FP)\n",
    "      recall = TP / (TP + FN)\n",
    "      f1_score = 2 * (precision * recall) / (precision + recall)\n",
    "      hs = hamming_score(preds_total, labels_total)\n",
    "    \n",
    "      scheduler.step(hs)\n",
    "\n",
    "      valid_loss = valid_loss / len(kunischValidationLoader.dataset) * BATCH_SIZE  # 1024 is the batch size\n",
    "      valid_losses.append(\n",
    "          [epoch, learning_rate, w, valid_loss, TP, TN, FP, FN, accuracy, precision, recall, f1_score])\n",
    "      # print statistics\n",
    "      print('Valid Trial [{}/{}], LR: {}, W: {}, Avg Loss: {:.4f}, Accuracy: {:.4f}, F1 score: {:.4f}, HS: {:.4f}'\n",
    "            .format(epoch, num_epochs, optimizer.param_groups[0]['lr'], w, valid_loss, accuracy, f1_score, hs))\n",
    "      return hs\n",
    "\n",
    "def alex_test(epoch, num_epochs, pred_array, test_losses, learning_rate, w, show_images=1):\n",
    "  # Have our model in evaluation mode\n",
    "  alex_net.eval()\n",
    "  # Set losses and Correct labels to zero\n",
    "  test_loss = 0\n",
    "  TN = 0\n",
    "  TP = 0\n",
    "  FP = 0\n",
    "  FN = 0\n",
    "  preds_total = np.empty((1, NUM_LABELS), dtype=int)\n",
    "  labels_total = np.empty((1, NUM_LABELS), dtype=int)\n",
    "    \n",
    "  with torch.no_grad():\n",
    "      for i,sample_batched in enumerate(kunischTestLoader, 1):\n",
    "          print(\"CURRENT BATCH SIZE: \", BATCH_SIZE)\n",
    "          inputs = sample_batched['image'].to(device)\n",
    "          labels = sample_batched['labels'].to(device)\n",
    "          paths = sample_batched['paths']\n",
    "          outputs = alex_net(inputs)\n",
    "          \n",
    "          loss = criterion(outputs.float(), labels.float())\n",
    "          test_loss += loss.item()\n",
    "          pred = (torch.sigmoid(outputs).data > TH_TEST).int()\n",
    "          # print(pred)\n",
    "          labels = labels.int()\n",
    "          # print(labels)\n",
    "          pred_array.append([paths, test_loss, labels, pred])\n",
    "          preds_total = np.concatenate((preds_total, pred.cpu()), axis=0)\n",
    "          labels_total = np.concatenate((labels_total, labels.cpu()), axis=0)\n",
    "          \n",
    "          for j in range(0, min(BATCH_SIZE, show_images)): # j itera sobre ejemplos\n",
    "              print(f\"Mostrando imagen {j} del batch {i}\")\n",
    "              img = np.transpose(sample_batched['image'][j]) # imagen j \n",
    "              plt.imshow(img, interpolation='nearest')\n",
    "              plt.show()\n",
    "              labels_correctos = \"\"\n",
    "              labels_predichos = \"\"\n",
    "              for k in range(0, len(pred[j])):\n",
    "                labels_correctos += (kunischTestSet.labels_frame.columns.values[k]+' ') if labels[j].cpu().detach()[k] else \"\"\n",
    "                labels_predichos += (kunischTestSet.labels_frame.columns.values[k]+' ') if pred[j].cpu().detach()[k] else \"\"\n",
    "              print(\"Labels correctos:\")\n",
    "              #print(labels[j].cpu().detach().numpy())\n",
    "              print(labels_correctos)\n",
    "              print(\"Labels predichos:\")\n",
    "              #print(pred[j].cpu().detach().numpy())\n",
    "              print(labels_predichos)\n",
    "              print(\"\\n\")\n",
    "            \n",
    "          TP += ((pred == 1) & (labels == 1)).float().sum()  # True Positive Count\n",
    "          TN += ((pred == 0) & (labels == 0)).float().sum()  # True Negative Count\n",
    "          FP += ((pred == 1) & (labels == 0)).float().sum()  # False Positive Count\n",
    "          FN += ((pred == 0) & (labels == 1)).float().sum()  # False Negative Count\n",
    "          # print('TP: {}\\t TN: {}\\t FP: {}\\t FN: {}\\n'.format(TP,TN,FP,FN) )\n",
    "\n",
    "      TP = TP.cpu().numpy()\n",
    "      TN = TN.cpu().numpy()\n",
    "      FP = FP.cpu().numpy()\n",
    "      FN = FN.cpu().numpy()\n",
    "      accuracy = (TP + TN) / (TP + TN + FP + FN)\n",
    "      precision = TP / (TP + FP)\n",
    "      recall = TP / (TP + FN)\n",
    "      f1_score = 2 * (precision * recall) / (precision + recall)\n",
    "      hs = hamming_score(preds_total, labels_total)\n",
    "      test_loss = test_loss / len(kunischTestLoader.dataset) * 1024  # 1024 is the batch size\n",
    "      test_losses.append([epoch, learning_rate, w, test_loss, TP, TN, FP, FN, accuracy, precision, recall, f1_score])\n",
    "      # print statistics\n",
    "      print('Test Trial [{}/{}], LR: {}, W: {}, Avg Loss: {:.4f}, Accuracy: {:.4f}, F1 score: {:.4f}, HS: {:.4f}'\n",
    "            .format(epoch, num_epochs, optimizer.param_groups[0]['lr'], w, test_loss, accuracy, f1_score, hs))\n",
    "      return hs"
   ]
  },
  {
   "cell_type": "code",
   "execution_count": 64,
   "metadata": {
    "pycharm": {
     "name": "#%%\n"
    }
   },
   "outputs": [],
   "source": [
    "def filter_labels(labels_df, freq=25, number_labels = None):\n",
    "  \"\"\"Filters a label dataframe based on labels frequency (number of events)\n",
    "\n",
    "    Parameters:\n",
    "    labels_df (DataFrame): dataframe of labels \n",
    "    freq (int): threshold frequency. Labels with a lower value will be filtered. \n",
    "\n",
    "    Returns:\n",
    "    DataFrame: filtered labels dataframe\n",
    "\n",
    "  \"\"\"\n",
    "  top_labels = None\n",
    "\n",
    "  if not number_labels:\n",
    "    filtered_df = labels_df.loc[:, labels_df.sum(axis=0) > freq]\n",
    "    top_labels = filtered_df.sum().sort_values(ascending=False)\n",
    "    return top_labels, 0\n",
    "\n",
    "  if number_labels:\n",
    "      filtered_labels = labels_df.shape[1]\n",
    "      pivot = 0\n",
    "      while filtered_labels > number_labels:\n",
    "        #print(filtered_labels, number_labels, pivot)\n",
    "        filtered_df = labels_df.loc[:, labels_df.sum(axis=0) > pivot]\n",
    "        top_labels = filtered_df.sum().sort_values(ascending=False)\n",
    "        filtered_labels = filtered_df.shape[1]\n",
    "        pivot += 1\n",
    "      print(\"Aplicando threshold {} para trabajar con {} labels\".format(pivot, len(top_labels.values)))\n",
    "      return top_labels, pivot\n",
    "\n",
    "def filter_dfs(df, top_labels_df):\n",
    "  df = df[df.columns.intersection(top_labels_df.index)]\n",
    "  return df\n",
    "\n",
    "def make_positive_weights(labels, factor=1):                        \n",
    "    total = labels.values.sum()\n",
    "    weights = [0.] * len(labels)\n",
    "    for i, label in enumerate(labels):\n",
    "      weights[i] = total/(factor * labels[i])\n",
    "    return weights\n"
   ]
  },
  {
   "cell_type": "code",
   "execution_count": 13,
   "metadata": {
    "pycharm": {
     "name": "#%%\n"
    }
   },
   "outputs": [
    {
     "name": "stdout",
     "output_type": "stream",
     "text": [
      "Valid Trial [0/10], LR: 0.0003, W: 9.977e-07, Avg Loss: 4.6760, Accuracy: 0.4926, F1 score: 0.0959, HS: 0.0500\n",
      "Valid Trial [1/10], LR: 0.0003, W: 3.00818e-05, Avg Loss: 4.1271, Accuracy: 0.5379, F1 score: 0.1043, HS: 0.0555\n",
      "Valid Trial [2/10], LR: 0.0049, W: 9.2938e-06, Avg Loss: 4.4545, Accuracy: 0.5277, F1 score: 0.0999, HS: 0.0535\n",
      "Valid Trial [3/10], LR: 0.0017, W: 5.212e-07, Avg Loss: 4.3659, Accuracy: 0.4900, F1 score: 0.0891, HS: 0.0470\n",
      "Valid Trial [4/10], LR: 0.0018, W: 2.21924e-05, Avg Loss: 4.5249, Accuracy: 0.4741, F1 score: 0.0915, HS: 0.0484\n",
      "Valid Trial [5/10], LR: 0.0007, W: 9.9643e-06, Avg Loss: 3.8704, Accuracy: 0.5164, F1 score: 0.1143, HS: 0.0612\n",
      "Valid Trial [6/10], LR: 0.0003, W: 1.47642e-05, Avg Loss: 4.4807, Accuracy: 0.5072, F1 score: 0.0924, HS: 0.0489\n",
      "Valid Trial [7/10], LR: 0.0005, W: 4.4612e-06, Avg Loss: 4.0444, Accuracy: 0.5201, F1 score: 0.1050, HS: 0.0551\n",
      "Valid Trial [8/10], LR: 0.0022, W: 2.035e-06, Avg Loss: 4.5480, Accuracy: 0.5187, F1 score: 0.0901, HS: 0.0481\n",
      "Valid Trial [9/10], LR: 0.0004, W: 4.503e-07, Avg Loss: 4.6324, Accuracy: 0.5060, F1 score: 0.0931, HS: 0.0495\n"
     ]
    }
   ],
   "source": [
    "# Hyper Parameter Tuning\n",
    "alex_net = models.alexnet(pretrained=True)\n",
    "for param in alex_net.parameters():\n",
    "    param.requires_grad = False\n",
    "alex_net.classifier._modules['6'] = nn.Linear(4096, NUM_LABELS)\n",
    "\n",
    "train_losses = []\n",
    "validation_losses = []\n",
    "num_epochs = 10\n",
    "\n",
    "for epoch in range(num_epochs):\n",
    "  learning_rate = round(np.exp(random.uniform(np.log(.0001), np.log(.01))), 4)  # pull geometrically\n",
    "  w = round(np.exp(random.uniform(np.log(3.1e-7), np.log(3.1e-5))), 10)  # pull geometrically\n",
    "\n",
    "  # Reset Model per test\n",
    "  alex_net = models.alexnet(pretrained=True)\n",
    "  alex_net.classifier._modules['6'] = nn.Linear(4096, NUM_LABELS)\n",
    "  alex_net.to(device)\n",
    "\n",
    "  optimizer = torch.optim.Adam(alex_net.parameters(), lr=learning_rate, weight_decay=w)\n",
    "  criterion = nn.BCEWithLogitsLoss(pos_weight=pos_weights)\n",
    "  \n",
    "  train_losses_df = pd.DataFrame(train_losses)\n",
    "  train_losses_df.to_csv(os.path.join(output_dir, 'loss_hypertrain.csv'))\n",
    "\n",
    "  alex_valid(epoch, num_epochs, validation_losses, learning_rate, w)\n",
    "  validation_losses_df = pd.DataFrame(validation_losses)\n",
    "  validation_losses_df.to_csv(os.path.join(output_dir, 'loss_hyperval.csv'))"
   ]
  },
  {
   "cell_type": "code",
   "execution_count": 65,
   "metadata": {
    "pycharm": {
     "name": "#%%\n"
    },
    "scrolled": false
   },
   "outputs": [
    {
     "name": "stdout",
     "output_type": "stream",
     "text": [
      "Train Trial [0/200], LR: 0.001, W: 0.01, Avg Loss: 0.5588, Accuracy: 0.8595, F1 score: 0.1353, HS: 0.1071\n",
      "Valid Trial [0/200], LR: 0.001, W: 0.01, Avg Loss: 0.2461, Accuracy: 0.9479, F1 score: 0.1422, HS: 0.0794\n",
      "Train Trial [1/200], LR: 0.001, W: 0.01, Avg Loss: 0.2086, Accuracy: 0.9506, F1 score: 0.1913, HS: 0.1172\n",
      "Valid Trial [1/200], LR: 0.001, W: 0.01, Avg Loss: 0.2492, Accuracy: 0.9466, F1 score: 0.1582, HS: 0.0928\n",
      "Train Trial [2/200], LR: 0.001, W: 0.01, Avg Loss: 0.1933, Accuracy: 0.9514, F1 score: 0.1361, HS: 0.0825\n",
      "Valid Trial [2/200], LR: 0.001, W: 0.01, Avg Loss: 0.2256, Accuracy: 0.9472, F1 score: 0.2495, HS: 0.1594\n",
      "Train Trial [3/200], LR: 0.001, W: 0.01, Avg Loss: 0.1892, Accuracy: 0.9512, F1 score: 0.2269, HS: 0.1415\n",
      "Valid Trial [3/200], LR: 0.001, W: 0.01, Avg Loss: 0.2198, Accuracy: 0.9493, F1 score: 0.1034, HS: 0.0544\n",
      "Train Trial [4/200], LR: 0.001, W: 0.01, Avg Loss: 0.1848, Accuracy: 0.9531, F1 score: 0.1936, HS: 0.1169\n",
      "Valid Trial [4/200], LR: 0.001, W: 0.01, Avg Loss: 0.2180, Accuracy: 0.9484, F1 score: 0.2510, HS: 0.1543\n",
      "Train Trial [5/200], LR: 0.001, W: 0.01, Avg Loss: 0.1796, Accuracy: 0.9546, F1 score: 0.2736, HS: 0.1687\n",
      "Valid Trial [5/200], LR: 0.001, W: 0.01, Avg Loss: 0.2109, Accuracy: 0.9519, F1 score: 0.2141, HS: 0.1176\n",
      "Train Trial [6/200], LR: 0.001, W: 0.01, Avg Loss: 0.1765, Accuracy: 0.9560, F1 score: 0.2824, HS: 0.1750\n",
      "Valid Trial [6/200], LR: 0.001, W: 0.01, Avg Loss: 0.2204, Accuracy: 0.9509, F1 score: 0.1579, HS: 0.0836\n",
      "Train Trial [7/200], LR: 0.001, W: 0.01, Avg Loss: 0.1768, Accuracy: 0.9554, F1 score: 0.2632, HS: 0.1619\n",
      "Valid Trial [7/200], LR: 0.001, W: 0.01, Avg Loss: 0.2094, Accuracy: 0.9515, F1 score: 0.2435, HS: 0.1435\n",
      "Train Trial [8/200], LR: 0.001, W: 0.01, Avg Loss: 0.1735, Accuracy: 0.9556, F1 score: 0.2847, HS: 0.1773\n",
      "Valid Trial [8/200], LR: 0.001, W: 0.01, Avg Loss: 0.2174, Accuracy: 0.9500, F1 score: 0.2213, HS: 0.1415\n",
      "Train Trial [9/200], LR: 0.001, W: 0.01, Avg Loss: 0.1781, Accuracy: 0.9548, F1 score: 0.2620, HS: 0.1637\n",
      "Valid Trial [9/200], LR: 0.00075, W: 0.01, Avg Loss: 0.2095, Accuracy: 0.9532, F1 score: 0.2432, HS: 0.1397\n",
      "Train Trial [10/200], LR: 0.00075, W: 0.01, Avg Loss: 0.1720, Accuracy: 0.9560, F1 score: 0.2911, HS: 0.1827\n",
      "Valid Trial [10/200], LR: 0.00075, W: 0.01, Avg Loss: 0.2076, Accuracy: 0.9525, F1 score: 0.2268, HS: 0.1239\n",
      "Train Trial [11/200], LR: 0.00075, W: 0.01, Avg Loss: 0.1720, Accuracy: 0.9564, F1 score: 0.2795, HS: 0.1720\n",
      "Valid Trial [11/200], LR: 0.00075, W: 0.01, Avg Loss: 0.2115, Accuracy: 0.9536, F1 score: 0.2745, HS: 0.1610\n",
      "Train Trial [12/200], LR: 0.00075, W: 0.01, Avg Loss: 0.1733, Accuracy: 0.9560, F1 score: 0.2818, HS: 0.1748\n",
      "Valid Trial [12/200], LR: 0.00075, W: 0.01, Avg Loss: 0.2085, Accuracy: 0.9528, F1 score: 0.2348, HS: 0.1289\n",
      "Train Trial [13/200], LR: 0.00075, W: 0.01, Avg Loss: 0.1719, Accuracy: 0.9562, F1 score: 0.2869, HS: 0.1745\n",
      "Valid Trial [13/200], LR: 0.00075, W: 0.01, Avg Loss: 0.2048, Accuracy: 0.9523, F1 score: 0.2083, HS: 0.1140\n",
      "Train Trial [14/200], LR: 0.00075, W: 0.01, Avg Loss: 0.1717, Accuracy: 0.9561, F1 score: 0.2751, HS: 0.1676\n",
      "Valid Trial [14/200], LR: 0.00075, W: 0.01, Avg Loss: 0.2131, Accuracy: 0.9528, F1 score: 0.2646, HS: 0.1574\n",
      "Train Trial [15/200], LR: 0.00075, W: 0.01, Avg Loss: 0.1714, Accuracy: 0.9562, F1 score: 0.2764, HS: 0.1705\n",
      "Valid Trial [15/200], LR: 0.0005625000000000001, W: 0.01, Avg Loss: 0.2060, Accuracy: 0.9529, F1 score: 0.2489, HS: 0.1415\n",
      "Train Trial [16/200], LR: 0.0005625, W: 0.01, Avg Loss: 0.1692, Accuracy: 0.9563, F1 score: 0.2863, HS: 0.1756\n",
      "Valid Trial [16/200], LR: 0.0005625000000000001, W: 0.01, Avg Loss: 0.2046, Accuracy: 0.9529, F1 score: 0.2422, HS: 0.1363\n",
      "Train Trial [17/200], LR: 0.0005625, W: 0.01, Avg Loss: 0.1730, Accuracy: 0.9554, F1 score: 0.2752, HS: 0.1727\n",
      "Valid Trial [17/200], LR: 0.0005625000000000001, W: 0.01, Avg Loss: 0.2095, Accuracy: 0.9522, F1 score: 0.2592, HS: 0.1510\n",
      "Train Trial [18/200], LR: 0.0005625, W: 0.01, Avg Loss: 0.1679, Accuracy: 0.9561, F1 score: 0.2680, HS: 0.1641\n",
      "Valid Trial [18/200], LR: 0.0005625000000000001, W: 0.01, Avg Loss: 0.2056, Accuracy: 0.9536, F1 score: 0.2616, HS: 0.1508\n",
      "Train Trial [19/200], LR: 0.0005625, W: 0.01, Avg Loss: 0.1685, Accuracy: 0.9572, F1 score: 0.3130, HS: 0.1950\n",
      "Valid Trial [19/200], LR: 0.0005625000000000001, W: 0.01, Avg Loss: 0.2024, Accuracy: 0.9532, F1 score: 0.2398, HS: 0.1377\n",
      "Train Trial [20/200], LR: 0.0005625, W: 0.01, Avg Loss: 0.1703, Accuracy: 0.9563, F1 score: 0.2815, HS: 0.1744\n",
      "Valid Trial [20/200], LR: 0.0005625000000000001, W: 0.01, Avg Loss: 0.2019, Accuracy: 0.9543, F1 score: 0.2711, HS: 0.1589\n",
      "Train Trial [21/200], LR: 0.0005625, W: 0.01, Avg Loss: 0.1683, Accuracy: 0.9570, F1 score: 0.3042, HS: 0.1936\n",
      "Valid Trial [21/200], LR: 0.00042187500000000005, W: 0.01, Avg Loss: 0.2047, Accuracy: 0.9542, F1 score: 0.2673, HS: 0.1603\n",
      "Train Trial [22/200], LR: 0.0004219, W: 0.01, Avg Loss: 0.1679, Accuracy: 0.9569, F1 score: 0.3049, HS: 0.1943\n",
      "Valid Trial [22/200], LR: 0.00042187500000000005, W: 0.01, Avg Loss: 0.2010, Accuracy: 0.9536, F1 score: 0.2584, HS: 0.1505\n",
      "Train Trial [23/200], LR: 0.0004219, W: 0.01, Avg Loss: 0.1671, Accuracy: 0.9566, F1 score: 0.2904, HS: 0.1785\n",
      "Valid Trial [23/200], LR: 0.00042187500000000005, W: 0.01, Avg Loss: 0.2051, Accuracy: 0.9543, F1 score: 0.2900, HS: 0.1769\n",
      "Train Trial [24/200], LR: 0.0004219, W: 0.01, Avg Loss: 0.1682, Accuracy: 0.9566, F1 score: 0.2922, HS: 0.1824\n",
      "Valid Trial [24/200], LR: 0.00042187500000000005, W: 0.01, Avg Loss: 0.2014, Accuracy: 0.9546, F1 score: 0.2819, HS: 0.1750\n",
      "Train Trial [25/200], LR: 0.0004219, W: 0.01, Avg Loss: 0.1653, Accuracy: 0.9569, F1 score: 0.3018, HS: 0.1893\n",
      "Valid Trial [25/200], LR: 0.00042187500000000005, W: 0.01, Avg Loss: 0.2021, Accuracy: 0.9543, F1 score: 0.2991, HS: 0.1861\n",
      "Train Trial [26/200], LR: 0.0004219, W: 0.01, Avg Loss: 0.1655, Accuracy: 0.9569, F1 score: 0.3160, HS: 0.1999\n",
      "Valid Trial [26/200], LR: 0.00042187500000000005, W: 0.01, Avg Loss: 0.2006, Accuracy: 0.9542, F1 score: 0.2607, HS: 0.1534\n",
      "Train Trial [27/200], LR: 0.0004219, W: 0.01, Avg Loss: 0.1706, Accuracy: 0.9562, F1 score: 0.2810, HS: 0.1731\n",
      "Valid Trial [27/200], LR: 0.00031640625000000006, W: 0.01, Avg Loss: 0.2028, Accuracy: 0.9544, F1 score: 0.2937, HS: 0.1773\n",
      "Train Trial [28/200], LR: 0.0003164, W: 0.01, Avg Loss: 0.1670, Accuracy: 0.9560, F1 score: 0.3043, HS: 0.1929\n",
      "Valid Trial [28/200], LR: 0.00031640625000000006, W: 0.01, Avg Loss: 0.2020, Accuracy: 0.9551, F1 score: 0.2939, HS: 0.1797\n",
      "Train Trial [29/200], LR: 0.0003164, W: 0.01, Avg Loss: 0.1668, Accuracy: 0.9567, F1 score: 0.3005, HS: 0.1870\n",
      "Valid Trial [29/200], LR: 0.00031640625000000006, W: 0.01, Avg Loss: 0.2004, Accuracy: 0.9548, F1 score: 0.2863, HS: 0.1738\n",
      "Train Trial [30/200], LR: 0.0003164, W: 0.01, Avg Loss: 0.1651, Accuracy: 0.9572, F1 score: 0.3113, HS: 0.1995\n",
      "Valid Trial [30/200], LR: 0.00031640625000000006, W: 0.01, Avg Loss: 0.2020, Accuracy: 0.9533, F1 score: 0.2506, HS: 0.1451\n",
      "Train Trial [31/200], LR: 0.0003164, W: 0.01, Avg Loss: 0.1659, Accuracy: 0.9567, F1 score: 0.2925, HS: 0.1800\n",
      "Valid Trial [31/200], LR: 0.00031640625000000006, W: 0.01, Avg Loss: 0.2011, Accuracy: 0.9546, F1 score: 0.2913, HS: 0.1793\n",
      "Train Trial [32/200], LR: 0.0003164, W: 0.01, Avg Loss: 0.1644, Accuracy: 0.9572, F1 score: 0.3051, HS: 0.1892\n",
      "Valid Trial [32/200], LR: 0.00031640625000000006, W: 0.01, Avg Loss: 0.2000, Accuracy: 0.9555, F1 score: 0.3140, HS: 0.1941\n",
      "Train Trial [33/200], LR: 0.0003164, W: 0.01, Avg Loss: 0.1652, Accuracy: 0.9571, F1 score: 0.3130, HS: 0.1976\n",
      "Valid Trial [33/200], LR: 0.00023730468750000005, W: 0.01, Avg Loss: 0.2021, Accuracy: 0.9535, F1 score: 0.2643, HS: 0.1551\n",
      "Train Trial [34/200], LR: 0.0002373, W: 0.01, Avg Loss: 0.1660, Accuracy: 0.9570, F1 score: 0.2989, HS: 0.1837\n",
      "Valid Trial [34/200], LR: 0.00023730468750000005, W: 0.01, Avg Loss: 0.2056, Accuracy: 0.9542, F1 score: 0.2673, HS: 0.1653\n",
      "Train Trial [35/200], LR: 0.0002373, W: 0.01, Avg Loss: 0.1655, Accuracy: 0.9570, F1 score: 0.3117, HS: 0.1989\n",
      "Valid Trial [35/200], LR: 0.00023730468750000005, W: 0.01, Avg Loss: 0.1992, Accuracy: 0.9543, F1 score: 0.2679, HS: 0.1600\n",
      "Train Trial [36/200], LR: 0.0002373, W: 0.01, Avg Loss: 0.1653, Accuracy: 0.9567, F1 score: 0.3089, HS: 0.1960\n"
     ]
    },
    {
     "name": "stdout",
     "output_type": "stream",
     "text": [
      "Valid Trial [36/200], LR: 0.00023730468750000005, W: 0.01, Avg Loss: 0.1996, Accuracy: 0.9539, F1 score: 0.2628, HS: 0.1527\n",
      "Train Trial [37/200], LR: 0.0002373, W: 0.01, Avg Loss: 0.1660, Accuracy: 0.9567, F1 score: 0.2907, HS: 0.1760\n",
      "Valid Trial [37/200], LR: 0.00023730468750000005, W: 0.01, Avg Loss: 0.2033, Accuracy: 0.9555, F1 score: 0.3140, HS: 0.1969\n",
      "Train Trial [38/200], LR: 0.0002373, W: 0.01, Avg Loss: 0.1658, Accuracy: 0.9565, F1 score: 0.3140, HS: 0.2007\n",
      "Valid Trial [38/200], LR: 0.00023730468750000005, W: 0.01, Avg Loss: 0.2016, Accuracy: 0.9535, F1 score: 0.2545, HS: 0.1479\n",
      "Train Trial [39/200], LR: 0.0002373, W: 0.01, Avg Loss: 0.1669, Accuracy: 0.9570, F1 score: 0.2922, HS: 0.1805\n",
      "Valid Trial [39/200], LR: 0.00017797851562500002, W: 0.01, Avg Loss: 0.2008, Accuracy: 0.9553, F1 score: 0.2976, HS: 0.1853\n",
      "Train Trial [40/200], LR: 0.000178, W: 0.01, Avg Loss: 0.1644, Accuracy: 0.9570, F1 score: 0.2965, HS: 0.1858\n",
      "Valid Trial [40/200], LR: 0.00017797851562500002, W: 0.01, Avg Loss: 0.1994, Accuracy: 0.9548, F1 score: 0.2863, HS: 0.1727\n",
      "Train Trial [41/200], LR: 0.000178, W: 0.01, Avg Loss: 0.1639, Accuracy: 0.9574, F1 score: 0.3133, HS: 0.1969\n",
      "Valid Trial [41/200], LR: 0.00017797851562500002, W: 0.01, Avg Loss: 0.2003, Accuracy: 0.9557, F1 score: 0.3117, HS: 0.1932\n",
      "Train Trial [42/200], LR: 0.000178, W: 0.01, Avg Loss: 0.1635, Accuracy: 0.9575, F1 score: 0.3147, HS: 0.2002\n",
      "Valid Trial [42/200], LR: 0.00017797851562500002, W: 0.01, Avg Loss: 0.2009, Accuracy: 0.9543, F1 score: 0.2991, HS: 0.1875\n",
      "Train Trial [43/200], LR: 0.000178, W: 0.01, Avg Loss: 0.1641, Accuracy: 0.9572, F1 score: 0.3096, HS: 0.1953\n",
      "Valid Trial [43/200], LR: 0.00017797851562500002, W: 0.01, Avg Loss: 0.2007, Accuracy: 0.9548, F1 score: 0.2957, HS: 0.1789\n",
      "Train Trial [44/200], LR: 0.000178, W: 0.01, Avg Loss: 0.1622, Accuracy: 0.9572, F1 score: 0.3118, HS: 0.1950\n",
      "Valid Trial [44/200], LR: 0.00017797851562500002, W: 0.01, Avg Loss: 0.2036, Accuracy: 0.9547, F1 score: 0.3041, HS: 0.1892\n",
      "Train Trial [45/200], LR: 0.000178, W: 0.01, Avg Loss: 0.1649, Accuracy: 0.9570, F1 score: 0.3139, HS: 0.2001\n",
      "Valid Trial [45/200], LR: 0.00013348388671875002, W: 0.01, Avg Loss: 0.1994, Accuracy: 0.9553, F1 score: 0.3126, HS: 0.1941\n",
      "Train Trial [46/200], LR: 0.0001335, W: 0.01, Avg Loss: 0.1660, Accuracy: 0.9570, F1 score: 0.3162, HS: 0.2045\n",
      "Valid Trial [46/200], LR: 0.00013348388671875002, W: 0.01, Avg Loss: 0.2013, Accuracy: 0.9547, F1 score: 0.2697, HS: 0.1737\n",
      "Train Trial [47/200], LR: 0.0001335, W: 0.01, Avg Loss: 0.1649, Accuracy: 0.9570, F1 score: 0.3033, HS: 0.1939\n",
      "Valid Trial [47/200], LR: 0.00013348388671875002, W: 0.01, Avg Loss: 0.1989, Accuracy: 0.9553, F1 score: 0.2976, HS: 0.1823\n",
      "Train Trial [48/200], LR: 0.0001335, W: 0.01, Avg Loss: 0.1676, Accuracy: 0.9568, F1 score: 0.2937, HS: 0.1834\n",
      "Valid Trial [48/200], LR: 0.00013348388671875002, W: 0.01, Avg Loss: 0.2024, Accuracy: 0.9543, F1 score: 0.2991, HS: 0.1844\n",
      "Train Trial [49/200], LR: 0.0001335, W: 0.01, Avg Loss: 0.1640, Accuracy: 0.9574, F1 score: 0.3139, HS: 0.1962\n",
      "Valid Trial [49/200], LR: 0.00013348388671875002, W: 0.01, Avg Loss: 0.1988, Accuracy: 0.9547, F1 score: 0.2857, HS: 0.1755\n",
      "Train Trial [50/200], LR: 0.0001335, W: 0.01, Avg Loss: 0.1619, Accuracy: 0.9571, F1 score: 0.3155, HS: 0.1975\n",
      "Valid Trial [50/200], LR: 0.00013348388671875002, W: 0.01, Avg Loss: 0.2051, Accuracy: 0.9542, F1 score: 0.2540, HS: 0.1530\n",
      "Train Trial [51/200], LR: 0.0001335, W: 0.01, Avg Loss: 0.1644, Accuracy: 0.9571, F1 score: 0.3027, HS: 0.1872\n",
      "Valid Trial [51/200], LR: 0.00010011291503906251, W: 0.01, Avg Loss: 0.2025, Accuracy: 0.9542, F1 score: 0.3015, HS: 0.1896\n",
      "Train Trial [52/200], LR: 0.0001001, W: 0.01, Avg Loss: 0.1646, Accuracy: 0.9571, F1 score: 0.3040, HS: 0.1897\n",
      "Valid Trial [52/200], LR: 0.00010011291503906251, W: 0.01, Avg Loss: 0.1999, Accuracy: 0.9553, F1 score: 0.2976, HS: 0.1860\n",
      "Train Trial [53/200], LR: 0.0001001, W: 0.01, Avg Loss: 0.1624, Accuracy: 0.9575, F1 score: 0.3240, HS: 0.2078\n",
      "Valid Trial [53/200], LR: 0.00010011291503906251, W: 0.01, Avg Loss: 0.1990, Accuracy: 0.9553, F1 score: 0.2914, HS: 0.1775\n",
      "Train Trial [54/200], LR: 0.0001001, W: 0.01, Avg Loss: 0.1626, Accuracy: 0.9571, F1 score: 0.2988, HS: 0.1883\n",
      "Valid Trial [54/200], LR: 0.00010011291503906251, W: 0.01, Avg Loss: 0.1986, Accuracy: 0.9553, F1 score: 0.3037, HS: 0.1863\n",
      "Train Trial [55/200], LR: 0.0001001, W: 0.01, Avg Loss: 0.1620, Accuracy: 0.9576, F1 score: 0.3174, HS: 0.2032\n",
      "Valid Trial [55/200], LR: 0.00010011291503906251, W: 0.01, Avg Loss: 0.1984, Accuracy: 0.9555, F1 score: 0.3050, HS: 0.1869\n",
      "Train Trial [56/200], LR: 0.0001001, W: 0.01, Avg Loss: 0.1608, Accuracy: 0.9576, F1 score: 0.3218, HS: 0.2069\n",
      "Valid Trial [56/200], LR: 0.00010011291503906251, W: 0.01, Avg Loss: 0.2001, Accuracy: 0.9555, F1 score: 0.2989, HS: 0.1828\n",
      "Train Trial [57/200], LR: 0.0001001, W: 0.01, Avg Loss: 0.1628, Accuracy: 0.9574, F1 score: 0.3115, HS: 0.1959\n",
      "Valid Trial [57/200], LR: 7.508468627929689e-05, W: 0.01, Avg Loss: 0.1989, Accuracy: 0.9554, F1 score: 0.3043, HS: 0.1873\n",
      "Out of patience!\n",
      "Best epoch: 37\n"
     ]
    }
   ],
   "source": [
    "# Training\n",
    "from torch.optim.lr_scheduler import StepLR\n",
    "train_losses = []\n",
    "validation_losses = []\n",
    "num_epochs = 200\n",
    "learning_rate = 0.001\n",
    "w = 0.01\n",
    "\n",
    "# Early Stopping\n",
    "patience = 20\n",
    "bad_epochs = 0\n",
    "best_score = 0.0\n",
    "best_weights = None\n",
    "\n",
    "alex_net = models.alexnet(pretrained=True)\n",
    "alex_net.classifier._modules['6'] = nn.Linear(4096, NUM_LABELS)\n",
    "alex_net.to(device)\n",
    "\n",
    "optimizer = torch.optim.Adam(alex_net.parameters(), lr=learning_rate, weight_decay=w)\n",
    "criterion = nn.BCEWithLogitsLoss(pos_weight=pos_weights)\n",
    "scheduler = torch.optim.lr_scheduler.ReduceLROnPlateau(optimizer, factor=0.75, patience=5, min_lr=0.00001)\n",
    "# scheduler = StepLR(optimizer, step_size=5, gamma=0.5)\n",
    "\n",
    "for epoch in range(num_epochs):\n",
    "  score_train = alex_train(epoch, num_epochs, train_losses, learning_rate, w)\n",
    "  score_valid = alex_valid(epoch, num_epochs, validation_losses, learning_rate, w)\n",
    "  print(\"\")\n",
    "\n",
    "  # Early Stopping\n",
    "  if score_valid > best_score:\n",
    "    bad_epochs = 0\n",
    "    best_epoch = epoch\n",
    "    best_score = score_valid\n",
    "    best_weights = alex_net.state_dict()\n",
    "  else:\n",
    "    bad_epochs += 1\n",
    "  \n",
    "  if bad_epochs == patience:\n",
    "    print(\"Out of patience!\")\n",
    "    print(f\"Best epoch: {best_epoch}\")\n",
    "    break\n",
    "\n",
    "torch.save(best_weights, model_path)"
   ]
  },
  {
   "cell_type": "code",
   "execution_count": 66,
   "metadata": {
    "pycharm": {
     "name": "#%%\n"
    },
    "scrolled": false
   },
   "outputs": [
    {
     "name": "stdout",
     "output_type": "stream",
     "text": [
      "CURRENT BATCH SIZE:  100\n"
     ]
    },
    {
     "name": "stderr",
     "output_type": "stream",
     "text": [
      "Clipping input data to the valid range for imshow with RGB data ([0..1] for floats or [0..255] for integers).\n"
     ]
    },
    {
     "name": "stdout",
     "output_type": "stream",
     "text": [
      "Mostrando imagen 0 del batch 1\n"
     ]
    },
    {
     "data": {
      "image/png": "[encoded data removed]",
      "text/plain": [
       "<Figure size 432x288 with 1 Axes>"
      ]
     },
     "metadata": {
      "needs_background": "light"
     },
     "output_type": "display_data"
    },
    {
     "name": "stderr",
     "output_type": "stream",
     "text": [
      "Clipping input data to the valid range for imshow with RGB data ([0..1] for floats or [0..255] for integers).\n"
     ]
    },
    {
     "name": "stdout",
     "output_type": "stream",
     "text": [
      "Labels correctos:\n",
      "horizontal panel \n",
      "Labels predichos:\n",
      "horizontal panel \n",
      "\n",
      "\n",
      "Mostrando imagen 1 del batch 1\n"
     ]
    },
    {
     "data": {
      "image/png": "[encoded data removed]",
      "text/plain": [
       "<Figure size 432x288 with 1 Axes>"
      ]
     },
     "metadata": {
      "needs_background": "light"
     },
     "output_type": "display_data"
    },
    {
     "name": "stdout",
     "output_type": "stream",
     "text": [
      "Labels correctos:\n",
      "horizontal panel vertical bar filling ornament \n",
      "Labels predichos:\n",
      "horizontal panel \n",
      "\n",
      "\n",
      "CURRENT BATCH SIZE:  100\n"
     ]
    },
    {
     "name": "stderr",
     "output_type": "stream",
     "text": [
      "Clipping input data to the valid range for imshow with RGB data ([0..1] for floats or [0..255] for integers).\n"
     ]
    },
    {
     "name": "stdout",
     "output_type": "stream",
     "text": [
      "Mostrando imagen 0 del batch 2\n"
     ]
    },
    {
     "data": {
      "image/png": "[encoded data removed]",
      "text/plain": [
       "<Figure size 432x288 with 1 Axes>"
      ]
     },
     "metadata": {
      "needs_background": "light"
     },
     "output_type": "display_data"
    },
    {
     "name": "stderr",
     "output_type": "stream",
     "text": [
      "Clipping input data to the valid range for imshow with RGB data ([0..1] for floats or [0..255] for integers).\n"
     ]
    },
    {
     "name": "stdout",
     "output_type": "stream",
     "text": [
      "Labels correctos:\n",
      "metopal hatched \n",
      "Labels predichos:\n",
      "\n",
      "\n",
      "\n",
      "Mostrando imagen 1 del batch 2\n"
     ]
    },
    {
     "data": {
      "image/png": "[encoded data removed]",
      "text/plain": [
       "<Figure size 432x288 with 1 Axes>"
      ]
     },
     "metadata": {
      "needs_background": "light"
     },
     "output_type": "display_data"
    },
    {
     "name": "stdout",
     "output_type": "stream",
     "text": [
      "Labels correctos:\n",
      "horizontal panel hatched triangle \n",
      "Labels predichos:\n",
      "horizontal panel \n",
      "\n",
      "\n",
      "CURRENT BATCH SIZE:  100\n"
     ]
    },
    {
     "name": "stderr",
     "output_type": "stream",
     "text": [
      "Clipping input data to the valid range for imshow with RGB data ([0..1] for floats or [0..255] for integers).\n"
     ]
    },
    {
     "name": "stdout",
     "output_type": "stream",
     "text": [
      "Mostrando imagen 0 del batch 3\n"
     ]
    },
    {
     "data": {
      "image/png": "[encoded data removed]",
      "text/plain": [
       "<Figure size 432x288 with 1 Axes>"
      ]
     },
     "metadata": {
      "needs_background": "light"
     },
     "output_type": "display_data"
    },
    {
     "name": "stderr",
     "output_type": "stream",
     "text": [
      "Clipping input data to the valid range for imshow with RGB data ([0..1] for floats or [0..255] for integers).\n"
     ]
    },
    {
     "name": "stdout",
     "output_type": "stream",
     "text": [
      "Labels correctos:\n",
      "horizontal panel double dot circle chain \n",
      "Labels predichos:\n",
      "horizontal panel \n",
      "\n",
      "\n",
      "Mostrando imagen 1 del batch 3\n"
     ]
    },
    {
     "data": {
      "image/png": "[encoded data removed]",
      "text/plain": [
       "<Figure size 432x288 with 1 Axes>"
      ]
     },
     "metadata": {
      "needs_background": "light"
     },
     "output_type": "display_data"
    },
    {
     "name": "stdout",
     "output_type": "stream",
     "text": [
      "Labels correctos:\n",
      "bar apex parallel zigzag \n",
      "Labels predichos:\n",
      "horizontal panel \n",
      "\n",
      "\n",
      "Test Trial [1/1], LR: 0.0001, W: 0.001, Avg Loss: 1.9875, Accuracy: 0.9567, F1 score: 0.2961, HS: 0.1897\n"
     ]
    }
   ],
   "source": [
    "# Testing\n",
    "test_losses = []\n",
    "test_pred = []\n",
    "learning_rate = 0.0001\n",
    "w = 0.001\n",
    "\n",
    "# Reset Model\n",
    "alex_net = models.alexnet(pretrained=True)\n",
    "alex_net.classifier._modules['6'] = nn.Linear(4096, NUM_LABELS)\n",
    "alex_net.load_state_dict(torch.load(model_path))\n",
    "alex_net.to(device)\n",
    "\n",
    "optimizer = torch.optim.Adam(alex_net.parameters(), lr=learning_rate, weight_decay=w)\n",
    "criterion = nn.BCEWithLogitsLoss(pos_weight=pos_weights)\n",
    "alex_test(1, 1, test_pred, test_losses, learning_rate, w, show_images = 2)\n",
    "test_pred_df = pd.DataFrame(test_pred)"
   ]
  },
  {
   "cell_type": "code",
   "execution_count": 68,
   "metadata": {
    "pycharm": {
     "name": "#%%\n"
    }
   },
   "outputs": [
    {
     "name": "stdout",
     "output_type": "stream",
     "text": [
      "Predicciones guardadas en ../outputs\\alexnet\\base\\100L_testval\\predictions.csv\n",
      "Aplicando threshold 5 para trabajar con 92 labels\n",
      "(234, 92)\n",
      "(234, 92)\n",
      "HS final: 0.1892721476054809\n"
     ]
    }
   ],
   "source": [
    "preds = test_pred[0][3].cpu().detach().numpy()\n",
    "for i in range(1, len(test_pred)):\n",
    "  pbi = test_pred[i][3].cpu().detach().numpy()\n",
    "  preds = np.concatenate((preds, pbi), axis=0)\n",
    "save_df = pd.DataFrame(preds)\n",
    "save_df.to_csv(os.path.join(output_dir, 'predictions.csv'))\n",
    "print(f\"Predicciones guardadas en {os.path.join(output_dir, 'predictions.csv')}\")\n",
    "\n",
    "tops, _ = filter_labels(train_labels, number_labels = NUM_LABELS)\n",
    "testval = pd.concat([labels_test, labels_val])\n",
    "testval = filter_dfs(testval, tops)\n",
    "\n",
    "print(preds.shape)\n",
    "print(testval.shape)\n",
    "print(f\"HS final: {hamming_score(preds, testval.values)}\")"
   ]
  },
  {
   "cell_type": "code",
   "execution_count": null,
   "metadata": {},
   "outputs": [],
   "source": []
  }
 ],
 "metadata": {
  "accelerator": "GPU",
  "colab": {
   "collapsed_sections": [],
   "name": "CNN Multilabeling through AlexNet",
   "provenance": []
  },
  "gpuClass": "standard",
  "kernelspec": {
   "display_name": "Python 3 (ipykernel)",
   "language": "python",
   "name": "python3"
  },
  "language_info": {
   "codemirror_mode": {
    "name": "ipython",
    "version": 3
   },
   "file_extension": ".py",
   "mimetype": "text/x-python",
   "name": "python",
   "nbconvert_exporter": "python",
   "pygments_lexer": "ipython3",
   "version": "3.10.4"
  }
 },
 "nbformat": 4,
 "nbformat_minor": 1
}

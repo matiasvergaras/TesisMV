{
 "cells": [
  {
   "cell_type": "markdown",
   "metadata": {
    "id": "JDmhP_idRXT4",
    "pycharm": {
     "name": "#%% md\n"
    }
   },
   "source": [
    "# Aprendizaje Multietiqueta de Patrones Geométricos en Objetos de Herencia Cultural\n",
    "# CNN Multilabeling through AlexNet\n",
    "## Seminario de Tesis II, Primavera 2022\n",
    "### Master of Data Science. Universidad de Chile.\n",
    "#### Prof. guía: Benjamín Bustos - Prof. coguía: Iván Sipirán\n",
    "#### Autor: Matías Vergara\n",
    "\n",
    "El objetivo de este notebook es realizar predicciones multilabel sobre patrones geométricos mediante AlexNet."
   ]
  },
  {
   "cell_type": "markdown",
   "metadata": {
    "pycharm": {
     "name": "#%% md\n"
    }
   },
   "source": [
    "## Montando Google Drive"
   ]
  },
  {
   "cell_type": "code",
   "execution_count": 1,
   "metadata": {
    "pycharm": {
     "name": "#%%\n"
    }
   },
   "outputs": [],
   "source": [
    "# Mounting google Drive\n",
    "try:\n",
    "    from google.colab import drive\n",
    "    drive.mount('/content/drive')\n",
    "    root_dir = '../content/gdrive/MyDrive'\n",
    "except:\n",
    "    root_dir = '../'"
   ]
  },
  {
   "cell_type": "code",
   "execution_count": 2,
   "metadata": {
    "pycharm": {
     "name": "#%%\n"
    }
   },
   "outputs": [],
   "source": [
    "import os\n",
    "import pickle\n",
    "import numpy as np\n",
    "import pandas as pd\n",
    "import random\n",
    "import matplotlib.pyplot as plt\n",
    "import torch\n",
    "import torch.nn as nn\n",
    "import torchvision\n",
    "import torchvision.transforms as transforms\n",
    "from PIL import Image\n",
    "import torchvision.models as models\n",
    "import math\n",
    "from torch.nn.utils.rnn import pack_padded_sequence\n",
    "\n",
    "%matplotlib inline\n",
    "from matplotlib import pyplot as plt"
   ]
  },
  {
   "cell_type": "markdown",
   "metadata": {
    "pycharm": {
     "name": "#%% md\n"
    }
   },
   "source": [
    "## Selección de dataset y experimento"
   ]
  },
  {
   "cell_type": "code",
   "execution_count": 6,
   "metadata": {
    "pycharm": {
     "name": "#%%\n"
    }
   },
   "outputs": [],
   "source": [
    "SUBCHAPTERS = False\n",
    "DS_FLAGS = ['blur']\n",
    "              # 'ref': [invertX, invertY],\n",
    "              # 'rot': [rotate90, rotate180, rotate270],\n",
    "              # 'crop': [crop] * CROP_TIMES,\n",
    "              # 'blur': [blur],\n",
    "              # 'gausblur': [gausblur]\n",
    "              # 'msblur': [msblur]\n",
    "              # 'mtnblur': [mtnblur]\n",
    "              # 'emboss': [emboss],\n",
    "              # 'randaug': [randaug],\n",
    "              # 'rain': [rain],\n",
    "              # 'elastic': [elastic]\n",
    "CROP_TIMES = 2\n",
    "RANDOM_TIMES = 1\n",
    "ELASTIC_TIMES = 1\n",
    "GAUSBLUR_TIMES = 1\n",
    "\n",
    "use_pos_weights = True\n",
    "pos_weights_factor = 1\n",
    "NUM_LABELS = 26\n",
    "BATCH_SIZE = 124\n",
    "\n",
    "TH_TRAIN = 0.5\n",
    "TH_VAL = 0.5\n",
    "TH_TEST = 0.5\n",
    "\n",
    "# 0 es 3090, 1 y 2 son 2080\n",
    "CUDA_ID = 0\n",
    "\n",
    "SAVE = False\n",
    "K = 4\n",
    "k_exp = str(0)"
   ]
  },
  {
   "cell_type": "code",
   "execution_count": 8,
   "metadata": {
    "pycharm": {
     "name": "#%%\n"
    },
    "scrolled": true
   },
   "outputs": [
    {
     "name": "stdout",
     "output_type": "stream",
     "text": [
      "Patterns set encontrado en ../patterns\\blur\\0\n",
      "Labels set encontrado en ../labels\\blur\\0\n",
      "Nombre del experimento: 26L_weighted_1\n"
     ]
    }
   ],
   "source": [
    "# This cells builds the data_flags variable, that will be used\n",
    "# to map the requested data treatment to folders\n",
    "MAP_TIMES = {'crop': CROP_TIMES,\n",
    "         'randaug': RANDOM_TIMES,\n",
    "         'elastic': ELASTIC_TIMES,\n",
    "         'gausblur': GAUSBLUR_TIMES,\n",
    "}\n",
    "\n",
    "DS_FLAGS = sorted(DS_FLAGS)\n",
    "data_flags = '_'.join(DS_FLAGS) if len(DS_FLAGS) > 0 else 'base'\n",
    "MULTIPLE_TRANSF = ['crop', 'randaug', 'elastic', 'gausblur']\n",
    "COPY_FLAGS = DS_FLAGS.copy()\n",
    "\n",
    "for t in MULTIPLE_TRANSF:\n",
    "    if t in DS_FLAGS:\n",
    "        COPY_FLAGS.remove(t)\n",
    "        COPY_FLAGS.append(t + str(MAP_TIMES[t]))\n",
    "        data_flags = '_'.join(COPY_FLAGS)\n",
    "\n",
    "patterns_path = os.path.join(root_dir, 'patterns', data_flags, k_exp) \n",
    "labels_path = os.path.join(root_dir, 'labels', data_flags, k_exp)\n",
    "\n",
    "if not (os.path.isdir(patterns_path) and os.path.isdir(labels_path)):\n",
    "    raise FileNotFoundError(\"No existen directorios de datos para el conjunto de flags seleccionado. Verifique que el dataset exista en {}\".format(\n",
    "        (os.path.isdir(patterns_path), os.path.isdir(labels_path))))\n",
    "print(\"Patterns set encontrado en {}\".format(patterns_path))\n",
    "print(\"Labels set encontrado en {}\".format(labels_path))\n",
    "\n",
    "exp_name = f\"{NUM_LABELS}L\"\n",
    "weights_str = str(pos_weights_factor)\n",
    "weights_str = weights_str.replace('.','_')\n",
    "exp_name += f'_weighted_{weights_str}' if use_pos_weights else ''\n",
    "print(f\"Nombre del experimento: {exp_name}\")\n",
    "\n",
    "output_dir = os.path.join(root_dir, \"outputs\", \"alexnet\", data_flags, exp_name, k_exp)\n",
    "\n",
    "\n",
    "model_dir = os.path.join(root_dir, \"models\", \"alexnet\", data_flags, k_exp)\n",
    "model_path = os.path.join(model_dir, exp_name + '.pth')\n",
    "\n",
    "if SAVE:\n",
    "    os.makedirs(output_dir, exist_ok = True)\n",
    "    os.makedirs(model_dir, exist_ok = True)\n",
    "    print(f\"Los resultados se guardarán en: {output_dir}\")\n",
    "    print(f\"Los modelos se guardarán en: {model_dir}\")"
   ]
  },
  {
   "cell_type": "code",
   "execution_count": 9,
   "metadata": {
    "pycharm": {
     "name": "#%%\n"
    }
   },
   "outputs": [
    {
     "data": {
      "text/plain": [
       "[<torch.cuda.device at 0x228ac391c30>]"
      ]
     },
     "execution_count": 9,
     "metadata": {},
     "output_type": "execute_result"
    }
   ],
   "source": [
    "available_gpus = [torch.cuda.device(i) for i in range(torch.cuda.device_count())]\n",
    "available_gpus"
   ]
  },
  {
   "cell_type": "code",
   "execution_count": 10,
   "metadata": {
    "pycharm": {
     "name": "#%%\n"
    }
   },
   "outputs": [],
   "source": [
    "labels_train = pd.read_json(os.path.join(labels_path, 'augmented_train_df.json'), orient='index')\n",
    "labels_val = pd.read_json(os.path.join(labels_path, 'val_df.json'), orient='index')\n",
    "labels_test = pd.read_json(os.path.join(labels_path, 'test_df.json'), orient='index')"
   ]
  },
  {
   "cell_type": "code",
   "execution_count": 11,
   "metadata": {
    "pycharm": {
     "name": "#%%\n"
    }
   },
   "outputs": [
    {
     "data": {
      "text/html": [
       "<div>\n",
       "<style scoped>\n",
       "    .dataframe tbody tr th:only-of-type {\n",
       "        vertical-align: middle;\n",
       "    }\n",
       "\n",
       "    .dataframe tbody tr th {\n",
       "        vertical-align: top;\n",
       "    }\n",
       "\n",
       "    .dataframe thead th {\n",
       "        text-align: right;\n",
       "    }\n",
       "</style>\n",
       "<table border=\"1\" class=\"dataframe\">\n",
       "  <thead>\n",
       "    <tr style=\"text-align: right;\">\n",
       "      <th></th>\n",
       "      <th>pendent</th>\n",
       "      <th>teardrop</th>\n",
       "      <th>horizontal</th>\n",
       "      <th>panel</th>\n",
       "      <th>group</th>\n",
       "      <th>vertical</th>\n",
       "      <th>bar</th>\n",
       "      <th>floating</th>\n",
       "      <th>enclosing</th>\n",
       "      <th>shorter</th>\n",
       "      <th>...</th>\n",
       "      <th>light</th>\n",
       "      <th>body</th>\n",
       "      <th>bird</th>\n",
       "      <th>striped</th>\n",
       "      <th>worm</th>\n",
       "      <th>angular</th>\n",
       "      <th>raised</th>\n",
       "      <th>head</th>\n",
       "      <th>bird-seed</th>\n",
       "      <th>long</th>\n",
       "    </tr>\n",
       "  </thead>\n",
       "  <tbody>\n",
       "    <tr>\n",
       "      <th>40b</th>\n",
       "      <td>0</td>\n",
       "      <td>0</td>\n",
       "      <td>0</td>\n",
       "      <td>1</td>\n",
       "      <td>0</td>\n",
       "      <td>1</td>\n",
       "      <td>0</td>\n",
       "      <td>0</td>\n",
       "      <td>0</td>\n",
       "      <td>0</td>\n",
       "      <td>...</td>\n",
       "      <td>0</td>\n",
       "      <td>0</td>\n",
       "      <td>0</td>\n",
       "      <td>0</td>\n",
       "      <td>0</td>\n",
       "      <td>0</td>\n",
       "      <td>0</td>\n",
       "      <td>0</td>\n",
       "      <td>0</td>\n",
       "      <td>0</td>\n",
       "    </tr>\n",
       "    <tr>\n",
       "      <th>16l</th>\n",
       "      <td>0</td>\n",
       "      <td>0</td>\n",
       "      <td>0</td>\n",
       "      <td>0</td>\n",
       "      <td>0</td>\n",
       "      <td>0</td>\n",
       "      <td>0</td>\n",
       "      <td>0</td>\n",
       "      <td>0</td>\n",
       "      <td>0</td>\n",
       "      <td>...</td>\n",
       "      <td>0</td>\n",
       "      <td>0</td>\n",
       "      <td>0</td>\n",
       "      <td>0</td>\n",
       "      <td>0</td>\n",
       "      <td>0</td>\n",
       "      <td>0</td>\n",
       "      <td>0</td>\n",
       "      <td>0</td>\n",
       "      <td>0</td>\n",
       "    </tr>\n",
       "    <tr>\n",
       "      <th>19e</th>\n",
       "      <td>0</td>\n",
       "      <td>0</td>\n",
       "      <td>1</td>\n",
       "      <td>1</td>\n",
       "      <td>0</td>\n",
       "      <td>0</td>\n",
       "      <td>0</td>\n",
       "      <td>0</td>\n",
       "      <td>0</td>\n",
       "      <td>0</td>\n",
       "      <td>...</td>\n",
       "      <td>0</td>\n",
       "      <td>0</td>\n",
       "      <td>0</td>\n",
       "      <td>0</td>\n",
       "      <td>0</td>\n",
       "      <td>0</td>\n",
       "      <td>0</td>\n",
       "      <td>0</td>\n",
       "      <td>0</td>\n",
       "      <td>0</td>\n",
       "    </tr>\n",
       "    <tr>\n",
       "      <th>77j</th>\n",
       "      <td>0</td>\n",
       "      <td>0</td>\n",
       "      <td>0</td>\n",
       "      <td>0</td>\n",
       "      <td>0</td>\n",
       "      <td>0</td>\n",
       "      <td>0</td>\n",
       "      <td>0</td>\n",
       "      <td>1</td>\n",
       "      <td>0</td>\n",
       "      <td>...</td>\n",
       "      <td>0</td>\n",
       "      <td>0</td>\n",
       "      <td>0</td>\n",
       "      <td>0</td>\n",
       "      <td>0</td>\n",
       "      <td>0</td>\n",
       "      <td>0</td>\n",
       "      <td>0</td>\n",
       "      <td>0</td>\n",
       "      <td>0</td>\n",
       "    </tr>\n",
       "    <tr>\n",
       "      <th>70q</th>\n",
       "      <td>0</td>\n",
       "      <td>0</td>\n",
       "      <td>0</td>\n",
       "      <td>0</td>\n",
       "      <td>0</td>\n",
       "      <td>0</td>\n",
       "      <td>0</td>\n",
       "      <td>0</td>\n",
       "      <td>0</td>\n",
       "      <td>0</td>\n",
       "      <td>...</td>\n",
       "      <td>0</td>\n",
       "      <td>0</td>\n",
       "      <td>0</td>\n",
       "      <td>0</td>\n",
       "      <td>0</td>\n",
       "      <td>0</td>\n",
       "      <td>0</td>\n",
       "      <td>0</td>\n",
       "      <td>0</td>\n",
       "      <td>0</td>\n",
       "    </tr>\n",
       "    <tr>\n",
       "      <th>...</th>\n",
       "      <td>...</td>\n",
       "      <td>...</td>\n",
       "      <td>...</td>\n",
       "      <td>...</td>\n",
       "      <td>...</td>\n",
       "      <td>...</td>\n",
       "      <td>...</td>\n",
       "      <td>...</td>\n",
       "      <td>...</td>\n",
       "      <td>...</td>\n",
       "      <td>...</td>\n",
       "      <td>...</td>\n",
       "      <td>...</td>\n",
       "      <td>...</td>\n",
       "      <td>...</td>\n",
       "      <td>...</td>\n",
       "      <td>...</td>\n",
       "      <td>...</td>\n",
       "      <td>...</td>\n",
       "      <td>...</td>\n",
       "      <td>...</td>\n",
       "    </tr>\n",
       "    <tr>\n",
       "      <th>1e</th>\n",
       "      <td>0</td>\n",
       "      <td>0</td>\n",
       "      <td>1</td>\n",
       "      <td>1</td>\n",
       "      <td>0</td>\n",
       "      <td>1</td>\n",
       "      <td>1</td>\n",
       "      <td>0</td>\n",
       "      <td>0</td>\n",
       "      <td>0</td>\n",
       "      <td>...</td>\n",
       "      <td>0</td>\n",
       "      <td>0</td>\n",
       "      <td>0</td>\n",
       "      <td>0</td>\n",
       "      <td>0</td>\n",
       "      <td>0</td>\n",
       "      <td>0</td>\n",
       "      <td>0</td>\n",
       "      <td>0</td>\n",
       "      <td>0</td>\n",
       "    </tr>\n",
       "    <tr>\n",
       "      <th>27g</th>\n",
       "      <td>0</td>\n",
       "      <td>0</td>\n",
       "      <td>1</td>\n",
       "      <td>1</td>\n",
       "      <td>0</td>\n",
       "      <td>0</td>\n",
       "      <td>0</td>\n",
       "      <td>0</td>\n",
       "      <td>0</td>\n",
       "      <td>0</td>\n",
       "      <td>...</td>\n",
       "      <td>0</td>\n",
       "      <td>0</td>\n",
       "      <td>0</td>\n",
       "      <td>0</td>\n",
       "      <td>0</td>\n",
       "      <td>0</td>\n",
       "      <td>0</td>\n",
       "      <td>0</td>\n",
       "      <td>0</td>\n",
       "      <td>0</td>\n",
       "    </tr>\n",
       "    <tr>\n",
       "      <th>14k</th>\n",
       "      <td>0</td>\n",
       "      <td>0</td>\n",
       "      <td>0</td>\n",
       "      <td>0</td>\n",
       "      <td>0</td>\n",
       "      <td>0</td>\n",
       "      <td>0</td>\n",
       "      <td>0</td>\n",
       "      <td>0</td>\n",
       "      <td>0</td>\n",
       "      <td>...</td>\n",
       "      <td>0</td>\n",
       "      <td>0</td>\n",
       "      <td>0</td>\n",
       "      <td>0</td>\n",
       "      <td>0</td>\n",
       "      <td>0</td>\n",
       "      <td>0</td>\n",
       "      <td>0</td>\n",
       "      <td>0</td>\n",
       "      <td>0</td>\n",
       "    </tr>\n",
       "    <tr>\n",
       "      <th>56e</th>\n",
       "      <td>0</td>\n",
       "      <td>0</td>\n",
       "      <td>0</td>\n",
       "      <td>0</td>\n",
       "      <td>0</td>\n",
       "      <td>0</td>\n",
       "      <td>0</td>\n",
       "      <td>0</td>\n",
       "      <td>0</td>\n",
       "      <td>0</td>\n",
       "      <td>...</td>\n",
       "      <td>0</td>\n",
       "      <td>0</td>\n",
       "      <td>0</td>\n",
       "      <td>0</td>\n",
       "      <td>0</td>\n",
       "      <td>0</td>\n",
       "      <td>0</td>\n",
       "      <td>0</td>\n",
       "      <td>0</td>\n",
       "      <td>0</td>\n",
       "    </tr>\n",
       "    <tr>\n",
       "      <th>79b</th>\n",
       "      <td>0</td>\n",
       "      <td>0</td>\n",
       "      <td>0</td>\n",
       "      <td>0</td>\n",
       "      <td>0</td>\n",
       "      <td>0</td>\n",
       "      <td>0</td>\n",
       "      <td>0</td>\n",
       "      <td>1</td>\n",
       "      <td>0</td>\n",
       "      <td>...</td>\n",
       "      <td>0</td>\n",
       "      <td>0</td>\n",
       "      <td>0</td>\n",
       "      <td>0</td>\n",
       "      <td>0</td>\n",
       "      <td>0</td>\n",
       "      <td>0</td>\n",
       "      <td>0</td>\n",
       "      <td>0</td>\n",
       "      <td>0</td>\n",
       "    </tr>\n",
       "  </tbody>\n",
       "</table>\n",
       "<p>194 rows × 330 columns</p>\n",
       "</div>"
      ],
      "text/plain": [
       "     pendent  teardrop  horizontal  panel  group  vertical  bar  floating  \\\n",
       "40b        0         0           0      1      0         1    0         0   \n",
       "16l        0         0           0      0      0         0    0         0   \n",
       "19e        0         0           1      1      0         0    0         0   \n",
       "77j        0         0           0      0      0         0    0         0   \n",
       "70q        0         0           0      0      0         0    0         0   \n",
       "..       ...       ...         ...    ...    ...       ...  ...       ...   \n",
       "1e         0         0           1      1      0         1    1         0   \n",
       "27g        0         0           1      1      0         0    0         0   \n",
       "14k        0         0           0      0      0         0    0         0   \n",
       "56e        0         0           0      0      0         0    0         0   \n",
       "79b        0         0           0      0      0         0    0         0   \n",
       "\n",
       "     enclosing  shorter  ...  light  body  bird  striped  worm  angular  \\\n",
       "40b          0        0  ...      0     0     0        0     0        0   \n",
       "16l          0        0  ...      0     0     0        0     0        0   \n",
       "19e          0        0  ...      0     0     0        0     0        0   \n",
       "77j          1        0  ...      0     0     0        0     0        0   \n",
       "70q          0        0  ...      0     0     0        0     0        0   \n",
       "..         ...      ...  ...    ...   ...   ...      ...   ...      ...   \n",
       "1e           0        0  ...      0     0     0        0     0        0   \n",
       "27g          0        0  ...      0     0     0        0     0        0   \n",
       "14k          0        0  ...      0     0     0        0     0        0   \n",
       "56e          0        0  ...      0     0     0        0     0        0   \n",
       "79b          1        0  ...      0     0     0        0     0        0   \n",
       "\n",
       "     raised  head  bird-seed  long  \n",
       "40b       0     0          0     0  \n",
       "16l       0     0          0     0  \n",
       "19e       0     0          0     0  \n",
       "77j       0     0          0     0  \n",
       "70q       0     0          0     0  \n",
       "..      ...   ...        ...   ...  \n",
       "1e        0     0          0     0  \n",
       "27g       0     0          0     0  \n",
       "14k       0     0          0     0  \n",
       "56e       0     0          0     0  \n",
       "79b       0     0          0     0  \n",
       "\n",
       "[194 rows x 330 columns]"
      ]
     },
     "execution_count": 11,
     "metadata": {},
     "output_type": "execute_result"
    }
   ],
   "source": [
    "labels_test"
   ]
  },
  {
   "cell_type": "code",
   "execution_count": 12,
   "metadata": {
    "pycharm": {
     "name": "#%%\n"
    }
   },
   "outputs": [],
   "source": [
    "def filter_labels(labels_df, freq=25, number_labels = None):\n",
    "  \"\"\"Filters a label dataframe based on labels frequency (number of events)\n",
    "\n",
    "    Parameters:\n",
    "    labels_df (DataFrame): dataframe of labels \n",
    "    freq (int): threshold frequency. Labels with a lower value will be filtered. \n",
    "\n",
    "    Returns:\n",
    "    DataFrame: filtered labels dataframe\n",
    "\n",
    "  \"\"\"\n",
    "  top_labels = None\n",
    "\n",
    "  if not number_labels:\n",
    "    filtered_df = labels_df.loc[:, labels_df.sum(axis=0) > freq]\n",
    "    top_labels = filtered_df.sum().sort_values(ascending=False)\n",
    "    return top_labels, 0\n",
    "\n",
    "  if number_labels:\n",
    "      filtered_labels = labels_df.shape[1]\n",
    "      pivot = 0\n",
    "      while filtered_labels > number_labels:\n",
    "        #print(filtered_labels, number_labels, pivot)\n",
    "        filtered_df = labels_df.loc[:, labels_df.sum(axis=0) > pivot]\n",
    "        top_labels = filtered_df.sum().sort_values(ascending=False)\n",
    "        filtered_labels = filtered_df.shape[1]\n",
    "        pivot += 1\n",
    "      print(\"Aplicando threshold {} para trabajar con {} labels\".format(pivot, len(top_labels.values)))\n",
    "      return top_labels, pivot\n",
    "\n",
    "def filter_dfs(df, top_labels_df):\n",
    "  df = df[df.columns.intersection(top_labels_df.index)]\n",
    "  return df\n",
    "\n",
    "def make_positive_weights(labels, factor=1):                        \n",
    "    total = labels.values.sum()\n",
    "    weights = [0.] * len(labels)\n",
    "    for i, label in enumerate(labels):\n",
    "      weights[i] = total/(factor * labels[i])\n",
    "    return weights\n",
    "\n",
    "def hamming_score(y_true, y_pred, normalize=True, sample_weight=None):\n",
    "    '''\n",
    "    Compute the Hamming score (a.k.a. label-based accuracy) for the multi-label case\n",
    "    http://stackoverflow.com/q/32239577/395857\n",
    "    '''\n",
    "    acc_list = []\n",
    "    for i in range(y_true.shape[0]):\n",
    "        set_true = set( np.where(y_true[i])[0] )\n",
    "        set_pred = set( np.where(y_pred[i])[0] )\n",
    "        #print('\\nset_true: {0}'.format(set_true))\n",
    "        #print('set_pred: {0}'.format(set_pred))\n",
    "        tmp_a = None\n",
    "        if len(set_true) == 0 and len(set_pred) == 0:\n",
    "            tmp_a = 1\n",
    "        else:\n",
    "            tmp_a = len(set_true.intersection(set_pred))/\\\n",
    "                    float( len(set_true.union(set_pred)) )\n",
    "        #print('tmp_a: {0}'.format(tmp_a))\n",
    "        acc_list.append(tmp_a)\n",
    "    return np.mean(acc_list)"
   ]
  },
  {
   "cell_type": "code",
   "execution_count": 13,
   "metadata": {
    "pycharm": {
     "name": "#%%\n"
    }
   },
   "outputs": [
    {
     "name": "stdout",
     "output_type": "stream",
     "text": [
      "Creando top_labels para 26 labels\n",
      "Aplicando threshold 41 para trabajar con 26 labels\n",
      "Se creará un archivo nuevo para 26 labels. Desea continuar? (y/n)y\n",
      "panel            532\n",
      "horizontal       436\n",
      "ornament         222\n",
      "hatched          204\n",
      "vertical         184\n",
      "metopal          168\n",
      "circle           154\n",
      "filling          154\n",
      "enclosing        126\n",
      "lozenge          122\n",
      "double           118\n",
      "cross-hatched    102\n",
      "triangle          90\n",
      "concentric        82\n",
      "dotted            72\n",
      "outline           72\n",
      "meander           70\n",
      "solid             66\n",
      "chain             66\n",
      "bar               64\n",
      "cross             62\n",
      "line              58\n",
      "dot               56\n",
      "hook              50\n",
      "swastika          44\n",
      "floor             44\n",
      "dtype: int64\n"
     ]
    }
   ],
   "source": [
    "train_labels = pd.read_json(os.path.join(labels_path, 'augmented_train_df.json'), orient='index')\n",
    "if not os.path.isfile(os.path.join(root_dir, 'labels', f'top_{NUM_LABELS}L.pickle')):\n",
    "    print(f\"Creando top_labels para {NUM_LABELS} labels\")\n",
    "    top_labels, _ = filter_labels(train_labels, number_labels = NUM_LABELS)\n",
    "    save = input(f\"Se creará un archivo nuevo para {len(top_labels)} labels. Desea continuar? (y/n)\")\n",
    "    if save == \"y\":\n",
    "        with open(os.path.join(root_dir, 'labels', f'top_{NUM_LABELS}L.pickle'), 'wb') as f:\n",
    "            pickle.dump(top_labels, f)\n",
    "        print(top_labels)\n",
    "    else:\n",
    "        raise Exception(\"No se logró cargar top_labels\")\n",
    "else:\n",
    "    print(f\"Usando top_labels previamente generados para {NUM_LABELS} labels\")\n",
    "    with open(os.path.join(root_dir, 'labels', f'top_{NUM_LABELS}L.pickle'), 'rb') as f:\n",
    "        top_labels = pickle.load(f)\n",
    "    print(top_labels)"
   ]
  },
  {
   "cell_type": "code",
   "execution_count": 14,
   "metadata": {
    "pycharm": {
     "name": "#%%\n"
    }
   },
   "outputs": [
    {
     "name": "stdout",
     "output_type": "stream",
     "text": [
      "Usando device: NVIDIA GeForce GTX 1060\n"
     ]
    }
   ],
   "source": [
    "# Device configuration\n",
    "device = torch.device(f'cuda:{CUDA_ID}' if torch.cuda.is_available() else 'cpu')\n",
    "print(f\"Usando device: {torch.cuda.get_device_name(device)}\")"
   ]
  },
  {
   "cell_type": "code",
   "execution_count": 18,
   "metadata": {
    "pycharm": {
     "name": "#%%\n"
    }
   },
   "outputs": [],
   "source": [
    "train_labels = pd.read_json(os.path.join(labels_path, 'augmented_train_df.json'), orient='index')\n",
    "NUM_LABELS = len(top_labels) # la cantidad final de etiquetas a trabajar\n",
    "\n",
    "if use_pos_weights:\n",
    "    pos_weights = make_positive_weights(top_labels, pos_weights_factor)\n",
    "    pos_weights = torch.Tensor(pos_weights).float().to(device)\n",
    "else:\n",
    "    pos_weights = None\n",
    "\n",
    "# images_dir=os.path.join(root_dir, 'patterns', data_flags, 'train'),\n",
    "# labels_file=os.path.join(root_dir, 'labels', data_flags, 'augmented_train_df.json'),\n",
    "class KunischDataset(torch.utils.data.Dataset):\n",
    "\n",
    "  def __init__(self, images_dir, labels_file, transform, top_labels, extra_labels = None, extra_images_dir = None):\n",
    "    \"\"\"\n",
    "    Args:\n",
    "        text_file(string): path to text file\n",
    "        root_dir(string): directory with all train images\n",
    "    \"\"\"\n",
    "    self.labels_frame = filter_dfs(pd.read_json(labels_file, orient='index'), top_labels)\n",
    "    self.num_labels = len(top_labels)\n",
    "    self.images_dir = images_dir\n",
    "    self.labels_file = labels_file\n",
    "    self.transform = transform\n",
    "    self.flags = data_flags\n",
    "    self.top_labels = top_labels\n",
    "    self.extra_images_dir = None \n",
    "\n",
    "    # para crear conjunto test-val \n",
    "    if extra_labels:\n",
    "      extra_labels_frame = filter_dfs(pd.read_json(extra_labels, orient='index'), top_labels)\n",
    "      self.labels_frame = pd.DataFrame.append(self.labels_frame, extra_labels_frame)\n",
    "      self.extra_images_dir = extra_images_dir\n",
    "\n",
    "  def __len__(self):\n",
    "    return len(self.labels_frame)\n",
    "\n",
    "  def __getitem__(self, idx):\n",
    "    img_id = self.labels_frame.iloc[idx].name + '.png'\n",
    "    img_name = None\n",
    "    for chapter in os.listdir(self.images_dir):\n",
    "      if img_id in os.listdir(os.path.join(self.images_dir, chapter)):\n",
    "        img_name = os.path.join(self.images_dir, chapter, img_id)\n",
    "        break\n",
    "    if img_name is None:\n",
    "      raise Exception(f'No se encontró la imagen para {img_id}')\n",
    "    image = Image.open(img_name)\n",
    "    image = image.convert('RGB')\n",
    "    image = self.transform(image)\n",
    "    labels = self.labels_frame.iloc[idx].values\n",
    "    labels = np.array(labels)\n",
    "    labels = torch.from_numpy(labels.astype('int'))\n",
    "    #print(img_id, img_name, self.labels_frame.iloc[idx], self.labels_frame.iloc[idx].values, labels)\n",
    "    sample = {'image': image, 'labels': labels, 'paths': img_name}\n",
    "    return sample\n",
    "\n",
    "\n",
    "# Alexnet requires 227 x 227\n",
    "# Training\n",
    "kunischTrainSet = KunischDataset(images_dir=os.path.join(patterns_path, 'train'),\n",
    "                                 labels_file=os.path.join(labels_path, 'augmented_train_df.json'),\n",
    "                                 transform=transforms.Compose([transforms.Resize((227, 227)),\n",
    "                                                               transforms.ToTensor(),\n",
    "                                                               transforms.Normalize(\n",
    "                                                                   mean=[0.485, 0.456, 0.406],\n",
    "                                                                   std=[0.229, 0.224, 0.225])]),\n",
    "                                 top_labels=top_labels)\n",
    "\n",
    "kunischTrainLoader = torch.utils.data.DataLoader(kunischTrainSet, batch_size=BATCH_SIZE, shuffle=True, num_workers=0)\n",
    "\n",
    "# Validation\n",
    "kunischValidationSet = KunischDataset(images_dir=os.path.join(patterns_path, 'val'),\n",
    "                                      labels_file=os.path.join(labels_path, 'val_df.json'),\n",
    "                                      transform=transforms.Compose([transforms.Resize((227, 227)),\n",
    "                                                                    transforms.ToTensor(),\n",
    "                                                                    transforms.Normalize(\n",
    "                                                                        mean=[0.485, 0.456, 0.406],\n",
    "                                                                        std=[0.229, 0.224, 0.225])]),\n",
    "                                      top_labels=top_labels)\n",
    "\n",
    "kunischValidationLoader = torch.utils.data.DataLoader(kunischValidationSet, batch_size=BATCH_SIZE, shuffle=True,\n",
    "                                                      num_workers=0)\n",
    "\n",
    "# Test\n",
    "kunischTestSet = KunischDataset(images_dir=os.path.join(patterns_path, 'test'),\n",
    "                                labels_file=os.path.join(labels_path, 'test_df.json'),\n",
    "                                transform=transforms.Compose([transforms.Resize((227, 227)),\n",
    "                                                              transforms.ToTensor(),\n",
    "                                                              transforms.Normalize(\n",
    "                                                                  mean=[0.485, 0.456, 0.406],\n",
    "                                                                  std=[0.229, 0.224, 0.225])]),\n",
    "                                top_labels=top_labels)\n",
    "\n",
    "kunischTestLoader = torch.utils.data.DataLoader(kunischTestSet, batch_size=BATCH_SIZE, shuffle=False, num_workers=0)\n",
    "\n",
    "\n",
    "# Define the function for training, validation, and test\n",
    "def alex_train(epoch, num_epochs, train_losses, learning_rate, w):\n",
    "  alex_net.train()\n",
    "  train_loss = 0\n",
    "  TN = 0\n",
    "  TP = 0\n",
    "  FP = 0\n",
    "  FN = 0\n",
    "  preds_total = np.empty((1, NUM_LABELS), dtype=int)\n",
    "  labels_total = np.empty((1, NUM_LABELS), dtype=int)\n",
    "    \n",
    "  for i, sample_batched in enumerate(kunischTrainLoader, 1):\n",
    "      inputs = sample_batched['image'].to(device)\n",
    "      labels = sample_batched['labels'].to(device)\n",
    "\n",
    "      # zero the parameter gradients\n",
    "      optimizer.zero_grad()\n",
    "\n",
    "      # forward + backward + optimize\n",
    "      outputs = alex_net(inputs)\n",
    "      loss = criterion(outputs.float(), labels.float())\n",
    "      loss.backward()\n",
    "      optimizer.step()\n",
    "      \n",
    "      train_loss += loss.item()\n",
    "      pred = (torch.sigmoid(outputs).data > TH_TRAIN).int()\n",
    "      # print(pred)\n",
    "      labels = labels.int()\n",
    "      # print(labels)\n",
    "      preds_total = np.concatenate((preds_total, pred.cpu()), axis=0)\n",
    "      labels_total = np.concatenate((labels_total, labels.cpu()), axis=0)\n",
    "    \n",
    "      TP += ((pred == 1) & (labels == 1)).float().sum()  # True Positive Count\n",
    "      TN += ((pred == 0) & (labels == 0)).float().sum()  # True Negative Count\n",
    "      FP += ((pred == 1) & (labels == 0)).float().sum()  # False Positive Count\n",
    "      FN += ((pred == 0) & (labels == 1)).float().sum()  # False Negative Count\n",
    "      #print('TP: {}\\t TN: {}\\t FP: {}\\t FN: {}\\n'.format(TP, TN, FP, FN))\n",
    "  \n",
    "\n",
    "  TP = TP.cpu().numpy()\n",
    "  TN = TN.cpu().numpy()\n",
    "  FP = FP.cpu().numpy()\n",
    "  FN = FN.cpu().numpy()\n",
    "\n",
    "  accuracy = (TP + TN) / (TP + TN + FP + FN)\n",
    "  precision = TP / (TP + FP)\n",
    "  recall = TP / (TP + FN)\n",
    "  f1_score = 2 * (precision * recall) / (precision + recall)\n",
    "  train_loss = train_loss / len(kunischTrainLoader.dataset) * BATCH_SIZE\n",
    "  hs = hamming_score(preds_total, labels_total)\n",
    "  train_losses.append([epoch, learning_rate, w, train_loss, TP, TN, FP, FN, accuracy, precision, recall, f1_score])\n",
    "\n",
    "  # print statistics\n",
    "  print('Train Trial [{}/{}], LR: {:.4g}, W: {}, Avg Loss: {:.4f}, Accuracy: {:.4f}, F1 score: {:.4f}, HS: {:.4f}'\n",
    "        .format(epoch, num_epochs, optimizer.param_groups[0]['lr'], w, train_loss, accuracy, f1_score, hs))\n",
    "  return hs\n",
    "\n",
    "def alex_valid(epoch, num_epochs, valid_losses, learning_rate, w):\n",
    "  # Have our model in evaluation mode\n",
    "  alex_net.eval()\n",
    "  # Set losses and Correct labels to zero\n",
    "  valid_loss = 0\n",
    "  TN = 0\n",
    "  TP = 0\n",
    "  FP = 0\n",
    "  FN = 0\n",
    "  preds_total = np.empty((1, NUM_LABELS), dtype=int)\n",
    "  labels_total = np.empty((1, NUM_LABELS), dtype=int)\n",
    "  with torch.no_grad():\n",
    "      for i, sample_batched in enumerate(kunischValidationLoader, 1):\n",
    "          inputs = sample_batched['image'].to(device)\n",
    "          labels = sample_batched['labels'].to(device)\n",
    "          outputs = alex_net(inputs)\n",
    "          loss = criterion(outputs.float(), labels.float())\n",
    "          valid_loss += loss.item()\n",
    "          pred = (torch.sigmoid(outputs).data > TH_VAL).int()\n",
    "          labels = labels.int()\n",
    "          preds_total = np.concatenate((preds_total, pred.cpu()), axis=0)\n",
    "          labels_total = np.concatenate((labels_total, labels.cpu()), axis=0)\n",
    "        \n",
    "          TP += ((pred == 1) & (labels == 1)).float().sum()  # True Positive Count\n",
    "          TN += ((pred == 0) & (labels == 0)).float().sum()  # True Negative Count\n",
    "          FP += ((pred == 1) & (labels == 0)).float().sum()  # False Positive Count\n",
    "          FN += ((pred == 0) & (labels == 1)).float().sum()  # False Negative Count\n",
    "          # print('TP: {}\\t TN: {}\\t FP: {}\\t FN: {}\\n'.format(TP,TN,FP,FN) )\n",
    "\n",
    "      TP = TP.cpu().numpy()\n",
    "      TN = TN.cpu().numpy()\n",
    "      FP = FP.cpu().numpy()\n",
    "      FN = FN.cpu().numpy()\n",
    "      accuracy = (TP + TN) / (TP + TN + FP + FN)\n",
    "      precision = TP / (TP + FP)\n",
    "      recall = TP / (TP + FN)\n",
    "      f1_score = 2 * (precision * recall) / (precision + recall)\n",
    "      hs = hamming_score(preds_total, labels_total)\n",
    "    \n",
    "      scheduler.step(hs)\n",
    "\n",
    "      valid_loss = valid_loss / len(kunischValidationLoader.dataset) * BATCH_SIZE  # 1024 is the batch size\n",
    "      valid_losses.append(\n",
    "          [epoch, learning_rate, w, valid_loss, TP, TN, FP, FN, accuracy, precision, recall, f1_score])\n",
    "      # print statistics\n",
    "      print('Valid Trial [{}/{}], LR: {}, W: {}, Avg Loss: {:.4f}, Accuracy: {:.4f}, F1 score: {:.4f}, HS: {:.4f}'\n",
    "            .format(epoch, num_epochs, optimizer.param_groups[0]['lr'], w, valid_loss, accuracy, f1_score, hs))\n",
    "      return hs\n",
    "\n",
    "def alex_test(epoch, num_epochs, pred_array, test_losses, learning_rate, w, show_images=1):\n",
    "  # Have our model in evaluation mode\n",
    "  alex_net.eval()\n",
    "  # Set losses and Correct labels to zero\n",
    "  test_loss = 0\n",
    "  TN = 0\n",
    "  TP = 0\n",
    "  FP = 0\n",
    "  FN = 0\n",
    "  preds_total = np.empty((1, NUM_LABELS), dtype=int)\n",
    "  labels_total = np.empty((1, NUM_LABELS), dtype=int)\n",
    "    \n",
    "  with torch.no_grad():\n",
    "      for i,sample_batched in enumerate(kunischTestLoader, 1):\n",
    "          print(\"CURRENT BATCH SIZE: \", BATCH_SIZE)\n",
    "          inputs = sample_batched['image'].to(device)\n",
    "          labels = sample_batched['labels'].to(device)\n",
    "          paths = sample_batched['paths']\n",
    "          outputs = alex_net(inputs)\n",
    "          \n",
    "          loss = criterion(outputs.float(), labels.float())\n",
    "          test_loss += loss.item()\n",
    "          pred = (torch.sigmoid(outputs).data > TH_TEST).int()\n",
    "          # print(pred)\n",
    "          labels = labels.int()\n",
    "          # print(labels)\n",
    "          pred_array.append([paths, test_loss, labels, pred])\n",
    "          preds_total = np.concatenate((preds_total, pred.cpu()), axis=0)\n",
    "          labels_total = np.concatenate((labels_total, labels.cpu()), axis=0)\n",
    "          \n",
    "          for j in range(0, min(BATCH_SIZE, show_images)): # j itera sobre ejemplos\n",
    "              print(f\"Mostrando imagen {j} del batch {i}\")\n",
    "              img = np.transpose(sample_batched['image'][j]) # imagen j \n",
    "              plt.imshow(img, interpolation='nearest')\n",
    "              plt.show()\n",
    "              labels_correctos = \"\"\n",
    "              labels_predichos = \"\"\n",
    "              for k in range(0, len(pred[j])):\n",
    "                labels_correctos += (kunischTestSet.labels_frame.columns.values[k]+' ') if labels[j].cpu().detach()[k] else \"\"\n",
    "                labels_predichos += (kunischTestSet.labels_frame.columns.values[k]+' ') if pred[j].cpu().detach()[k] else \"\"\n",
    "              print(\"Labels correctos:\")\n",
    "              #print(labels[j].cpu().detach().numpy())\n",
    "              print(labels_correctos)\n",
    "              print(\"Labels predichos:\")\n",
    "              #print(pred[j].cpu().detach().numpy())\n",
    "              print(labels_predichos)\n",
    "              print(\"\\n\")\n",
    "            \n",
    "          TP += ((pred == 1) & (labels == 1)).float().sum()  # True Positive Count\n",
    "          TN += ((pred == 0) & (labels == 0)).float().sum()  # True Negative Count\n",
    "          FP += ((pred == 1) & (labels == 0)).float().sum()  # False Positive Count\n",
    "          FN += ((pred == 0) & (labels == 1)).float().sum()  # False Negative Count\n",
    "          # print('TP: {}\\t TN: {}\\t FP: {}\\t FN: {}\\n'.format(TP,TN,FP,FN) )\n",
    "\n",
    "      TP = TP.cpu().numpy()\n",
    "      TN = TN.cpu().numpy()\n",
    "      FP = FP.cpu().numpy()\n",
    "      FN = FN.cpu().numpy()\n",
    "      accuracy = (TP + TN) / (TP + TN + FP + FN)\n",
    "      precision = TP / (TP + FP)\n",
    "      recall = TP / (TP + FN)\n",
    "      f1_score = 2 * (precision * recall) / (precision + recall)\n",
    "      hs = hamming_score(preds_total, labels_total)\n",
    "      test_loss = test_loss / len(kunischTestLoader.dataset) * 1024  # 1024 is the batch size\n",
    "      test_losses.append([epoch, learning_rate, w, test_loss, TP, TN, FP, FN, accuracy, precision, recall, f1_score])\n",
    "      # print statistics\n",
    "      print('Test Trial [{}/{}], LR: {}, W: {}, Avg Loss: {:.4f}, Accuracy: {:.4f}, F1 score: {:.4f}, HS: {:.4f}'\n",
    "            .format(epoch, num_epochs, optimizer.param_groups[0]['lr'], w, test_loss, accuracy, f1_score, hs))\n",
    "      return hs"
   ]
  },
  {
   "cell_type": "code",
   "execution_count": 19,
   "metadata": {
    "pycharm": {
     "name": "#%%\n"
    }
   },
   "outputs": [],
   "source": [
    "def filter_labels(labels_df, freq=25, number_labels = None):\n",
    "  \"\"\"Filters a label dataframe based on labels frequency (number of events)\n",
    "\n",
    "    Parameters:\n",
    "    labels_df (DataFrame): dataframe of labels \n",
    "    freq (int): threshold frequency. Labels with a lower value will be filtered. \n",
    "\n",
    "    Returns:\n",
    "    DataFrame: filtered labels dataframe\n",
    "\n",
    "  \"\"\"\n",
    "  top_labels = None\n",
    "\n",
    "  if not number_labels:\n",
    "    filtered_df = labels_df.loc[:, labels_df.sum(axis=0) > freq]\n",
    "    top_labels = filtered_df.sum().sort_values(ascending=False)\n",
    "    return top_labels, 0\n",
    "\n",
    "  if number_labels:\n",
    "      filtered_labels = labels_df.shape[1]\n",
    "      pivot = 0\n",
    "      while filtered_labels > number_labels:\n",
    "        #print(filtered_labels, number_labels, pivot)\n",
    "        filtered_df = labels_df.loc[:, labels_df.sum(axis=0) > pivot]\n",
    "        top_labels = filtered_df.sum().sort_values(ascending=False)\n",
    "        filtered_labels = filtered_df.shape[1]\n",
    "        pivot += 1\n",
    "      print(\"Aplicando threshold {} para trabajar con {} labels\".format(pivot, len(top_labels.values)))\n",
    "      return top_labels, pivot\n",
    "\n",
    "def filter_dfs(df, top_labels_df):\n",
    "  df = df[df.columns.intersection(top_labels_df.index)]\n",
    "  return df\n",
    "\n",
    "def make_positive_weights(labels, factor=1):                        \n",
    "    total = labels.values.sum()\n",
    "    weights = [0.] * len(labels)\n",
    "    for i, label in enumerate(labels):\n",
    "      weights[i] = total/(factor * labels[i])\n",
    "    return weights\n"
   ]
  },
  {
   "cell_type": "code",
   "execution_count": 20,
   "metadata": {
    "pycharm": {
     "name": "#%%\n"
    }
   },
   "outputs": [
    {
     "name": "stdout",
     "output_type": "stream",
     "text": [
      "Valid Trial [0/10], LR: 0.001, W: 2.21386e-05, Avg Loss: 5.2909, Accuracy: 0.4961, F1 score: 0.2281, HS: 0.1385\n",
      "Valid Trial [1/10], LR: 0.0005, W: 1.3944e-05, Avg Loss: 5.2910, Accuracy: 0.4640, F1 score: 0.2185, HS: 0.1246\n",
      "Valid Trial [2/10], LR: 0.0003, W: 2.13392e-05, Avg Loss: 5.9418, Accuracy: 0.4773, F1 score: 0.1745, HS: 0.0947\n",
      "Valid Trial [3/10], LR: 0.0083, W: 2.357e-06, Avg Loss: 6.0920, Accuracy: 0.4926, F1 score: 0.1668, HS: 0.0926\n",
      "Valid Trial [4/10], LR: 0.0003, W: 2.30684e-05, Avg Loss: 5.7745, Accuracy: 0.5582, F1 score: 0.1928, HS: 0.1041\n",
      "Valid Trial [5/10], LR: 0.0011, W: 5.46e-07, Avg Loss: 6.0318, Accuracy: 0.5902, F1 score: 0.2298, HS: 0.1305\n",
      "Valid Trial [6/10], LR: 0.0052, W: 3.9009e-06, Avg Loss: 5.2083, Accuracy: 0.5153, F1 score: 0.2326, HS: 0.1332\n",
      "Valid Trial [7/10], LR: 0.0001, W: 6.402e-07, Avg Loss: 5.9569, Accuracy: 0.5439, F1 score: 0.1659, HS: 0.0919\n",
      "Valid Trial [8/10], LR: 0.0008, W: 1.82189e-05, Avg Loss: 6.3077, Accuracy: 0.5113, F1 score: 0.1651, HS: 0.0907\n",
      "Valid Trial [9/10], LR: 0.0021, W: 1.6504e-06, Avg Loss: 5.3522, Accuracy: 0.4768, F1 score: 0.2017, HS: 0.1087\n"
     ]
    }
   ],
   "source": [
    "# Hyper Parameter Tuning\n",
    "alex_net = models.alexnet(pretrained=True)\n",
    "for param in alex_net.parameters():\n",
    "    param.requires_grad = False\n",
    "alex_net.classifier._modules['6'] = nn.Linear(4096, NUM_LABELS)\n",
    "\n",
    "train_losses = []\n",
    "validation_losses = []\n",
    "num_epochs = 10\n",
    "\n",
    "for epoch in range(num_epochs):\n",
    "  learning_rate = round(np.exp(random.uniform(np.log(.0001), np.log(.01))), 4)  # pull geometrically\n",
    "  w = round(np.exp(random.uniform(np.log(3.1e-7), np.log(3.1e-5))), 10)  # pull geometrically\n",
    "\n",
    "  # Reset Model per test\n",
    "  alex_net = models.alexnet(pretrained=True)\n",
    "  alex_net.classifier._modules['6'] = nn.Linear(4096, NUM_LABELS)\n",
    "  alex_net.to(device)\n",
    "\n",
    "  optimizer = torch.optim.Adam(alex_net.parameters(), lr=learning_rate, weight_decay=w)\n",
    "  criterion = nn.BCEWithLogitsLoss(pos_weight=pos_weights)\n",
    "  scheduler = torch.optim.lr_scheduler.ReduceLROnPlateau(optimizer, factor=0.75, patience=5, min_lr=0.00005)\n",
    "\n",
    "  if SAVE:\n",
    "      train_losses_df = pd.DataFrame(train_losses)\n",
    "      train_losses_df.to_csv(os.path.join(output_dir, 'loss_hypertrain.csv'))\n",
    "\n",
    "  alex_valid(epoch, num_epochs, validation_losses, learning_rate, w)\n",
    "  if SAVE:\n",
    "      validation_losses_df = pd.DataFrame(validation_losses)\n",
    "      validation_losses_df.to_csv(os.path.join(output_dir, 'loss_hyperval.csv'))"
   ]
  },
  {
   "cell_type": "code",
   "execution_count": 21,
   "metadata": {
    "pycharm": {
     "name": "#%%\n"
    },
    "scrolled": true
   },
   "outputs": [
    {
     "name": "stdout",
     "output_type": "stream",
     "text": [
      "Train Trial [0/200], LR: 0.001, W: 0.01, Avg Loss: 3.0711, Accuracy: 0.2800, F1 score: 0.2464, HS: 0.1398\n",
      "Valid Trial [0/200], LR: 0.001, W: 0.01, Avg Loss: 3.4778, Accuracy: 0.3003, F1 score: 0.2575, HS: 0.1484\n",
      "\n",
      "Train Trial [1/200], LR: 0.001, W: 0.01, Avg Loss: 2.0882, Accuracy: 0.3358, F1 score: 0.2748, HS: 0.1625\n",
      "Valid Trial [1/200], LR: 0.001, W: 0.01, Avg Loss: 3.2570, Accuracy: 0.4502, F1 score: 0.2965, HS: 0.1809\n",
      "\n",
      "Train Trial [2/200], LR: 0.001, W: 0.01, Avg Loss: 1.9110, Accuracy: 0.4369, F1 score: 0.3062, HS: 0.1906\n",
      "Valid Trial [2/200], LR: 0.001, W: 0.01, Avg Loss: 2.8698, Accuracy: 0.4556, F1 score: 0.3109, HS: 0.1915\n",
      "\n",
      "Train Trial [3/200], LR: 0.001, W: 0.01, Avg Loss: 1.6826, Accuracy: 0.5281, F1 score: 0.3451, HS: 0.2203\n",
      "Valid Trial [3/200], LR: 0.001, W: 0.01, Avg Loss: 2.7428, Accuracy: 0.5518, F1 score: 0.3484, HS: 0.2190\n",
      "\n",
      "Train Trial [4/200], LR: 0.001, W: 0.01, Avg Loss: 1.5337, Accuracy: 0.5599, F1 score: 0.3636, HS: 0.2358\n",
      "Valid Trial [4/200], LR: 0.001, W: 0.01, Avg Loss: 3.6852, Accuracy: 0.6016, F1 score: 0.3628, HS: 0.2282\n",
      "\n",
      "Train Trial [5/200], LR: 0.001, W: 0.01, Avg Loss: 1.6565, Accuracy: 0.5843, F1 score: 0.3708, HS: 0.2371\n",
      "Valid Trial [5/200], LR: 0.001, W: 0.01, Avg Loss: 3.4148, Accuracy: 0.5873, F1 score: 0.3537, HS: 0.2264\n",
      "\n",
      "Train Trial [6/200], LR: 0.001, W: 0.01, Avg Loss: 1.3899, Accuracy: 0.5837, F1 score: 0.3781, HS: 0.2535\n",
      "Valid Trial [6/200], LR: 0.00075, W: 0.01, Avg Loss: 3.9431, Accuracy: 0.7130, F1 score: 0.4294, HS: 0.3031\n",
      "\n",
      "Train Trial [7/200], LR: 0.00075, W: 0.01, Avg Loss: 1.3342, Accuracy: 0.6593, F1 score: 0.4234, HS: 0.2911\n",
      "Valid Trial [7/200], LR: 0.00075, W: 0.01, Avg Loss: 3.0894, Accuracy: 0.6415, F1 score: 0.3967, HS: 0.2790\n",
      "\n",
      "Train Trial [8/200], LR: 0.00075, W: 0.01, Avg Loss: 1.2138, Accuracy: 0.6858, F1 score: 0.4461, HS: 0.3075\n",
      "Valid Trial [8/200], LR: 0.00075, W: 0.01, Avg Loss: 4.0733, Accuracy: 0.7120, F1 score: 0.4263, HS: 0.2872\n",
      "\n",
      "Train Trial [9/200], LR: 0.00075, W: 0.01, Avg Loss: 1.1931, Accuracy: 0.7123, F1 score: 0.4690, HS: 0.3239\n",
      "Valid Trial [9/200], LR: 0.00075, W: 0.01, Avg Loss: 3.2469, Accuracy: 0.6829, F1 score: 0.4202, HS: 0.2865\n",
      "\n",
      "Train Trial [10/200], LR: 0.00075, W: 0.01, Avg Loss: 1.1072, Accuracy: 0.7146, F1 score: 0.4698, HS: 0.3266\n",
      "Valid Trial [10/200], LR: 0.00075, W: 0.01, Avg Loss: 3.2341, Accuracy: 0.6948, F1 score: 0.4242, HS: 0.2881\n",
      "\n",
      "Train Trial [11/200], LR: 0.00075, W: 0.01, Avg Loss: 1.0064, Accuracy: 0.7495, F1 score: 0.5047, HS: 0.3599\n",
      "Valid Trial [11/200], LR: 0.00075, W: 0.01, Avg Loss: 4.6477, Accuracy: 0.7594, F1 score: 0.4730, HS: 0.3343\n",
      "\n",
      "Train Trial [12/200], LR: 0.00075, W: 0.01, Avg Loss: 0.9350, Accuracy: 0.7771, F1 score: 0.5345, HS: 0.3840\n",
      "Valid Trial [12/200], LR: 0.0005625000000000001, W: 0.01, Avg Loss: 3.3749, Accuracy: 0.7421, F1 score: 0.4636, HS: 0.3255\n",
      "\n",
      "Train Trial [13/200], LR: 0.0005625, W: 0.01, Avg Loss: 0.9575, Accuracy: 0.7701, F1 score: 0.5239, HS: 0.3708\n",
      "Valid Trial [13/200], LR: 0.0005625000000000001, W: 0.01, Avg Loss: 5.3630, Accuracy: 0.7865, F1 score: 0.4839, HS: 0.3415\n",
      "\n",
      "Train Trial [14/200], LR: 0.0005625, W: 0.01, Avg Loss: 0.9561, Accuracy: 0.7687, F1 score: 0.5245, HS: 0.3759\n",
      "Valid Trial [14/200], LR: 0.0005625000000000001, W: 0.01, Avg Loss: 4.3498, Accuracy: 0.7761, F1 score: 0.4864, HS: 0.3467\n",
      "\n",
      "Train Trial [15/200], LR: 0.0005625, W: 0.01, Avg Loss: 0.8050, Accuracy: 0.7953, F1 score: 0.5555, HS: 0.4034\n",
      "Valid Trial [15/200], LR: 0.0005625000000000001, W: 0.01, Avg Loss: 5.1910, Accuracy: 0.8082, F1 score: 0.5156, HS: 0.3740\n",
      "\n",
      "Train Trial [16/200], LR: 0.0005625, W: 0.01, Avg Loss: 0.7397, Accuracy: 0.8246, F1 score: 0.5936, HS: 0.4450\n",
      "Valid Trial [16/200], LR: 0.0005625000000000001, W: 0.01, Avg Loss: 4.8628, Accuracy: 0.8245, F1 score: 0.5436, HS: 0.3986\n",
      "\n",
      "Train Trial [17/200], LR: 0.0005625, W: 0.01, Avg Loss: 0.7318, Accuracy: 0.8419, F1 score: 0.6186, HS: 0.4655\n",
      "Valid Trial [17/200], LR: 0.0005625000000000001, W: 0.01, Avg Loss: 4.1763, Accuracy: 0.7865, F1 score: 0.5017, HS: 0.3563\n",
      "\n",
      "Train Trial [18/200], LR: 0.0005625, W: 0.01, Avg Loss: 0.7075, Accuracy: 0.8338, F1 score: 0.6073, HS: 0.4571\n",
      "Valid Trial [18/200], LR: 0.00042187500000000005, W: 0.01, Avg Loss: 4.5288, Accuracy: 0.8121, F1 score: 0.5302, HS: 0.3878\n",
      "\n",
      "Train Trial [19/200], LR: 0.0004219, W: 0.01, Avg Loss: 0.6078, Accuracy: 0.8542, F1 score: 0.6388, HS: 0.4874\n",
      "Valid Trial [19/200], LR: 0.00042187500000000005, W: 0.01, Avg Loss: 5.4661, Accuracy: 0.8171, F1 score: 0.5322, HS: 0.3924\n",
      "\n",
      "Train Trial [20/200], LR: 0.0004219, W: 0.01, Avg Loss: 0.5690, Accuracy: 0.8766, F1 score: 0.6760, HS: 0.5406\n",
      "Valid Trial [20/200], LR: 0.00042187500000000005, W: 0.01, Avg Loss: 5.3814, Accuracy: 0.8180, F1 score: 0.5370, HS: 0.4012\n",
      "\n",
      "Train Trial [21/200], LR: 0.0004219, W: 0.01, Avg Loss: 0.5659, Accuracy: 0.8752, F1 score: 0.6733, HS: 0.5310\n",
      "Valid Trial [21/200], LR: 0.00042187500000000005, W: 0.01, Avg Loss: 4.7295, Accuracy: 0.8309, F1 score: 0.5481, HS: 0.4080\n",
      "\n",
      "Train Trial [22/200], LR: 0.0004219, W: 0.01, Avg Loss: 0.5048, Accuracy: 0.8792, F1 score: 0.6812, HS: 0.5358\n",
      "Valid Trial [22/200], LR: 0.00042187500000000005, W: 0.01, Avg Loss: 5.6272, Accuracy: 0.8353, F1 score: 0.5594, HS: 0.4179\n",
      "\n",
      "Train Trial [23/200], LR: 0.0004219, W: 0.01, Avg Loss: 0.4841, Accuracy: 0.8955, F1 score: 0.7125, HS: 0.5756\n",
      "Valid Trial [23/200], LR: 0.00042187500000000005, W: 0.01, Avg Loss: 8.6652, Accuracy: 0.8481, F1 score: 0.5650, HS: 0.4289\n",
      "\n",
      "Train Trial [24/200], LR: 0.0004219, W: 0.01, Avg Loss: 0.4568, Accuracy: 0.9007, F1 score: 0.7222, HS: 0.5873\n",
      "Valid Trial [24/200], LR: 0.00031640625000000006, W: 0.01, Avg Loss: 6.7142, Accuracy: 0.8402, F1 score: 0.5622, HS: 0.4217\n",
      "\n",
      "Train Trial [25/200], LR: 0.0003164, W: 0.01, Avg Loss: 0.4371, Accuracy: 0.8967, F1 score: 0.7149, HS: 0.5810\n",
      "Valid Trial [25/200], LR: 0.00031640625000000006, W: 0.01, Avg Loss: 7.8147, Accuracy: 0.8634, F1 score: 0.5809, HS: 0.4433\n",
      "\n",
      "Train Trial [26/200], LR: 0.0003164, W: 0.01, Avg Loss: 0.3906, Accuracy: 0.9130, F1 score: 0.7489, HS: 0.6246\n",
      "Valid Trial [26/200], LR: 0.00031640625000000006, W: 0.01, Avg Loss: 7.7263, Accuracy: 0.8491, F1 score: 0.5666, HS: 0.4253\n",
      "\n",
      "Train Trial [27/200], LR: 0.0003164, W: 0.01, Avg Loss: 0.4319, Accuracy: 0.9048, F1 score: 0.7306, HS: 0.5958\n",
      "Valid Trial [27/200], LR: 0.00031640625000000006, W: 0.01, Avg Loss: 6.9947, Accuracy: 0.8560, F1 score: 0.5793, HS: 0.4319\n",
      "\n",
      "Train Trial [28/200], LR: 0.0003164, W: 0.01, Avg Loss: 0.4108, Accuracy: 0.9106, F1 score: 0.7431, HS: 0.6114\n",
      "Valid Trial [28/200], LR: 0.00031640625000000006, W: 0.01, Avg Loss: 6.3497, Accuracy: 0.8506, F1 score: 0.5774, HS: 0.4362\n",
      "\n",
      "Train Trial [29/200], LR: 0.0003164, W: 0.01, Avg Loss: 0.3833, Accuracy: 0.9166, F1 score: 0.7563, HS: 0.6294\n",
      "Valid Trial [29/200], LR: 0.00031640625000000006, W: 0.01, Avg Loss: 8.1261, Accuracy: 0.8526, F1 score: 0.5710, HS: 0.4331\n",
      "\n",
      "Train Trial [30/200], LR: 0.0003164, W: 0.01, Avg Loss: 0.3832, Accuracy: 0.9165, F1 score: 0.7558, HS: 0.6311\n",
      "Valid Trial [30/200], LR: 0.00023730468750000005, W: 0.01, Avg Loss: 7.5868, Accuracy: 0.8540, F1 score: 0.5685, HS: 0.4149\n",
      "\n",
      "Train Trial [31/200], LR: 0.0002373, W: 0.01, Avg Loss: 0.3582, Accuracy: 0.9173, F1 score: 0.7583, HS: 0.6358\n",
      "Valid Trial [31/200], LR: 0.00023730468750000005, W: 0.01, Avg Loss: 6.8546, Accuracy: 0.8590, F1 score: 0.5903, HS: 0.4617\n",
      "\n",
      "Train Trial [32/200], LR: 0.0002373, W: 0.01, Avg Loss: 0.3233, Accuracy: 0.9335, F1 score: 0.7961, HS: 0.6847\n",
      "Valid Trial [32/200], LR: 0.00023730468750000005, W: 0.01, Avg Loss: 6.9377, Accuracy: 0.8629, F1 score: 0.5983, HS: 0.4541\n",
      "\n",
      "Train Trial [33/200], LR: 0.0002373, W: 0.01, Avg Loss: 0.2960, Accuracy: 0.9336, F1 score: 0.7962, HS: 0.6860\n",
      "Valid Trial [33/200], LR: 0.00023730468750000005, W: 0.01, Avg Loss: 8.1083, Accuracy: 0.8728, F1 score: 0.6103, HS: 0.4689\n",
      "\n",
      "Train Trial [34/200], LR: 0.0002373, W: 0.01, Avg Loss: 0.3154, Accuracy: 0.9345, F1 score: 0.7984, HS: 0.6852\n",
      "Valid Trial [34/200], LR: 0.00023730468750000005, W: 0.01, Avg Loss: 7.7628, Accuracy: 0.8634, F1 score: 0.5920, HS: 0.4583\n",
      "\n",
      "Train Trial [35/200], LR: 0.0002373, W: 0.01, Avg Loss: 0.3145, Accuracy: 0.9344, F1 score: 0.7978, HS: 0.6905\n",
      "Valid Trial [35/200], LR: 0.00023730468750000005, W: 0.01, Avg Loss: 7.7518, Accuracy: 0.8540, F1 score: 0.5723, HS: 0.4362\n",
      "\n"
     ]
    },
    {
     "name": "stdout",
     "output_type": "stream",
     "text": [
      "Train Trial [36/200], LR: 0.0002373, W: 0.01, Avg Loss: 0.2932, Accuracy: 0.9354, F1 score: 0.8009, HS: 0.6924\n",
      "Valid Trial [36/200], LR: 0.00017797851562500002, W: 0.01, Avg Loss: 7.4595, Accuracy: 0.8629, F1 score: 0.5863, HS: 0.4624\n",
      "\n",
      "Train Trial [37/200], LR: 0.000178, W: 0.01, Avg Loss: 0.3084, Accuracy: 0.9373, F1 score: 0.8050, HS: 0.6912\n",
      "Valid Trial [37/200], LR: 0.00017797851562500002, W: 0.01, Avg Loss: 7.8942, Accuracy: 0.8605, F1 score: 0.5807, HS: 0.4429\n",
      "\n",
      "Train Trial [38/200], LR: 0.000178, W: 0.01, Avg Loss: 0.2748, Accuracy: 0.9338, F1 score: 0.7971, HS: 0.6840\n",
      "Valid Trial [38/200], LR: 0.00017797851562500002, W: 0.01, Avg Loss: 9.6698, Accuracy: 0.8718, F1 score: 0.5950, HS: 0.4563\n",
      "\n",
      "Train Trial [39/200], LR: 0.000178, W: 0.01, Avg Loss: 0.2617, Accuracy: 0.9447, F1 score: 0.8242, HS: 0.7221\n",
      "Valid Trial [39/200], LR: 0.00017797851562500002, W: 0.01, Avg Loss: 8.4857, Accuracy: 0.8723, F1 score: 0.6082, HS: 0.4774\n",
      "\n",
      "Train Trial [40/200], LR: 0.000178, W: 0.01, Avg Loss: 0.2485, Accuracy: 0.9449, F1 score: 0.8253, HS: 0.7225\n",
      "Valid Trial [40/200], LR: 0.00017797851562500002, W: 0.01, Avg Loss: 9.2203, Accuracy: 0.8713, F1 score: 0.6027, HS: 0.4748\n",
      "\n",
      "Train Trial [41/200], LR: 0.000178, W: 0.01, Avg Loss: 0.2506, Accuracy: 0.9493, F1 score: 0.8367, HS: 0.7431\n",
      "Valid Trial [41/200], LR: 0.00017797851562500002, W: 0.01, Avg Loss: 9.4859, Accuracy: 0.8856, F1 score: 0.6270, HS: 0.4878\n",
      "\n",
      "Train Trial [42/200], LR: 0.000178, W: 0.01, Avg Loss: 0.2445, Accuracy: 0.9480, F1 score: 0.8334, HS: 0.7357\n",
      "Valid Trial [42/200], LR: 0.00013348388671875002, W: 0.01, Avg Loss: 9.9945, Accuracy: 0.8748, F1 score: 0.5981, HS: 0.4638\n",
      "\n",
      "Train Trial [43/200], LR: 0.0001335, W: 0.01, Avg Loss: 0.2332, Accuracy: 0.9486, F1 score: 0.8348, HS: 0.7363\n",
      "Valid Trial [43/200], LR: 0.00013348388671875002, W: 0.01, Avg Loss: 8.1838, Accuracy: 0.8757, F1 score: 0.6075, HS: 0.4691\n",
      "\n",
      "Train Trial [44/200], LR: 0.0001335, W: 0.01, Avg Loss: 0.1941, Accuracy: 0.9565, F1 score: 0.8567, HS: 0.7676\n",
      "Valid Trial [44/200], LR: 0.00013348388671875002, W: 0.01, Avg Loss: 9.8250, Accuracy: 0.8886, F1 score: 0.6283, HS: 0.4972\n",
      "\n",
      "Train Trial [45/200], LR: 0.0001335, W: 0.01, Avg Loss: 0.1811, Accuracy: 0.9631, F1 score: 0.8758, HS: 0.8034\n",
      "Valid Trial [45/200], LR: 0.00013348388671875002, W: 0.01, Avg Loss: 10.1166, Accuracy: 0.8851, F1 score: 0.6224, HS: 0.4936\n",
      "\n",
      "Train Trial [46/200], LR: 0.0001335, W: 0.01, Avg Loss: 0.1952, Accuracy: 0.9596, F1 score: 0.8654, HS: 0.7803\n",
      "Valid Trial [46/200], LR: 0.00013348388671875002, W: 0.01, Avg Loss: 10.1218, Accuracy: 0.8841, F1 score: 0.6166, HS: 0.4787\n",
      "\n",
      "Train Trial [47/200], LR: 0.0001335, W: 0.01, Avg Loss: 0.2043, Accuracy: 0.9597, F1 score: 0.8657, HS: 0.7830\n",
      "Valid Trial [47/200], LR: 0.00013348388671875002, W: 0.01, Avg Loss: 10.3955, Accuracy: 0.8777, F1 score: 0.6076, HS: 0.4750\n",
      "\n",
      "Train Trial [48/200], LR: 0.0001335, W: 0.01, Avg Loss: 0.2216, Accuracy: 0.9479, F1 score: 0.8334, HS: 0.7343\n",
      "Valid Trial [48/200], LR: 0.00010011291503906251, W: 0.01, Avg Loss: 9.1765, Accuracy: 0.8698, F1 score: 0.6012, HS: 0.4633\n",
      "\n",
      "Train Trial [49/200], LR: 0.0001001, W: 0.01, Avg Loss: 0.2114, Accuracy: 0.9499, F1 score: 0.8386, HS: 0.7478\n",
      "Valid Trial [49/200], LR: 0.00010011291503906251, W: 0.01, Avg Loss: 10.2551, Accuracy: 0.8866, F1 score: 0.6192, HS: 0.4810\n",
      "\n",
      "Train Trial [50/200], LR: 0.0001001, W: 0.01, Avg Loss: 0.1915, Accuracy: 0.9629, F1 score: 0.8752, HS: 0.7986\n",
      "Valid Trial [50/200], LR: 0.00010011291503906251, W: 0.01, Avg Loss: 8.9744, Accuracy: 0.8866, F1 score: 0.6254, HS: 0.4886\n",
      "\n",
      "Train Trial [51/200], LR: 0.0001001, W: 0.01, Avg Loss: 0.1739, Accuracy: 0.9617, F1 score: 0.8716, HS: 0.7873\n",
      "Valid Trial [51/200], LR: 0.00010011291503906251, W: 0.01, Avg Loss: 11.4025, Accuracy: 0.8861, F1 score: 0.6131, HS: 0.4831\n",
      "\n",
      "Train Trial [52/200], LR: 0.0001001, W: 0.01, Avg Loss: 0.1685, Accuracy: 0.9634, F1 score: 0.8766, HS: 0.7982\n",
      "Valid Trial [52/200], LR: 0.00010011291503906251, W: 0.01, Avg Loss: 10.2837, Accuracy: 0.8826, F1 score: 0.6086, HS: 0.4688\n",
      "\n",
      "Train Trial [53/200], LR: 0.0001001, W: 0.01, Avg Loss: 0.1595, Accuracy: 0.9635, F1 score: 0.8771, HS: 0.8012\n",
      "Valid Trial [53/200], LR: 0.00010011291503906251, W: 0.01, Avg Loss: 11.5460, Accuracy: 0.8851, F1 score: 0.6097, HS: 0.4762\n",
      "\n",
      "Train Trial [54/200], LR: 0.0001001, W: 0.01, Avg Loss: 0.1628, Accuracy: 0.9679, F1 score: 0.8903, HS: 0.8219\n",
      "Valid Trial [54/200], LR: 0.0001, W: 0.01, Avg Loss: 10.5173, Accuracy: 0.8891, F1 score: 0.6244, HS: 0.4936\n",
      "\n",
      "Out of patience!\n",
      "Best epoch: 44\n"
     ]
    }
   ],
   "source": [
    "# Training\n",
    "from torch.optim.lr_scheduler import StepLR\n",
    "train_losses = []\n",
    "validation_losses = []\n",
    "num_epochs = 200\n",
    "learning_rate = 0.001\n",
    "w = 0.01\n",
    "\n",
    "# Early Stopping\n",
    "patience = 10\n",
    "bad_epochs = 0\n",
    "best_score = 0.0\n",
    "best_weights = None\n",
    "\n",
    "alex_net = models.alexnet(pretrained=True)\n",
    "alex_net.classifier._modules['6'] = nn.Linear(4096, NUM_LABELS)\n",
    "alex_net.to(device)\n",
    "\n",
    "optimizer = torch.optim.Adam(alex_net.parameters(), lr=learning_rate, weight_decay=w)\n",
    "criterion = nn.BCEWithLogitsLoss(pos_weight=pos_weights)\n",
    "scheduler = torch.optim.lr_scheduler.ReduceLROnPlateau(optimizer, factor=0.75, patience=5, min_lr=0.0001)\n",
    "# scheduler = StepLR(optimizer, step_size=5, gamma=0.5)\n",
    "\n",
    "for epoch in range(num_epochs):\n",
    "  score_train = alex_train(epoch, num_epochs, train_losses, learning_rate, w)\n",
    "  score_valid = alex_valid(epoch, num_epochs, validation_losses, learning_rate, w)\n",
    "  print(\"\")\n",
    "\n",
    "  # Early Stopping\n",
    "  if score_valid > best_score:\n",
    "    bad_epochs = 0\n",
    "    best_epoch = epoch\n",
    "    best_score = score_valid\n",
    "    best_weights = alex_net.state_dict()\n",
    "  else:\n",
    "    bad_epochs += 1\n",
    "  \n",
    "  if bad_epochs == patience:\n",
    "    print(\"Out of patience!\")\n",
    "    print(f\"Best epoch: {best_epoch}\")\n",
    "    break\n",
    "\n",
    "if SAVE:\n",
    "    print(f\"Guardando mejor modelo en {model_path}\")\n",
    "    torch.save(best_weights, model_path)\n"
   ]
  },
  {
   "cell_type": "code",
   "execution_count": 22,
   "metadata": {
    "pycharm": {
     "name": "#%%\n"
    }
   },
   "outputs": [],
   "source": [
    "# alerta sonora para cuando haya terminado de entrenar\n",
    "import winsound\n",
    "import time\n",
    "for i in range(0, 2):\n",
    "    duration = 500\n",
    "    freq = 1500\n",
    "    winsound.Beep(freq, duration)\n",
    "    time.sleep(0.5)\n",
    "    i+=1\n",
    "winsound.Beep(freq, 2000)\n",
    "    "
   ]
  },
  {
   "cell_type": "code",
   "execution_count": 24,
   "metadata": {
    "pycharm": {
     "name": "#%%\n"
    },
    "scrolled": true
   },
   "outputs": [
    {
     "name": "stdout",
     "output_type": "stream",
     "text": [
      "CURRENT BATCH SIZE:  124\n",
      "Mostrando imagen 0 del batch 1\n"
     ]
    },
    {
     "name": "stderr",
     "output_type": "stream",
     "text": [
      "Clipping input data to the valid range for imshow with RGB data ([0..1] for floats or [0..255] for integers).\n"
     ]
    },
    {
     "data": {
      "image/png": "[encoded data removed]",
      "text/plain": [
       "<Figure size 432x288 with 1 Axes>"
      ]
     },
     "metadata": {
      "needs_background": "light"
     },
     "output_type": "display_data"
    },
    {
     "name": "stderr",
     "output_type": "stream",
     "text": [
      "Clipping input data to the valid range for imshow with RGB data ([0..1] for floats or [0..255] for integers).\n"
     ]
    },
    {
     "name": "stdout",
     "output_type": "stream",
     "text": [
      "Labels correctos:\n",
      "panel vertical cross-hatched dot lozenge chain \n",
      "Labels predichos:\n",
      "panel vertical solid dot lozenge chain \n",
      "\n",
      "\n",
      "Mostrando imagen 1 del batch 1\n"
     ]
    },
    {
     "data": {
      "image/png": "[encoded data removed]",
      "text/plain": [
       "<Figure size 432x288 with 1 Axes>"
      ]
     },
     "metadata": {
      "needs_background": "light"
     },
     "output_type": "display_data"
    },
    {
     "name": "stderr",
     "output_type": "stream",
     "text": [
      "Clipping input data to the valid range for imshow with RGB data ([0..1] for floats or [0..255] for integers).\n"
     ]
    },
    {
     "name": "stdout",
     "output_type": "stream",
     "text": [
      "Labels correctos:\n",
      "metopal dotted \n",
      "Labels predichos:\n",
      "metopal hatched cross-hatched \n",
      "\n",
      "\n",
      "Mostrando imagen 2 del batch 1\n"
     ]
    },
    {
     "data": {
      "image/png": "[encoded data removed]",
      "text/plain": [
       "<Figure size 432x288 with 1 Axes>"
      ]
     },
     "metadata": {
      "needs_background": "light"
     },
     "output_type": "display_data"
    },
    {
     "name": "stderr",
     "output_type": "stream",
     "text": [
      "Clipping input data to the valid range for imshow with RGB data ([0..1] for floats or [0..255] for integers).\n"
     ]
    },
    {
     "name": "stdout",
     "output_type": "stream",
     "text": [
      "Labels correctos:\n",
      "horizontal panel dot \n",
      "Labels predichos:\n",
      "horizontal panel bar hatched double hook outline \n",
      "\n",
      "\n",
      "Mostrando imagen 3 del batch 1\n"
     ]
    },
    {
     "data": {
      "image/png": "[encoded data removed]",
      "text/plain": [
       "<Figure size 432x288 with 1 Axes>"
      ]
     },
     "metadata": {
      "needs_background": "light"
     },
     "output_type": "display_data"
    },
    {
     "name": "stderr",
     "output_type": "stream",
     "text": [
      "Clipping input data to the valid range for imshow with RGB data ([0..1] for floats or [0..255] for integers).\n"
     ]
    },
    {
     "name": "stdout",
     "output_type": "stream",
     "text": [
      "Labels correctos:\n",
      "enclosing line ornament dot circle floor \n",
      "Labels predichos:\n",
      "enclosing ornament circle floor \n",
      "\n",
      "\n",
      "Mostrando imagen 4 del batch 1\n"
     ]
    },
    {
     "data": {
      "image/png": "[encoded data removed]",
      "text/plain": [
       "<Figure size 432x288 with 1 Axes>"
      ]
     },
     "metadata": {
      "needs_background": "light"
     },
     "output_type": "display_data"
    },
    {
     "name": "stdout",
     "output_type": "stream",
     "text": [
      "Labels correctos:\n",
      "filling ornament solid \n",
      "Labels predichos:\n",
      "filling ornament dotted swastika \n",
      "\n",
      "\n",
      "CURRENT BATCH SIZE:  124\n",
      "Mostrando imagen 0 del batch 2\n"
     ]
    },
    {
     "name": "stderr",
     "output_type": "stream",
     "text": [
      "Clipping input data to the valid range for imshow with RGB data ([0..1] for floats or [0..255] for integers).\n"
     ]
    },
    {
     "data": {
      "image/png": "[encoded data removed]",
      "text/plain": [
       "<Figure size 432x288 with 1 Axes>"
      ]
     },
     "metadata": {
      "needs_background": "light"
     },
     "output_type": "display_data"
    },
    {
     "name": "stderr",
     "output_type": "stream",
     "text": [
      "Clipping input data to the valid range for imshow with RGB data ([0..1] for floats or [0..255] for integers).\n"
     ]
    },
    {
     "name": "stdout",
     "output_type": "stream",
     "text": [
      "Labels correctos:\n",
      "dot circle \n",
      "Labels predichos:\n",
      "filling ornament dotted \n",
      "\n",
      "\n",
      "Mostrando imagen 1 del batch 2\n"
     ]
    },
    {
     "data": {
      "image/png": "[encoded data removed]",
      "text/plain": [
       "<Figure size 432x288 with 1 Axes>"
      ]
     },
     "metadata": {
      "needs_background": "light"
     },
     "output_type": "display_data"
    },
    {
     "name": "stdout",
     "output_type": "stream",
     "text": [
      "Labels correctos:\n",
      "horizontal panel vertical bar filling ornament \n",
      "Labels predichos:\n",
      "horizontal panel vertical bar filling ornament \n",
      "\n",
      "\n",
      "Mostrando imagen 2 del batch 2\n"
     ]
    },
    {
     "name": "stderr",
     "output_type": "stream",
     "text": [
      "Clipping input data to the valid range for imshow with RGB data ([0..1] for floats or [0..255] for integers).\n"
     ]
    },
    {
     "data": {
      "image/png": "[encoded data removed]",
      "text/plain": [
       "<Figure size 432x288 with 1 Axes>"
      ]
     },
     "metadata": {
      "needs_background": "light"
     },
     "output_type": "display_data"
    },
    {
     "name": "stdout",
     "output_type": "stream",
     "text": [
      "Labels correctos:\n",
      "bar filling ornament \n",
      "Labels predichos:\n",
      "panel vertical filling ornament dotted lozenge \n",
      "\n",
      "\n",
      "Mostrando imagen 3 del batch 2\n"
     ]
    },
    {
     "name": "stderr",
     "output_type": "stream",
     "text": [
      "Clipping input data to the valid range for imshow with RGB data ([0..1] for floats or [0..255] for integers).\n"
     ]
    },
    {
     "data": {
      "image/png": "[encoded data removed]",
      "text/plain": [
       "<Figure size 432x288 with 1 Axes>"
      ]
     },
     "metadata": {
      "needs_background": "light"
     },
     "output_type": "display_data"
    },
    {
     "name": "stderr",
     "output_type": "stream",
     "text": [
      "Clipping input data to the valid range for imshow with RGB data ([0..1] for floats or [0..255] for integers).\n"
     ]
    },
    {
     "name": "stdout",
     "output_type": "stream",
     "text": [
      "Labels correctos:\n",
      "panel vertical line \n",
      "Labels predichos:\n",
      "panel vertical dotted lozenge \n",
      "\n",
      "\n",
      "Mostrando imagen 4 del batch 2\n"
     ]
    },
    {
     "data": {
      "image/png": "[encoded data removed]",
      "text/plain": [
       "<Figure size 432x288 with 1 Axes>"
      ]
     },
     "metadata": {
      "needs_background": "light"
     },
     "output_type": "display_data"
    },
    {
     "name": "stdout",
     "output_type": "stream",
     "text": [
      "Labels correctos:\n",
      "enclosing ornament triangle lozenge \n",
      "Labels predichos:\n",
      "horizontal enclosing ornament triangle double outline lozenge \n",
      "\n",
      "\n",
      "Test Trial [1/1], LR: 0.0001, W: 0.001, Avg Loss: 53.8855, Accuracy: 0.8834, F1 score: 0.6162, HS: 0.4711\n"
     ]
    }
   ],
   "source": [
    "# Testing\n",
    "test_losses = []\n",
    "test_pred = []\n",
    "learning_rate = 0.0001\n",
    "w = 0.001\n",
    "\n",
    "# Reset Model\n",
    "alex_net = models.alexnet(pretrained=True)\n",
    "alex_net.classifier._modules['6'] = nn.Linear(4096, NUM_LABELS)\n",
    "alex_net.load_state_dict(torch.load(model_path))\n",
    "alex_net.to(device)\n",
    "\n",
    "optimizer = torch.optim.Adam(alex_net.parameters(), lr=learning_rate, weight_decay=w)\n",
    "criterion = nn.BCEWithLogitsLoss(pos_weight=pos_weights)\n",
    "alex_test(1, 1, test_pred, test_losses, learning_rate, w, show_images = 5)\n",
    "test_pred_df = pd.DataFrame(test_pred)"
   ]
  },
  {
   "cell_type": "code",
   "execution_count": 25,
   "metadata": {
    "pycharm": {
     "name": "#%%\n"
    },
    "scrolled": true
   },
   "outputs": [
    {
     "name": "stdout",
     "output_type": "stream",
     "text": [
      "(194, 26)\n",
      "(194, 26)\n",
      "HS final: 0.4735558828342333\n"
     ]
    }
   ],
   "source": [
    "preds = test_pred[0][3].cpu().detach().numpy()\n",
    "for i in range(1, len(test_pred)):\n",
    "  pbi = test_pred[i][3].cpu().detach().numpy()\n",
    "  preds = np.concatenate((preds, pbi), axis=0)\n",
    "if SAVE:\n",
    "    save_df = pd.DataFrame(preds)\n",
    "    save_df.to_csv(os.path.join(output_dir, 'predictions.csv'))\n",
    "    print(f\"Predicciones guardadas en {os.path.join(output_dir, 'predictions.csv')}\")\n",
    "    preds = pd.read_csv(os.path.join(output_dir, 'predictions.csv'), index_col=0)\n",
    "    preds = preds.values\n",
    "\n",
    "test = filter_dfs(labels_test, top_labels)\n",
    "\n",
    "print(preds.shape)\n",
    "print(test.shape)\n",
    "hs_final = hamming_score(preds, test.values)\n",
    "#f1_final = f1_score(preds, testval.values, average='macro')\n",
    "\n",
    "print(f\"HS final: {hs_final}\")"
   ]
  },
  {
   "cell_type": "code",
   "execution_count": 188,
   "metadata": {
    "pycharm": {
     "name": "#%%\n"
    },
    "scrolled": true
   },
   "outputs": [
    {
     "name": "stdout",
     "output_type": "stream",
     "text": [
      "{'BATCH_SIZE': 124, 'optimizer': 'Adam', 'scheduler': 'ReduceLROnPlateau', 'criterion': 'BCEWithLogitsLoss', 'epochs': 200, 'best_epoch': 57, 'data_flags': 'blur_mtnblur_elastic1', 'use_pos_weights': True, 'pos_weights_factor': 1, 'NUM_LABELS': 26, 'use_testval': True, 'TH_TRAIN': 0.5, 'TH_VAL': 0.5, 'TH_TEST': 0.5, 'HS_FINAL': 0.47361280694614033, 'patience': 10}\n"
     ]
    }
   ],
   "source": [
    "metadata = {\n",
    "    'BATCH_SIZE': BATCH_SIZE,\n",
    "    'optimizer': (type (optimizer).__name__),\n",
    "    'scheduler': (type (scheduler).__name__),\n",
    "    'criterion': (type (criterion).__name__),\n",
    "    'epochs': num_epochs,\n",
    "    'best_epoch': best_epoch,\n",
    "    'data_flags': data_flags,\n",
    "    'use_pos_weights': use_pos_weights,\n",
    "    'pos_weights_factor': pos_weights_factor,\n",
    "    'NUM_LABELS': NUM_LABELS,\n",
    "    'TH_TRAIN': TH_TRAIN,\n",
    "    'TH_VAL': TH_VAL,\n",
    "    'TH_TEST': TH_TEST,\n",
    "    'HS_FINAL': hs_final,\n",
    "    'patience': patience\n",
    "}\n",
    "\n",
    "if SAVE:\n",
    "    with open(os.path.join(output_dir, 'metadata.pickle'), 'wb') as f:\n",
    "        pickle.dump(metadata, f)\n",
    "\n",
    "    with open(os.path.join(output_dir, 'metadata.pickle'), 'rb') as f:\n",
    "        metadata = pickle.load(f)\n",
    "        print(metadata)"
   ]
  },
  {
   "cell_type": "code",
   "execution_count": null,
   "metadata": {
    "pycharm": {
     "name": "#%%\n"
    }
   },
   "outputs": [],
   "source": []
  }
 ],
 "metadata": {
  "accelerator": "GPU",
  "colab": {
   "collapsed_sections": [],
   "name": "CNN Multilabeling through AlexNet",
   "provenance": []
  },
  "gpuClass": "standard",
  "kernelspec": {
   "display_name": "Python 3 (ipykernel)",
   "language": "python",
   "name": "python3"
  },
  "language_info": {
   "codemirror_mode": {
    "name": "ipython",
    "version": 3
   },
   "file_extension": ".py",
   "mimetype": "text/x-python",
   "name": "python",
   "nbconvert_exporter": "python",
   "pygments_lexer": "ipython3",
   "version": "3.10.4"
  }
 },
 "nbformat": 4,
 "nbformat_minor": 1
}

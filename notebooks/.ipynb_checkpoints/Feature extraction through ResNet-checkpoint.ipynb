{
 "cells": [
  {
   "cell_type": "markdown",
   "metadata": {
    "id": "GpIfCtDGJ5q-"
   },
   "source": [
    "# Kunisch Features from ResNet architectures \n",
    "## Seminario de Tesis I, Primavera 2022 \n",
    "### MDS Program. University of Chile.\n",
    "#### Supervisor: Prof. Benjamín Bustos, Prof. Iván Sipirán\n",
    "#### Author: Iván Sipirán, modified by Matías Vergara\n"
   ]
  },
  {
   "cell_type": "markdown",
   "metadata": {
    "id": "p2Z2do8XKiAQ"
   },
   "source": [
    "## Imports"
   ]
  },
  {
   "cell_type": "code",
   "execution_count": 3,
   "metadata": {
    "id": "IgrQgam9KgnN"
   },
   "outputs": [
    {
     "ename": "ModuleNotFoundError",
     "evalue": "No module named 'torch'",
     "output_type": "error",
     "traceback": [
      "\u001b[1;31m---------------------------------------------------------------------------\u001b[0m",
      "\u001b[1;31mModuleNotFoundError\u001b[0m                       Traceback (most recent call last)",
      "Input \u001b[1;32mIn [3]\u001b[0m, in \u001b[0;36m<cell line: 1>\u001b[1;34m()\u001b[0m\n\u001b[1;32m----> 1\u001b[0m \u001b[38;5;28;01mimport\u001b[39;00m \u001b[38;5;21;01mtorch\u001b[39;00m\n\u001b[0;32m      2\u001b[0m \u001b[38;5;28;01mimport\u001b[39;00m \u001b[38;5;21;01mtorch\u001b[39;00m\u001b[38;5;21;01m.\u001b[39;00m\u001b[38;5;21;01mnn\u001b[39;00m \u001b[38;5;28;01mas\u001b[39;00m \u001b[38;5;21;01mnn\u001b[39;00m\n\u001b[0;32m      3\u001b[0m \u001b[38;5;28;01mimport\u001b[39;00m \u001b[38;5;21;01mtorch\u001b[39;00m\u001b[38;5;21;01m.\u001b[39;00m\u001b[38;5;21;01mnn\u001b[39;00m\u001b[38;5;21;01m.\u001b[39;00m\u001b[38;5;21;01mfunctional\u001b[39;00m \u001b[38;5;28;01mas\u001b[39;00m \u001b[38;5;21;01mF\u001b[39;00m\n",
      "\u001b[1;31mModuleNotFoundError\u001b[0m: No module named 'torch'"
     ]
    }
   ],
   "source": [
    "import torch\n",
    "import torch.nn as nn\n",
    "import torch.nn.functional as F\n",
    "import torchvision\n",
    "import numpy as np\n",
    "import matplotlib.pyplot as plt\n",
    "from torchvision import datasets, models, transforms\n",
    "import time\n",
    "import os\n",
    "import copy\n",
    "import pandas as pd\n",
    "import math\n",
    "import random\n",
    "import shutil\n",
    "\n",
    "from torch.utils.data import Dataset\n",
    "from PIL import Image\n",
    "\n",
    "from torchvision.datasets import ImageFolder\n",
    "from torch.utils.data import DataLoader\n",
    "import numpy as np, scipy.io\n",
    "import argparse\n",
    "import json\n"
   ]
  },
  {
   "cell_type": "markdown",
   "metadata": {
    "id": "CG0IIxH2KuS8"
   },
   "source": [
    "## Mounting Google Drive"
   ]
  },
  {
   "cell_type": "code",
   "execution_count": 6,
   "metadata": {
    "colab": {
     "base_uri": "https://localhost:8080/"
    },
    "executionInfo": {
     "elapsed": 168981,
     "status": "ok",
     "timestamp": 1650471358246,
     "user": {
      "displayName": "MATÍAS JESÚS VERGARA",
      "userId": "08352659265679171119"
     },
     "user_tz": 240
    },
    "id": "J-PIHdyQKwWH",
    "outputId": "48f21098-8fa9-41b2-d42a-aa1ac8961ed6"
   },
   "outputs": [],
   "source": [
    "try:\n",
    "    from google.colab import drive\n",
    "    drive.mount('/content/drive')\n",
    "    folder_path = 'drive/MyDrive/TesisMV/'\n",
    "except:\n",
    "    folder_path = './'"
   ]
  },
  {
   "cell_type": "code",
   "execution_count": 7,
   "metadata": {
    "colab": {
     "base_uri": "https://localhost:8080/"
    },
    "executionInfo": {
     "elapsed": 871,
     "status": "ok",
     "timestamp": 1650471359103,
     "user": {
      "displayName": "MATÍAS JESÚS VERGARA",
      "userId": "08352659265679171119"
     },
     "user_tz": 240
    },
    "id": "To1i5vQ9KyLh",
    "outputId": "13770e9d-b593-4e88-c7c8-6dc3e1736798",
    "scrolled": true
   },
   "outputs": [
    {
     "data": {
      "text/plain": [
       "['.ipynb_checkpoints',\n",
       " 'Feature extraction through ResNet.ipynb',\n",
       " 'Full pipeline.ipynb',\n",
       " 'Labels normalization.ipynb',\n",
       " 'ResNet retraining.ipynb',\n",
       " 'Split and augmentation.ipynb',\n",
       " 'Testing multilabel algorithms.ipynb']"
      ]
     },
     "execution_count": 7,
     "metadata": {},
     "output_type": "execute_result"
    }
   ],
   "source": [
    "os.listdir(folder_path)"
   ]
  },
  {
   "cell_type": "markdown",
   "metadata": {
    "id": "N0o5N582LCJI"
   },
   "source": [
    "## Dataset loader"
   ]
  },
  {
   "cell_type": "code",
   "execution_count": null,
   "metadata": {
    "id": "Vg1C_6mGLET7"
   },
   "outputs": [],
   "source": [
    "class PatternDataset(Dataset):\n",
    "    def __init__(self, root_dir, transform=None, build_classification=False, name_cla='output.cla'):\n",
    "        self.root_dir = root_dir\n",
    "        self.transform = transform\n",
    "        self.namefiles = []\n",
    "\n",
    "        self.namefiles = sorted(os.listdir(self.root_dir))\n",
    "        print(f'Files: {len(self.namefiles)}')\n",
    "        \n",
    "    \n",
    "    def __len__(self):\n",
    "        return len(self.namefiles)\n",
    "\n",
    "    def __getitem__(self, index):\n",
    "        if torch.is_tensor(index):\n",
    "            index = index.tolist()\n",
    "        \n",
    "        img_name = os.path.join(self.root_dir, self.namefiles[index])\n",
    "        image = Image.open(img_name).convert(\"RGB\")\n",
    "        \n",
    "        if self.transform:\n",
    "            image = self.transform(image)\n",
    "            \n",
    "        return self.namefiles[index], image"
   ]
  },
  {
   "cell_type": "markdown",
   "metadata": {
    "id": "UtpuROg8KkAX"
   },
   "source": [
    "## Preparation"
   ]
  },
  {
   "cell_type": "code",
   "execution_count": null,
   "metadata": {
    "id": "giJIZA9AKc9y"
   },
   "outputs": [],
   "source": [
    "random.seed(30)\n",
    "pathOriginals = folder_path + \"patterns/originals\"\n",
    "pathSintetics = folder_path + \"patterns/sintetics\"\n",
    "\n",
    "train_df = pd.read_json(folder_path + \"labels/augmented_train_df.json\", orient='index')\n",
    "val_df = pd.read_json(folder_path + \"labels/val_df.json\", orient='index')\n",
    "test_df = pd.read_json(folder_path + \"labels/test_df.json\", orient='index')\n",
    "train_pts = train_df.index.values\n",
    "val_pts = val_df.index.values\n",
    "test_pts = test_df.index.values\n",
    "\n",
    "#Copiar archivos de train\n",
    "for elem in train_pts:\n",
    "  if len(elem.split(\"_\")) > 1: # si los patterns tienen apellido, buscar en sintetics\n",
    "    shutil.copy(os.path.join(pathSintetics,elem,elem+'.png'), \n",
    "                os.path.join(folder_path + \"temp/train\"))\n",
    "  else:\n",
    "    shutil.copy(os.path.join(pathOriginals,elem,elem+'.png'), \n",
    "          os.path.join(folder_path + \"temp/train\"))\n",
    "\n",
    "\n",
    "#Copiar archivos de val\n",
    "for elem in val_pts:\n",
    "  shutil.copy(os.path.join(pathOriginals,elem,elem+'.png'), \n",
    "        os.path.join(folder_path + \"temp/val\"))\n",
    "  \n",
    "#Copiar archivos de test\n",
    "for elem in test_pts:\n",
    "  shutil.copy(os.path.join(pathOriginals,elem,elem+'.png'), \n",
    "        os.path.join(folder_path + \"temp/test\"))\n"
   ]
  },
  {
   "cell_type": "markdown",
   "metadata": {
    "id": "Mvf-0bRuKn64"
   },
   "source": [
    "## Extraction"
   ]
  },
  {
   "cell_type": "code",
   "execution_count": null,
   "metadata": {
    "colab": {
     "base_uri": "https://localhost:8080/",
     "height": 136,
     "referenced_widgets": [
      "1a0ed400445a48338cff564bca591284",
      "0e71b54290f847fab071de377e23c1a8",
      "a188994cbb5d4f969e744d80e5af4412",
      "0fe180ddcecc48a0bb7362e52d2a6624",
      "5bc8b4dd7b4e4a65a0d136a484f245a9",
      "d73d1f809b744c92bc67faa4b746a387",
      "54320e55151248dea3eb9da3b77113ef",
      "dbeb81af857d46349a7341fafa5ff1d3",
      "122480965ce24f6cb394b7e684ee5618",
      "cf95fa30f51242c19c9b1b1edf366290",
      "73d9d9d424ad4787900fc8b70d07dff3"
     ]
    },
    "executionInfo": {
     "elapsed": 130198,
     "status": "ok",
     "timestamp": 1650473584426,
     "user": {
      "displayName": "MATÍAS JESÚS VERGARA",
      "userId": "08352659265679171119"
     },
     "user_tz": 240
    },
    "id": "tyF8s-OOKcZt",
    "outputId": "3618ce96-ae6e-499a-dc5f-a4143d364c49"
   },
   "outputs": [
    {
     "name": "stdout",
     "output_type": "stream",
     "text": [
      "Files: 3669\n",
      "Files: 78\n",
      "Files: 156\n"
     ]
    },
    {
     "name": "stderr",
     "output_type": "stream",
     "text": [
      "Downloading: \"https://download.pytorch.org/models/resnet18-f37072fd.pth\" to /root/.cache/torch/hub/checkpoints/resnet18-f37072fd.pth\n"
     ]
    },
    {
     "data": {
      "application/vnd.jupyter.widget-view+json": {
       "model_id": "1a0ed400445a48338cff564bca591284",
       "version_major": 2,
       "version_minor": 0
      },
      "text/plain": [
       "  0%|          | 0.00/44.7M [00:00<?, ?B/s]"
      ]
     },
     "metadata": {},
     "output_type": "display_data"
    },
    {
     "name": "stdout",
     "output_type": "stream",
     "text": [
      "3669\n"
     ]
    }
   ],
   "source": [
    "def imshow(inp, title = None):\n",
    "    inp = inp.numpy().transpose((1, 2, 0))\n",
    "    mean = np.array([0.485, 0.456, 0.406])\n",
    "    std = np.array([0.229, 0.224, 0.225])\n",
    "    inp = std * inp + mean\n",
    "    inp = np.clip(inp, 0, 1)\n",
    "\n",
    "    plt.imshow(inp)\n",
    "    plt.show()\n",
    "\n",
    "def get_vector(model,layer, dim_embedding, x):\n",
    "\n",
    "  my_embedding = torch.zeros(dim_embedding)\n",
    "\n",
    "  def copy_data(m,i,o):\n",
    "    my_embedding.copy_(o.data.squeeze())\n",
    "\n",
    "  h = layer.register_forward_hook(copy_data)\n",
    "  model(x)\n",
    "  h.remove()\n",
    "\n",
    "  return my_embedding\n",
    "\n",
    "data_path = folder_path + \"temp\"\n",
    "model_path = folder_path + \"/models/resnet18_8158.pth\"\n",
    "output_train = folder_path + \"/features/augmented_train_df.json\"\n",
    "output_val = folder_path + \"/features/val_df.json\"\n",
    "output_test = folder_path + \"/features/test_df.json\"\n",
    "\n",
    "device = ('cuda' if torch.cuda.is_available() else 'cpu')\n",
    "\n",
    "my_transform = transforms.Compose([ transforms.Resize(224),\n",
    "                                    #transforms.CenterCrop(224),\n",
    "                     transforms.ToTensor(),\n",
    "                     transforms.Normalize(mean=[0.485, 0.456, 0.406],std = [0.229, 0.224, 0.225])\n",
    "                    ])\n",
    "\n",
    "dataTrain = PatternDataset(root_dir=os.path.join(data_path, 'train'), transform=my_transform)\n",
    "dataVal = PatternDataset(root_dir=os.path.join(data_path, 'val'), transform=my_transform)\n",
    "dataTest = PatternDataset(root_dir=os.path.join(data_path, 'test'), transform=my_transform)\n",
    "\n",
    "loaderTrain = DataLoader(dataTrain)\n",
    "loaderVal = DataLoader(dataVal)\n",
    "loaderTest = DataLoader(dataTest)\n",
    "\n",
    "\n",
    "model = models.resnet18(pretrained = True)\n",
    "dim = model.fc.in_features\n",
    "model.fc = nn.Linear(dim, 6)\n",
    "\n",
    "model = model.to(device)\n",
    "\n",
    "try:\n",
    "    model.load_state_dict(torch.load(model_path))\n",
    "except RuntimeError as e:\n",
    "    print('Ignoring \"' + str(e) + '\"')\n",
    "\n",
    "layer = model._modules.get('avgpool')\n",
    "\n",
    "model.eval()\n",
    "\n",
    "#features = []\n",
    "features_train = {}\n",
    "features_val = {}\n",
    "features_test = {}\n",
    "\n",
    "for name, img in loaderTrain:\n",
    "  feat = get_vector(model, layer, dim, img.to(device))\n",
    "  namefile = name[0]\n",
    "  code, rest = namefile.split('.')\n",
    "  features_train[code] = feat.numpy().tolist()\n",
    "  #features.append(feat.numpy())\n",
    "\n",
    "for name, img in loaderVal:\n",
    "  feat = get_vector(model, layer, dim, img.to(device))\n",
    "  namefile = name[0]\n",
    "  code, rest = namefile.split('.')\n",
    "  features_val[code] = feat.numpy().tolist()\n",
    "  #features.append(feat.numpy())\n",
    "\n",
    "for name, img in loaderTest:\n",
    "  feat = get_vector(model, layer, dim, img.to(device))\n",
    "  namefile = name[0]\n",
    "  code, rest = namefile.split('.')\n",
    "  features_test[code] = feat.numpy().tolist()\n",
    "#features = np.vstack(features)\n",
    "#print(features.shape)\n",
    "\n",
    "#with open(opt.output, 'wb') as f:\n",
    "#  np.save(f, features)\n",
    "print(len(features_train.keys()))\n",
    "print(len(features_val.keys()))\n",
    "print(len(features_test.keys()))"
   ]
  },
  {
   "cell_type": "code",
   "execution_count": null,
   "metadata": {
    "id": "3TMs_cCnabxG"
   },
   "outputs": [],
   "source": [
    "features_train_df = pd.DataFrame.from_dict(features_train, orient='index')\n",
    "# features_val_df = pd.DataFrame.from_dict(features_val, orient='index')\n",
    "# features_test_df = pd.DataFrame.from_dict(features_test, orient='index')\n",
    "\n",
    "features_train_df.to_json(output_train, orient='index')\n",
    "# features_val_df.to_json(output_val, orient='index')\n",
    "# features_test_df.to_json(output_test, orient='index')"
   ]
  },
  {
   "cell_type": "code",
   "execution_count": null,
   "metadata": {
    "id": "TDToS58M6AZt"
   },
   "outputs": [],
   "source": [
    "features_train_df.to_json(\"augmented_train_df.json\", orient='index')"
   ]
  }
 ],
 "metadata": {
  "accelerator": "GPU",
  "colab": {
   "collapsed_sections": [],
   "name": "Feature extraction through ResNet.ipynb",
   "provenance": []
  },
  "kernelspec": {
   "display_name": "Python 3 (ipykernel)",
   "language": "python",
   "name": "python3"
  },
  "language_info": {
   "codemirror_mode": {
    "name": "ipython",
    "version": 3
   },
   "file_extension": ".py",
   "mimetype": "text/x-python",
   "name": "python",
   "nbconvert_exporter": "python",
   "pygments_lexer": "ipython3",
   "version": "3.10.0"
  },
  "widgets": {
   "application/vnd.jupyter.widget-state+json": {
    "0e71b54290f847fab071de377e23c1a8": {
     "model_module": "@jupyter-widgets/controls",
     "model_module_version": "1.5.0",
     "model_name": "HTMLModel",
     "state": {
      "_dom_classes": [],
      "_model_module": "@jupyter-widgets/controls",
      "_model_module_version": "1.5.0",
      "_model_name": "HTMLModel",
      "_view_count": null,
      "_view_module": "@jupyter-widgets/controls",
      "_view_module_version": "1.5.0",
      "_view_name": "HTMLView",
      "description": "",
      "description_tooltip": null,
      "layout": "IPY_MODEL_d73d1f809b744c92bc67faa4b746a387",
      "placeholder": "​",
      "style": "IPY_MODEL_54320e55151248dea3eb9da3b77113ef",
      "value": "100%"
     }
    },
    "0fe180ddcecc48a0bb7362e52d2a6624": {
     "model_module": "@jupyter-widgets/controls",
     "model_module_version": "1.5.0",
     "model_name": "HTMLModel",
     "state": {
      "_dom_classes": [],
      "_model_module": "@jupyter-widgets/controls",
      "_model_module_version": "1.5.0",
      "_model_name": "HTMLModel",
      "_view_count": null,
      "_view_module": "@jupyter-widgets/controls",
      "_view_module_version": "1.5.0",
      "_view_name": "HTMLView",
      "description": "",
      "description_tooltip": null,
      "layout": "IPY_MODEL_cf95fa30f51242c19c9b1b1edf366290",
      "placeholder": "​",
      "style": "IPY_MODEL_73d9d9d424ad4787900fc8b70d07dff3",
      "value": " 44.7M/44.7M [00:00&lt;00:00, 116MB/s]"
     }
    },
    "122480965ce24f6cb394b7e684ee5618": {
     "model_module": "@jupyter-widgets/controls",
     "model_module_version": "1.5.0",
     "model_name": "ProgressStyleModel",
     "state": {
      "_model_module": "@jupyter-widgets/controls",
      "_model_module_version": "1.5.0",
      "_model_name": "ProgressStyleModel",
      "_view_count": null,
      "_view_module": "@jupyter-widgets/base",
      "_view_module_version": "1.2.0",
      "_view_name": "StyleView",
      "bar_color": null,
      "description_width": ""
     }
    },
    "1a0ed400445a48338cff564bca591284": {
     "model_module": "@jupyter-widgets/controls",
     "model_module_version": "1.5.0",
     "model_name": "HBoxModel",
     "state": {
      "_dom_classes": [],
      "_model_module": "@jupyter-widgets/controls",
      "_model_module_version": "1.5.0",
      "_model_name": "HBoxModel",
      "_view_count": null,
      "_view_module": "@jupyter-widgets/controls",
      "_view_module_version": "1.5.0",
      "_view_name": "HBoxView",
      "box_style": "",
      "children": [
       "IPY_MODEL_0e71b54290f847fab071de377e23c1a8",
       "IPY_MODEL_a188994cbb5d4f969e744d80e5af4412",
       "IPY_MODEL_0fe180ddcecc48a0bb7362e52d2a6624"
      ],
      "layout": "IPY_MODEL_5bc8b4dd7b4e4a65a0d136a484f245a9"
     }
    },
    "54320e55151248dea3eb9da3b77113ef": {
     "model_module": "@jupyter-widgets/controls",
     "model_module_version": "1.5.0",
     "model_name": "DescriptionStyleModel",
     "state": {
      "_model_module": "@jupyter-widgets/controls",
      "_model_module_version": "1.5.0",
      "_model_name": "DescriptionStyleModel",
      "_view_count": null,
      "_view_module": "@jupyter-widgets/base",
      "_view_module_version": "1.2.0",
      "_view_name": "StyleView",
      "description_width": ""
     }
    },
    "5bc8b4dd7b4e4a65a0d136a484f245a9": {
     "model_module": "@jupyter-widgets/base",
     "model_module_version": "1.2.0",
     "model_name": "LayoutModel",
     "state": {
      "_model_module": "@jupyter-widgets/base",
      "_model_module_version": "1.2.0",
      "_model_name": "LayoutModel",
      "_view_count": null,
      "_view_module": "@jupyter-widgets/base",
      "_view_module_version": "1.2.0",
      "_view_name": "LayoutView",
      "align_content": null,
      "align_items": null,
      "align_self": null,
      "border": null,
      "bottom": null,
      "display": null,
      "flex": null,
      "flex_flow": null,
      "grid_area": null,
      "grid_auto_columns": null,
      "grid_auto_flow": null,
      "grid_auto_rows": null,
      "grid_column": null,
      "grid_gap": null,
      "grid_row": null,
      "grid_template_areas": null,
      "grid_template_columns": null,
      "grid_template_rows": null,
      "height": null,
      "justify_content": null,
      "justify_items": null,
      "left": null,
      "margin": null,
      "max_height": null,
      "max_width": null,
      "min_height": null,
      "min_width": null,
      "object_fit": null,
      "object_position": null,
      "order": null,
      "overflow": null,
      "overflow_x": null,
      "overflow_y": null,
      "padding": null,
      "right": null,
      "top": null,
      "visibility": null,
      "width": null
     }
    },
    "73d9d9d424ad4787900fc8b70d07dff3": {
     "model_module": "@jupyter-widgets/controls",
     "model_module_version": "1.5.0",
     "model_name": "DescriptionStyleModel",
     "state": {
      "_model_module": "@jupyter-widgets/controls",
      "_model_module_version": "1.5.0",
      "_model_name": "DescriptionStyleModel",
      "_view_count": null,
      "_view_module": "@jupyter-widgets/base",
      "_view_module_version": "1.2.0",
      "_view_name": "StyleView",
      "description_width": ""
     }
    },
    "a188994cbb5d4f969e744d80e5af4412": {
     "model_module": "@jupyter-widgets/controls",
     "model_module_version": "1.5.0",
     "model_name": "FloatProgressModel",
     "state": {
      "_dom_classes": [],
      "_model_module": "@jupyter-widgets/controls",
      "_model_module_version": "1.5.0",
      "_model_name": "FloatProgressModel",
      "_view_count": null,
      "_view_module": "@jupyter-widgets/controls",
      "_view_module_version": "1.5.0",
      "_view_name": "ProgressView",
      "bar_style": "success",
      "description": "",
      "description_tooltip": null,
      "layout": "IPY_MODEL_dbeb81af857d46349a7341fafa5ff1d3",
      "max": 46830571,
      "min": 0,
      "orientation": "horizontal",
      "style": "IPY_MODEL_122480965ce24f6cb394b7e684ee5618",
      "value": 46830571
     }
    },
    "cf95fa30f51242c19c9b1b1edf366290": {
     "model_module": "@jupyter-widgets/base",
     "model_module_version": "1.2.0",
     "model_name": "LayoutModel",
     "state": {
      "_model_module": "@jupyter-widgets/base",
      "_model_module_version": "1.2.0",
      "_model_name": "LayoutModel",
      "_view_count": null,
      "_view_module": "@jupyter-widgets/base",
      "_view_module_version": "1.2.0",
      "_view_name": "LayoutView",
      "align_content": null,
      "align_items": null,
      "align_self": null,
      "border": null,
      "bottom": null,
      "display": null,
      "flex": null,
      "flex_flow": null,
      "grid_area": null,
      "grid_auto_columns": null,
      "grid_auto_flow": null,
      "grid_auto_rows": null,
      "grid_column": null,
      "grid_gap": null,
      "grid_row": null,
      "grid_template_areas": null,
      "grid_template_columns": null,
      "grid_template_rows": null,
      "height": null,
      "justify_content": null,
      "justify_items": null,
      "left": null,
      "margin": null,
      "max_height": null,
      "max_width": null,
      "min_height": null,
      "min_width": null,
      "object_fit": null,
      "object_position": null,
      "order": null,
      "overflow": null,
      "overflow_x": null,
      "overflow_y": null,
      "padding": null,
      "right": null,
      "top": null,
      "visibility": null,
      "width": null
     }
    },
    "d73d1f809b744c92bc67faa4b746a387": {
     "model_module": "@jupyter-widgets/base",
     "model_module_version": "1.2.0",
     "model_name": "LayoutModel",
     "state": {
      "_model_module": "@jupyter-widgets/base",
      "_model_module_version": "1.2.0",
      "_model_name": "LayoutModel",
      "_view_count": null,
      "_view_module": "@jupyter-widgets/base",
      "_view_module_version": "1.2.0",
      "_view_name": "LayoutView",
      "align_content": null,
      "align_items": null,
      "align_self": null,
      "border": null,
      "bottom": null,
      "display": null,
      "flex": null,
      "flex_flow": null,
      "grid_area": null,
      "grid_auto_columns": null,
      "grid_auto_flow": null,
      "grid_auto_rows": null,
      "grid_column": null,
      "grid_gap": null,
      "grid_row": null,
      "grid_template_areas": null,
      "grid_template_columns": null,
      "grid_template_rows": null,
      "height": null,
      "justify_content": null,
      "justify_items": null,
      "left": null,
      "margin": null,
      "max_height": null,
      "max_width": null,
      "min_height": null,
      "min_width": null,
      "object_fit": null,
      "object_position": null,
      "order": null,
      "overflow": null,
      "overflow_x": null,
      "overflow_y": null,
      "padding": null,
      "right": null,
      "top": null,
      "visibility": null,
      "width": null
     }
    },
    "dbeb81af857d46349a7341fafa5ff1d3": {
     "model_module": "@jupyter-widgets/base",
     "model_module_version": "1.2.0",
     "model_name": "LayoutModel",
     "state": {
      "_model_module": "@jupyter-widgets/base",
      "_model_module_version": "1.2.0",
      "_model_name": "LayoutModel",
      "_view_count": null,
      "_view_module": "@jupyter-widgets/base",
      "_view_module_version": "1.2.0",
      "_view_name": "LayoutView",
      "align_content": null,
      "align_items": null,
      "align_self": null,
      "border": null,
      "bottom": null,
      "display": null,
      "flex": null,
      "flex_flow": null,
      "grid_area": null,
      "grid_auto_columns": null,
      "grid_auto_flow": null,
      "grid_auto_rows": null,
      "grid_column": null,
      "grid_gap": null,
      "grid_row": null,
      "grid_template_areas": null,
      "grid_template_columns": null,
      "grid_template_rows": null,
      "height": null,
      "justify_content": null,
      "justify_items": null,
      "left": null,
      "margin": null,
      "max_height": null,
      "max_width": null,
      "min_height": null,
      "min_width": null,
      "object_fit": null,
      "object_position": null,
      "order": null,
      "overflow": null,
      "overflow_x": null,
      "overflow_y": null,
      "padding": null,
      "right": null,
      "top": null,
      "visibility": null,
      "width": null
     }
    }
   }
  }
 },
 "nbformat": 4,
 "nbformat_minor": 1
}

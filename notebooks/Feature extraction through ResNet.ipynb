{
 "cells": [
  {
   "cell_type": "markdown",
   "metadata": {
    "id": "GpIfCtDGJ5q-",
    "pycharm": {
     "name": "#%% md\n"
    }
   },
   "source": [
    "# Kunisch Features from ResNet architectures \n",
    "## Seminario de Tesis I, Primavera 2022 \n",
    "### MDS Program. University of Chile.\n",
    "#### Supervisor: Prof. Benjamín Bustos, Prof. Iván Sipirán\n",
    "#### Author: Iván Sipirán, modified by Matías Vergara\n"
   ]
  },
  {
   "cell_type": "markdown",
   "metadata": {
    "id": "p2Z2do8XKiAQ",
    "pycharm": {
     "name": "#%% md\n"
    }
   },
   "source": [
    "## Imports"
   ]
  },
  {
   "cell_type": "code",
   "execution_count": 273,
   "outputs": [],
   "source": [
    "import torch\n",
    "import torch.nn as nn\n",
    "import torch.nn.functional as F\n",
    "import torchvision\n",
    "import numpy as np\n",
    "import matplotlib.pyplot as plt\n",
    "from torchvision import datasets, models, transforms\n",
    "import time\n",
    "import os\n",
    "import copy\n",
    "import pandas as pd\n",
    "import math\n",
    "import random\n",
    "import shutil\n",
    "\n",
    "from torch.utils.data import Dataset\n",
    "from PIL import Image\n",
    "\n",
    "from torchvision.datasets import ImageFolder\n",
    "from torch.utils.data import DataLoader\n",
    "import numpy as np, scipy.io\n",
    "import argparse\n",
    "import json"
   ],
   "metadata": {
    "collapsed": false,
    "pycharm": {
     "name": "#%%\n"
    }
   }
  },
  {
   "cell_type": "markdown",
   "source": [
    "## Mounting Google Drive"
   ],
   "metadata": {
    "collapsed": false,
    "pycharm": {
     "name": "#%% md\n"
    }
   }
  },
  {
   "cell_type": "code",
   "execution_count": 274,
   "outputs": [],
   "source": [
    "try:\n",
    "    from google.colab import drive\n",
    "    drive.mount('/content/drive')\n",
    "    folder_path = 'drive/MyDrive/TesisMV/'\n",
    "except:\n",
    "    folder_path = '../'"
   ],
   "metadata": {
    "collapsed": false,
    "pycharm": {
     "name": "#%%\n"
    }
   }
  },
  {
   "cell_type": "code",
   "execution_count": 275,
   "metadata": {
    "colab": {
     "base_uri": "https://localhost:8080/"
    },
    "executionInfo": {
     "elapsed": 871,
     "status": "ok",
     "timestamp": 1650471359103,
     "user": {
      "displayName": "MATÍAS JESÚS VERGARA",
      "userId": "08352659265679171119"
     },
     "user_tz": 240
    },
    "id": "To1i5vQ9KyLh",
    "outputId": "13770e9d-b593-4e88-c7c8-6dc3e1736798",
    "scrolled": true,
    "pycharm": {
     "name": "#%%\n"
    }
   },
   "outputs": [
    {
     "data": {
      "text/plain": "['.git',\n '.gitignore',\n '.idea',\n 'actas',\n 'features',\n 'graficos',\n 'labels',\n 'models',\n 'notebooks',\n 'patterns',\n 'presentaciones',\n 'README.md',\n 'requirements.txt',\n 'tablas']"
     },
     "execution_count": 275,
     "metadata": {},
     "output_type": "execute_result"
    }
   ],
   "source": [
    "os.listdir(folder_path)"
   ]
  },
  {
   "cell_type": "markdown",
   "source": [
    "## Dataset and model selection"
   ],
   "metadata": {
    "collapsed": false,
    "pycharm": {
     "name": "#%% md\n"
    }
   }
  },
  {
   "cell_type": "code",
   "execution_count": 276,
   "outputs": [],
   "source": [
    "#modify only this cell\n",
    "USE_RN50 = True\n",
    "SUBCHAPTERS = False\n",
    "DS_FLAGS = ['blur']\n",
    "              # 'ref': [invertX, invertY],\n",
    "              # 'rot': [rotate90, rotate180, rotate270],\n",
    "              # 'crop': [crop] * CROP_TIMES,\n",
    "              # 'blur': [blur],\n",
    "              # 'emboss': [emboss],\n",
    "              # 'randaug': [randaug],\n",
    "              # 'rain': [rain],\n",
    "              # 'elastic': [elastic]\n",
    "CROP_TIMES = 1\n",
    "RANDOM_TIMES = 2\n",
    "ELASTIC_TIMES = 1"
   ],
   "metadata": {
    "collapsed": false,
    "pycharm": {
     "name": "#%%\n"
    }
   }
  },
  {
   "cell_type": "code",
   "execution_count": 277,
   "outputs": [
    {
     "name": "stdout",
     "output_type": "stream",
     "text": [
      "Pattern set encontrado en ../patterns/blur/\n",
      "Labels set encontrado en ../labels/blur/\n",
      "Modelo encontrado en ../models/resnet50_blur_each5/resnet50_blur_e75.pth\n"
     ]
    }
   ],
   "source": [
    "# This cells builds the data_flags variable, that will be used\n",
    "# to map the requested data treatment to folders\n",
    "MAP_TIMES = {'crop': CROP_TIMES,\n",
    "         'randaug': RANDOM_TIMES,\n",
    "         'elastic': ELASTIC_TIMES,\n",
    "}\n",
    "\n",
    "DS_FLAGS = sorted(DS_FLAGS)\n",
    "data_flags = '_'.join(DS_FLAGS) if len(DS_FLAGS) > 0 else 'base'\n",
    "MULTIPLE_TRANSF = ['crop', 'randaug', 'elastic']\n",
    "COPY_FLAGS = DS_FLAGS.copy()\n",
    "\n",
    "for t in MULTIPLE_TRANSF:\n",
    "    if t in DS_FLAGS:\n",
    "        COPY_FLAGS.remove(t)\n",
    "        COPY_FLAGS.append(t + str(MAP_TIMES[t]))\n",
    "        data_flags = '_'.join(COPY_FLAGS)\n",
    "\n",
    "subchapter_str = 'subchapters/' if SUBCHAPTERS else ''\n",
    "patterns_path = folder_path + 'patterns/' + subchapter_str + data_flags + \"/\"\n",
    "labels_path = folder_path + 'labels/' +  subchapter_str + data_flags + \"/\"\n",
    "# models_path = folder_path + 'models/' + subchapter_str + (f'resnet50_{data_flags}.pth' if USE_RN50 else f'resnet18_{data_flags}.pth')\n",
    "# features_path = folder_path + 'features/' + subchapter_str + (f'resnet50_{data_flags}/' if USE_RN50 else f'resnet18_{data_flags}/')\n",
    "\n",
    "rn = 50\n",
    "ep = 75\n",
    "models_path = folder_path + f\"models/resnet{rn}_blur_each5/resnet{rn}_blur_e{ep}.pth\"\n",
    "features_path = folder_path + f\"features/resnet{rn}_blur_each5/resnet{rn}_blur_e{ep}/\"\n",
    "\n",
    "if not (os.path.isdir(patterns_path) and os.path.isdir(labels_path)):\n",
    "    raise FileNotFoundError(\"No existen directorios de datos para el conjunto de flags seleccionado. Verifique que el dataset exista y, de lo contrario, llame a Split and Augmentation\")\n",
    "\n",
    "if not (os.path.isfile(models_path)):\n",
    "    raise FileNotFoundError(f\"No se encontró modelo para el conjunto de flags seleccionado. Verifique que el modelo exista y, de lo contrario, llame a ResNet Retraining\\n{models_path}\")\n",
    "\n",
    "\n",
    "print(\"Pattern set encontrado en {}\".format(patterns_path))\n",
    "print(\"Labels set encontrado en {}\".format(labels_path))\n",
    "print(\"Modelo encontrado en {}\".format(models_path))"
   ],
   "metadata": {
    "collapsed": false,
    "pycharm": {
     "name": "#%%\n"
    }
   }
  },
  {
   "cell_type": "markdown",
   "metadata": {
    "id": "N0o5N582LCJI",
    "pycharm": {
     "name": "#%% md\n"
    }
   },
   "source": [
    "## Dataset loader"
   ]
  },
  {
   "cell_type": "code",
   "execution_count": 278,
   "metadata": {
    "id": "Vg1C_6mGLET7",
    "pycharm": {
     "name": "#%%\n"
    }
   },
   "outputs": [],
   "source": [
    "class PatternDataset(Dataset):\n",
    "    def __init__(self, root_dir, transform=None, build_classification=False, name_cla='output.cla'):\n",
    "        self.root_dir = root_dir\n",
    "        self.transform = transform\n",
    "        self.namefiles = []\n",
    "\n",
    "\n",
    "        self.classes = sorted(os.listdir(self.root_dir))\n",
    "\n",
    "        for cl in self.classes:\n",
    "            for pat in os.listdir(os.path.join(self.root_dir, cl)):\n",
    "                self.namefiles.append((pat, cl))\n",
    "\n",
    "        print(f'Files:{len(self.namefiles)}')\n",
    "        self.namefiles = sorted(self.namefiles, key = lambda x: x[0])\n",
    "\n",
    "        if build_classification:\n",
    "            dictClasses = dict()\n",
    "\n",
    "            for cl in self.classes:\n",
    "                dictClasses[cl] = []\n",
    "\n",
    "            for index, (name, cl) in enumerate(self.namefiles):\n",
    "                dictClasses[cl].append((name, index))\n",
    "\n",
    "            with open(name_cla, 'w') as f:\n",
    "                f.write('PSB 1\\n')\n",
    "                f.write(f'{len(self.classes)} {len(self.namefiles)}\\n')\n",
    "                f.write('\\n')\n",
    "                for cl in self.classes:\n",
    "                    f.write(f'{cl} 0 {len(dictClasses[cl])}\\n')\n",
    "                    for item in dictClasses[cl]:\n",
    "                        f.write(f'{item[1]}\\n')\n",
    "                    f.write('\\n')\n",
    "\n",
    "    def __len__(self):\n",
    "        return len(self.namefiles)\n",
    "\n",
    "    def __getitem__(self, index):\n",
    "        if torch.is_tensor(index):\n",
    "            index = index.tolist()\n",
    "\n",
    "        img_name = os.path.join(self.root_dir, self.namefiles[index][1], self.namefiles[index][0])\n",
    "        image = Image.open(img_name).convert(\"RGB\")\n",
    "\n",
    "        if self.transform:\n",
    "            image = self.transform(image)\n",
    "\n",
    "        return self.namefiles[index], image\n"
   ]
  },
  {
   "cell_type": "markdown",
   "metadata": {
    "id": "UtpuROg8KkAX",
    "pycharm": {
     "name": "#%% md\n"
    }
   },
   "source": [
    "## Preparation"
   ]
  },
  {
   "cell_type": "code",
   "execution_count": 279,
   "metadata": {
    "id": "giJIZA9AKc9y",
    "pycharm": {
     "name": "#%%\n"
    }
   },
   "outputs": [],
   "source": [
    "random.seed(30)\n",
    "\n",
    "output_train = features_path + \"augmented_train_df.json\"\n",
    "output_val = features_path + \"val_df.json\"\n",
    "output_test = features_path + \"test_df.json\"\n",
    "\n",
    "train_df = pd.read_json(labels_path + \"augmented_train_df.json\", orient='index')\n",
    "val_df = pd.read_json(labels_path + \"val_df.json\", orient='index')\n",
    "test_df = pd.read_json(labels_path + \"test_df.json\", orient='index')\n",
    "\n",
    "train_pts = train_df.index.values\n",
    "val_pts = val_df.index.values\n",
    "test_pts = test_df.index.values"
   ]
  },
  {
   "cell_type": "markdown",
   "metadata": {
    "id": "Mvf-0bRuKn64",
    "pycharm": {
     "name": "#%% md\n"
    }
   },
   "source": [
    "## Extraction"
   ]
  },
  {
   "cell_type": "code",
   "execution_count": 280,
   "metadata": {
    "colab": {
     "base_uri": "https://localhost:8080/",
     "height": 136,
     "referenced_widgets": [
      "1a0ed400445a48338cff564bca591284",
      "0e71b54290f847fab071de377e23c1a8",
      "a188994cbb5d4f969e744d80e5af4412",
      "0fe180ddcecc48a0bb7362e52d2a6624",
      "5bc8b4dd7b4e4a65a0d136a484f245a9",
      "d73d1f809b744c92bc67faa4b746a387",
      "54320e55151248dea3eb9da3b77113ef",
      "dbeb81af857d46349a7341fafa5ff1d3",
      "122480965ce24f6cb394b7e684ee5618",
      "cf95fa30f51242c19c9b1b1edf366290",
      "73d9d9d424ad4787900fc8b70d07dff3"
     ]
    },
    "executionInfo": {
     "elapsed": 130198,
     "status": "ok",
     "timestamp": 1650473584426,
     "user": {
      "displayName": "MATÍAS JESÚS VERGARA",
      "userId": "08352659265679171119"
     },
     "user_tz": 240
    },
    "id": "tyF8s-OOKcZt",
    "outputId": "3618ce96-ae6e-499a-dc5f-a4143d364c49",
    "pycharm": {
     "name": "#%%\n"
    }
   },
   "outputs": [
    {
     "name": "stdout",
     "output_type": "stream",
     "text": [
      "Files:1084\n",
      "Files:78\n",
      "Files:156\n"
     ]
    }
   ],
   "source": [
    "def imshow(inp, title = None):\n",
    "    inp = inp.numpy().transpose((1, 2, 0))\n",
    "    mean = np.array([0.485, 0.456, 0.406])\n",
    "    std = np.array([0.229, 0.224, 0.225])\n",
    "    inp = std * inp + mean\n",
    "    inp = np.clip(inp, 0, 1)\n",
    "\n",
    "    plt.imshow(inp)\n",
    "    plt.show()\n",
    "\n",
    "def get_vector(model,layer, dim_embedding, x):\n",
    "\n",
    "  my_embedding = torch.zeros(dim_embedding)\n",
    "\n",
    "  def copy_data(m,i,o):\n",
    "    my_embedding.copy_(o.data.squeeze())\n",
    "\n",
    "  h = layer.register_forward_hook(copy_data)\n",
    "  model(x)\n",
    "  h.remove()\n",
    "\n",
    "  return my_embedding\n",
    "\n",
    "device = ('cuda' if torch.cuda.is_available() else 'cpu')\n",
    "\n",
    "my_transform = transforms.Compose([ transforms.Resize(224),\n",
    "                                    #transforms.CenterCrop(224),\n",
    "                     transforms.ToTensor(),\n",
    "                     transforms.Normalize(mean=[0.485, 0.456, 0.406],std = [0.229, 0.224, 0.225])\n",
    "                    ])\n",
    "\n",
    "dataTrain = PatternDataset(root_dir=os.path.join(patterns_path, 'train'), transform=my_transform)\n",
    "dataVal = PatternDataset(root_dir=os.path.join(patterns_path, 'val'), transform=my_transform)\n",
    "dataTest = PatternDataset(root_dir=os.path.join(patterns_path, 'test'), transform=my_transform)\n",
    "\n",
    "loaderTrain = DataLoader(dataTrain)\n",
    "loaderVal = DataLoader(dataVal)\n",
    "loaderTest = DataLoader(dataTest)\n",
    "\n",
    "if USE_RN50:\n",
    "    model = models.resnet50(pretrained = True)\n",
    "else:\n",
    "    model = models.resnet18(pretrained = True)\n",
    "dim = model.fc.in_features\n",
    "\n",
    "output_dim = 20 if SUBCHAPTERS else 6\n",
    "model.fc = nn.Linear(dim, output_dim)\n",
    "\n",
    "model = model.to(device)\n",
    "\n",
    "try:\n",
    "    model.load_state_dict(torch.load(models_path))\n",
    "except RuntimeError as e:\n",
    "    print('Ignoring \"' + str(e) + '\"')\n",
    "\n",
    "layer = model._modules.get('avgpool')\n",
    "\n",
    "model.eval()\n",
    "\n",
    "#features = []\n",
    "features_train = {}\n",
    "features_val = {}\n",
    "features_test = {}\n",
    "\n",
    "\n",
    "for name, img in loaderTrain:\n",
    "  feat = get_vector(model, layer, dim, img.to(device))\n",
    "  namefile = name[0][0]\n",
    "  code, rest = namefile.split('.')\n",
    "  features_train[code] = feat.numpy().tolist()\n",
    "  #features.append(feat.numpy())\n",
    "\n",
    "for name, img in loaderVal:\n",
    "  feat = get_vector(model, layer, dim, img.to(device))\n",
    "  namefile = name[0][0]\n",
    "  code, rest = namefile.split('.')\n",
    "  features_val[code] = feat.numpy().tolist()\n",
    "  #features.append(feat.numpy())\n",
    "\n",
    "for name, img in loaderTest:\n",
    "  feat = get_vector(model, layer, dim, img.to(device))\n",
    "  namefile = name[0][0]\n",
    "  code, rest = namefile.split('.')\n",
    "  features_test[code] = feat.numpy().tolist()\n",
    "#features = np.vstack(features)\n",
    "#print(features.shape)"
   ]
  },
  {
   "cell_type": "code",
   "execution_count": 281,
   "outputs": [],
   "source": [
    "os.makedirs(features_path, exist_ok=True)"
   ],
   "metadata": {
    "collapsed": false,
    "pycharm": {
     "name": "#%%\n"
    }
   }
  },
  {
   "cell_type": "code",
   "execution_count": 282,
   "outputs": [],
   "source": [
    "features_train_df = pd.DataFrame.from_dict(features_train, orient='index')\n",
    "features_val_df = pd.DataFrame.from_dict(features_val, orient='index')\n",
    "features_test_df = pd.DataFrame.from_dict(features_test, orient='index')\n",
    "\n",
    "features_train_df.to_json(output_train, orient='index')\n",
    "features_val_df.to_json(output_val, orient='index')\n",
    "features_test_df.to_json(output_test, orient='index')"
   ],
   "metadata": {
    "collapsed": false,
    "pycharm": {
     "name": "#%%\n"
    }
   }
  },
  {
   "cell_type": "code",
   "execution_count": 283,
   "outputs": [
    {
     "data": {
      "text/plain": "              0         1         2         3         4         5     \\\n10d       0.052288  0.151053  0.042946  0.072730  0.149786  0.212103   \n10d_blur  0.051012  0.148731  0.042817  0.073660  0.156056  0.209858   \n10e       0.177587  0.028253  0.096148  0.025770  0.182581  0.337547   \n10e_blur  0.181913  0.029316  0.099687  0.026923  0.188080  0.333517   \n11c       0.163801  0.060885  0.147545  0.295036  0.258510  0.097969   \n...            ...       ...       ...       ...       ...       ...   \n9b_blur   0.024879  0.084558  0.147060  0.128662  0.110811  0.220012   \n9c        0.012214  0.027661  0.165062  0.141493  0.124818  0.232926   \n9c_blur   0.009567  0.032335  0.236987  0.178250  0.194468  0.318602   \n9e        0.194008  0.084218  0.400226  0.229948  0.186748  0.440837   \n9e_blur   0.212496  0.086731  0.272767  0.208918  0.171425  0.265511   \n\n              6         7         8         9     ...      2038      2039  \\\n10d       0.000000  0.007595  0.062738  0.017727  ...  0.007520  0.019774   \n10d_blur  0.000000  0.006691  0.064340  0.018533  ...  0.005919  0.026765   \n10e       0.000000  0.001634  0.000000  0.009844  ...  0.008862  0.000382   \n10e_blur  0.000000  0.002352  0.000238  0.012671  ...  0.009887  0.000257   \n11c       0.000000  0.007709  0.041882  0.087548  ...  0.003977  0.056750   \n...            ...       ...       ...       ...  ...       ...       ...   \n9b_blur   0.021198  0.276820  0.112341  0.009210  ...  0.180046  0.066346   \n9c        0.021015  0.380179  0.115962  0.014127  ...  0.208741  0.092676   \n9c_blur   0.020224  0.460661  0.167369  0.012675  ...  0.276628  0.122632   \n9e        0.002013  0.493354  0.225457  0.010223  ...  0.321207  0.047737   \n9e_blur   0.000008  0.327238  0.113526  0.050705  ...  0.262686  0.047367   \n\n              2040      2041      2042      2043      2044      2045  \\\n10d       0.000000  0.008785  0.167395  0.003172  0.137184  0.005004   \n10d_blur  0.000000  0.009024  0.166809  0.003190  0.147681  0.004974   \n10e       0.008446  0.002322  0.267125  0.001751  0.145436  0.000972   \n10e_blur  0.005548  0.003593  0.267510  0.002174  0.147011  0.001075   \n11c       0.003197  0.004864  0.043767  0.000410  0.613212  0.009310   \n...            ...       ...       ...       ...       ...       ...   \n9b_blur   0.027325  0.078465  0.377176  0.008497  0.026694  0.068024   \n9c        0.019707  0.084391  0.515644  0.006331  0.259575  0.075970   \n9c_blur   0.028023  0.126640  0.449128  0.005528  0.230084  0.116580   \n9e        0.000000  0.191275  0.363328  0.004570  0.502535  0.152498   \n9e_blur   0.000000  0.110263  0.194776  0.004369  0.310160  0.151493   \n\n              2046      2047  \n10d       0.165087  0.017931  \n10d_blur  0.171514  0.015035  \n10e       0.072909  0.013215  \n10e_blur  0.078818  0.012300  \n11c       0.484576  0.007287  \n...            ...       ...  \n9b_blur   0.428789  0.214458  \n9c        0.582875  0.242759  \n9c_blur   0.553446  0.285442  \n9e        0.553976  0.284594  \n9e_blur   0.352867  0.226869  \n\n[1084 rows x 2048 columns]",
      "text/html": "<div>\n<style scoped>\n    .dataframe tbody tr th:only-of-type {\n        vertical-align: middle;\n    }\n\n    .dataframe tbody tr th {\n        vertical-align: top;\n    }\n\n    .dataframe thead th {\n        text-align: right;\n    }\n</style>\n<table border=\"1\" class=\"dataframe\">\n  <thead>\n    <tr style=\"text-align: right;\">\n      <th></th>\n      <th>0</th>\n      <th>1</th>\n      <th>2</th>\n      <th>3</th>\n      <th>4</th>\n      <th>5</th>\n      <th>6</th>\n      <th>7</th>\n      <th>8</th>\n      <th>9</th>\n      <th>...</th>\n      <th>2038</th>\n      <th>2039</th>\n      <th>2040</th>\n      <th>2041</th>\n      <th>2042</th>\n      <th>2043</th>\n      <th>2044</th>\n      <th>2045</th>\n      <th>2046</th>\n      <th>2047</th>\n    </tr>\n  </thead>\n  <tbody>\n    <tr>\n      <th>10d</th>\n      <td>0.052288</td>\n      <td>0.151053</td>\n      <td>0.042946</td>\n      <td>0.072730</td>\n      <td>0.149786</td>\n      <td>0.212103</td>\n      <td>0.000000</td>\n      <td>0.007595</td>\n      <td>0.062738</td>\n      <td>0.017727</td>\n      <td>...</td>\n      <td>0.007520</td>\n      <td>0.019774</td>\n      <td>0.000000</td>\n      <td>0.008785</td>\n      <td>0.167395</td>\n      <td>0.003172</td>\n      <td>0.137184</td>\n      <td>0.005004</td>\n      <td>0.165087</td>\n      <td>0.017931</td>\n    </tr>\n    <tr>\n      <th>10d_blur</th>\n      <td>0.051012</td>\n      <td>0.148731</td>\n      <td>0.042817</td>\n      <td>0.073660</td>\n      <td>0.156056</td>\n      <td>0.209858</td>\n      <td>0.000000</td>\n      <td>0.006691</td>\n      <td>0.064340</td>\n      <td>0.018533</td>\n      <td>...</td>\n      <td>0.005919</td>\n      <td>0.026765</td>\n      <td>0.000000</td>\n      <td>0.009024</td>\n      <td>0.166809</td>\n      <td>0.003190</td>\n      <td>0.147681</td>\n      <td>0.004974</td>\n      <td>0.171514</td>\n      <td>0.015035</td>\n    </tr>\n    <tr>\n      <th>10e</th>\n      <td>0.177587</td>\n      <td>0.028253</td>\n      <td>0.096148</td>\n      <td>0.025770</td>\n      <td>0.182581</td>\n      <td>0.337547</td>\n      <td>0.000000</td>\n      <td>0.001634</td>\n      <td>0.000000</td>\n      <td>0.009844</td>\n      <td>...</td>\n      <td>0.008862</td>\n      <td>0.000382</td>\n      <td>0.008446</td>\n      <td>0.002322</td>\n      <td>0.267125</td>\n      <td>0.001751</td>\n      <td>0.145436</td>\n      <td>0.000972</td>\n      <td>0.072909</td>\n      <td>0.013215</td>\n    </tr>\n    <tr>\n      <th>10e_blur</th>\n      <td>0.181913</td>\n      <td>0.029316</td>\n      <td>0.099687</td>\n      <td>0.026923</td>\n      <td>0.188080</td>\n      <td>0.333517</td>\n      <td>0.000000</td>\n      <td>0.002352</td>\n      <td>0.000238</td>\n      <td>0.012671</td>\n      <td>...</td>\n      <td>0.009887</td>\n      <td>0.000257</td>\n      <td>0.005548</td>\n      <td>0.003593</td>\n      <td>0.267510</td>\n      <td>0.002174</td>\n      <td>0.147011</td>\n      <td>0.001075</td>\n      <td>0.078818</td>\n      <td>0.012300</td>\n    </tr>\n    <tr>\n      <th>11c</th>\n      <td>0.163801</td>\n      <td>0.060885</td>\n      <td>0.147545</td>\n      <td>0.295036</td>\n      <td>0.258510</td>\n      <td>0.097969</td>\n      <td>0.000000</td>\n      <td>0.007709</td>\n      <td>0.041882</td>\n      <td>0.087548</td>\n      <td>...</td>\n      <td>0.003977</td>\n      <td>0.056750</td>\n      <td>0.003197</td>\n      <td>0.004864</td>\n      <td>0.043767</td>\n      <td>0.000410</td>\n      <td>0.613212</td>\n      <td>0.009310</td>\n      <td>0.484576</td>\n      <td>0.007287</td>\n    </tr>\n    <tr>\n      <th>...</th>\n      <td>...</td>\n      <td>...</td>\n      <td>...</td>\n      <td>...</td>\n      <td>...</td>\n      <td>...</td>\n      <td>...</td>\n      <td>...</td>\n      <td>...</td>\n      <td>...</td>\n      <td>...</td>\n      <td>...</td>\n      <td>...</td>\n      <td>...</td>\n      <td>...</td>\n      <td>...</td>\n      <td>...</td>\n      <td>...</td>\n      <td>...</td>\n      <td>...</td>\n      <td>...</td>\n    </tr>\n    <tr>\n      <th>9b_blur</th>\n      <td>0.024879</td>\n      <td>0.084558</td>\n      <td>0.147060</td>\n      <td>0.128662</td>\n      <td>0.110811</td>\n      <td>0.220012</td>\n      <td>0.021198</td>\n      <td>0.276820</td>\n      <td>0.112341</td>\n      <td>0.009210</td>\n      <td>...</td>\n      <td>0.180046</td>\n      <td>0.066346</td>\n      <td>0.027325</td>\n      <td>0.078465</td>\n      <td>0.377176</td>\n      <td>0.008497</td>\n      <td>0.026694</td>\n      <td>0.068024</td>\n      <td>0.428789</td>\n      <td>0.214458</td>\n    </tr>\n    <tr>\n      <th>9c</th>\n      <td>0.012214</td>\n      <td>0.027661</td>\n      <td>0.165062</td>\n      <td>0.141493</td>\n      <td>0.124818</td>\n      <td>0.232926</td>\n      <td>0.021015</td>\n      <td>0.380179</td>\n      <td>0.115962</td>\n      <td>0.014127</td>\n      <td>...</td>\n      <td>0.208741</td>\n      <td>0.092676</td>\n      <td>0.019707</td>\n      <td>0.084391</td>\n      <td>0.515644</td>\n      <td>0.006331</td>\n      <td>0.259575</td>\n      <td>0.075970</td>\n      <td>0.582875</td>\n      <td>0.242759</td>\n    </tr>\n    <tr>\n      <th>9c_blur</th>\n      <td>0.009567</td>\n      <td>0.032335</td>\n      <td>0.236987</td>\n      <td>0.178250</td>\n      <td>0.194468</td>\n      <td>0.318602</td>\n      <td>0.020224</td>\n      <td>0.460661</td>\n      <td>0.167369</td>\n      <td>0.012675</td>\n      <td>...</td>\n      <td>0.276628</td>\n      <td>0.122632</td>\n      <td>0.028023</td>\n      <td>0.126640</td>\n      <td>0.449128</td>\n      <td>0.005528</td>\n      <td>0.230084</td>\n      <td>0.116580</td>\n      <td>0.553446</td>\n      <td>0.285442</td>\n    </tr>\n    <tr>\n      <th>9e</th>\n      <td>0.194008</td>\n      <td>0.084218</td>\n      <td>0.400226</td>\n      <td>0.229948</td>\n      <td>0.186748</td>\n      <td>0.440837</td>\n      <td>0.002013</td>\n      <td>0.493354</td>\n      <td>0.225457</td>\n      <td>0.010223</td>\n      <td>...</td>\n      <td>0.321207</td>\n      <td>0.047737</td>\n      <td>0.000000</td>\n      <td>0.191275</td>\n      <td>0.363328</td>\n      <td>0.004570</td>\n      <td>0.502535</td>\n      <td>0.152498</td>\n      <td>0.553976</td>\n      <td>0.284594</td>\n    </tr>\n    <tr>\n      <th>9e_blur</th>\n      <td>0.212496</td>\n      <td>0.086731</td>\n      <td>0.272767</td>\n      <td>0.208918</td>\n      <td>0.171425</td>\n      <td>0.265511</td>\n      <td>0.000008</td>\n      <td>0.327238</td>\n      <td>0.113526</td>\n      <td>0.050705</td>\n      <td>...</td>\n      <td>0.262686</td>\n      <td>0.047367</td>\n      <td>0.000000</td>\n      <td>0.110263</td>\n      <td>0.194776</td>\n      <td>0.004369</td>\n      <td>0.310160</td>\n      <td>0.151493</td>\n      <td>0.352867</td>\n      <td>0.226869</td>\n    </tr>\n  </tbody>\n</table>\n<p>1084 rows × 2048 columns</p>\n</div>"
     },
     "execution_count": 283,
     "metadata": {},
     "output_type": "execute_result"
    }
   ],
   "source": [
    "features_train_df"
   ],
   "metadata": {
    "collapsed": false,
    "pycharm": {
     "name": "#%%\n"
    }
   }
  }
 ],
 "metadata": {
  "accelerator": "GPU",
  "colab": {
   "collapsed_sections": [],
   "name": "Feature extraction through ResNet.ipynb",
   "provenance": []
  },
  "kernelspec": {
   "display_name": "Python 3 (ipykernel)",
   "language": "python",
   "name": "python3"
  },
  "language_info": {
   "codemirror_mode": {
    "name": "ipython",
    "version": 3
   },
   "file_extension": ".py",
   "mimetype": "text/x-python",
   "name": "python",
   "nbconvert_exporter": "python",
   "pygments_lexer": "ipython3",
   "version": "3.10.0"
  },
  "widgets": {
   "application/vnd.jupyter.widget-state+json": {
    "0e71b54290f847fab071de377e23c1a8": {
     "model_module": "@jupyter-widgets/controls",
     "model_module_version": "1.5.0",
     "model_name": "HTMLModel",
     "state": {
      "_dom_classes": [],
      "_model_module": "@jupyter-widgets/controls",
      "_model_module_version": "1.5.0",
      "_model_name": "HTMLModel",
      "_view_count": null,
      "_view_module": "@jupyter-widgets/controls",
      "_view_module_version": "1.5.0",
      "_view_name": "HTMLView",
      "description": "",
      "description_tooltip": null,
      "layout": "IPY_MODEL_d73d1f809b744c92bc67faa4b746a387",
      "placeholder": "​",
      "style": "IPY_MODEL_54320e55151248dea3eb9da3b77113ef",
      "value": "100%"
     }
    },
    "0fe180ddcecc48a0bb7362e52d2a6624": {
     "model_module": "@jupyter-widgets/controls",
     "model_module_version": "1.5.0",
     "model_name": "HTMLModel",
     "state": {
      "_dom_classes": [],
      "_model_module": "@jupyter-widgets/controls",
      "_model_module_version": "1.5.0",
      "_model_name": "HTMLModel",
      "_view_count": null,
      "_view_module": "@jupyter-widgets/controls",
      "_view_module_version": "1.5.0",
      "_view_name": "HTMLView",
      "description": "",
      "description_tooltip": null,
      "layout": "IPY_MODEL_cf95fa30f51242c19c9b1b1edf366290",
      "placeholder": "​",
      "style": "IPY_MODEL_73d9d9d424ad4787900fc8b70d07dff3",
      "value": " 44.7M/44.7M [00:00&lt;00:00, 116MB/s]"
     }
    },
    "122480965ce24f6cb394b7e684ee5618": {
     "model_module": "@jupyter-widgets/controls",
     "model_module_version": "1.5.0",
     "model_name": "ProgressStyleModel",
     "state": {
      "_model_module": "@jupyter-widgets/controls",
      "_model_module_version": "1.5.0",
      "_model_name": "ProgressStyleModel",
      "_view_count": null,
      "_view_module": "@jupyter-widgets/base",
      "_view_module_version": "1.2.0",
      "_view_name": "StyleView",
      "bar_color": null,
      "description_width": ""
     }
    },
    "1a0ed400445a48338cff564bca591284": {
     "model_module": "@jupyter-widgets/controls",
     "model_module_version": "1.5.0",
     "model_name": "HBoxModel",
     "state": {
      "_dom_classes": [],
      "_model_module": "@jupyter-widgets/controls",
      "_model_module_version": "1.5.0",
      "_model_name": "HBoxModel",
      "_view_count": null,
      "_view_module": "@jupyter-widgets/controls",
      "_view_module_version": "1.5.0",
      "_view_name": "HBoxView",
      "box_style": "",
      "children": [
       "IPY_MODEL_0e71b54290f847fab071de377e23c1a8",
       "IPY_MODEL_a188994cbb5d4f969e744d80e5af4412",
       "IPY_MODEL_0fe180ddcecc48a0bb7362e52d2a6624"
      ],
      "layout": "IPY_MODEL_5bc8b4dd7b4e4a65a0d136a484f245a9"
     }
    },
    "54320e55151248dea3eb9da3b77113ef": {
     "model_module": "@jupyter-widgets/controls",
     "model_module_version": "1.5.0",
     "model_name": "DescriptionStyleModel",
     "state": {
      "_model_module": "@jupyter-widgets/controls",
      "_model_module_version": "1.5.0",
      "_model_name": "DescriptionStyleModel",
      "_view_count": null,
      "_view_module": "@jupyter-widgets/base",
      "_view_module_version": "1.2.0",
      "_view_name": "StyleView",
      "description_width": ""
     }
    },
    "5bc8b4dd7b4e4a65a0d136a484f245a9": {
     "model_module": "@jupyter-widgets/base",
     "model_module_version": "1.2.0",
     "model_name": "LayoutModel",
     "state": {
      "_model_module": "@jupyter-widgets/base",
      "_model_module_version": "1.2.0",
      "_model_name": "LayoutModel",
      "_view_count": null,
      "_view_module": "@jupyter-widgets/base",
      "_view_module_version": "1.2.0",
      "_view_name": "LayoutView",
      "align_content": null,
      "align_items": null,
      "align_self": null,
      "border": null,
      "bottom": null,
      "display": null,
      "flex": null,
      "flex_flow": null,
      "grid_area": null,
      "grid_auto_columns": null,
      "grid_auto_flow": null,
      "grid_auto_rows": null,
      "grid_column": null,
      "grid_gap": null,
      "grid_row": null,
      "grid_template_areas": null,
      "grid_template_columns": null,
      "grid_template_rows": null,
      "height": null,
      "justify_content": null,
      "justify_items": null,
      "left": null,
      "margin": null,
      "max_height": null,
      "max_width": null,
      "min_height": null,
      "min_width": null,
      "object_fit": null,
      "object_position": null,
      "order": null,
      "overflow": null,
      "overflow_x": null,
      "overflow_y": null,
      "padding": null,
      "right": null,
      "top": null,
      "visibility": null,
      "width": null
     }
    },
    "73d9d9d424ad4787900fc8b70d07dff3": {
     "model_module": "@jupyter-widgets/controls",
     "model_module_version": "1.5.0",
     "model_name": "DescriptionStyleModel",
     "state": {
      "_model_module": "@jupyter-widgets/controls",
      "_model_module_version": "1.5.0",
      "_model_name": "DescriptionStyleModel",
      "_view_count": null,
      "_view_module": "@jupyter-widgets/base",
      "_view_module_version": "1.2.0",
      "_view_name": "StyleView",
      "description_width": ""
     }
    },
    "a188994cbb5d4f969e744d80e5af4412": {
     "model_module": "@jupyter-widgets/controls",
     "model_module_version": "1.5.0",
     "model_name": "FloatProgressModel",
     "state": {
      "_dom_classes": [],
      "_model_module": "@jupyter-widgets/controls",
      "_model_module_version": "1.5.0",
      "_model_name": "FloatProgressModel",
      "_view_count": null,
      "_view_module": "@jupyter-widgets/controls",
      "_view_module_version": "1.5.0",
      "_view_name": "ProgressView",
      "bar_style": "success",
      "description": "",
      "description_tooltip": null,
      "layout": "IPY_MODEL_dbeb81af857d46349a7341fafa5ff1d3",
      "max": 46830571,
      "min": 0,
      "orientation": "horizontal",
      "style": "IPY_MODEL_122480965ce24f6cb394b7e684ee5618",
      "value": 46830571
     }
    },
    "cf95fa30f51242c19c9b1b1edf366290": {
     "model_module": "@jupyter-widgets/base",
     "model_module_version": "1.2.0",
     "model_name": "LayoutModel",
     "state": {
      "_model_module": "@jupyter-widgets/base",
      "_model_module_version": "1.2.0",
      "_model_name": "LayoutModel",
      "_view_count": null,
      "_view_module": "@jupyter-widgets/base",
      "_view_module_version": "1.2.0",
      "_view_name": "LayoutView",
      "align_content": null,
      "align_items": null,
      "align_self": null,
      "border": null,
      "bottom": null,
      "display": null,
      "flex": null,
      "flex_flow": null,
      "grid_area": null,
      "grid_auto_columns": null,
      "grid_auto_flow": null,
      "grid_auto_rows": null,
      "grid_column": null,
      "grid_gap": null,
      "grid_row": null,
      "grid_template_areas": null,
      "grid_template_columns": null,
      "grid_template_rows": null,
      "height": null,
      "justify_content": null,
      "justify_items": null,
      "left": null,
      "margin": null,
      "max_height": null,
      "max_width": null,
      "min_height": null,
      "min_width": null,
      "object_fit": null,
      "object_position": null,
      "order": null,
      "overflow": null,
      "overflow_x": null,
      "overflow_y": null,
      "padding": null,
      "right": null,
      "top": null,
      "visibility": null,
      "width": null
     }
    },
    "d73d1f809b744c92bc67faa4b746a387": {
     "model_module": "@jupyter-widgets/base",
     "model_module_version": "1.2.0",
     "model_name": "LayoutModel",
     "state": {
      "_model_module": "@jupyter-widgets/base",
      "_model_module_version": "1.2.0",
      "_model_name": "LayoutModel",
      "_view_count": null,
      "_view_module": "@jupyter-widgets/base",
      "_view_module_version": "1.2.0",
      "_view_name": "LayoutView",
      "align_content": null,
      "align_items": null,
      "align_self": null,
      "border": null,
      "bottom": null,
      "display": null,
      "flex": null,
      "flex_flow": null,
      "grid_area": null,
      "grid_auto_columns": null,
      "grid_auto_flow": null,
      "grid_auto_rows": null,
      "grid_column": null,
      "grid_gap": null,
      "grid_row": null,
      "grid_template_areas": null,
      "grid_template_columns": null,
      "grid_template_rows": null,
      "height": null,
      "justify_content": null,
      "justify_items": null,
      "left": null,
      "margin": null,
      "max_height": null,
      "max_width": null,
      "min_height": null,
      "min_width": null,
      "object_fit": null,
      "object_position": null,
      "order": null,
      "overflow": null,
      "overflow_x": null,
      "overflow_y": null,
      "padding": null,
      "right": null,
      "top": null,
      "visibility": null,
      "width": null
     }
    },
    "dbeb81af857d46349a7341fafa5ff1d3": {
     "model_module": "@jupyter-widgets/base",
     "model_module_version": "1.2.0",
     "model_name": "LayoutModel",
     "state": {
      "_model_module": "@jupyter-widgets/base",
      "_model_module_version": "1.2.0",
      "_model_name": "LayoutModel",
      "_view_count": null,
      "_view_module": "@jupyter-widgets/base",
      "_view_module_version": "1.2.0",
      "_view_name": "LayoutView",
      "align_content": null,
      "align_items": null,
      "align_self": null,
      "border": null,
      "bottom": null,
      "display": null,
      "flex": null,
      "flex_flow": null,
      "grid_area": null,
      "grid_auto_columns": null,
      "grid_auto_flow": null,
      "grid_auto_rows": null,
      "grid_column": null,
      "grid_gap": null,
      "grid_row": null,
      "grid_template_areas": null,
      "grid_template_columns": null,
      "grid_template_rows": null,
      "height": null,
      "justify_content": null,
      "justify_items": null,
      "left": null,
      "margin": null,
      "max_height": null,
      "max_width": null,
      "min_height": null,
      "min_width": null,
      "object_fit": null,
      "object_position": null,
      "order": null,
      "overflow": null,
      "overflow_x": null,
      "overflow_y": null,
      "padding": null,
      "right": null,
      "top": null,
      "visibility": null,
      "width": null
     }
    }
   }
  }
 },
 "nbformat": 4,
 "nbformat_minor": 1
}
{
 "cells": [
  {
   "cell_type": "markdown",
   "metadata": {
    "id": "GpIfCtDGJ5q-",
    "pycharm": {
     "name": "#%% md\n"
    }
   },
   "source": [
    "# Aprendizaje Multietiqueta de Patrones Geométricos en Objetos de Herencia Cultural\n",
    "# Kunisch Features from ResNet architectures\n",
    "## Seminario de Tesis II, Primavera 2022\n",
    "### Master of Data Science. Universidad de Chile.\n",
    "#### Prof. guía: Benjamín Bustos - Prof. coguía: Iván Sipirán\n",
    "#### Autor: Matías Vergara\n"
   ]
  },
  {
   "cell_type": "markdown",
   "metadata": {
    "id": "p2Z2do8XKiAQ",
    "pycharm": {
     "name": "#%% md\n"
    }
   },
   "source": [
    "## Imports"
   ]
  },
  {
   "cell_type": "code",
   "execution_count": 1,
   "outputs": [],
   "source": [
    "import torch\n",
    "import torch.nn as nn\n",
    "import torch.nn.functional as F\n",
    "import torchvision\n",
    "import numpy as np\n",
    "import matplotlib.pyplot as plt\n",
    "from torchvision import datasets, models, transforms\n",
    "import time\n",
    "import os\n",
    "import copy\n",
    "import pandas as pd\n",
    "import math\n",
    "import random\n",
    "import shutil\n",
    "\n",
    "from torch.utils.data import Dataset\n",
    "from PIL import Image\n",
    "\n",
    "from torchvision.datasets import ImageFolder\n",
    "from torch.utils.data import DataLoader\n",
    "import numpy as np, scipy.io\n",
    "import argparse\n",
    "import json"
   ],
   "metadata": {
    "collapsed": false,
    "pycharm": {
     "name": "#%%\n"
    }
   }
  },
  {
   "cell_type": "markdown",
   "source": [
    "## Mounting Google Drive"
   ],
   "metadata": {
    "collapsed": false,
    "pycharm": {
     "name": "#%% md\n"
    }
   }
  },
  {
   "cell_type": "code",
   "execution_count": 2,
   "outputs": [],
   "source": [
    "try:\n",
    "    from google.colab import drive\n",
    "    drive.mount('/content/drive')\n",
    "    folder_path = 'drive/MyDrive/TesisMV/'\n",
    "except:\n",
    "    folder_path = '../'"
   ],
   "metadata": {
    "collapsed": false,
    "pycharm": {
     "name": "#%%\n"
    }
   }
  },
  {
   "cell_type": "code",
   "execution_count": 3,
   "metadata": {
    "colab": {
     "base_uri": "https://localhost:8080/"
    },
    "executionInfo": {
     "elapsed": 871,
     "status": "ok",
     "timestamp": 1650471359103,
     "user": {
      "displayName": "MATÍAS JESÚS VERGARA",
      "userId": "08352659265679171119"
     },
     "user_tz": 240
    },
    "id": "To1i5vQ9KyLh",
    "outputId": "13770e9d-b593-4e88-c7c8-6dc3e1736798",
    "scrolled": true,
    "pycharm": {
     "name": "#%%\n"
    }
   },
   "outputs": [
    {
     "data": {
      "text/plain": "['.git',\n '.gitignore',\n '.idea',\n 'actas',\n 'features',\n 'graficos',\n 'labels',\n 'models',\n 'notebooks',\n 'patterns',\n 'presentaciones',\n 'README.md',\n 'requirements.txt',\n 'tablas']"
     },
     "execution_count": 3,
     "metadata": {},
     "output_type": "execute_result"
    }
   ],
   "source": [
    "os.listdir(folder_path)"
   ]
  },
  {
   "cell_type": "markdown",
   "source": [
    "## Dataset and model selection"
   ],
   "metadata": {
    "collapsed": false,
    "pycharm": {
     "name": "#%% md\n"
    }
   }
  },
  {
   "cell_type": "code",
   "execution_count": 4,
   "outputs": [],
   "source": [
    "#modify only this cell\n",
    "USE_RN50 = True\n",
    "SUBCHAPTERS = False\n",
    "DS_FLAGS = ['blur']\n",
    "              # 'ref': [invertX, invertY],\n",
    "              # 'rot': [rotate90, rotate180, rotate270],\n",
    "              # 'crop': [crop] * CROP_TIMES,\n",
    "              # 'blur': [blur],\n",
    "              # 'emboss': [emboss],\n",
    "              # 'randaug': [randaug],\n",
    "              # 'rain': [rain],\n",
    "              # 'elastic': [elastic]\n",
    "CROP_TIMES = 1\n",
    "RANDOM_TIMES = 2\n",
    "ELASTIC_TIMES = 1"
   ],
   "metadata": {
    "collapsed": false,
    "pycharm": {
     "name": "#%%\n"
    }
   }
  },
  {
   "cell_type": "code",
   "execution_count": 5,
   "outputs": [
    {
     "name": "stdout",
     "output_type": "stream",
     "text": [
      "Pattern set encontrado en ../patterns/blur/\n",
      "Labels set encontrado en ../labels/blur/\n",
      "Modelo encontrado en ../models/resnet18_blur_each5/resnet18_blur_e65.pth\n"
     ]
    }
   ],
   "source": [
    "# This cells builds the data_flags variable, that will be used\n",
    "# to map the requested data treatment to folders\n",
    "MAP_TIMES = {'crop': CROP_TIMES,\n",
    "         'randaug': RANDOM_TIMES,\n",
    "         'elastic': ELASTIC_TIMES,\n",
    "}\n",
    "\n",
    "DS_FLAGS = sorted(DS_FLAGS)\n",
    "data_flags = '_'.join(DS_FLAGS) if len(DS_FLAGS) > 0 else 'base'\n",
    "MULTIPLE_TRANSF = ['crop', 'randaug', 'elastic']\n",
    "COPY_FLAGS = DS_FLAGS.copy()\n",
    "\n",
    "for t in MULTIPLE_TRANSF:\n",
    "    if t in DS_FLAGS:\n",
    "        COPY_FLAGS.remove(t)\n",
    "        COPY_FLAGS.append(t + str(MAP_TIMES[t]))\n",
    "        data_flags = '_'.join(COPY_FLAGS)\n",
    "\n",
    "subchapter_str = 'subchapters/' if SUBCHAPTERS else ''\n",
    "patterns_path = folder_path + 'patterns/' + subchapter_str + data_flags + \"/\"\n",
    "labels_path = folder_path + 'labels/' +  subchapter_str + data_flags + \"/\"\n",
    "# models_path = folder_path + 'models/' + subchapter_str + (f'resnet50_{data_flags}.pth' if USE_RN50 else f'resnet18_{data_flags}.pth')\n",
    "# features_path = folder_path + 'features/' + subchapter_str + (f'resnet50_{data_flags}/' if USE_RN50 else f'resnet18_{data_flags}/')\n",
    "\n",
    "rn = 18\n",
    "ep = 65\n",
    "models_path = folder_path + f\"models/resnet{rn}_blur_each5/resnet{rn}_blur_e{ep}.pth\"\n",
    "features_path = folder_path + f\"features/resnet{rn}_blur_each5/resnet{rn}_blur_e{ep}/\"\n",
    "\n",
    "if not (os.path.isdir(patterns_path) and os.path.isdir(labels_path)):\n",
    "    raise FileNotFoundError(\"No existen directorios de datos para el conjunto de flags seleccionado. Verifique que el dataset exista y, de lo contrario, llame a Split and Augmentation\")\n",
    "\n",
    "if not (os.path.isfile(models_path)):\n",
    "    raise FileNotFoundError(f\"No se encontró modelo para el conjunto de flags seleccionado. Verifique que el modelo exista y, de lo contrario, llame a ResNet Retraining\\n{models_path}\")\n",
    "\n",
    "\n",
    "print(\"Pattern set encontrado en {}\".format(patterns_path))\n",
    "print(\"Labels set encontrado en {}\".format(labels_path))\n",
    "print(\"Modelo encontrado en {}\".format(models_path))"
   ],
   "metadata": {
    "collapsed": false,
    "pycharm": {
     "name": "#%%\n"
    }
   }
  },
  {
   "cell_type": "markdown",
   "metadata": {
    "id": "N0o5N582LCJI",
    "pycharm": {
     "name": "#%% md\n"
    }
   },
   "source": [
    "## Dataset loader"
   ]
  },
  {
   "cell_type": "code",
   "execution_count": 6,
   "metadata": {
    "id": "Vg1C_6mGLET7",
    "pycharm": {
     "name": "#%%\n"
    }
   },
   "outputs": [],
   "source": [
    "class PatternDataset(Dataset):\n",
    "    def __init__(self, root_dir, transform=None, build_classification=False, name_cla='output.cla'):\n",
    "        self.root_dir = root_dir\n",
    "        self.transform = transform\n",
    "        self.namefiles = []\n",
    "\n",
    "\n",
    "        self.classes = sorted(os.listdir(self.root_dir))\n",
    "\n",
    "        for cl in self.classes:\n",
    "            for pat in os.listdir(os.path.join(self.root_dir, cl)):\n",
    "                self.namefiles.append((pat, cl))\n",
    "\n",
    "        print(f'Files:{len(self.namefiles)}')\n",
    "        self.namefiles = sorted(self.namefiles, key = lambda x: x[0])\n",
    "\n",
    "        if build_classification:\n",
    "            dictClasses = dict()\n",
    "\n",
    "            for cl in self.classes:\n",
    "                dictClasses[cl] = []\n",
    "\n",
    "            for index, (name, cl) in enumerate(self.namefiles):\n",
    "                dictClasses[cl].append((name, index))\n",
    "\n",
    "            with open(name_cla, 'w') as f:\n",
    "                f.write('PSB 1\\n')\n",
    "                f.write(f'{len(self.classes)} {len(self.namefiles)}\\n')\n",
    "                f.write('\\n')\n",
    "                for cl in self.classes:\n",
    "                    f.write(f'{cl} 0 {len(dictClasses[cl])}\\n')\n",
    "                    for item in dictClasses[cl]:\n",
    "                        f.write(f'{item[1]}\\n')\n",
    "                    f.write('\\n')\n",
    "\n",
    "    def __len__(self):\n",
    "        return len(self.namefiles)\n",
    "\n",
    "    def __getitem__(self, index):\n",
    "        if torch.is_tensor(index):\n",
    "            index = index.tolist()\n",
    "\n",
    "        img_name = os.path.join(self.root_dir, self.namefiles[index][1], self.namefiles[index][0])\n",
    "        image = Image.open(img_name).convert(\"RGB\")\n",
    "\n",
    "        if self.transform:\n",
    "            image = self.transform(image)\n",
    "\n",
    "        return self.namefiles[index], image\n"
   ]
  },
  {
   "cell_type": "markdown",
   "metadata": {
    "id": "UtpuROg8KkAX",
    "pycharm": {
     "name": "#%% md\n"
    }
   },
   "source": [
    "## Preparation"
   ]
  },
  {
   "cell_type": "code",
   "execution_count": 7,
   "metadata": {
    "id": "giJIZA9AKc9y",
    "pycharm": {
     "name": "#%%\n"
    }
   },
   "outputs": [],
   "source": [
    "random.seed(30)\n",
    "\n",
    "output_train = features_path + \"augmented_train_df.json\"\n",
    "output_val = features_path + \"val_df.json\"\n",
    "output_test = features_path + \"test_df.json\"\n",
    "\n",
    "train_df = pd.read_json(labels_path + \"augmented_train_df.json\", orient='index')\n",
    "val_df = pd.read_json(labels_path + \"val_df.json\", orient='index')\n",
    "test_df = pd.read_json(labels_path + \"test_df.json\", orient='index')\n",
    "\n",
    "train_pts = train_df.index.values\n",
    "val_pts = val_df.index.values\n",
    "test_pts = test_df.index.values"
   ]
  },
  {
   "cell_type": "markdown",
   "metadata": {
    "id": "Mvf-0bRuKn64",
    "pycharm": {
     "name": "#%% md\n"
    }
   },
   "source": [
    "## Extraction"
   ]
  },
  {
   "cell_type": "code",
   "execution_count": 8,
   "metadata": {
    "colab": {
     "base_uri": "https://localhost:8080/",
     "height": 136,
     "referenced_widgets": [
      "1a0ed400445a48338cff564bca591284",
      "0e71b54290f847fab071de377e23c1a8",
      "a188994cbb5d4f969e744d80e5af4412",
      "0fe180ddcecc48a0bb7362e52d2a6624",
      "5bc8b4dd7b4e4a65a0d136a484f245a9",
      "d73d1f809b744c92bc67faa4b746a387",
      "54320e55151248dea3eb9da3b77113ef",
      "dbeb81af857d46349a7341fafa5ff1d3",
      "122480965ce24f6cb394b7e684ee5618",
      "cf95fa30f51242c19c9b1b1edf366290",
      "73d9d9d424ad4787900fc8b70d07dff3"
     ]
    },
    "executionInfo": {
     "elapsed": 130198,
     "status": "ok",
     "timestamp": 1650473584426,
     "user": {
      "displayName": "MATÍAS JESÚS VERGARA",
      "userId": "08352659265679171119"
     },
     "user_tz": 240
    },
    "id": "tyF8s-OOKcZt",
    "outputId": "3618ce96-ae6e-499a-dc5f-a4143d364c49",
    "pycharm": {
     "name": "#%%\n"
    }
   },
   "outputs": [
    {
     "name": "stdout",
     "output_type": "stream",
     "text": [
      "Files:1084\n",
      "Files:78\n",
      "Files:156\n",
      "Ignoring \"Error(s) in loading state_dict for ResNet:\n",
      "\tMissing key(s) in state_dict: \"layer1.0.conv3.weight\", \"layer1.0.bn3.weight\", \"layer1.0.bn3.bias\", \"layer1.0.bn3.running_mean\", \"layer1.0.bn3.running_var\", \"layer1.0.downsample.0.weight\", \"layer1.0.downsample.1.weight\", \"layer1.0.downsample.1.bias\", \"layer1.0.downsample.1.running_mean\", \"layer1.0.downsample.1.running_var\", \"layer1.1.conv3.weight\", \"layer1.1.bn3.weight\", \"layer1.1.bn3.bias\", \"layer1.1.bn3.running_mean\", \"layer1.1.bn3.running_var\", \"layer1.2.conv1.weight\", \"layer1.2.bn1.weight\", \"layer1.2.bn1.bias\", \"layer1.2.bn1.running_mean\", \"layer1.2.bn1.running_var\", \"layer1.2.conv2.weight\", \"layer1.2.bn2.weight\", \"layer1.2.bn2.bias\", \"layer1.2.bn2.running_mean\", \"layer1.2.bn2.running_var\", \"layer1.2.conv3.weight\", \"layer1.2.bn3.weight\", \"layer1.2.bn3.bias\", \"layer1.2.bn3.running_mean\", \"layer1.2.bn3.running_var\", \"layer2.0.conv3.weight\", \"layer2.0.bn3.weight\", \"layer2.0.bn3.bias\", \"layer2.0.bn3.running_mean\", \"layer2.0.bn3.running_var\", \"layer2.1.conv3.weight\", \"layer2.1.bn3.weight\", \"layer2.1.bn3.bias\", \"layer2.1.bn3.running_mean\", \"layer2.1.bn3.running_var\", \"layer2.2.conv1.weight\", \"layer2.2.bn1.weight\", \"layer2.2.bn1.bias\", \"layer2.2.bn1.running_mean\", \"layer2.2.bn1.running_var\", \"layer2.2.conv2.weight\", \"layer2.2.bn2.weight\", \"layer2.2.bn2.bias\", \"layer2.2.bn2.running_mean\", \"layer2.2.bn2.running_var\", \"layer2.2.conv3.weight\", \"layer2.2.bn3.weight\", \"layer2.2.bn3.bias\", \"layer2.2.bn3.running_mean\", \"layer2.2.bn3.running_var\", \"layer2.3.conv1.weight\", \"layer2.3.bn1.weight\", \"layer2.3.bn1.bias\", \"layer2.3.bn1.running_mean\", \"layer2.3.bn1.running_var\", \"layer2.3.conv2.weight\", \"layer2.3.bn2.weight\", \"layer2.3.bn2.bias\", \"layer2.3.bn2.running_mean\", \"layer2.3.bn2.running_var\", \"layer2.3.conv3.weight\", \"layer2.3.bn3.weight\", \"layer2.3.bn3.bias\", \"layer2.3.bn3.running_mean\", \"layer2.3.bn3.running_var\", \"layer3.0.conv3.weight\", \"layer3.0.bn3.weight\", \"layer3.0.bn3.bias\", \"layer3.0.bn3.running_mean\", \"layer3.0.bn3.running_var\", \"layer3.1.conv3.weight\", \"layer3.1.bn3.weight\", \"layer3.1.bn3.bias\", \"layer3.1.bn3.running_mean\", \"layer3.1.bn3.running_var\", \"layer3.2.conv1.weight\", \"layer3.2.bn1.weight\", \"layer3.2.bn1.bias\", \"layer3.2.bn1.running_mean\", \"layer3.2.bn1.running_var\", \"layer3.2.conv2.weight\", \"layer3.2.bn2.weight\", \"layer3.2.bn2.bias\", \"layer3.2.bn2.running_mean\", \"layer3.2.bn2.running_var\", \"layer3.2.conv3.weight\", \"layer3.2.bn3.weight\", \"layer3.2.bn3.bias\", \"layer3.2.bn3.running_mean\", \"layer3.2.bn3.running_var\", \"layer3.3.conv1.weight\", \"layer3.3.bn1.weight\", \"layer3.3.bn1.bias\", \"layer3.3.bn1.running_mean\", \"layer3.3.bn1.running_var\", \"layer3.3.conv2.weight\", \"layer3.3.bn2.weight\", \"layer3.3.bn2.bias\", \"layer3.3.bn2.running_mean\", \"layer3.3.bn2.running_var\", \"layer3.3.conv3.weight\", \"layer3.3.bn3.weight\", \"layer3.3.bn3.bias\", \"layer3.3.bn3.running_mean\", \"layer3.3.bn3.running_var\", \"layer3.4.conv1.weight\", \"layer3.4.bn1.weight\", \"layer3.4.bn1.bias\", \"layer3.4.bn1.running_mean\", \"layer3.4.bn1.running_var\", \"layer3.4.conv2.weight\", \"layer3.4.bn2.weight\", \"layer3.4.bn2.bias\", \"layer3.4.bn2.running_mean\", \"layer3.4.bn2.running_var\", \"layer3.4.conv3.weight\", \"layer3.4.bn3.weight\", \"layer3.4.bn3.bias\", \"layer3.4.bn3.running_mean\", \"layer3.4.bn3.running_var\", \"layer3.5.conv1.weight\", \"layer3.5.bn1.weight\", \"layer3.5.bn1.bias\", \"layer3.5.bn1.running_mean\", \"layer3.5.bn1.running_var\", \"layer3.5.conv2.weight\", \"layer3.5.bn2.weight\", \"layer3.5.bn2.bias\", \"layer3.5.bn2.running_mean\", \"layer3.5.bn2.running_var\", \"layer3.5.conv3.weight\", \"layer3.5.bn3.weight\", \"layer3.5.bn3.bias\", \"layer3.5.bn3.running_mean\", \"layer3.5.bn3.running_var\", \"layer4.0.conv3.weight\", \"layer4.0.bn3.weight\", \"layer4.0.bn3.bias\", \"layer4.0.bn3.running_mean\", \"layer4.0.bn3.running_var\", \"layer4.1.conv3.weight\", \"layer4.1.bn3.weight\", \"layer4.1.bn3.bias\", \"layer4.1.bn3.running_mean\", \"layer4.1.bn3.running_var\", \"layer4.2.conv1.weight\", \"layer4.2.bn1.weight\", \"layer4.2.bn1.bias\", \"layer4.2.bn1.running_mean\", \"layer4.2.bn1.running_var\", \"layer4.2.conv2.weight\", \"layer4.2.bn2.weight\", \"layer4.2.bn2.bias\", \"layer4.2.bn2.running_mean\", \"layer4.2.bn2.running_var\", \"layer4.2.conv3.weight\", \"layer4.2.bn3.weight\", \"layer4.2.bn3.bias\", \"layer4.2.bn3.running_mean\", \"layer4.2.bn3.running_var\". \n",
      "\tsize mismatch for layer1.0.conv1.weight: copying a param with shape torch.Size([64, 64, 3, 3]) from checkpoint, the shape in current model is torch.Size([64, 64, 1, 1]).\n",
      "\tsize mismatch for layer1.1.conv1.weight: copying a param with shape torch.Size([64, 64, 3, 3]) from checkpoint, the shape in current model is torch.Size([64, 256, 1, 1]).\n",
      "\tsize mismatch for layer2.0.conv1.weight: copying a param with shape torch.Size([128, 64, 3, 3]) from checkpoint, the shape in current model is torch.Size([128, 256, 1, 1]).\n",
      "\tsize mismatch for layer2.0.downsample.0.weight: copying a param with shape torch.Size([128, 64, 1, 1]) from checkpoint, the shape in current model is torch.Size([512, 256, 1, 1]).\n",
      "\tsize mismatch for layer2.0.downsample.1.weight: copying a param with shape torch.Size([128]) from checkpoint, the shape in current model is torch.Size([512]).\n",
      "\tsize mismatch for layer2.0.downsample.1.bias: copying a param with shape torch.Size([128]) from checkpoint, the shape in current model is torch.Size([512]).\n",
      "\tsize mismatch for layer2.0.downsample.1.running_mean: copying a param with shape torch.Size([128]) from checkpoint, the shape in current model is torch.Size([512]).\n",
      "\tsize mismatch for layer2.0.downsample.1.running_var: copying a param with shape torch.Size([128]) from checkpoint, the shape in current model is torch.Size([512]).\n",
      "\tsize mismatch for layer2.1.conv1.weight: copying a param with shape torch.Size([128, 128, 3, 3]) from checkpoint, the shape in current model is torch.Size([128, 512, 1, 1]).\n",
      "\tsize mismatch for layer3.0.conv1.weight: copying a param with shape torch.Size([256, 128, 3, 3]) from checkpoint, the shape in current model is torch.Size([256, 512, 1, 1]).\n",
      "\tsize mismatch for layer3.0.downsample.0.weight: copying a param with shape torch.Size([256, 128, 1, 1]) from checkpoint, the shape in current model is torch.Size([1024, 512, 1, 1]).\n",
      "\tsize mismatch for layer3.0.downsample.1.weight: copying a param with shape torch.Size([256]) from checkpoint, the shape in current model is torch.Size([1024]).\n",
      "\tsize mismatch for layer3.0.downsample.1.bias: copying a param with shape torch.Size([256]) from checkpoint, the shape in current model is torch.Size([1024]).\n",
      "\tsize mismatch for layer3.0.downsample.1.running_mean: copying a param with shape torch.Size([256]) from checkpoint, the shape in current model is torch.Size([1024]).\n",
      "\tsize mismatch for layer3.0.downsample.1.running_var: copying a param with shape torch.Size([256]) from checkpoint, the shape in current model is torch.Size([1024]).\n",
      "\tsize mismatch for layer3.1.conv1.weight: copying a param with shape torch.Size([256, 256, 3, 3]) from checkpoint, the shape in current model is torch.Size([256, 1024, 1, 1]).\n",
      "\tsize mismatch for layer4.0.conv1.weight: copying a param with shape torch.Size([512, 256, 3, 3]) from checkpoint, the shape in current model is torch.Size([512, 1024, 1, 1]).\n",
      "\tsize mismatch for layer4.0.downsample.0.weight: copying a param with shape torch.Size([512, 256, 1, 1]) from checkpoint, the shape in current model is torch.Size([2048, 1024, 1, 1]).\n",
      "\tsize mismatch for layer4.0.downsample.1.weight: copying a param with shape torch.Size([512]) from checkpoint, the shape in current model is torch.Size([2048]).\n",
      "\tsize mismatch for layer4.0.downsample.1.bias: copying a param with shape torch.Size([512]) from checkpoint, the shape in current model is torch.Size([2048]).\n",
      "\tsize mismatch for layer4.0.downsample.1.running_mean: copying a param with shape torch.Size([512]) from checkpoint, the shape in current model is torch.Size([2048]).\n",
      "\tsize mismatch for layer4.0.downsample.1.running_var: copying a param with shape torch.Size([512]) from checkpoint, the shape in current model is torch.Size([2048]).\n",
      "\tsize mismatch for layer4.1.conv1.weight: copying a param with shape torch.Size([512, 512, 3, 3]) from checkpoint, the shape in current model is torch.Size([512, 2048, 1, 1]).\n",
      "\tsize mismatch for fc.weight: copying a param with shape torch.Size([6, 512]) from checkpoint, the shape in current model is torch.Size([6, 2048]).\"\n"
     ]
    }
   ],
   "source": [
    "def imshow(inp, title = None):\n",
    "    inp = inp.numpy().transpose((1, 2, 0))\n",
    "    mean = np.array([0.485, 0.456, 0.406])\n",
    "    std = np.array([0.229, 0.224, 0.225])\n",
    "    inp = std * inp + mean\n",
    "    inp = np.clip(inp, 0, 1)\n",
    "\n",
    "    plt.imshow(inp)\n",
    "    plt.show()\n",
    "\n",
    "def get_vector(model,layer, dim_embedding, x):\n",
    "\n",
    "  my_embedding = torch.zeros(dim_embedding)\n",
    "\n",
    "  def copy_data(m,i,o):\n",
    "    my_embedding.copy_(o.data.squeeze())\n",
    "\n",
    "  h = layer.register_forward_hook(copy_data)\n",
    "  model(x)\n",
    "  h.remove()\n",
    "\n",
    "  return my_embedding\n",
    "\n",
    "device = ('cuda' if torch.cuda.is_available() else 'cpu')\n",
    "\n",
    "my_transform = transforms.Compose([ transforms.Resize(224),\n",
    "                                    #transforms.CenterCrop(224),\n",
    "                     transforms.ToTensor(),\n",
    "                     transforms.Normalize(mean=[0.485, 0.456, 0.406],std = [0.229, 0.224, 0.225])\n",
    "                    ])\n",
    "\n",
    "dataTrain = PatternDataset(root_dir=os.path.join(patterns_path, 'train'), transform=my_transform)\n",
    "dataVal = PatternDataset(root_dir=os.path.join(patterns_path, 'val'), transform=my_transform)\n",
    "dataTest = PatternDataset(root_dir=os.path.join(patterns_path, 'test'), transform=my_transform)\n",
    "\n",
    "loaderTrain = DataLoader(dataTrain)\n",
    "loaderVal = DataLoader(dataVal)\n",
    "loaderTest = DataLoader(dataTest)\n",
    "\n",
    "if USE_RN50:\n",
    "    model = models.resnet50(pretrained = True)\n",
    "else:\n",
    "    model = models.resnet18(pretrained = True)\n",
    "dim = model.fc.in_features\n",
    "\n",
    "output_dim = 20 if SUBCHAPTERS else 6\n",
    "model.fc = nn.Linear(dim, output_dim)\n",
    "\n",
    "model = model.to(device)\n",
    "\n",
    "try:\n",
    "    model.load_state_dict(torch.load(models_path))\n",
    "except RuntimeError as e:\n",
    "    print('Ignoring \"' + str(e) + '\"')\n",
    "\n",
    "layer = model._modules.get('avgpool')\n",
    "\n",
    "model.eval()\n",
    "\n",
    "#features = []\n",
    "features_train = {}\n",
    "features_val = {}\n",
    "features_test = {}\n",
    "\n",
    "\n",
    "for name, img in loaderTrain:\n",
    "  feat = get_vector(model, layer, dim, img.to(device))\n",
    "  namefile = name[0][0]\n",
    "  code, rest = namefile.split('.')\n",
    "  features_train[code] = feat.numpy().tolist()\n",
    "  #features.append(feat.numpy())\n",
    "\n",
    "for name, img in loaderVal:\n",
    "  feat = get_vector(model, layer, dim, img.to(device))\n",
    "  namefile = name[0][0]\n",
    "  code, rest = namefile.split('.')\n",
    "  features_val[code] = feat.numpy().tolist()\n",
    "  #features.append(feat.numpy())\n",
    "\n",
    "for name, img in loaderTest:\n",
    "  feat = get_vector(model, layer, dim, img.to(device))\n",
    "  namefile = name[0][0]\n",
    "  code, rest = namefile.split('.')\n",
    "  features_test[code] = feat.numpy().tolist()\n",
    "#features = np.vstack(features)\n",
    "#print(features.shape)"
   ]
  },
  {
   "cell_type": "code",
   "execution_count": 9,
   "outputs": [],
   "source": [
    "os.makedirs(features_path, exist_ok=True)"
   ],
   "metadata": {
    "collapsed": false,
    "pycharm": {
     "name": "#%%\n"
    }
   }
  },
  {
   "cell_type": "code",
   "execution_count": 10,
   "outputs": [],
   "source": [
    "features_train_df = pd.DataFrame.from_dict(features_train, orient='index')\n",
    "features_val_df = pd.DataFrame.from_dict(features_val, orient='index')\n",
    "features_test_df = pd.DataFrame.from_dict(features_test, orient='index')\n",
    "\n",
    "features_train_df.to_json(output_train, orient='index')\n",
    "features_val_df.to_json(output_val, orient='index')\n",
    "features_test_df.to_json(output_test, orient='index')"
   ],
   "metadata": {
    "collapsed": false,
    "pycharm": {
     "name": "#%%\n"
    }
   }
  },
  {
   "cell_type": "code",
   "execution_count": 11,
   "outputs": [
    {
     "data": {
      "text/plain": "              0         1         2         3         4         5     \\\n10d       0.118115  0.016901  0.050756  0.018998  0.072170  1.027323   \n10d_blur  0.127972  0.018648  0.054972  0.016804  0.067858  0.994569   \n10e       0.108879  0.027604  0.031459  0.017958  0.085115  1.127079   \n10e_blur  0.126336  0.022580  0.047373  0.016586  0.074275  1.091521   \n11c       0.157164  0.057202  0.040079  0.028363  0.100762  1.146053   \n...            ...       ...       ...       ...       ...       ...   \n9b_blur   0.136078  0.025349  0.056788  0.020624  0.074448  1.029460   \n9c        0.130970  0.024469  0.051212  0.018738  0.075215  1.041094   \n9c_blur   0.137362  0.024895  0.056910  0.020012  0.073393  1.005419   \n9e        0.112205  0.041844  0.031186  0.020477  0.108583  1.101948   \n9e_blur   0.141788  0.032908  0.051485  0.020909  0.090618  1.049104   \n\n              6         7         8         9     ...      2038      2039  \\\n10d       1.086565  1.007553  0.000703  0.013933  ...  0.005300  0.002009   \n10d_blur  1.073645  1.013490  0.000683  0.014963  ...  0.005495  0.002043   \n10e       1.093070  0.928611  0.001364  0.015925  ...  0.008093  0.002688   \n10e_blur  1.049026  0.985725  0.000764  0.015809  ...  0.006928  0.002119   \n11c       1.053323  0.978663  0.008755  0.092198  ...  0.010211  0.011056   \n...            ...       ...       ...       ...  ...       ...       ...   \n9b_blur   1.048925  1.029510  0.000893  0.027187  ...  0.007051  0.003334   \n9c        1.059446  1.045548  0.001118  0.021973  ...  0.006225  0.003102   \n9c_blur   1.056477  1.034944  0.000994  0.027053  ...  0.006680  0.003199   \n9e        1.083312  0.928882  0.002444  0.029543  ...  0.009869  0.005491   \n9e_blur   1.034095  1.018016  0.001218  0.033828  ...  0.007056  0.004089   \n\n              2040      2041      2042      2043      2044      2045  \\\n10d       0.000954  1.300107  1.786549  2.534481  0.007738  0.214728   \n10d_blur  0.001085  1.324607  1.807548  2.523198  0.007684  0.228314   \n10e       0.003541  1.174742  1.662527  2.533029  0.006802  0.174143   \n10e_blur  0.002332  1.289737  1.753891  2.544923  0.006608  0.247875   \n11c       0.003314  1.247845  1.764787  2.339533  0.003815  0.299079   \n...            ...       ...       ...       ...       ...       ...   \n9b_blur   0.001598  1.287908  1.835416  2.476223  0.008846  0.236722   \n9c        0.002008  1.281846  1.791671  2.490650  0.008477  0.234247   \n9c_blur   0.001427  1.315596  1.833452  2.467321  0.007377  0.238437   \n9e        0.005958  1.095611  1.619138  2.480907  0.008249  0.173625   \n9e_blur   0.002266  1.277903  1.791539  2.465880  0.006536  0.260896   \n\n              2046      2047  \n10d       0.639668  0.024192  \n10d_blur  0.668426  0.031063  \n10e       0.512420  0.025664  \n10e_blur  0.618404  0.028839  \n11c       0.584380  0.032056  \n...            ...       ...  \n9b_blur   0.676854  0.030232  \n9c        0.675624  0.027513  \n9c_blur   0.672983  0.030981  \n9e        0.523920  0.027280  \n9e_blur   0.639794  0.029874  \n\n[1084 rows x 2048 columns]",
      "text/html": "<div>\n<style scoped>\n    .dataframe tbody tr th:only-of-type {\n        vertical-align: middle;\n    }\n\n    .dataframe tbody tr th {\n        vertical-align: top;\n    }\n\n    .dataframe thead th {\n        text-align: right;\n    }\n</style>\n<table border=\"1\" class=\"dataframe\">\n  <thead>\n    <tr style=\"text-align: right;\">\n      <th></th>\n      <th>0</th>\n      <th>1</th>\n      <th>2</th>\n      <th>3</th>\n      <th>4</th>\n      <th>5</th>\n      <th>6</th>\n      <th>7</th>\n      <th>8</th>\n      <th>9</th>\n      <th>...</th>\n      <th>2038</th>\n      <th>2039</th>\n      <th>2040</th>\n      <th>2041</th>\n      <th>2042</th>\n      <th>2043</th>\n      <th>2044</th>\n      <th>2045</th>\n      <th>2046</th>\n      <th>2047</th>\n    </tr>\n  </thead>\n  <tbody>\n    <tr>\n      <th>10d</th>\n      <td>0.118115</td>\n      <td>0.016901</td>\n      <td>0.050756</td>\n      <td>0.018998</td>\n      <td>0.072170</td>\n      <td>1.027323</td>\n      <td>1.086565</td>\n      <td>1.007553</td>\n      <td>0.000703</td>\n      <td>0.013933</td>\n      <td>...</td>\n      <td>0.005300</td>\n      <td>0.002009</td>\n      <td>0.000954</td>\n      <td>1.300107</td>\n      <td>1.786549</td>\n      <td>2.534481</td>\n      <td>0.007738</td>\n      <td>0.214728</td>\n      <td>0.639668</td>\n      <td>0.024192</td>\n    </tr>\n    <tr>\n      <th>10d_blur</th>\n      <td>0.127972</td>\n      <td>0.018648</td>\n      <td>0.054972</td>\n      <td>0.016804</td>\n      <td>0.067858</td>\n      <td>0.994569</td>\n      <td>1.073645</td>\n      <td>1.013490</td>\n      <td>0.000683</td>\n      <td>0.014963</td>\n      <td>...</td>\n      <td>0.005495</td>\n      <td>0.002043</td>\n      <td>0.001085</td>\n      <td>1.324607</td>\n      <td>1.807548</td>\n      <td>2.523198</td>\n      <td>0.007684</td>\n      <td>0.228314</td>\n      <td>0.668426</td>\n      <td>0.031063</td>\n    </tr>\n    <tr>\n      <th>10e</th>\n      <td>0.108879</td>\n      <td>0.027604</td>\n      <td>0.031459</td>\n      <td>0.017958</td>\n      <td>0.085115</td>\n      <td>1.127079</td>\n      <td>1.093070</td>\n      <td>0.928611</td>\n      <td>0.001364</td>\n      <td>0.015925</td>\n      <td>...</td>\n      <td>0.008093</td>\n      <td>0.002688</td>\n      <td>0.003541</td>\n      <td>1.174742</td>\n      <td>1.662527</td>\n      <td>2.533029</td>\n      <td>0.006802</td>\n      <td>0.174143</td>\n      <td>0.512420</td>\n      <td>0.025664</td>\n    </tr>\n    <tr>\n      <th>10e_blur</th>\n      <td>0.126336</td>\n      <td>0.022580</td>\n      <td>0.047373</td>\n      <td>0.016586</td>\n      <td>0.074275</td>\n      <td>1.091521</td>\n      <td>1.049026</td>\n      <td>0.985725</td>\n      <td>0.000764</td>\n      <td>0.015809</td>\n      <td>...</td>\n      <td>0.006928</td>\n      <td>0.002119</td>\n      <td>0.002332</td>\n      <td>1.289737</td>\n      <td>1.753891</td>\n      <td>2.544923</td>\n      <td>0.006608</td>\n      <td>0.247875</td>\n      <td>0.618404</td>\n      <td>0.028839</td>\n    </tr>\n    <tr>\n      <th>11c</th>\n      <td>0.157164</td>\n      <td>0.057202</td>\n      <td>0.040079</td>\n      <td>0.028363</td>\n      <td>0.100762</td>\n      <td>1.146053</td>\n      <td>1.053323</td>\n      <td>0.978663</td>\n      <td>0.008755</td>\n      <td>0.092198</td>\n      <td>...</td>\n      <td>0.010211</td>\n      <td>0.011056</td>\n      <td>0.003314</td>\n      <td>1.247845</td>\n      <td>1.764787</td>\n      <td>2.339533</td>\n      <td>0.003815</td>\n      <td>0.299079</td>\n      <td>0.584380</td>\n      <td>0.032056</td>\n    </tr>\n    <tr>\n      <th>...</th>\n      <td>...</td>\n      <td>...</td>\n      <td>...</td>\n      <td>...</td>\n      <td>...</td>\n      <td>...</td>\n      <td>...</td>\n      <td>...</td>\n      <td>...</td>\n      <td>...</td>\n      <td>...</td>\n      <td>...</td>\n      <td>...</td>\n      <td>...</td>\n      <td>...</td>\n      <td>...</td>\n      <td>...</td>\n      <td>...</td>\n      <td>...</td>\n      <td>...</td>\n      <td>...</td>\n    </tr>\n    <tr>\n      <th>9b_blur</th>\n      <td>0.136078</td>\n      <td>0.025349</td>\n      <td>0.056788</td>\n      <td>0.020624</td>\n      <td>0.074448</td>\n      <td>1.029460</td>\n      <td>1.048925</td>\n      <td>1.029510</td>\n      <td>0.000893</td>\n      <td>0.027187</td>\n      <td>...</td>\n      <td>0.007051</td>\n      <td>0.003334</td>\n      <td>0.001598</td>\n      <td>1.287908</td>\n      <td>1.835416</td>\n      <td>2.476223</td>\n      <td>0.008846</td>\n      <td>0.236722</td>\n      <td>0.676854</td>\n      <td>0.030232</td>\n    </tr>\n    <tr>\n      <th>9c</th>\n      <td>0.130970</td>\n      <td>0.024469</td>\n      <td>0.051212</td>\n      <td>0.018738</td>\n      <td>0.075215</td>\n      <td>1.041094</td>\n      <td>1.059446</td>\n      <td>1.045548</td>\n      <td>0.001118</td>\n      <td>0.021973</td>\n      <td>...</td>\n      <td>0.006225</td>\n      <td>0.003102</td>\n      <td>0.002008</td>\n      <td>1.281846</td>\n      <td>1.791671</td>\n      <td>2.490650</td>\n      <td>0.008477</td>\n      <td>0.234247</td>\n      <td>0.675624</td>\n      <td>0.027513</td>\n    </tr>\n    <tr>\n      <th>9c_blur</th>\n      <td>0.137362</td>\n      <td>0.024895</td>\n      <td>0.056910</td>\n      <td>0.020012</td>\n      <td>0.073393</td>\n      <td>1.005419</td>\n      <td>1.056477</td>\n      <td>1.034944</td>\n      <td>0.000994</td>\n      <td>0.027053</td>\n      <td>...</td>\n      <td>0.006680</td>\n      <td>0.003199</td>\n      <td>0.001427</td>\n      <td>1.315596</td>\n      <td>1.833452</td>\n      <td>2.467321</td>\n      <td>0.007377</td>\n      <td>0.238437</td>\n      <td>0.672983</td>\n      <td>0.030981</td>\n    </tr>\n    <tr>\n      <th>9e</th>\n      <td>0.112205</td>\n      <td>0.041844</td>\n      <td>0.031186</td>\n      <td>0.020477</td>\n      <td>0.108583</td>\n      <td>1.101948</td>\n      <td>1.083312</td>\n      <td>0.928882</td>\n      <td>0.002444</td>\n      <td>0.029543</td>\n      <td>...</td>\n      <td>0.009869</td>\n      <td>0.005491</td>\n      <td>0.005958</td>\n      <td>1.095611</td>\n      <td>1.619138</td>\n      <td>2.480907</td>\n      <td>0.008249</td>\n      <td>0.173625</td>\n      <td>0.523920</td>\n      <td>0.027280</td>\n    </tr>\n    <tr>\n      <th>9e_blur</th>\n      <td>0.141788</td>\n      <td>0.032908</td>\n      <td>0.051485</td>\n      <td>0.020909</td>\n      <td>0.090618</td>\n      <td>1.049104</td>\n      <td>1.034095</td>\n      <td>1.018016</td>\n      <td>0.001218</td>\n      <td>0.033828</td>\n      <td>...</td>\n      <td>0.007056</td>\n      <td>0.004089</td>\n      <td>0.002266</td>\n      <td>1.277903</td>\n      <td>1.791539</td>\n      <td>2.465880</td>\n      <td>0.006536</td>\n      <td>0.260896</td>\n      <td>0.639794</td>\n      <td>0.029874</td>\n    </tr>\n  </tbody>\n</table>\n<p>1084 rows × 2048 columns</p>\n</div>"
     },
     "execution_count": 11,
     "metadata": {},
     "output_type": "execute_result"
    }
   ],
   "source": [
    "features_train_df"
   ],
   "metadata": {
    "collapsed": false,
    "pycharm": {
     "name": "#%%\n"
    }
   }
  }
 ],
 "metadata": {
  "accelerator": "GPU",
  "colab": {
   "collapsed_sections": [],
   "name": "Feature extraction through ResNet.ipynb",
   "provenance": []
  },
  "kernelspec": {
   "display_name": "Python 3 (ipykernel)",
   "language": "python",
   "name": "python3"
  },
  "language_info": {
   "codemirror_mode": {
    "name": "ipython",
    "version": 3
   },
   "file_extension": ".py",
   "mimetype": "text/x-python",
   "name": "python",
   "nbconvert_exporter": "python",
   "pygments_lexer": "ipython3",
   "version": "3.10.0"
  },
  "widgets": {
   "application/vnd.jupyter.widget-state+json": {
    "0e71b54290f847fab071de377e23c1a8": {
     "model_module": "@jupyter-widgets/controls",
     "model_module_version": "1.5.0",
     "model_name": "HTMLModel",
     "state": {
      "_dom_classes": [],
      "_model_module": "@jupyter-widgets/controls",
      "_model_module_version": "1.5.0",
      "_model_name": "HTMLModel",
      "_view_count": null,
      "_view_module": "@jupyter-widgets/controls",
      "_view_module_version": "1.5.0",
      "_view_name": "HTMLView",
      "description": "",
      "description_tooltip": null,
      "layout": "IPY_MODEL_d73d1f809b744c92bc67faa4b746a387",
      "placeholder": "​",
      "style": "IPY_MODEL_54320e55151248dea3eb9da3b77113ef",
      "value": "100%"
     }
    },
    "0fe180ddcecc48a0bb7362e52d2a6624": {
     "model_module": "@jupyter-widgets/controls",
     "model_module_version": "1.5.0",
     "model_name": "HTMLModel",
     "state": {
      "_dom_classes": [],
      "_model_module": "@jupyter-widgets/controls",
      "_model_module_version": "1.5.0",
      "_model_name": "HTMLModel",
      "_view_count": null,
      "_view_module": "@jupyter-widgets/controls",
      "_view_module_version": "1.5.0",
      "_view_name": "HTMLView",
      "description": "",
      "description_tooltip": null,
      "layout": "IPY_MODEL_cf95fa30f51242c19c9b1b1edf366290",
      "placeholder": "​",
      "style": "IPY_MODEL_73d9d9d424ad4787900fc8b70d07dff3",
      "value": " 44.7M/44.7M [00:00&lt;00:00, 116MB/s]"
     }
    },
    "122480965ce24f6cb394b7e684ee5618": {
     "model_module": "@jupyter-widgets/controls",
     "model_module_version": "1.5.0",
     "model_name": "ProgressStyleModel",
     "state": {
      "_model_module": "@jupyter-widgets/controls",
      "_model_module_version": "1.5.0",
      "_model_name": "ProgressStyleModel",
      "_view_count": null,
      "_view_module": "@jupyter-widgets/base",
      "_view_module_version": "1.2.0",
      "_view_name": "StyleView",
      "bar_color": null,
      "description_width": ""
     }
    },
    "1a0ed400445a48338cff564bca591284": {
     "model_module": "@jupyter-widgets/controls",
     "model_module_version": "1.5.0",
     "model_name": "HBoxModel",
     "state": {
      "_dom_classes": [],
      "_model_module": "@jupyter-widgets/controls",
      "_model_module_version": "1.5.0",
      "_model_name": "HBoxModel",
      "_view_count": null,
      "_view_module": "@jupyter-widgets/controls",
      "_view_module_version": "1.5.0",
      "_view_name": "HBoxView",
      "box_style": "",
      "children": [
       "IPY_MODEL_0e71b54290f847fab071de377e23c1a8",
       "IPY_MODEL_a188994cbb5d4f969e744d80e5af4412",
       "IPY_MODEL_0fe180ddcecc48a0bb7362e52d2a6624"
      ],
      "layout": "IPY_MODEL_5bc8b4dd7b4e4a65a0d136a484f245a9"
     }
    },
    "54320e55151248dea3eb9da3b77113ef": {
     "model_module": "@jupyter-widgets/controls",
     "model_module_version": "1.5.0",
     "model_name": "DescriptionStyleModel",
     "state": {
      "_model_module": "@jupyter-widgets/controls",
      "_model_module_version": "1.5.0",
      "_model_name": "DescriptionStyleModel",
      "_view_count": null,
      "_view_module": "@jupyter-widgets/base",
      "_view_module_version": "1.2.0",
      "_view_name": "StyleView",
      "description_width": ""
     }
    },
    "5bc8b4dd7b4e4a65a0d136a484f245a9": {
     "model_module": "@jupyter-widgets/base",
     "model_module_version": "1.2.0",
     "model_name": "LayoutModel",
     "state": {
      "_model_module": "@jupyter-widgets/base",
      "_model_module_version": "1.2.0",
      "_model_name": "LayoutModel",
      "_view_count": null,
      "_view_module": "@jupyter-widgets/base",
      "_view_module_version": "1.2.0",
      "_view_name": "LayoutView",
      "align_content": null,
      "align_items": null,
      "align_self": null,
      "border": null,
      "bottom": null,
      "display": null,
      "flex": null,
      "flex_flow": null,
      "grid_area": null,
      "grid_auto_columns": null,
      "grid_auto_flow": null,
      "grid_auto_rows": null,
      "grid_column": null,
      "grid_gap": null,
      "grid_row": null,
      "grid_template_areas": null,
      "grid_template_columns": null,
      "grid_template_rows": null,
      "height": null,
      "justify_content": null,
      "justify_items": null,
      "left": null,
      "margin": null,
      "max_height": null,
      "max_width": null,
      "min_height": null,
      "min_width": null,
      "object_fit": null,
      "object_position": null,
      "order": null,
      "overflow": null,
      "overflow_x": null,
      "overflow_y": null,
      "padding": null,
      "right": null,
      "top": null,
      "visibility": null,
      "width": null
     }
    },
    "73d9d9d424ad4787900fc8b70d07dff3": {
     "model_module": "@jupyter-widgets/controls",
     "model_module_version": "1.5.0",
     "model_name": "DescriptionStyleModel",
     "state": {
      "_model_module": "@jupyter-widgets/controls",
      "_model_module_version": "1.5.0",
      "_model_name": "DescriptionStyleModel",
      "_view_count": null,
      "_view_module": "@jupyter-widgets/base",
      "_view_module_version": "1.2.0",
      "_view_name": "StyleView",
      "description_width": ""
     }
    },
    "a188994cbb5d4f969e744d80e5af4412": {
     "model_module": "@jupyter-widgets/controls",
     "model_module_version": "1.5.0",
     "model_name": "FloatProgressModel",
     "state": {
      "_dom_classes": [],
      "_model_module": "@jupyter-widgets/controls",
      "_model_module_version": "1.5.0",
      "_model_name": "FloatProgressModel",
      "_view_count": null,
      "_view_module": "@jupyter-widgets/controls",
      "_view_module_version": "1.5.0",
      "_view_name": "ProgressView",
      "bar_style": "success",
      "description": "",
      "description_tooltip": null,
      "layout": "IPY_MODEL_dbeb81af857d46349a7341fafa5ff1d3",
      "max": 46830571,
      "min": 0,
      "orientation": "horizontal",
      "style": "IPY_MODEL_122480965ce24f6cb394b7e684ee5618",
      "value": 46830571
     }
    },
    "cf95fa30f51242c19c9b1b1edf366290": {
     "model_module": "@jupyter-widgets/base",
     "model_module_version": "1.2.0",
     "model_name": "LayoutModel",
     "state": {
      "_model_module": "@jupyter-widgets/base",
      "_model_module_version": "1.2.0",
      "_model_name": "LayoutModel",
      "_view_count": null,
      "_view_module": "@jupyter-widgets/base",
      "_view_module_version": "1.2.0",
      "_view_name": "LayoutView",
      "align_content": null,
      "align_items": null,
      "align_self": null,
      "border": null,
      "bottom": null,
      "display": null,
      "flex": null,
      "flex_flow": null,
      "grid_area": null,
      "grid_auto_columns": null,
      "grid_auto_flow": null,
      "grid_auto_rows": null,
      "grid_column": null,
      "grid_gap": null,
      "grid_row": null,
      "grid_template_areas": null,
      "grid_template_columns": null,
      "grid_template_rows": null,
      "height": null,
      "justify_content": null,
      "justify_items": null,
      "left": null,
      "margin": null,
      "max_height": null,
      "max_width": null,
      "min_height": null,
      "min_width": null,
      "object_fit": null,
      "object_position": null,
      "order": null,
      "overflow": null,
      "overflow_x": null,
      "overflow_y": null,
      "padding": null,
      "right": null,
      "top": null,
      "visibility": null,
      "width": null
     }
    },
    "d73d1f809b744c92bc67faa4b746a387": {
     "model_module": "@jupyter-widgets/base",
     "model_module_version": "1.2.0",
     "model_name": "LayoutModel",
     "state": {
      "_model_module": "@jupyter-widgets/base",
      "_model_module_version": "1.2.0",
      "_model_name": "LayoutModel",
      "_view_count": null,
      "_view_module": "@jupyter-widgets/base",
      "_view_module_version": "1.2.0",
      "_view_name": "LayoutView",
      "align_content": null,
      "align_items": null,
      "align_self": null,
      "border": null,
      "bottom": null,
      "display": null,
      "flex": null,
      "flex_flow": null,
      "grid_area": null,
      "grid_auto_columns": null,
      "grid_auto_flow": null,
      "grid_auto_rows": null,
      "grid_column": null,
      "grid_gap": null,
      "grid_row": null,
      "grid_template_areas": null,
      "grid_template_columns": null,
      "grid_template_rows": null,
      "height": null,
      "justify_content": null,
      "justify_items": null,
      "left": null,
      "margin": null,
      "max_height": null,
      "max_width": null,
      "min_height": null,
      "min_width": null,
      "object_fit": null,
      "object_position": null,
      "order": null,
      "overflow": null,
      "overflow_x": null,
      "overflow_y": null,
      "padding": null,
      "right": null,
      "top": null,
      "visibility": null,
      "width": null
     }
    },
    "dbeb81af857d46349a7341fafa5ff1d3": {
     "model_module": "@jupyter-widgets/base",
     "model_module_version": "1.2.0",
     "model_name": "LayoutModel",
     "state": {
      "_model_module": "@jupyter-widgets/base",
      "_model_module_version": "1.2.0",
      "_model_name": "LayoutModel",
      "_view_count": null,
      "_view_module": "@jupyter-widgets/base",
      "_view_module_version": "1.2.0",
      "_view_name": "LayoutView",
      "align_content": null,
      "align_items": null,
      "align_self": null,
      "border": null,
      "bottom": null,
      "display": null,
      "flex": null,
      "flex_flow": null,
      "grid_area": null,
      "grid_auto_columns": null,
      "grid_auto_flow": null,
      "grid_auto_rows": null,
      "grid_column": null,
      "grid_gap": null,
      "grid_row": null,
      "grid_template_areas": null,
      "grid_template_columns": null,
      "grid_template_rows": null,
      "height": null,
      "justify_content": null,
      "justify_items": null,
      "left": null,
      "margin": null,
      "max_height": null,
      "max_width": null,
      "min_height": null,
      "min_width": null,
      "object_fit": null,
      "object_position": null,
      "order": null,
      "overflow": null,
      "overflow_x": null,
      "overflow_y": null,
      "padding": null,
      "right": null,
      "top": null,
      "visibility": null,
      "width": null
     }
    }
   }
  }
 },
 "nbformat": 4,
 "nbformat_minor": 1
}